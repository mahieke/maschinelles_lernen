{
 "cells": [
  {
   "cell_type": "markdown",
   "metadata": {},
   "source": [
    "# Übung 2: Hauptkomponentenanalyse"
   ]
  },
  {
   "cell_type": "code",
   "execution_count": 1,
   "metadata": {
    "collapsed": true
   },
   "outputs": [],
   "source": [
    "import pandas as pd\n",
    "import numpy as np\n",
    "import util\n",
    "import scipy.stats as scs\n",
    "%matplotlib inline"
   ]
  },
  {
   "cell_type": "code",
   "execution_count": 2,
   "metadata": {
    "collapsed": false
   },
   "outputs": [
    {
     "data": {
      "text/plain": [
       "['Sun Jan  3 21:18:05 CET 2016']"
      ]
     },
     "execution_count": 2,
     "metadata": {},
     "output_type": "execute_result"
    }
   ],
   "source": [
    "url = 'https://archive.ics.uci.edu/ml/machine-learning-databases/housing/housing.data'\n",
    "cols =[\"CRIM\",\"ZN\",\"INDUS\",\"CHAS\",\"NOX\",\"RM\",\"AGE\",\"DIS\",\"RAD\",\"TAX\",\"PTRATIO\",\"B\",\"LSTAT\",\"TGT\"]\n",
    "boston = pd.read_csv(url, sep=\" \", skipinitialspace=True, header=None, names=cols, index_col=False) # Dataframe\n",
    "dateDownloaded = !date\n",
    "dateDownloaded"
   ]
  },
  {
   "cell_type": "code",
   "execution_count": 3,
   "metadata": {
    "collapsed": false
   },
   "outputs": [
    {
     "data": {
      "text/plain": [
       "(506, 14)"
      ]
     },
     "execution_count": 3,
     "metadata": {},
     "output_type": "execute_result"
    }
   ],
   "source": [
    "np.shape(boston)"
   ]
  },
  {
   "cell_type": "markdown",
   "metadata": {},
   "source": [
    "1. Zentrierung der Daten mit Mittelwert $ \\mu_{x} = \\frac{1}{n} \\sum_{i=0}^n x_{i} $"
   ]
  },
  {
   "cell_type": "code",
   "execution_count": 4,
   "metadata": {
    "collapsed": false
   },
   "outputs": [],
   "source": [
    "aligned_data = util.align(boston)"
   ]
  },
  {
   "cell_type": "code",
   "execution_count": 5,
   "metadata": {
    "collapsed": false
   },
   "outputs": [
    {
     "data": {
      "text/html": [
       "<div>\n",
       "<table border=\"1\" class=\"dataframe\">\n",
       "  <thead>\n",
       "    <tr style=\"text-align: right;\">\n",
       "      <th></th>\n",
       "      <th>CRIM</th>\n",
       "      <th>ZN</th>\n",
       "      <th>INDUS</th>\n",
       "      <th>CHAS</th>\n",
       "      <th>NOX</th>\n",
       "      <th>RM</th>\n",
       "      <th>AGE</th>\n",
       "      <th>DIS</th>\n",
       "      <th>RAD</th>\n",
       "      <th>TAX</th>\n",
       "      <th>PTRATIO</th>\n",
       "      <th>B</th>\n",
       "      <th>LSTAT</th>\n",
       "      <th>TGT</th>\n",
       "    </tr>\n",
       "  </thead>\n",
       "  <tbody>\n",
       "    <tr>\n",
       "      <th>0</th>\n",
       "      <td>-3.607204</td>\n",
       "      <td>6.636364</td>\n",
       "      <td>-8.826779</td>\n",
       "      <td>-0.06917</td>\n",
       "      <td>-0.016695</td>\n",
       "      <td>0.290366</td>\n",
       "      <td>-3.374901</td>\n",
       "      <td>0.294957</td>\n",
       "      <td>-8.549407</td>\n",
       "      <td>-112.237154</td>\n",
       "      <td>-3.155534</td>\n",
       "      <td>40.225968</td>\n",
       "      <td>-7.673063</td>\n",
       "      <td>1.467194</td>\n",
       "    </tr>\n",
       "    <tr>\n",
       "      <th>1</th>\n",
       "      <td>-3.586214</td>\n",
       "      <td>-11.363636</td>\n",
       "      <td>-4.066779</td>\n",
       "      <td>-0.06917</td>\n",
       "      <td>-0.085695</td>\n",
       "      <td>0.136366</td>\n",
       "      <td>10.325099</td>\n",
       "      <td>1.172057</td>\n",
       "      <td>-7.549407</td>\n",
       "      <td>-166.237154</td>\n",
       "      <td>-0.655534</td>\n",
       "      <td>40.225968</td>\n",
       "      <td>-3.513063</td>\n",
       "      <td>-0.932806</td>\n",
       "    </tr>\n",
       "    <tr>\n",
       "      <th>2</th>\n",
       "      <td>-3.586234</td>\n",
       "      <td>-11.363636</td>\n",
       "      <td>-4.066779</td>\n",
       "      <td>-0.06917</td>\n",
       "      <td>-0.085695</td>\n",
       "      <td>0.900366</td>\n",
       "      <td>-7.474901</td>\n",
       "      <td>1.172057</td>\n",
       "      <td>-7.549407</td>\n",
       "      <td>-166.237154</td>\n",
       "      <td>-0.655534</td>\n",
       "      <td>36.155968</td>\n",
       "      <td>-8.623063</td>\n",
       "      <td>12.167194</td>\n",
       "    </tr>\n",
       "    <tr>\n",
       "      <th>3</th>\n",
       "      <td>-3.581154</td>\n",
       "      <td>-11.363636</td>\n",
       "      <td>-8.956779</td>\n",
       "      <td>-0.06917</td>\n",
       "      <td>-0.096695</td>\n",
       "      <td>0.713366</td>\n",
       "      <td>-22.774901</td>\n",
       "      <td>2.267157</td>\n",
       "      <td>-6.549407</td>\n",
       "      <td>-186.237154</td>\n",
       "      <td>0.244466</td>\n",
       "      <td>37.955968</td>\n",
       "      <td>-9.713063</td>\n",
       "      <td>10.867194</td>\n",
       "    </tr>\n",
       "    <tr>\n",
       "      <th>4</th>\n",
       "      <td>-3.544474</td>\n",
       "      <td>-11.363636</td>\n",
       "      <td>-8.956779</td>\n",
       "      <td>-0.06917</td>\n",
       "      <td>-0.096695</td>\n",
       "      <td>0.862366</td>\n",
       "      <td>-14.374901</td>\n",
       "      <td>2.267157</td>\n",
       "      <td>-6.549407</td>\n",
       "      <td>-186.237154</td>\n",
       "      <td>0.244466</td>\n",
       "      <td>40.225968</td>\n",
       "      <td>-7.323063</td>\n",
       "      <td>13.667194</td>\n",
       "    </tr>\n",
       "  </tbody>\n",
       "</table>\n",
       "</div>"
      ],
      "text/plain": [
       "       CRIM         ZN     INDUS     CHAS       NOX        RM        AGE  \\\n",
       "0 -3.607204   6.636364 -8.826779 -0.06917 -0.016695  0.290366  -3.374901   \n",
       "1 -3.586214 -11.363636 -4.066779 -0.06917 -0.085695  0.136366  10.325099   \n",
       "2 -3.586234 -11.363636 -4.066779 -0.06917 -0.085695  0.900366  -7.474901   \n",
       "3 -3.581154 -11.363636 -8.956779 -0.06917 -0.096695  0.713366 -22.774901   \n",
       "4 -3.544474 -11.363636 -8.956779 -0.06917 -0.096695  0.862366 -14.374901   \n",
       "\n",
       "        DIS       RAD         TAX   PTRATIO          B     LSTAT        TGT  \n",
       "0  0.294957 -8.549407 -112.237154 -3.155534  40.225968 -7.673063   1.467194  \n",
       "1  1.172057 -7.549407 -166.237154 -0.655534  40.225968 -3.513063  -0.932806  \n",
       "2  1.172057 -7.549407 -166.237154 -0.655534  36.155968 -8.623063  12.167194  \n",
       "3  2.267157 -6.549407 -186.237154  0.244466  37.955968 -9.713063  10.867194  \n",
       "4  2.267157 -6.549407 -186.237154  0.244466  40.225968 -7.323063  13.667194  "
      ]
     },
     "execution_count": 5,
     "metadata": {},
     "output_type": "execute_result"
    }
   ],
   "source": [
    "aligned_data.head()"
   ]
  },
  {
   "cell_type": "code",
   "execution_count": null,
   "metadata": {
    "collapsed": false
   },
   "outputs": [],
   "source": []
  },
  {
   "cell_type": "markdown",
   "metadata": {
    "collapsed": false
   },
   "source": [
    "## PCA"
   ]
  },
  {
   "cell_type": "code",
   "execution_count": 6,
   "metadata": {
    "collapsed": false
   },
   "outputs": [],
   "source": [
    "Qi, Ai, Sigma = util.pca(boston) # auf zentrierte daten"
   ]
  },
  {
   "cell_type": "markdown",
   "metadata": {
    "collapsed": true
   },
   "source": [
    "Eigenwerte der Kovarianzmatrix Quadrieren -> somit Varianzen der Hauptkomponenten"
   ]
  },
  {
   "cell_type": "code",
   "execution_count": 7,
   "metadata": {
    "collapsed": false
   },
   "outputs": [],
   "source": [
    "Var = Sigma**2"
   ]
  },
  {
   "cell_type": "code",
   "execution_count": 8,
   "metadata": {
    "collapsed": false
   },
   "outputs": [],
   "source": [
    "Var_prop = 1/sum(Var) * Var * 100"
   ]
  },
  {
   "cell_type": "code",
   "execution_count": 9,
   "metadata": {
    "collapsed": true
   },
   "outputs": [],
   "source": [
    "Var_cum = Var_prop.cumsum()"
   ]
  },
  {
   "cell_type": "code",
   "execution_count": 10,
   "metadata": {
    "collapsed": false
   },
   "outputs": [],
   "source": [
    "Var_error = 100 - Var_cum"
   ]
  },
  {
   "cell_type": "code",
   "execution_count": 11,
   "metadata": {
    "collapsed": false
   },
   "outputs": [
    {
     "data": {
      "text/html": [
       "<div>\n",
       "<table border=\"1\" class=\"dataframe\">\n",
       "  <thead>\n",
       "    <tr style=\"text-align: right;\">\n",
       "      <th></th>\n",
       "      <th>Fehler</th>\n",
       "      <th>Varianz</th>\n",
       "      <th>erklärte Varianz</th>\n",
       "      <th>kumulierte erklärte Varianz</th>\n",
       "    </tr>\n",
       "  </thead>\n",
       "  <tbody>\n",
       "    <tr>\n",
       "      <th>a0</th>\n",
       "      <td>1.954278e+01</td>\n",
       "      <td>15609556.530113</td>\n",
       "      <td>80.457219</td>\n",
       "      <td>80.457219</td>\n",
       "    </tr>\n",
       "    <tr>\n",
       "      <th>a1</th>\n",
       "      <td>3.272224e+00</td>\n",
       "      <td>3156661.211443</td>\n",
       "      <td>16.270557</td>\n",
       "      <td>96.727776</td>\n",
       "    </tr>\n",
       "    <tr>\n",
       "      <th>a2</th>\n",
       "      <td>1.131391e+00</td>\n",
       "      <td>415344.323381</td>\n",
       "      <td>2.140833</td>\n",
       "      <td>98.868609</td>\n",
       "    </tr>\n",
       "    <tr>\n",
       "      <th>a3</th>\n",
       "      <td>4.356316e-01</td>\n",
       "      <td>134984.733640</td>\n",
       "      <td>0.695759</td>\n",
       "      <td>99.564368</td>\n",
       "    </tr>\n",
       "    <tr>\n",
       "      <th>a4</th>\n",
       "      <td>2.350922e-01</td>\n",
       "      <td>38906.777411</td>\n",
       "      <td>0.200539</td>\n",
       "      <td>99.764908</td>\n",
       "    </tr>\n",
       "    <tr>\n",
       "      <th>a5</th>\n",
       "      <td>1.135775e-01</td>\n",
       "      <td>23575.138209</td>\n",
       "      <td>0.121515</td>\n",
       "      <td>99.886422</td>\n",
       "    </tr>\n",
       "    <tr>\n",
       "      <th>a6</th>\n",
       "      <td>6.916366e-02</td>\n",
       "      <td>8616.765923</td>\n",
       "      <td>0.044414</td>\n",
       "      <td>99.930836</td>\n",
       "    </tr>\n",
       "    <tr>\n",
       "      <th>a7</th>\n",
       "      <td>3.387171e-02</td>\n",
       "      <td>6847.014539</td>\n",
       "      <td>0.035292</td>\n",
       "      <td>99.966128</td>\n",
       "    </tr>\n",
       "    <tr>\n",
       "      <th>a8</th>\n",
       "      <td>1.068043e-02</td>\n",
       "      <td>4499.355714</td>\n",
       "      <td>0.023191</td>\n",
       "      <td>99.989320</td>\n",
       "    </tr>\n",
       "    <tr>\n",
       "      <th>a9</th>\n",
       "      <td>3.597249e-03</td>\n",
       "      <td>1374.211591</td>\n",
       "      <td>0.007083</td>\n",
       "      <td>99.996403</td>\n",
       "    </tr>\n",
       "    <tr>\n",
       "      <th>a10</th>\n",
       "      <td>7.287355e-04</td>\n",
       "      <td>556.522188</td>\n",
       "      <td>0.002869</td>\n",
       "      <td>99.999271</td>\n",
       "    </tr>\n",
       "    <tr>\n",
       "      <th>a11</th>\n",
       "      <td>1.614629e-04</td>\n",
       "      <td>110.056922</td>\n",
       "      <td>0.000567</td>\n",
       "      <td>99.999839</td>\n",
       "    </tr>\n",
       "    <tr>\n",
       "      <th>a12</th>\n",
       "      <td>7.614400e-06</td>\n",
       "      <td>29.848248</td>\n",
       "      <td>0.000154</td>\n",
       "      <td>99.999992</td>\n",
       "    </tr>\n",
       "    <tr>\n",
       "      <th>a13</th>\n",
       "      <td>1.421085e-14</td>\n",
       "      <td>1.477275</td>\n",
       "      <td>0.000008</td>\n",
       "      <td>100.000000</td>\n",
       "    </tr>\n",
       "  </tbody>\n",
       "</table>\n",
       "</div>"
      ],
      "text/plain": [
       "           Fehler          Varianz  erklärte Varianz  \\\n",
       "a0   1.954278e+01  15609556.530113         80.457219   \n",
       "a1   3.272224e+00   3156661.211443         16.270557   \n",
       "a2   1.131391e+00    415344.323381          2.140833   \n",
       "a3   4.356316e-01    134984.733640          0.695759   \n",
       "a4   2.350922e-01     38906.777411          0.200539   \n",
       "a5   1.135775e-01     23575.138209          0.121515   \n",
       "a6   6.916366e-02      8616.765923          0.044414   \n",
       "a7   3.387171e-02      6847.014539          0.035292   \n",
       "a8   1.068043e-02      4499.355714          0.023191   \n",
       "a9   3.597249e-03      1374.211591          0.007083   \n",
       "a10  7.287355e-04       556.522188          0.002869   \n",
       "a11  1.614629e-04       110.056922          0.000567   \n",
       "a12  7.614400e-06        29.848248          0.000154   \n",
       "a13  1.421085e-14         1.477275          0.000008   \n",
       "\n",
       "     kumulierte erklärte Varianz  \n",
       "a0                     80.457219  \n",
       "a1                     96.727776  \n",
       "a2                     98.868609  \n",
       "a3                     99.564368  \n",
       "a4                     99.764908  \n",
       "a5                     99.886422  \n",
       "a6                     99.930836  \n",
       "a7                     99.966128  \n",
       "a8                     99.989320  \n",
       "a9                     99.996403  \n",
       "a10                    99.999271  \n",
       "a11                    99.999839  \n",
       "a12                    99.999992  \n",
       "a13                   100.000000  "
      ]
     },
     "execution_count": 11,
     "metadata": {},
     "output_type": "execute_result"
    }
   ],
   "source": [
    "Var_dict = {\"Varianz\" :  Var, \"erklärte Varianz\" : Var_prop, \"kumulierte erklärte Varianz\" : Var_cum, \"Fehler\" : Var_error}\n",
    "pd.DataFrame(data=Var_dict, index=[\"a{}\".format(s) for s in range(0,14)])"
   ]
  },
  {
   "cell_type": "markdown",
   "metadata": {},
   "source": [
    "Für einen 25 Prozentigen Fehler kann die erste Hauptkomponente verwendet werden. Für 10% und 5% Fehler können die ersten beiden Hauptkomponenten genommen werden."
   ]
  },
  {
   "cell_type": "markdown",
   "metadata": {},
   "source": [
    "__Korrelationskoeffizienten der Hauptkomponenten mit den ursprünglichen Daten__"
   ]
  },
  {
   "cell_type": "code",
   "execution_count": 12,
   "metadata": {
    "collapsed": false
   },
   "outputs": [
    {
     "data": {
      "text/html": [
       "<div>\n",
       "<table border=\"1\" class=\"dataframe\">\n",
       "  <thead>\n",
       "    <tr style=\"text-align: right;\">\n",
       "      <th></th>\n",
       "      <th>a0</th>\n",
       "      <th>a1</th>\n",
       "      <th>a2</th>\n",
       "    </tr>\n",
       "  </thead>\n",
       "  <tbody>\n",
       "    <tr>\n",
       "      <th>CRIM</th>\n",
       "      <td>0.598763</td>\n",
       "      <td>-0.061312</td>\n",
       "      <td>-0.040073</td>\n",
       "    </tr>\n",
       "    <tr>\n",
       "      <th>ZN</th>\n",
       "      <td>-0.328761</td>\n",
       "      <td>-0.003793</td>\n",
       "      <td>0.777348</td>\n",
       "    </tr>\n",
       "    <tr>\n",
       "      <th>INDUS</th>\n",
       "      <td>0.725985</td>\n",
       "      <td>0.056982</td>\n",
       "      <td>-0.369504</td>\n",
       "    </tr>\n",
       "    <tr>\n",
       "      <th>CHAS</th>\n",
       "      <td>-0.038672</td>\n",
       "      <td>0.032111</td>\n",
       "      <td>-0.105570</td>\n",
       "    </tr>\n",
       "    <tr>\n",
       "      <th>NOX</th>\n",
       "      <td>0.682237</td>\n",
       "      <td>-0.001268</td>\n",
       "      <td>-0.445792</td>\n",
       "    </tr>\n",
       "    <tr>\n",
       "      <th>RM</th>\n",
       "      <td>-0.292947</td>\n",
       "      <td>-0.040611</td>\n",
       "      <td>0.205130</td>\n",
       "    </tr>\n",
       "    <tr>\n",
       "      <th>AGE</th>\n",
       "      <td>0.522358</td>\n",
       "      <td>0.015987</td>\n",
       "      <td>-0.766612</td>\n",
       "    </tr>\n",
       "    <tr>\n",
       "      <th>DIS</th>\n",
       "      <td>-0.547655</td>\n",
       "      <td>-0.013345</td>\n",
       "      <td>0.608827</td>\n",
       "    </tr>\n",
       "    <tr>\n",
       "      <th>RAD</th>\n",
       "      <td>0.908346</td>\n",
       "      <td>0.078427</td>\n",
       "      <td>0.010846</td>\n",
       "    </tr>\n",
       "    <tr>\n",
       "      <th>TAX</th>\n",
       "      <td>0.990394</td>\n",
       "      <td>0.137295</td>\n",
       "      <td>0.016203</td>\n",
       "    </tr>\n",
       "    <tr>\n",
       "      <th>PTRATIO</th>\n",
       "      <td>0.455012</td>\n",
       "      <td>0.092103</td>\n",
       "      <td>-0.153760</td>\n",
       "    </tr>\n",
       "    <tr>\n",
       "      <th>B</th>\n",
       "      <td>-0.560737</td>\n",
       "      <td>0.827954</td>\n",
       "      <td>-0.007788</td>\n",
       "    </tr>\n",
       "    <tr>\n",
       "      <th>LSTAT</th>\n",
       "      <td>0.565303</td>\n",
       "      <td>-0.064262</td>\n",
       "      <td>-0.380795</td>\n",
       "    </tr>\n",
       "    <tr>\n",
       "      <th>TGT</th>\n",
       "      <td>-0.488000</td>\n",
       "      <td>0.076024</td>\n",
       "      <td>0.228740</td>\n",
       "    </tr>\n",
       "  </tbody>\n",
       "</table>\n",
       "</div>"
      ],
      "text/plain": [
       "               a0        a1        a2\n",
       "CRIM     0.598763 -0.061312 -0.040073\n",
       "ZN      -0.328761 -0.003793  0.777348\n",
       "INDUS    0.725985  0.056982 -0.369504\n",
       "CHAS    -0.038672  0.032111 -0.105570\n",
       "NOX      0.682237 -0.001268 -0.445792\n",
       "RM      -0.292947 -0.040611  0.205130\n",
       "AGE      0.522358  0.015987 -0.766612\n",
       "DIS     -0.547655 -0.013345  0.608827\n",
       "RAD      0.908346  0.078427  0.010846\n",
       "TAX      0.990394  0.137295  0.016203\n",
       "PTRATIO  0.455012  0.092103 -0.153760\n",
       "B       -0.560737  0.827954 -0.007788\n",
       "LSTAT    0.565303 -0.064262 -0.380795\n",
       "TGT     -0.488000  0.076024  0.228740"
      ]
     },
     "execution_count": 12,
     "metadata": {},
     "output_type": "execute_result"
    }
   ],
   "source": [
    "util.pca_correlation(boston, Ai, 3).T"
   ]
  },
  {
   "cell_type": "code",
   "execution_count": 31,
   "metadata": {
    "collapsed": false
   },
   "outputs": [],
   "source": [
    "# median des Hauspreises\n",
    "median_tgt = np.median(boston['TGT'])\n",
    "\n",
    "# Maskierung mit Daten die unter dem median liegen in der Spalte TGT\n",
    "smaller_tgt = boston['TGT'] < median_tgt\n",
    "\n",
    "# ersten beiden Hauptkomponenten nicht zentriert\n",
    "plot = pd.DataFrame(np.dot(boston, Qi))[[0,1]] # projezierte date\n",
    "\n",
    "plot_smaller = plot[smaller_tgt]\n",
    "plot_greater = plot[~smaller_tgt]"
   ]
  },
  {
   "cell_type": "code",
   "execution_count": 36,
   "metadata": {
    "collapsed": false
   },
   "outputs": [
    {
     "data": {
      "text/plain": [
       "<matplotlib.axes._subplots.AxesSubplot at 0x7f801d31de48>"
      ]
     },
     "execution_count": 36,
     "metadata": {},
     "output_type": "execute_result"
    },
    {
     "data": {
      "image/png": "[encoded data removed]",
      "text/plain": [
       "<matplotlib.figure.Figure at 0x7f801d30ae10>"
      ]
     },
     "metadata": {},
     "output_type": "display_data"
    }
   ],
   "source": [
    "# ploten zweier datensätze. \n",
    "#siehe: http://stackoverflow.com/questions/13872533/plot-different-dataframes-in-the-same-figure\n",
    "ax = plot_smaller.plot(x=0, y=1, kind='scatter', color='blue', label='TGT < median')\n",
    "plot_greater.plot(x=0, y=1, kind='scatter', color='yellow', label='TGT > median', ax=ax)"
   ]
  },
  {
   "cell_type": "markdown",
   "metadata": {
    "collapsed": true
   },
   "source": [
    "An den ersten beiden Hauptkomponenten kann die höhe des Hauspreises nicht vorhergesagt werden."
   ]
  },
  {
   "cell_type": "code",
   "execution_count": null,
   "metadata": {
    "collapsed": true
   },
   "outputs": [],
   "source": []
  }
 ],
 "metadata": {
  "kernelspec": {
   "display_name": "Python 3",
   "language": "python",
   "name": "python3"
  },
  "language_info": {
   "codemirror_mode": {
    "name": "ipython",
    "version": 3
   },
   "file_extension": ".py",
   "mimetype": "text/x-python",
   "name": "python",
   "nbconvert_exporter": "python",
   "pygments_lexer": "ipython3",
   "version": "3.5.0"
  }
 },
 "nbformat": 4,
 "nbformat_minor": 0
}
