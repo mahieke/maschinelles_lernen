{
 "metadata": {
  "name": ""
 },
 "nbformat": 3,
 "nbformat_minor": 0,
 "worksheets": [
  {
   "cells": [
    {
     "cell_type": "heading",
     "level": 2,
     "metadata": {},
     "source": [
      "Praktikum Maschinelles Lernen WS 15/16"
     ]
    },
    {
     "cell_type": "markdown",
     "metadata": {},
     "source": [
      " <table>\n",
      "  <tr>\n",
      "    <td>Name</td>\n",
      "    <td>Vorname</td>\n",
      "    <td>Matrikelnummer</td>\n",
      "    <td>Datum</td>\n",
      "  </tr>\n",
      "  <tr>\n",
      "    <td>Alt</td>\n",
      "    <td>Tobias</td>\n",
      "    <td>282385</td>\n",
      "    <td>18.12.2015</td>\n",
      "  </tr>\n",
      "</table> "
     ]
    },
    {
     "cell_type": "markdown",
     "metadata": {},
     "source": [
      "<b>Aufgabe 3.1 - Perzeptron"
     ]
    },
    {
     "cell_type": "code",
     "collapsed": false,
     "input": [
      "import pandas as pd\n",
      "import numpy as np\n",
      "import matplotlib.pyplot as plt\n",
      "import math\n",
      "from numpy import linalg as LA\n",
      "import scipy as sp\n",
      "import urllib2\n",
      "from urllib2 import urlopen, URLError, HTTPError\n",
      "import zipfile\n",
      "import tarfile\n",
      "import sys\n",
      "import os\n",
      "from skimage import data, io, filter\n",
      "from PIL import Image"
     ],
     "language": "python",
     "metadata": {},
     "outputs": [],
     "prompt_number": 1
    },
    {
     "cell_type": "markdown",
     "metadata": {},
     "source": [
      "<b>Teil A - Toy Dataset"
     ]
    },
    {
     "cell_type": "code",
     "collapsed": false,
     "input": [
      "# Funktion zum Erstellen des Datensatzes\n",
      "#-----------------------------------------------------------------------------\n",
      "# loc : float Mean (\u201ccentre\u201d) of the distribution.\n",
      "# scale : float Standard deviation (spread or \u201cwidth\u201d) of the distribution.\n",
      "# size : int or tuple of ints, optional\n",
      "# numpy.random.normal(loc=0.0, scale=1.0, size=None)\n",
      "\n",
      "def createToyDataSet(ypos,numberOfData,clusterDistance,varianz):\n",
      "    #sigma = sqrt(clusterBright) # mean and standard deviation\n",
      "    #data1 = np.random.normal(mu, sigma, numberOfData)\n",
      "    #data2 = np.random.normal(mu, sigma, numberOfData)\n",
      "\n",
      "    mu = clusterDistance         #loc Paramter -> Abstand\n",
      "    sigma = sqrt(varianz)        #scale Parameter -> Clusterbreite\n",
      "    sizeOfData = numberOfData    #Anzahl Daten\n",
      "\n",
      "    #np.vstack -> Stack arrays in sequence vertically\n",
      "    X = np.vstack([np.random.normal(ypos+mu, sigma, (sizeOfData, 2)), np.random.normal(ypos-mu, sigma, (sizeOfData, 2))])\n",
      "    return X "
     ],
     "language": "python",
     "metadata": {},
     "outputs": [],
     "prompt_number": 2
    },
    {
     "cell_type": "code",
     "collapsed": false,
     "input": [
      "#Graphische Darstellung\n",
      "#-------------------------------------------------------------------------\n",
      "def plotToyData(data,mu,varianz):\n",
      "    fig = plt.figure()\n",
      "    \n",
      "    fig, ax = subplots(figsize=(14,6))\n",
      "    data1 = data[0]\n",
      "    data2 = data[1]\n",
      "    #plot data histogramm\n",
      "    ax = plt.subplot(1,2,1)\n",
      "    title('x/y Histogramm')\n",
      "    count, bins, ignored = ax.hist(data, 30, normed=True)\n",
      "    ax.plot(bins, 1/(sqrt(varianz) * np.sqrt(2 * np.pi)) * np.exp( - (bins)**2 / (2 * varianz) ),\n",
      "         linewidth=2, color='g')\n",
      "    # 1. Gaussverteilungen - Cluster 1\n",
      "    x_plot = np.linspace(mu - 4*sqrt(varianz), mu + 4*sqrt(varianz), 100) # the x-values to use in the plot\n",
      "    # compute the values of this density at the locations given by x_plot\n",
      "    py = 1/np.sqrt(4*np.pi*varianz)*np.exp(-0.5*(x_plot-mu)**2/varianz)\n",
      "    # sample some random values from this density\n",
      "    x_samps = data\n",
      "    # Plot the density\n",
      "    ax.plot(x_plot, py)\n",
      "    \n",
      "    # 2. Gaussverteilungen - Cluster 2\n",
      "    x_plot = np.linspace(-mu - 4*sqrt(varianz), -mu + 4*sqrt(varianz), 100) # the x-values to use in the plot\n",
      "    # compute the values of this density at the locations given by x_plot\n",
      "    py = 1/np.sqrt(4*np.pi*varianz)*np.exp(-0.5*(x_plot+mu)**2/varianz)\n",
      "    # sample some random values from this density\n",
      "    x_samps = data\n",
      "    # Plot the density\n",
      "    ax.plot(x_plot, py)\n",
      "\n",
      "    # Scatter plot\n",
      "    ax = plt.subplot(1,2,2)\n",
      "    colors = np.hstack([np.zeros(len(data)/2), np.ones(len(data)/2)])\n",
      "    plt.scatter(data[:, 0], data[:, 1], c=colors, edgecolors='none',cmap=plt.cm.Accent)"
     ],
     "language": "python",
     "metadata": {},
     "outputs": [],
     "prompt_number": 3
    },
    {
     "cell_type": "code",
     "collapsed": false,
     "input": [
      "#Erzeugen der Daten (wie gew\u00fcnscht einstellbar)\n",
      "#---------------------------------------------------------------------------\n",
      "varianz = 0.5      #Clusterbreite\n",
      "numberOfData = 200 #Anzahl neuer Datenpunkte pro Cluster\n",
      "mean= 1.5          #Abstand\n",
      "ypos = 0           #y-Achsen-Verschiebung\n",
      "\n",
      "toyData = createToyDataSet(ypos,numberOfData,mean,varianz)\n"
     ],
     "language": "python",
     "metadata": {},
     "outputs": [],
     "prompt_number": 4
    },
    {
     "cell_type": "code",
     "collapsed": false,
     "input": [
      "plotToyData(toyData, mean, varianz)"
     ],
     "language": "python",
     "metadata": {},
     "outputs": [
      {
       "metadata": {},
       "output_type": "display_data",
       "text": [
        "<matplotlib.figure.Figure at 0x7f1b2a4d8b90>"
       ]
      },
      {
       "metadata": {},
       "output_type": "display_data",
       "png": "[encoded data removed]",
       "text": [
        "<matplotlib.figure.Figure at 0x7f1b38fff390>"
       ]
      }
     ],
     "prompt_number": 5
    },
    {
     "cell_type": "code",
     "collapsed": false,
     "input": [
      "#Erzeugen des zugeh\u00f6rigen Labelvektor mit den Werten \u00b11\n",
      "#-------------------------------------------------------------------\n",
      "labelvector = np.ones(len(toyData)) \n",
      "labelvector[len(toyData)/2:] *= -1\n",
      "print 'ToyData Gr\u00f6\u00dfe    :',shape(toyData),' 1.Klasse: ',toyData[0][0],'  2.Klasse: ', toyData[1][0]\n",
      "print 'Labelvektor Gr\u00f6\u00dfe:',shape(labelvector),' 1.Klasse: ',labelvector[0],'\\t\\t2.Klasse: ', labelvector[200]"
     ],
     "language": "python",
     "metadata": {},
     "outputs": [
      {
       "output_type": "stream",
       "stream": "stdout",
       "text": [
        "ToyData Gr\u00f6\u00dfe    : (400, 2)  1.Klasse:  1.70290508723   2.Klasse:  1.45527108081\n",
        "Labelvektor Gr\u00f6\u00dfe: (400,)  1.Klasse:  1.0 \t\t2.Klasse:  -1.0\n"
       ]
      }
     ],
     "prompt_number": 6
    },
    {
     "cell_type": "markdown",
     "metadata": {},
     "source": [
      "<b>Teil B - Perzeptron"
     ]
    },
    {
     "cell_type": "code",
     "collapsed": false,
     "input": [
      "import sys\n",
      "import time\n",
      "\n",
      "def restart_line(outputPrint):\n",
      "    sys.stdout.write(outputPrint)\n",
      "    sys.stdout.flush()\n",
      "    sys.stdout.write('\\r')"
     ],
     "language": "python",
     "metadata": {},
     "outputs": [],
     "prompt_number": 7
    },
    {
     "cell_type": "code",
     "collapsed": false,
     "input": [
      "# Funktion f\u00fcr die Implementierung des Batch-Perzeptron mit Einzelbeispielkorrektur\n",
      "\n",
      "correct = {}\n",
      "XiList = []\n",
      "\n",
      "def primal_Perzeptron(data,labelvector,lernrate,numberOfSteps,doPlot):\n",
      "    \n",
      "    Data = data\n",
      "    # Alle Daten normalisieren\n",
      "    Datanorm= norm(Data)\n",
      "    Data = Data/Datanorm\n",
      "\n",
      "    ### Initialisierung ###\n",
      "    DataDimension = shape(data[0])\n",
      "    # Normalvektor\n",
      "    w= np.zeros(DataDimension)\n",
      "    #Abbruchsbedingung\n",
      "    i=0\n",
      "    # Schwellwert\n",
      "    b = 0 \n",
      "    # Lernrate\n",
      "    nk = lernrate\n",
      "    # Anzahl Daten\n",
      "    l = len(Data)\n",
      "    # Liste groesster Norm in R\n",
      "    norm_array=[] \n",
      "    abbruch = 0\n",
      "    \n",
      "    # Initialisierung f\u00fcr Plot -> Plot mit im Algorithmus\n",
      "    if (doPlot):\n",
      "        fig = plt.figure() #Abbildungsumgebung\n",
      "        fig, ax = subplots(figsize=(14,15)) #Subplots\n",
      "        \n",
      "    pk = 0 # Subplotcounter - Z\u00e4hlen und Selektieren der Plots\n",
      "    \n",
      "    ### Algorithmus ### Jetzt wird es ernst...\n",
      "    \n",
      "    # Berechnung von R\n",
      "    for ix in range (0,len(Data)):\n",
      "        #numpy.linalg.norm - siehe import !\n",
      "        norm_array.append(LA.norm(Data[ix]))\n",
      "    R = np.max(norm_array)\n",
      "\n",
      "    # f\u00fchre x-Schritte aus\n",
      "    alleKlassifiziert = True\n",
      "    while True: \n",
      "        # loop counter\n",
      "        i=(i + 1) %l\n",
      "        xi = Data[i]\n",
      "            \n",
      "        # -->falsch klassifiziert\n",
      "        mi= labelvector[i]*(np.dot(w,xi)+b)\n",
      "        correct.update({'i':i,'w': shape(w),'xi':xi,'mi':mi})\n",
      "        XiList.append(xi)\n",
      "        if mi<=0:\n",
      "            alleKlassifiziert = False\n",
      "            w = w+nk*labelvector[i]*xi # neuer Gewichtsvektor w <- w + nk*yi*xi\n",
      "            b = b+(nk*labelvector[i]*(R**2))\n",
      "                \n",
      "            # Z\u00e4hlen und Zeichnen der Korrekturschritte\n",
      "            pk+=1 # Subplotcounter ++\n",
      "            if pk < 10 and doPlot: # reserviere f\u00fcr letzten Plot\n",
      "                zeichneTrennebene(data,pk,2,5,w,b,alleKlassifiziert)\n",
      "                           \n",
      "        # Alle Daten wurden durchlaufen. Wurden alle klassifiziert?\n",
      "        if(i==0 and alleKlassifiziert):\n",
      "            print 'alle Klassifiziert'\n",
      "            if doPlot:\n",
      "                zeichneTrennebene(data,pk,2,5,w,b,alleKlassifiziert)\n",
      "            break\n",
      "        \n",
      "        # Wieder am Listenanfang\n",
      "        if(i==0): \n",
      "            abbruch +=1\n",
      "            alleKlassifiziert = True #reset\n",
      "            outputPrint = 'Abbruch in '+str(numberOfSteps-abbruch)\n",
      "            restart_line(outputPrint)\n",
      "\n",
      "\n",
      "            #Abbruch nach numberOfsteps Schritten\n",
      "            if (abbruch>numberOfSteps):\n",
      "                print 'Nicht Klassifizierbar nach ',abbruch,'Schritten'\n",
      "                if doPlot:\n",
      "                    zeichneTrennebene(data,pk,2,5,w,b,alleKlassifiziert) \n",
      "                break\n",
      "\n",
      "   \n",
      "    return w,b"
     ],
     "language": "python",
     "metadata": {},
     "outputs": [],
     "prompt_number": 8
    },
    {
     "cell_type": "code",
     "collapsed": false,
     "input": [
      "# Funktion zur Berechnung der Trennlinie aus dem Normalvektor und Schwellwert\n",
      "\n",
      "def zeichneTrennebene(toyData,pk,row,column,w,b,alleKlassifiziert):\n",
      "        # Convert the input to an array\n",
      "        plot_limits = np.asarray([-5, 4]) #xy axis values in plot\n",
      "        \n",
      "        # Zeichnen des i. Korrekturschritt ausser es ist nur noch ein Platz im Plott frei\n",
      "        if pk<(row*column):\n",
      "            # Erstelle neuen Subplot und Titel\n",
      "            ax = plt.subplot(row,column,pk); \n",
      "            ax.axis([plot_limits[0],plot_limits[1], plot_limits[0], plot_limits[1]])\n",
      "            title('Korrekturschritt:'+str(pk));\n",
      "            # Zeichne Daten Punkte Wolke\n",
      "            plot(toyData[:len(toyData)/2, 0], toyData[:len(toyData)/2, 1], 'bo');# bo = blau, x = xes\n",
      "            plot(toyData[len(toyData)/2:, 0], toyData[len(toyData)/2:, 1], 'go');# g=green, y = yellow\n",
      "            \n",
      "            # Zeichne Trennebene 0 = w*x+b\n",
      "            x0,x1 =get_plane_coordinates(w, b, plot_limits)\n",
      "            plot(x0,x1,'r--')# Berechne Trennebene mit get_plane_coordinates()\n",
      "             \n",
      "        #Bei zu vielen Plots, plotte nur noch den letzten Plot\n",
      "        elif(alleKlassifiziert): # letzten Schritt plotten  last == 0\n",
      "            # Erstelle letzten subplot und Titel\n",
      "            ax = plt.subplot(2,5,row*column); \n",
      "            title('letzter Korrekturschritt:'+str(pk));\n",
      "            # Zeichne Daten Punkte Wolke\n",
      "            plot(toyData[:len(toyData)/2, 0], toyData[:len(toyData)/2, 1], 'bo');# bo = blaupuntkt, x = xes\n",
      "            plot(toyData[len(toyData)/2:, 0], toyData[len(toyData)/2:, 1], 'go');# g=green, y = yellow\n",
      "            \n",
      "            # Zeichne Trennebene 0 = w*x+b\n",
      "            x0,x1 =get_plane_coordinates(w, b, plot_limits)\n",
      "            #print 'x0:',x0,'x1:',x1\n",
      "            plot(x0,x1,'r--')# berechne Trennebene mit get_plane_coordinates()"
     ],
     "language": "python",
     "metadata": {},
     "outputs": [],
     "prompt_number": 9
    },
    {
     "cell_type": "code",
     "collapsed": false,
     "input": [
      "# Gibt allgemeine Informationen \u00fcber die Detektion\n",
      "\n",
      "def detectionInformation(w ,b ,data, labels):  \n",
      "    hit = 0         # richig-positiv \n",
      "    cor_neg = 0     # richtig-negativ\n",
      "    false_pos = 0   # Fehlalarm flasch-positiv\n",
      "    miss = 0        # falsch-negativ\n",
      "    \n",
      "    for i in range (0, len(data)):\n",
      "        mi =(np.dot(w,data[i])+b)>0\n",
      "        #mi = np.sign(np.dot(w,data[i])+b)>0\n",
      "        if  mi:\n",
      "            if labels[i] == 1:\n",
      "                hit += 1\n",
      "            else:\n",
      "                false_pos += 1\n",
      "        else:\n",
      "            if labels[i] == 1:\n",
      "                miss += 1\n",
      "            else:\n",
      "                cor_neg += 1\n",
      "       \n",
      "    print \"Hit(richtig-positiv): \\t\\t\\t\\t\", str(round(100.0 * hit / (hit + miss),2)),'%',\"(\",hit,\")\"\n",
      "    print \"Korrekte Ru\u0308ckweisung(Richtig-Negativ): \\t\\t\" , str (round(100.0 * cor_neg / (cor_neg + false_pos),2)),'%',\"(\",cor_neg,\")\"\n",
      "    print \"Fehlalarmrate(falsch-positiv): \\t\\t\\t\", str (round(100.0 * false_pos / (cor_neg + false_pos),2)),'%',\"(\",false_pos,\")\"\n",
      "    print \"Miss(falsch-negativ): \\t\\t\\t\\t\", str(round(100.0 * miss / (hit + miss),2)),'%','(',miss,')'"
     ],
     "language": "python",
     "metadata": {},
     "outputs": [],
     "prompt_number": 10
    },
    {
     "cell_type": "code",
     "collapsed": false,
     "input": [
      "# Berechnet Trennebene\n",
      "# Quelle: http://nbviewer.ipython.org/github/SheffieldML/notebook/blob/master/lab_classes/machines_and_intelligence/MI_Lab_class.ipynb\n",
      "def get_plane_coordinates(w, b, plot_limits):\n",
      "    \n",
      "    if abs(w[1])>abs(w[0]):\n",
      "        # if w[1]>w[0] in absolute value, plane is likely to be leaving tops of plot\n",
      "        x0 = plot_limits\n",
      "        x1 = -(b + x0*w[0])/w[1]\n",
      "    else:\n",
      "        # otherwise plane is likely to be leaving sides of plot.\n",
      "        x1 = plot_limits\n",
      "        x0 = -(b + x1*w[1])/w[0]\n",
      "    return x0, x1"
     ],
     "language": "python",
     "metadata": {},
     "outputs": [],
     "prompt_number": 11
    },
    {
     "cell_type": "code",
     "collapsed": false,
     "input": [
      "#Gegentest mit der Funktion\n",
      "w,b = primal_Perzeptron(toyData,labelvector,0.1,2000,True)\n",
      "detectionInformation(w ,b,toyData, labelvector)\n",
      "print 'w',w,'b',b"
     ],
     "language": "python",
     "metadata": {},
     "outputs": [
      {
       "output_type": "stream",
       "stream": "stdout",
       "text": [
        "Abbruch in 1999"
       ]
      },
      {
       "output_type": "stream",
       "stream": "stdout",
       "text": [
        "\r",
        "alle Klassifiziert\n",
        "Hit(richtig-positiv): \t\t\t\t100.0 % ( 200 )\n",
        "Korrekte Ru\u0308ckweisung(Richtig-Negativ): \t\t100.0 % ( 200 )\n",
        "Fehlalarmrate(falsch-positiv): \t\t\t0.0 % ( 0 )\n",
        "Miss(falsch-negativ): \t\t\t\t0.0 % ( 0 )\n",
        "w [ 0.00535475  0.00574737] b 0.0\n"
       ]
      },
      {
       "metadata": {},
       "output_type": "display_data",
       "text": [
        "<matplotlib.figure.Figure at 0x7f1b29a18410>"
       ]
      },
      {
       "metadata": {},
       "output_type": "display_data",
       "png": "[encoded data removed]",
       "text": [
        "<matplotlib.figure.Figure at 0x7f1b29a18150>"
       ]
      }
     ],
     "prompt_number": 12
    },
    {
     "cell_type": "code",
     "collapsed": false,
     "input": [
      "# Stellen Sie zus\u00e4tzlich die Diskriminantenfunktion des Perzeptrons, \n",
      "# d.h. den funktionalen Abstand als Heatmap (Funktion contourf()) \u00fcber\n",
      "# ein Gitter der Gr\u00f6\u00dfe 50 x 50 dar, das den Bereich der Trainingsdaten abdeckt.\n",
      "# contourf\n",
      "window_size = np.asarray([-50, 50])\n",
      "\n",
      "x = np.arange(window_size[0]-1, window_size[1]+1)\n",
      "y = np.arange(window_size[0]-1, window_size[1]+1)\n",
      "\n",
      "X, Y = np.meshgrid(x, y)\n",
      "Z = np.zeros(X.shape)\n",
      "tmp_array = np.zeros(2)\n",
      "\n",
      "for i in range(0, len(Z)):\n",
      "    for j in range (0, len(Z)):\n",
      "        tmp_array[0] = X[i][j]\n",
      "        tmp_array[1] = Y[i][j]\n",
      "        scalar = np.dot(w,tmp_array)\n",
      "        res = scalar + b\n",
      "        if res < 0:\n",
      "            res = -res\n",
      "        Z[i][j] = res\n",
      "contour(X, Y, Z, 100,linewidths = (10,), zorder=-1, cmap=plt.get_cmap('afmhot'))"
     ],
     "language": "python",
     "metadata": {},
     "outputs": [
      {
       "metadata": {},
       "output_type": "pyout",
       "prompt_number": 13,
       "text": [
        "<matplotlib.contour.QuadContourSet instance at 0x7f1b294b1d40>"
       ]
      },
      {
       "metadata": {},
       "output_type": "display_data",
       "png": "[encoded data removed]",
       "text": [
        "<matplotlib.figure.Figure at 0x7f1b2997a7d0>"
       ]
      }
     ],
     "prompt_number": 13
    },
    {
     "cell_type": "markdown",
     "metadata": {},
     "source": [
      "<b>Teil C - Test an realen Daten"
     ]
    },
    {
     "cell_type": "code",
     "collapsed": false,
     "input": [
      "downloadFileName = 'lfw-funneled.tgz'"
     ],
     "language": "python",
     "metadata": {},
     "outputs": [],
     "prompt_number": 15
    },
    {
     "cell_type": "code",
     "collapsed": false,
     "input": [
      "#Pfad des entpackten Ordners ermitteln\n",
      "path = os.path.curdir+'/'+downloadFileName.replace('.tgz', '/')\n",
      "path =path.replace('-','_')\n",
      "#Alle Ordnernamen eintragen\n",
      "fileList = os.listdir(path)\n",
      "NameList=[]\n",
      "NameFileList=[]\n",
      "filecount=0 #Anzahl wichtiger Dateien z\u00e4hlen (f\u00fcr PCA)\n",
      "# Anzahl bilder >70\n",
      "for i in range(0,len(fileList)-1):\n",
      "    if (fileList[i].find('.') == -1) and (len( os.listdir( path+fileList[i]+'/' ) ) >= 70):\n",
      "        NameList.append(fileList[i].replace('_',' ')) #Namen hinzuf\u00fcgen und sch\u00f6n schreiben\n",
      "        NameFileList.append(fileList[i])\n",
      "        filecount += len( os.listdir( path+fileList[i]+'/'))\n",
      "        print 'add' ,fileList[i].replace('_',' '), 'to Namelist', 'number of pictures: ', len( os.listdir( path+fileList[i]+'/'))\n",
      "    \n",
      "print 'Gesamte Anzahl der Dateien >70:', filecount        \n",
      "NameList"
     ],
     "language": "python",
     "metadata": {},
     "outputs": [
      {
       "output_type": "stream",
       "stream": "stdout",
       "text": [
        "add Ariel Sharon to Namelist number of pictures:  77\n",
        "add"
       ]
      },
      {
       "output_type": "stream",
       "stream": "stdout",
       "text": [
        " Tony Blair to Namelist number of pictures:  144\n",
        "add"
       ]
      },
      {
       "output_type": "stream",
       "stream": "stdout",
       "text": [
        " Donald Rumsfeld to Namelist number of pictures:  121\n",
        "add"
       ]
      },
      {
       "output_type": "stream",
       "stream": "stdout",
       "text": [
        " George W Bush to Namelist number of pictures:  530\n",
        "add"
       ]
      },
      {
       "output_type": "stream",
       "stream": "stdout",
       "text": [
        " Colin Powell to Namelist number of pictures:  236\n",
        "add"
       ]
      },
      {
       "output_type": "stream",
       "stream": "stdout",
       "text": [
        " Hugo Chavez to Namelist number of pictures:  71\n",
        "add"
       ]
      },
      {
       "output_type": "stream",
       "stream": "stdout",
       "text": [
        " Gerhard Schroeder to Namelist number of pictures:  109\n",
        "Gesamte Anzahl der Dateien >70:"
       ]
      },
      {
       "output_type": "stream",
       "stream": "stdout",
       "text": [
        " 1288\n"
       ]
      },
      {
       "metadata": {},
       "output_type": "pyout",
       "prompt_number": 16,
       "text": [
        "['Ariel Sharon',\n",
        " 'Tony Blair',\n",
        " 'Donald Rumsfeld',\n",
        " 'George W Bush',\n",
        " 'Colin Powell',\n",
        " 'Hugo Chavez',\n",
        " 'Gerhard Schroeder']"
       ]
      }
     ],
     "prompt_number": 16
    },
    {
     "cell_type": "markdown",
     "metadata": {},
     "source": [
      "<b>Vorbereitung Hilfsfunktionen"
     ]
    },
    {
     "cell_type": "code",
     "collapsed": false,
     "input": [
      "# W\u00fcrfelt Index\n",
      "def indexShuffel(numberOf):\n",
      "    result=np.arange(0, numberOf, dtype=np.int)\n",
      "    random.shuffle(result)\n",
      "    return result"
     ],
     "language": "python",
     "metadata": {},
     "outputs": [],
     "prompt_number": 18
    },
    {
     "cell_type": "code",
     "collapsed": false,
     "input": [
      "#Python Scirpt zum laden der Bilder mit 1/8 der Gr\u00f6sse\n",
      "def imageLoad_np(path):\n",
      "    image = io.imread(path, as_grey=True)\n",
      "    tmpsize = image.shape #f\u00fcr print\n",
      "    image = sp.misc.imresize(image,12.5/100)     \n",
      "    ImageSize=shape(image)\n",
      "    Image_array = np.reshape(image, (1, shape(image)[0]*shape(image)[1]))\n",
      "    print path,'Alte Bildgr\u00f6\u00dfe: ',tmpsize,'neue Bildgr\u00f6\u00dfe',image.shape, 'geladen'\n",
      "    return Image_array"
     ],
     "language": "python",
     "metadata": {},
     "outputs": [],
     "prompt_number": 46
    },
    {
     "cell_type": "code",
     "collapsed": false,
     "input": [
      "# Aus 2. \u00dcbung Bildgr\u00f6\u00dfen testen\n",
      "picture = io.imread(path+NameFileList[0]+'/'+'Ariel_Sharon_0001.jpg', as_grey=True) #Grauwert\n",
      "\n",
      "ImageSize = sp.misc.imresize(picture, 12.5/100 ) #Prozent vom Ursprungsbild: 1/8 = 12,5%\n",
      "ImageSize = ImageSize.shape"
     ],
     "language": "python",
     "metadata": {},
     "outputs": [],
     "prompt_number": 47
    },
    {
     "cell_type": "code",
     "collapsed": false,
     "input": [
      "#Liste aller Filenamen der Bilder\n",
      "image_List=[]\n",
      "for i in range(0,len(NameFileList)):\n",
      "    image_List.append(os.listdir( path+NameFileList[i]+'/'))"
     ],
     "language": "python",
     "metadata": {},
     "outputs": [],
     "prompt_number": 48
    },
    {
     "cell_type": "code",
     "collapsed": false,
     "input": [
      "# Funktion f\u00fcr Test- und Trainingsmatrix\n",
      "def get_design_and_Test_Matrix(percent):\n",
      "\n",
      "    # Erstelle und lade die Bilder in die ImageMatrix(Designmatrix)\n",
      "    designmatrix_np= []\n",
      "    \n",
      "    # Speichert die ersten Bilder der Personen \n",
      "    for j in range (0,len(NameFileList)):\n",
      "        newline_np=[]\n",
      "        # indexShuffel function call\n",
      "        randomizedList = indexShuffel (len(image_List[j]))\n",
      "        for i in range(0,int(round(len(image_List[j])*percent))):\n",
      "            newline_np.append(imageLoad_np(path+NameFileList[j]+'/'+image_List[j][randomizedList[i]])[0])\n",
      "        designmatrix_np.append(newline_np)\n",
      "    print '- ',percent*100,'% der Bilder wurden in die Designmatrix geladen - '\n",
      "\n",
      "    # Erstelle und lade die TestBilder in die ImageMatrix(Designmatrix)\n",
      "    testbilder_np= []\n",
      "    \n",
      "    # Speichert restliche Bild der Personen \n",
      "    for j in range (0,len(NameFileList)):\n",
      "        newline_np=[]\n",
      "        randomizedList = indexShuffel (len(image_List[j]))\n",
      "        for i in range(int(round(len(image_List[j])*percent))+1,len(image_List[j])):\n",
      "            newline_np.append(imageLoad_np(path+NameFileList[j]+'/'+image_List[j][randomizedList[i]])[0])\n",
      "        testbilder_np.append(newline_np)\n",
      "    print '- ',percent*100,'% der Bilder wurden in die Testbilder geladen - '\n",
      "    \n",
      "    return designmatrix_np,testbilder_np"
     ],
     "language": "python",
     "metadata": {},
     "outputs": [],
     "prompt_number": 49
    },
    {
     "cell_type": "code",
     "collapsed": false,
     "input": [
      "# Arrays in richtige Form bringen\n",
      "def getInForm(Data):\n",
      "    NewData = Data\n",
      "    if shape(Data) == (size(Data),):\n",
      "        NewData = np.zeros((filecount,ImageSize[0]*ImageSize[1]))\n",
      "        for i in range (0,len(Data)):\n",
      "            for k in range (0,len(Data[i])):\n",
      "                NewData[k,:] = Data[i][k]\n",
      "        print '- getInForm: Achtung \u00fcbergebene Daten wurden angepasst und \u00fcberschrieben! -'\n",
      "        print 'von shape: ',shape(Data), 'nach: ', shape(NewData)\n",
      "    else:\n",
      "        print '- getInForm: Daten sind schon korrekt -'\n",
      "    return NewData;\n",
      "\n",
      "# Hauptkomponentenanalyse\n",
      "def PCA(array_np):\n",
      "    Data = copy(array_np)\n",
      "    for i in range(0, len(array_np)-1):\n",
      "        mean = np.mean(array_np[i])\n",
      "        for j in range(0,len(array_np[i])-1):\n",
      "            array_np[i][j] -= mean\n",
      "    \n",
      "    Data = getInForm(Data)\n",
      "    return np.linalg.svd(Data, full_matrices=True)"
     ],
     "language": "python",
     "metadata": {},
     "outputs": [],
     "prompt_number": 50
    },
    {
     "cell_type": "code",
     "collapsed": false,
     "input": [
      "# PCA(Hauptkomponentenanalyse)\n",
      "TrainingsBilder,TestBilder = get_design_and_Test_Matrix(0.6)\n",
      "U, d, VT  = PCA(TrainingsBilder)\n",
      "V=VT.T    #V = VT transponiert\n",
      "print 'u:', U.shape\n",
      "print 'd:', d.shape\n",
      "print 'VT:', VT.shape\n",
      "print 'V:', V.shape\n"
     ],
     "language": "python",
     "metadata": {},
     "outputs": [
      {
       "output_type": "stream",
       "stream": "stdout",
       "text": [
        "./lfw_funneled/Ariel_Sharon/Ariel_Sharon_0033.jpg Alte Bildgr\u00f6\u00dfe:  (250, 250) neue Bildgr\u00f6\u00dfe (31, 31) geladen\n",
        "./lfw_funneled/Ariel_Sharon/Ariel_Sharon_0064.jpg Alte Bildgr\u00f6\u00dfe:  (250, 250) neue Bildgr\u00f6\u00dfe (31, 31) geladen\n",
        "./lfw_funneled/Ariel_Sharon/Ariel_Sharon_0045.jpg Alte Bildgr\u00f6\u00dfe:  (250, 250) neue Bildgr\u00f6\u00dfe (31, 31) geladen\n",
        "./lfw_funneled/Ariel_Sharon/Ariel_Sharon_0041.jpg Alte Bildgr\u00f6\u00dfe:  (250, 250) neue Bildgr\u00f6\u00dfe (31, 31) geladen\n",
        "./lfw_funneled/Ariel_Sharon/Ariel_Sharon_0066.jpg Alte Bildgr\u00f6\u00dfe:  (250, 250) neue Bildgr\u00f6\u00dfe (31, 31) geladen\n",
        "./lfw_funneled/Ariel_Sharon/Ariel_Sharon_0027.jpg Alte Bildgr\u00f6\u00dfe:  (250, 250) neue Bildgr\u00f6\u00dfe (31, 31) geladen\n",
        "./lfw_funneled/Ariel_Sharon/Ariel_Sharon_0067.jpg Alte Bildgr\u00f6\u00dfe:  (250, 250) neue Bildgr\u00f6\u00dfe (31, 31) geladen\n",
        "./lfw_funneled/Ariel_Sharon/Ariel_Sharon_0009.jpg Alte Bildgr\u00f6\u00dfe:  (250, 250) neue Bildgr\u00f6\u00dfe (31, 31) geladen\n",
        "./lfw_funneled/Ariel_Sharon/Ariel_Sharon_0048.jpg Alte Bildgr\u00f6\u00dfe:  (250, 250) neue Bildgr\u00f6\u00dfe (31, 31) geladen\n",
        "./lfw_funneled/Ariel_Sharon/Ariel_Sharon_0039.jpg"
       ]
      },
      {
       "output_type": "stream",
       "stream": "stdout",
       "text": [
        " Alte Bildgr\u00f6\u00dfe:  (250, 250) neue Bildgr\u00f6\u00dfe (31, 31) geladen\n",
        "./lfw_funneled/Ariel_Sharon/Ariel_Sharon_0025.jpg Alte Bildgr\u00f6\u00dfe:  (250, 250) neue Bildgr\u00f6\u00dfe (31, 31) geladen\n",
        "./lfw_funneled/Ariel_Sharon/Ariel_Sharon_0015.jpg Alte Bildgr\u00f6\u00dfe:  (250, 250) neue Bildgr\u00f6\u00dfe (31, 31) geladen\n",
        "./lfw_funneled/Ariel_Sharon/Ariel_Sharon_0034.jpg Alte Bildgr\u00f6\u00dfe:  (250, 250) neue Bildgr\u00f6\u00dfe (31, 31) geladen\n",
        "./lfw_funneled/Ariel_Sharon/Ariel_Sharon_0071.jpg Alte Bildgr\u00f6\u00dfe:  (250, 250) neue Bildgr\u00f6\u00dfe (31, 31) geladen\n",
        "./lfw_funneled/Ariel_Sharon/Ariel_Sharon_0047.jpg Alte Bildgr\u00f6\u00dfe:  (250, 250) neue Bildgr\u00f6\u00dfe (31, 31) geladen\n",
        "./lfw_funneled/Ariel_Sharon/Ariel_Sharon_0038.jpg Alte Bildgr\u00f6\u00dfe:  (250, 250) neue Bildgr\u00f6\u00dfe (31, 31) geladen\n",
        "./lfw_funneled/Ariel_Sharon/Ariel_Sharon_0070.jpg Alte Bildgr\u00f6\u00dfe:  (250, 250) neue Bildgr\u00f6\u00dfe (31, 31) geladen\n",
        "./lfw_funneled/Ariel_Sharon/Ariel_Sharon_0061.jpg Alte Bildgr\u00f6\u00dfe:  (250, 250) neue Bildgr\u00f6\u00dfe (31, 31) geladen\n",
        "./lfw_funneled/Ariel_Sharon/Ariel_Sharon_0030.jpg Alte Bildgr\u00f6\u00dfe:  (250, 250) neue Bildgr\u00f6\u00dfe (31, 31) geladen\n",
        "./lfw_funneled/Ariel_Sharon/Ariel_Sharon_0012.jpg"
       ]
      },
      {
       "output_type": "stream",
       "stream": "stdout",
       "text": [
        " Alte Bildgr\u00f6\u00dfe:  (250, 250) neue Bildgr\u00f6\u00dfe (31, 31) geladen\n",
        "./lfw_funneled/Ariel_Sharon/Ariel_Sharon_0014.jpg Alte Bildgr\u00f6\u00dfe:  (250, 250) neue Bildgr\u00f6\u00dfe (31, 31) geladen\n",
        "./lfw_funneled/Ariel_Sharon/Ariel_Sharon_0058.jpg Alte Bildgr\u00f6\u00dfe:  (250, 250) neue Bildgr\u00f6\u00dfe (31, 31) geladen\n",
        "./lfw_funneled/Ariel_Sharon/Ariel_Sharon_0037.jpg Alte Bildgr\u00f6\u00dfe:  (250, 250) neue Bildgr\u00f6\u00dfe (31, 31) geladen\n",
        "./lfw_funneled/Ariel_Sharon/Ariel_Sharon_0077.jpg Alte Bildgr\u00f6\u00dfe:  (250, 250) neue Bildgr\u00f6\u00dfe (31, 31) geladen\n",
        "./lfw_funneled/Ariel_Sharon/Ariel_Sharon_0010.jpg Alte Bildgr\u00f6\u00dfe:  (250, 250) neue Bildgr\u00f6\u00dfe (31, 31) geladen\n",
        "./lfw_funneled/Ariel_Sharon/Ariel_Sharon_0075.jpg Alte Bildgr\u00f6\u00dfe:  (250, 250) neue Bildgr\u00f6\u00dfe (31, 31) geladen\n",
        "./lfw_funneled/Ariel_Sharon/Ariel_Sharon_0001.jpg Alte Bildgr\u00f6\u00dfe:  (250, 250) neue Bildgr\u00f6\u00dfe (31, 31) geladen\n",
        "./lfw_funneled/Ariel_Sharon/Ariel_Sharon_0073.jpg Alte Bildgr\u00f6\u00dfe:  (250, 250) neue Bildgr\u00f6\u00dfe (31, 31) geladen\n",
        "./lfw_funneled/Ariel_Sharon/Ariel_Sharon_0060.jpg"
       ]
      },
      {
       "output_type": "stream",
       "stream": "stdout",
       "text": [
        " Alte Bildgr\u00f6\u00dfe:  (250, 250) neue Bildgr\u00f6\u00dfe (31, 31) geladen\n",
        "./lfw_funneled/Ariel_Sharon/Ariel_Sharon_0062.jpg Alte Bildgr\u00f6\u00dfe:  (250, 250) neue Bildgr\u00f6\u00dfe (31, 31) geladen\n",
        "./lfw_funneled/Ariel_Sharon/Ariel_Sharon_0068.jpg Alte Bildgr\u00f6\u00dfe:  (250, 250) neue Bildgr\u00f6\u00dfe (31, 31) geladen\n",
        "./lfw_funneled/Ariel_Sharon/Ariel_Sharon_0007.jpg Alte Bildgr\u00f6\u00dfe:  (250, 250) neue Bildgr\u00f6\u00dfe (31, 31) geladen\n",
        "./lfw_funneled/Ariel_Sharon/Ariel_Sharon_0016.jpg Alte Bildgr\u00f6\u00dfe:  (250, 250) neue Bildgr\u00f6\u00dfe (31, 31) geladen\n",
        "./lfw_funneled/Ariel_Sharon/Ariel_Sharon_0076.jpg Alte Bildgr\u00f6\u00dfe:  (250, 250) neue Bildgr\u00f6\u00dfe (31, 31) geladen\n",
        "./lfw_funneled/Ariel_Sharon/Ariel_Sharon_0006.jpg Alte Bildgr\u00f6\u00dfe:  (250, 250) neue Bildgr\u00f6\u00dfe (31, 31) geladen\n",
        "./lfw_funneled/Ariel_Sharon/Ariel_Sharon_0043.jpg Alte Bildgr\u00f6\u00dfe:  (250, 250) neue Bildgr\u00f6\u00dfe (31, 31) geladen\n",
        "./lfw_funneled/Ariel_Sharon/Ariel_Sharon_0022.jpg"
       ]
      },
      {
       "output_type": "stream",
       "stream": "stdout",
       "text": [
        " Alte Bildgr\u00f6\u00dfe:  (250, 250) neue Bildgr\u00f6\u00dfe (31, 31) geladen\n",
        "./lfw_funneled/Ariel_Sharon/Ariel_Sharon_0002.jpg Alte Bildgr\u00f6\u00dfe:  (250, 250) neue Bildgr\u00f6\u00dfe (31, 31) geladen\n",
        "./lfw_funneled/Ariel_Sharon/Ariel_Sharon_0053.jpg Alte Bildgr\u00f6\u00dfe:  (250, 250) neue Bildgr\u00f6\u00dfe (31, 31) geladen\n",
        "./lfw_funneled/Ariel_Sharon/Ariel_Sharon_0020.jpg Alte Bildgr\u00f6\u00dfe:  (250, 250) neue Bildgr\u00f6\u00dfe (31, 31) geladen\n",
        "./lfw_funneled/Ariel_Sharon/Ariel_Sharon_0042.jpg Alte Bildgr\u00f6\u00dfe:  (250, 250) neue Bildgr\u00f6\u00dfe (31, 31) geladen\n",
        "./lfw_funneled/Ariel_Sharon/Ariel_Sharon_0057.jpg Alte Bildgr\u00f6\u00dfe:  (250, 250) neue Bildgr\u00f6\u00dfe (31, 31) geladen\n",
        "./lfw_funneled/Ariel_Sharon/Ariel_Sharon_0029.jpg Alte Bildgr\u00f6\u00dfe:  (250, 250) neue Bildgr\u00f6\u00dfe (31, 31) geladen\n",
        "./lfw_funneled/Ariel_Sharon/Ariel_Sharon_0059.jpg Alte Bildgr\u00f6\u00dfe:  (250, 250) neue Bildgr\u00f6\u00dfe (31, 31) geladen\n",
        "./lfw_funneled/Ariel_Sharon/Ariel_Sharon_0072.jpg Alte Bildgr\u00f6\u00dfe:  (250, 250) neue Bildgr\u00f6\u00dfe (31, 31) geladen\n",
        "./lfw_funneled/Ariel_Sharon/Ariel_Sharon_0018.jpg"
       ]
      },
      {
       "output_type": "stream",
       "stream": "stdout",
       "text": [
        " Alte Bildgr\u00f6\u00dfe:  (250, 250) neue Bildgr\u00f6\u00dfe (31, 31) geladen\n",
        "./lfw_funneled/Tony_Blair/Tony_Blair_0047.jpg Alte Bildgr\u00f6\u00dfe:  (250, 250) neue Bildgr\u00f6\u00dfe (31, 31) geladen\n",
        "./lfw_funneled/Tony_Blair/Tony_Blair_0027.jpg Alte Bildgr\u00f6\u00dfe:  (250, 250) neue Bildgr\u00f6\u00dfe (31, 31) geladen\n",
        "./lfw_funneled/Tony_Blair/Tony_Blair_0019.jpg Alte Bildgr\u00f6\u00dfe:  (250, 250) neue Bildgr\u00f6\u00dfe (31, 31) geladen\n",
        "./lfw_funneled/Tony_Blair/Tony_Blair_0076.jpg Alte Bildgr\u00f6\u00dfe:  (250, 250) neue Bildgr\u00f6\u00dfe (31, 31) geladen\n",
        "./lfw_funneled/Tony_Blair/Tony_Blair_0105.jpg Alte Bildgr\u00f6\u00dfe:  (250, 250) neue Bildgr\u00f6\u00dfe (31, 31) geladen\n",
        "./lfw_funneled/Tony_Blair/Tony_Blair_0056.jpg Alte Bildgr\u00f6\u00dfe:  (250, 250) neue Bildgr\u00f6\u00dfe (31, 31) geladen\n",
        "./lfw_funneled/Tony_Blair/Tony_Blair_0031.jpg Alte Bildgr\u00f6\u00dfe:  (250, 250) neue Bildgr\u00f6\u00dfe (31, 31) geladen\n",
        "./lfw_funneled/Tony_Blair/Tony_Blair_0020.jpg Alte Bildgr\u00f6\u00dfe:  (250, 250) neue Bildgr\u00f6\u00dfe (31, 31) geladen\n",
        "./lfw_funneled/Tony_Blair/Tony_Blair_0038.jpg Alte Bildgr\u00f6\u00dfe:  (250, 250) neue Bildgr\u00f6\u00dfe (31, 31) geladen\n",
        "./lfw_funneled/Tony_Blair/Tony_Blair_0119.jpg"
       ]
      },
      {
       "output_type": "stream",
       "stream": "stdout",
       "text": [
        " Alte Bildgr\u00f6\u00dfe:  (250, 250) neue Bildgr\u00f6\u00dfe (31, 31) geladen\n",
        "./lfw_funneled/Tony_Blair/Tony_Blair_0122.jpg Alte Bildgr\u00f6\u00dfe:  (250, 250) neue Bildgr\u00f6\u00dfe (31, 31) geladen\n",
        "./lfw_funneled/Tony_Blair/Tony_Blair_0120.jpg Alte Bildgr\u00f6\u00dfe:  (250, 250) neue Bildgr\u00f6\u00dfe (31, 31) geladen\n",
        "./lfw_funneled/Tony_Blair/Tony_Blair_0133.jpg Alte Bildgr\u00f6\u00dfe:  (250, 250) neue Bildgr\u00f6\u00dfe (31, 31) geladen\n",
        "./lfw_funneled/Tony_Blair/Tony_Blair_0061.jpg Alte Bildgr\u00f6\u00dfe:  (250, 250) neue Bildgr\u00f6\u00dfe (31, 31) geladen\n",
        "./lfw_funneled/Tony_Blair/Tony_Blair_0081.jpg Alte Bildgr\u00f6\u00dfe:  (250, 250) neue Bildgr\u00f6\u00dfe (31, 31) geladen\n",
        "./lfw_funneled/Tony_Blair/Tony_Blair_0006.jpg Alte Bildgr\u00f6\u00dfe:  (250, 250) neue Bildgr\u00f6\u00dfe (31, 31) geladen\n",
        "./lfw_funneled/Tony_Blair/Tony_Blair_0144.jpg Alte Bildgr\u00f6\u00dfe:  (250, 250) neue Bildgr\u00f6\u00dfe (31, 31) geladen\n",
        "./lfw_funneled/Tony_Blair/Tony_Blair_0108.jpg Alte Bildgr\u00f6\u00dfe:  (250, 250) neue Bildgr\u00f6\u00dfe (31, 31) geladen\n",
        "./lfw_funneled/Tony_Blair/Tony_Blair_0042.jpg Alte Bildgr\u00f6\u00dfe:  (250, 250) neue Bildgr\u00f6\u00dfe (31, 31) geladen\n",
        "./lfw_funneled/Tony_Blair/Tony_Blair_0121.jpg Alte Bildgr\u00f6\u00dfe:  (250, 250) neue Bildgr\u00f6\u00dfe (31, 31) geladen\n",
        "./lfw_funneled/Tony_Blair/Tony_Blair_0102.jpg Alte Bildgr\u00f6\u00dfe:  (250, 250) neue Bildgr\u00f6\u00dfe (31, 31) geladen\n",
        "./lfw_funneled/Tony_Blair/Tony_Blair_0033.jpg Alte Bildgr\u00f6\u00dfe:  (250, 250) neue Bildgr\u00f6\u00dfe (31, 31) geladen\n",
        "./lfw_funneled/Tony_Blair/Tony_Blair_0058.jpg"
       ]
      },
      {
       "output_type": "stream",
       "stream": "stdout",
       "text": [
        " Alte Bildgr\u00f6\u00dfe:  (250, 250) neue Bildgr\u00f6\u00dfe (31, 31) geladen\n",
        "./lfw_funneled/Tony_Blair/Tony_Blair_0002.jpg Alte Bildgr\u00f6\u00dfe:  (250, 250) neue Bildgr\u00f6\u00dfe (31, 31) geladen\n",
        "./lfw_funneled/Tony_Blair/Tony_Blair_0050.jpg Alte Bildgr\u00f6\u00dfe:  (250, 250) neue Bildgr\u00f6\u00dfe (31, 31) geladen\n",
        "./lfw_funneled/Tony_Blair/Tony_Blair_0021.jpg Alte Bildgr\u00f6\u00dfe:  (250, 250) neue Bildgr\u00f6\u00dfe (31, 31) geladen\n",
        "./lfw_funneled/Tony_Blair/Tony_Blair_0025.jpg Alte Bildgr\u00f6\u00dfe:  (250, 250) neue Bildgr\u00f6\u00dfe (31, 31) geladen\n",
        "./lfw_funneled/Tony_Blair/Tony_Blair_0034.jpg Alte Bildgr\u00f6\u00dfe:  (250, 250) neue Bildgr\u00f6\u00dfe (31, 31) geladen\n",
        "./lfw_funneled/Tony_Blair/Tony_Blair_0142.jpg Alte Bildgr\u00f6\u00dfe:  (250, 250) neue Bildgr\u00f6\u00dfe (31, 31) geladen\n",
        "./lfw_funneled/Tony_Blair/Tony_Blair_0096.jpg Alte Bildgr\u00f6\u00dfe:  (250, 250) neue Bildgr\u00f6\u00dfe (31, 31) geladen\n",
        "./lfw_funneled/Tony_Blair/Tony_Blair_0137.jpg Alte Bildgr\u00f6\u00dfe:  (250, 250) neue Bildgr\u00f6\u00dfe (31, 31) geladen\n",
        "./lfw_funneled/Tony_Blair/Tony_Blair_0079.jpg Alte Bildgr\u00f6\u00dfe:  (250, 250) neue Bildgr\u00f6\u00dfe (31, 31) geladen\n",
        "./lfw_funneled/Tony_Blair/Tony_Blair_0100.jpg"
       ]
      },
      {
       "output_type": "stream",
       "stream": "stdout",
       "text": [
        " Alte Bildgr\u00f6\u00dfe:  (250, 250) neue Bildgr\u00f6\u00dfe (31, 31) geladen\n",
        "./lfw_funneled/Tony_Blair/Tony_Blair_0132.jpg Alte Bildgr\u00f6\u00dfe:  (250, 250) neue Bildgr\u00f6\u00dfe (31, 31) geladen\n",
        "./lfw_funneled/Tony_Blair/Tony_Blair_0066.jpg Alte Bildgr\u00f6\u00dfe:  (250, 250) neue Bildgr\u00f6\u00dfe (31, 31) geladen\n",
        "./lfw_funneled/Tony_Blair/Tony_Blair_0029.jpg Alte Bildgr\u00f6\u00dfe:  (250, 250) neue Bildgr\u00f6\u00dfe (31, 31) geladen\n",
        "./lfw_funneled/Tony_Blair/Tony_Blair_0044.jpg Alte Bildgr\u00f6\u00dfe:  (250, 250) neue Bildgr\u00f6\u00dfe (31, 31) geladen\n",
        "./lfw_funneled/Tony_Blair/Tony_Blair_0129.jpg Alte Bildgr\u00f6\u00dfe:  (250, 250) neue Bildgr\u00f6\u00dfe (31, 31) geladen\n",
        "./lfw_funneled/Tony_Blair/Tony_Blair_0090.jpg Alte Bildgr\u00f6\u00dfe:  (250, 250) neue Bildgr\u00f6\u00dfe (31, 31) geladen\n",
        "./lfw_funneled/Tony_Blair/Tony_Blair_0014.jpg Alte Bildgr\u00f6\u00dfe:  (250, 250) neue Bildgr\u00f6\u00dfe (31, 31) geladen\n",
        "./lfw_funneled/Tony_Blair/Tony_Blair_0013.jpg Alte Bildgr\u00f6\u00dfe:  (250, 250) neue Bildgr\u00f6\u00dfe (31, 31) geladen\n",
        "./lfw_funneled/Tony_Blair/Tony_Blair_0097.jpg Alte Bildgr\u00f6\u00dfe:  (250, 250) neue Bildgr\u00f6\u00dfe (31, 31) geladen\n",
        "./lfw_funneled/Tony_Blair/Tony_Blair_0005.jpg"
       ]
      },
      {
       "output_type": "stream",
       "stream": "stdout",
       "text": [
        " Alte Bildgr\u00f6\u00dfe:  (250, 250) neue Bildgr\u00f6\u00dfe (31, 31) geladen\n",
        "./lfw_funneled/Tony_Blair/Tony_Blair_0089.jpg Alte Bildgr\u00f6\u00dfe:  (250, 250) neue Bildgr\u00f6\u00dfe (31, 31) geladen\n",
        "./lfw_funneled/Tony_Blair/Tony_Blair_0118.jpg Alte Bildgr\u00f6\u00dfe:  (250, 250) neue Bildgr\u00f6\u00dfe (31, 31) geladen\n",
        "./lfw_funneled/Tony_Blair/Tony_Blair_0110.jpg Alte Bildgr\u00f6\u00dfe:  (250, 250) neue Bildgr\u00f6\u00dfe (31, 31) geladen\n",
        "./lfw_funneled/Tony_Blair/Tony_Blair_0030.jpg Alte Bildgr\u00f6\u00dfe:  (250, 250) neue Bildgr\u00f6\u00dfe (31, 31) geladen\n",
        "./lfw_funneled/Tony_Blair/Tony_Blair_0070.jpg Alte Bildgr\u00f6\u00dfe:  (250, 250) neue Bildgr\u00f6\u00dfe (31, 31) geladen\n",
        "./lfw_funneled/Tony_Blair/Tony_Blair_0094.jpg"
       ]
      },
      {
       "output_type": "stream",
       "stream": "stdout",
       "text": [
        " Alte Bildgr\u00f6\u00dfe:  (250, 250) neue Bildgr\u00f6\u00dfe (31, 31) geladen\n",
        "./lfw_funneled/Tony_Blair/Tony_Blair_0028.jpg Alte Bildgr\u00f6\u00dfe:  (250, 250) neue Bildgr\u00f6\u00dfe (31, 31) geladen\n",
        "./lfw_funneled/Tony_Blair/Tony_Blair_0051.jpg Alte Bildgr\u00f6\u00dfe:  (250, 250) neue Bildgr\u00f6\u00dfe (31, 31) geladen\n",
        "./lfw_funneled/Tony_Blair/Tony_Blair_0074.jpg Alte Bildgr\u00f6\u00dfe:  (250, 250) neue Bildgr\u00f6\u00dfe (31, 31) geladen\n",
        "./lfw_funneled/Tony_Blair/Tony_Blair_0054.jpg Alte Bildgr\u00f6\u00dfe:  (250, 250) neue Bildgr\u00f6\u00dfe (31, 31) geladen\n",
        "./lfw_funneled/Tony_Blair/Tony_Blair_0045.jpg Alte Bildgr\u00f6\u00dfe:  (250, 250) neue Bildgr\u00f6\u00dfe (31, 31) geladen\n",
        "./lfw_funneled/Tony_Blair/Tony_Blair_0111.jpg Alte Bildgr\u00f6\u00dfe:  (250, 250) neue Bildgr\u00f6\u00dfe (31, 31) geladen\n",
        "./lfw_funneled/Tony_Blair/Tony_Blair_0085.jpg Alte Bildgr\u00f6\u00dfe:  (250, 250) neue Bildgr\u00f6\u00dfe (31, 31) geladen\n",
        "./lfw_funneled/Tony_Blair/Tony_Blair_0007.jpg Alte Bildgr\u00f6\u00dfe:  (250, 250) neue Bildgr\u00f6\u00dfe (31, 31) geladen\n",
        "./lfw_funneled/Tony_Blair/Tony_Blair_0078.jpg Alte Bildgr\u00f6\u00dfe:  (250, 250) neue Bildgr\u00f6\u00dfe (31, 31) geladen\n",
        "./lfw_funneled/Tony_Blair/Tony_Blair_0073.jpg Alte Bildgr\u00f6\u00dfe:  (250, 250) neue Bildgr\u00f6\u00dfe (31, 31) geladen\n",
        "./lfw_funneled/Tony_Blair/Tony_Blair_0113.jpg"
       ]
      },
      {
       "output_type": "stream",
       "stream": "stdout",
       "text": [
        " Alte Bildgr\u00f6\u00dfe:  (250, 250) neue Bildgr\u00f6\u00dfe (31, 31) geladen\n",
        "./lfw_funneled/Tony_Blair/Tony_Blair_0138.jpg Alte Bildgr\u00f6\u00dfe:  (250, 250) neue Bildgr\u00f6\u00dfe (31, 31) geladen\n",
        "./lfw_funneled/Tony_Blair/Tony_Blair_0143.jpg Alte Bildgr\u00f6\u00dfe:  (250, 250) neue Bildgr\u00f6\u00dfe (31, 31) geladen\n",
        "./lfw_funneled/Tony_Blair/Tony_Blair_0104.jpg Alte Bildgr\u00f6\u00dfe:  (250, 250) neue Bildgr\u00f6\u00dfe (31, 31) geladen\n",
        "./lfw_funneled/Tony_Blair/Tony_Blair_0080.jpg Alte Bildgr\u00f6\u00dfe:  (250, 250) neue Bildgr\u00f6\u00dfe (31, 31) geladen\n",
        "./lfw_funneled/Tony_Blair/Tony_Blair_0011.jpg Alte Bildgr\u00f6\u00dfe:  (250, 250) neue Bildgr\u00f6\u00dfe (31, 31) geladen\n",
        "./lfw_funneled/Tony_Blair/Tony_Blair_0141.jpg Alte Bildgr\u00f6\u00dfe:  (250, 250) neue Bildgr\u00f6\u00dfe (31, 31) geladen\n",
        "./lfw_funneled/Tony_Blair/Tony_Blair_0125.jpg Alte Bildgr\u00f6\u00dfe:  (250, 250) neue Bildgr\u00f6\u00dfe (31, 31) geladen\n",
        "./lfw_funneled/Tony_Blair/Tony_Blair_0003.jpg Alte Bildgr\u00f6\u00dfe:  (250, 250) neue Bildgr\u00f6\u00dfe (31, 31) geladen\n",
        "./lfw_funneled/Tony_Blair/Tony_Blair_0036.jpg Alte Bildgr\u00f6\u00dfe:  (250, 250) neue Bildgr\u00f6\u00dfe (31, 31) geladen\n",
        "./lfw_funneled/Tony_Blair/Tony_Blair_0026.jpg"
       ]
      },
      {
       "output_type": "stream",
       "stream": "stdout",
       "text": [
        " Alte Bildgr\u00f6\u00dfe:  (250, 250) neue Bildgr\u00f6\u00dfe (31, 31) geladen\n",
        "./lfw_funneled/Tony_Blair/Tony_Blair_0064.jpg Alte Bildgr\u00f6\u00dfe:  (250, 250) neue Bildgr\u00f6\u00dfe (31, 31) geladen\n",
        "./lfw_funneled/Tony_Blair/Tony_Blair_0093.jpg Alte Bildgr\u00f6\u00dfe:  (250, 250) neue Bildgr\u00f6\u00dfe (31, 31) geladen\n",
        "./lfw_funneled/Tony_Blair/Tony_Blair_0106.jpg Alte Bildgr\u00f6\u00dfe:  (250, 250) neue Bildgr\u00f6\u00dfe (31, 31) geladen\n",
        "./lfw_funneled/Tony_Blair/Tony_Blair_0010.jpg Alte Bildgr\u00f6\u00dfe:  (250, 250) neue Bildgr\u00f6\u00dfe (31, 31) geladen\n",
        "./lfw_funneled/Tony_Blair/Tony_Blair_0053.jpg Alte Bildgr\u00f6\u00dfe:  (250, 250) neue Bildgr\u00f6\u00dfe (31, 31) geladen\n",
        "./lfw_funneled/Tony_Blair/Tony_Blair_0039.jpg Alte Bildgr\u00f6\u00dfe:  (250, 250) neue Bildgr\u00f6\u00dfe (31, 31) geladen\n",
        "./lfw_funneled/Tony_Blair/Tony_Blair_0057.jpg Alte Bildgr\u00f6\u00dfe:  (250, 250) neue Bildgr\u00f6\u00dfe (31, 31) geladen\n",
        "./lfw_funneled/Tony_Blair/Tony_Blair_0117.jpg Alte Bildgr\u00f6\u00dfe:  (250, 250) neue Bildgr\u00f6\u00dfe (31, 31) geladen\n",
        "./lfw_funneled/Tony_Blair/Tony_Blair_0022.jpg Alte Bildgr\u00f6\u00dfe:  (250, 250) neue Bildgr\u00f6\u00dfe (31, 31) geladen\n",
        "./lfw_funneled/Tony_Blair/Tony_Blair_0004.jpg"
       ]
      },
      {
       "output_type": "stream",
       "stream": "stdout",
       "text": [
        " Alte Bildgr\u00f6\u00dfe:  (250, 250) neue Bildgr\u00f6\u00dfe (31, 31) geladen\n",
        "./lfw_funneled/Tony_Blair/Tony_Blair_0065.jpg Alte Bildgr\u00f6\u00dfe:  (250, 250) neue Bildgr\u00f6\u00dfe (31, 31) geladen\n",
        "./lfw_funneled/Tony_Blair/Tony_Blair_0077.jpg Alte Bildgr\u00f6\u00dfe:  (250, 250) neue Bildgr\u00f6\u00dfe (31, 31) geladen\n",
        "./lfw_funneled/Tony_Blair/Tony_Blair_0063.jpg Alte Bildgr\u00f6\u00dfe:  (250, 250) neue Bildgr\u00f6\u00dfe (31, 31) geladen\n",
        "./lfw_funneled/Tony_Blair/Tony_Blair_0017.jpg Alte Bildgr\u00f6\u00dfe:  (250, 250) neue Bildgr\u00f6\u00dfe (31, 31) geladen\n",
        "./lfw_funneled/Tony_Blair/Tony_Blair_0103.jpg Alte Bildgr\u00f6\u00dfe:  (250, 250) neue Bildgr\u00f6\u00dfe (31, 31) geladen\n",
        "./lfw_funneled/Tony_Blair/Tony_Blair_0092.jpg Alte Bildgr\u00f6\u00dfe:  (250, 250) neue Bildgr\u00f6\u00dfe (31, 31) geladen\n",
        "./lfw_funneled/Donald_Rumsfeld/Donald_Rumsfeld_0077.jpg Alte Bildgr\u00f6\u00dfe:  (250, 250) neue Bildgr\u00f6\u00dfe (31, 31) geladen\n",
        "./lfw_funneled/Donald_Rumsfeld/Donald_Rumsfeld_0032.jpg Alte Bildgr\u00f6\u00dfe:  (250, 250) neue Bildgr\u00f6\u00dfe (31, 31) geladen\n",
        "./lfw_funneled/Donald_Rumsfeld/Donald_Rumsfeld_0100.jpg Alte Bildgr\u00f6\u00dfe:  (250, 250) neue Bildgr\u00f6\u00dfe (31, 31) geladen\n",
        "./lfw_funneled/Donald_Rumsfeld/Donald_Rumsfeld_0105.jpg Alte Bildgr\u00f6\u00dfe:  (250, 250) neue Bildgr\u00f6\u00dfe (31, 31) geladen\n",
        "./lfw_funneled/Donald_Rumsfeld/Donald_Rumsfeld_0033.jpg Alte Bildgr\u00f6\u00dfe:  (250, 250) neue Bildgr\u00f6\u00dfe (31, 31) geladen\n",
        "./lfw_funneled/Donald_Rumsfeld/Donald_Rumsfeld_0020.jpg"
       ]
      },
      {
       "output_type": "stream",
       "stream": "stdout",
       "text": [
        " Alte Bildgr\u00f6\u00dfe:  (250, 250) neue Bildgr\u00f6\u00dfe (31, 31) geladen\n",
        "./lfw_funneled/Donald_Rumsfeld/Donald_Rumsfeld_0074.jpg Alte Bildgr\u00f6\u00dfe:  (250, 250) neue Bildgr\u00f6\u00dfe (31, 31) geladen\n",
        "./lfw_funneled/Donald_Rumsfeld/Donald_Rumsfeld_0004.jpg Alte Bildgr\u00f6\u00dfe:  (250, 250) neue Bildgr\u00f6\u00dfe (31, 31) geladen\n",
        "./lfw_funneled/Donald_Rumsfeld/Donald_Rumsfeld_0068.jpg Alte Bildgr\u00f6\u00dfe:  (250, 250) neue Bildgr\u00f6\u00dfe (31, 31) geladen\n",
        "./lfw_funneled/Donald_Rumsfeld/Donald_Rumsfeld_0091.jpg Alte Bildgr\u00f6\u00dfe:  (250, 250) neue Bildgr\u00f6\u00dfe (31, 31) geladen\n",
        "./lfw_funneled/Donald_Rumsfeld/Donald_Rumsfeld_0044.jpg Alte Bildgr\u00f6\u00dfe:  (250, 250) neue Bildgr\u00f6\u00dfe (31, 31) geladen\n",
        "./lfw_funneled/Donald_Rumsfeld/Donald_Rumsfeld_0115.jpg Alte Bildgr\u00f6\u00dfe:  (250, 250) neue Bildgr\u00f6\u00dfe (31, 31) geladen\n",
        "./lfw_funneled/Donald_Rumsfeld/Donald_Rumsfeld_0081.jpg Alte Bildgr\u00f6\u00dfe:  (250, 250) neue Bildgr\u00f6\u00dfe (31, 31) geladen\n",
        "./lfw_funneled/Donald_Rumsfeld/Donald_Rumsfeld_0106.jpg Alte Bildgr\u00f6\u00dfe:  (250, 250) neue Bildgr\u00f6\u00dfe (31, 31) geladen\n",
        "./lfw_funneled/Donald_Rumsfeld/Donald_Rumsfeld_0111.jpg Alte Bildgr\u00f6\u00dfe:  (250, 250) neue Bildgr\u00f6\u00dfe (31, 31) geladen\n",
        "./lfw_funneled/Donald_Rumsfeld/Donald_Rumsfeld_0099.jpg Alte Bildgr\u00f6\u00dfe:  (250, 250) neue Bildgr\u00f6\u00dfe (31, 31) geladen\n",
        "./lfw_funneled/Donald_Rumsfeld/Donald_Rumsfeld_0034.jpg Alte Bildgr\u00f6\u00dfe:  (250, 250) neue Bildgr\u00f6\u00dfe (31, 31) geladen\n",
        "./lfw_funneled/Donald_Rumsfeld/Donald_Rumsfeld_0080.jpg Alte Bildgr\u00f6\u00dfe:  (250, 250) neue Bildgr\u00f6\u00dfe (31, 31) geladen\n",
        "./lfw_funneled/Donald_Rumsfeld/Donald_Rumsfeld_0022.jpg"
       ]
      },
      {
       "output_type": "stream",
       "stream": "stdout",
       "text": [
        " Alte Bildgr\u00f6\u00dfe:  (250, 250) neue Bildgr\u00f6\u00dfe (31, 31) geladen\n",
        "./lfw_funneled/Donald_Rumsfeld/Donald_Rumsfeld_0015.jpg Alte Bildgr\u00f6\u00dfe:  (250, 250) neue Bildgr\u00f6\u00dfe (31, 31) geladen\n",
        "./lfw_funneled/Donald_Rumsfeld/Donald_Rumsfeld_0084.jpg Alte Bildgr\u00f6\u00dfe:  (250, 250) neue Bildgr\u00f6\u00dfe (31, 31) geladen\n",
        "./lfw_funneled/Donald_Rumsfeld/Donald_Rumsfeld_0116.jpg Alte Bildgr\u00f6\u00dfe:  (250, 250) neue Bildgr\u00f6\u00dfe (31, 31) geladen\n",
        "./lfw_funneled/Donald_Rumsfeld/Donald_Rumsfeld_0109.jpg Alte Bildgr\u00f6\u00dfe:  (250, 250) neue Bildgr\u00f6\u00dfe (31, 31) geladen\n",
        "./lfw_funneled/Donald_Rumsfeld/Donald_Rumsfeld_0042.jpg Alte Bildgr\u00f6\u00dfe:  (250, 250) neue Bildgr\u00f6\u00dfe (31, 31) geladen\n",
        "./lfw_funneled/Donald_Rumsfeld/Donald_Rumsfeld_0086.jpg Alte Bildgr\u00f6\u00dfe:  (250, 250) neue Bildgr\u00f6\u00dfe (31, 31) geladen\n",
        "./lfw_funneled/Donald_Rumsfeld/Donald_Rumsfeld_0006.jpg Alte Bildgr\u00f6\u00dfe:  (250, 250) neue Bildgr\u00f6\u00dfe (31, 31) geladen\n",
        "./lfw_funneled/Donald_Rumsfeld/Donald_Rumsfeld_0028.jpg Alte Bildgr\u00f6\u00dfe:  (250, 250) neue Bildgr\u00f6\u00dfe (31, 31) geladen\n",
        "./lfw_funneled/Donald_Rumsfeld/Donald_Rumsfeld_0089.jpg Alte Bildgr\u00f6\u00dfe:  (250, 250) neue Bildgr\u00f6\u00dfe (31, 31) geladen\n",
        "./lfw_funneled/Donald_Rumsfeld/Donald_Rumsfeld_0121.jpg"
       ]
      },
      {
       "output_type": "stream",
       "stream": "stdout",
       "text": [
        " Alte Bildgr\u00f6\u00dfe:  (250, 250) neue Bildgr\u00f6\u00dfe (31, 31) geladen\n",
        "./lfw_funneled/Donald_Rumsfeld/Donald_Rumsfeld_0103.jpg Alte Bildgr\u00f6\u00dfe:  (250, 250) neue Bildgr\u00f6\u00dfe (31, 31) geladen\n",
        "./lfw_funneled/Donald_Rumsfeld/Donald_Rumsfeld_0038.jpg Alte Bildgr\u00f6\u00dfe:  (250, 250) neue Bildgr\u00f6\u00dfe (31, 31) geladen\n",
        "./lfw_funneled/Donald_Rumsfeld/Donald_Rumsfeld_0067.jpg Alte Bildgr\u00f6\u00dfe:  (250, 250) neue Bildgr\u00f6\u00dfe (31, 31) geladen\n",
        "./lfw_funneled/Donald_Rumsfeld/Donald_Rumsfeld_0092.jpg Alte Bildgr\u00f6\u00dfe:  (250, 250) neue Bildgr\u00f6\u00dfe (31, 31) geladen\n",
        "./lfw_funneled/Donald_Rumsfeld/Donald_Rumsfeld_0025.jpg Alte Bildgr\u00f6\u00dfe:  (250, 250) neue Bildgr\u00f6\u00dfe (31, 31) geladen\n",
        "./lfw_funneled/Donald_Rumsfeld/Donald_Rumsfeld_0098.jpg Alte Bildgr\u00f6\u00dfe:  (250, 250) neue Bildgr\u00f6\u00dfe (31, 31) geladen\n",
        "./lfw_funneled/Donald_Rumsfeld/Donald_Rumsfeld_0071.jpg Alte Bildgr\u00f6\u00dfe:  (250, 250) neue Bildgr\u00f6\u00dfe (31, 31) geladen\n",
        "./lfw_funneled/Donald_Rumsfeld/Donald_Rumsfeld_0110.jpg Alte Bildgr\u00f6\u00dfe:  (250, 250) neue Bildgr\u00f6\u00dfe (31, 31) geladen\n",
        "./lfw_funneled/Donald_Rumsfeld/Donald_Rumsfeld_0039.jpg Alte Bildgr\u00f6\u00dfe:  (250, 250) neue Bildgr\u00f6\u00dfe (31, 31) geladen\n",
        "./lfw_funneled/Donald_Rumsfeld/Donald_Rumsfeld_0082.jpg Alte Bildgr\u00f6\u00dfe:  (250, 250) neue Bildgr\u00f6\u00dfe (31, 31) geladen\n",
        "./lfw_funneled/Donald_Rumsfeld/Donald_Rumsfeld_0019.jpg Alte Bildgr\u00f6\u00dfe:  (250, 250) neue Bildgr\u00f6\u00dfe (31, 31) geladen\n",
        "./lfw_funneled/Donald_Rumsfeld/Donald_Rumsfeld_0031.jpg Alte Bildgr\u00f6\u00dfe:  (250, 250) neue Bildgr\u00f6\u00dfe (31, 31) geladen\n",
        "./lfw_funneled/Donald_Rumsfeld/Donald_Rumsfeld_0118.jpg"
       ]
      },
      {
       "output_type": "stream",
       "stream": "stdout",
       "text": [
        " Alte Bildgr\u00f6\u00dfe:  (250, 250) neue Bildgr\u00f6\u00dfe (31, 31) geladen\n",
        "./lfw_funneled/Donald_Rumsfeld/Donald_Rumsfeld_0035.jpg Alte Bildgr\u00f6\u00dfe:  (250, 250) neue Bildgr\u00f6\u00dfe (31, 31) geladen\n",
        "./lfw_funneled/Donald_Rumsfeld/Donald_Rumsfeld_0002.jpg Alte Bildgr\u00f6\u00dfe:  (250, 250) neue Bildgr\u00f6\u00dfe (31, 31) geladen\n",
        "./lfw_funneled/Donald_Rumsfeld/Donald_Rumsfeld_0001.jpg Alte Bildgr\u00f6\u00dfe:  (250, 250) neue Bildgr\u00f6\u00dfe (31, 31) geladen\n",
        "./lfw_funneled/Donald_Rumsfeld/Donald_Rumsfeld_0053.jpg Alte Bildgr\u00f6\u00dfe:  (250, 250) neue Bildgr\u00f6\u00dfe (31, 31) geladen\n",
        "./lfw_funneled/Donald_Rumsfeld/Donald_Rumsfeld_0029.jpg Alte Bildgr\u00f6\u00dfe:  (250, 250) neue Bildgr\u00f6\u00dfe (31, 31) geladen\n",
        "./lfw_funneled/Donald_Rumsfeld/Donald_Rumsfeld_0090.jpg Alte Bildgr\u00f6\u00dfe:  (250, 250) neue Bildgr\u00f6\u00dfe (31, 31) geladen\n",
        "./lfw_funneled/Donald_Rumsfeld/Donald_Rumsfeld_0046.jpg Alte Bildgr\u00f6\u00dfe:  (250, 250) neue Bildgr\u00f6\u00dfe (31, 31) geladen\n",
        "./lfw_funneled/Donald_Rumsfeld/Donald_Rumsfeld_0013.jpg Alte Bildgr\u00f6\u00dfe:  (250, 250) neue Bildgr\u00f6\u00dfe (31, 31) geladen\n",
        "./lfw_funneled/Donald_Rumsfeld/Donald_Rumsfeld_0096.jpg Alte Bildgr\u00f6\u00dfe:  (250, 250) neue Bildgr\u00f6\u00dfe (31, 31) geladen\n",
        "./lfw_funneled/Donald_Rumsfeld/Donald_Rumsfeld_0085.jpg Alte Bildgr\u00f6\u00dfe:  (250, 250) neue Bildgr\u00f6\u00dfe (31, 31) geladen\n",
        "./lfw_funneled/Donald_Rumsfeld/Donald_Rumsfeld_0114.jpg"
       ]
      },
      {
       "output_type": "stream",
       "stream": "stdout",
       "text": [
        " Alte Bildgr\u00f6\u00dfe:  (250, 250) neue Bildgr\u00f6\u00dfe (31, 31) geladen\n",
        "./lfw_funneled/Donald_Rumsfeld/Donald_Rumsfeld_0051.jpg Alte Bildgr\u00f6\u00dfe:  (250, 250) neue Bildgr\u00f6\u00dfe (31, 31) geladen\n",
        "./lfw_funneled/Donald_Rumsfeld/Donald_Rumsfeld_0076.jpg Alte Bildgr\u00f6\u00dfe:  (250, 250) neue Bildgr\u00f6\u00dfe (31, 31) geladen\n",
        "./lfw_funneled/Donald_Rumsfeld/Donald_Rumsfeld_0079.jpg Alte Bildgr\u00f6\u00dfe:  (250, 250) neue Bildgr\u00f6\u00dfe (31, 31) geladen\n",
        "./lfw_funneled/Donald_Rumsfeld/Donald_Rumsfeld_0021.jpg Alte Bildgr\u00f6\u00dfe:  (250, 250) neue Bildgr\u00f6\u00dfe (31, 31) geladen\n",
        "./lfw_funneled/Donald_Rumsfeld/Donald_Rumsfeld_0062.jpg Alte Bildgr\u00f6\u00dfe:  (250, 250) neue Bildgr\u00f6\u00dfe (31, 31) geladen\n",
        "./lfw_funneled/Donald_Rumsfeld/Donald_Rumsfeld_0055.jpg Alte Bildgr\u00f6\u00dfe:  (250, 250) neue Bildgr\u00f6\u00dfe (31, 31) geladen\n",
        "./lfw_funneled/Donald_Rumsfeld/Donald_Rumsfeld_0083.jpg Alte Bildgr\u00f6\u00dfe:  (250, 250) neue Bildgr\u00f6\u00dfe (31, 31) geladen\n",
        "./lfw_funneled/Donald_Rumsfeld/Donald_Rumsfeld_0094.jpg Alte Bildgr\u00f6\u00dfe:  (250, 250) neue Bildgr\u00f6\u00dfe (31, 31) geladen\n",
        "./lfw_funneled/Donald_Rumsfeld/Donald_Rumsfeld_0017.jpg Alte Bildgr\u00f6\u00dfe:  (250, 250) neue Bildgr\u00f6\u00dfe (31, 31) geladen\n",
        "./lfw_funneled/Donald_Rumsfeld/Donald_Rumsfeld_0010.jpg"
       ]
      },
      {
       "output_type": "stream",
       "stream": "stdout",
       "text": [
        " Alte Bildgr\u00f6\u00dfe:  (250, 250) neue Bildgr\u00f6\u00dfe (31, 31) geladen\n",
        "./lfw_funneled/Donald_Rumsfeld/Donald_Rumsfeld_0087.jpg Alte Bildgr\u00f6\u00dfe:  (250, 250) neue Bildgr\u00f6\u00dfe (31, 31) geladen\n",
        "./lfw_funneled/Donald_Rumsfeld/Donald_Rumsfeld_0012.jpg Alte Bildgr\u00f6\u00dfe:  (250, 250) neue Bildgr\u00f6\u00dfe (31, 31) geladen\n",
        "./lfw_funneled/Donald_Rumsfeld/Donald_Rumsfeld_0107.jpg Alte Bildgr\u00f6\u00dfe:  (250, 250) neue Bildgr\u00f6\u00dfe (31, 31) geladen\n",
        "./lfw_funneled/Donald_Rumsfeld/Donald_Rumsfeld_0073.jpg Alte Bildgr\u00f6\u00dfe:  (250, 250) neue Bildgr\u00f6\u00dfe (31, 31) geladen\n",
        "./lfw_funneled/Donald_Rumsfeld/Donald_Rumsfeld_0075.jpg Alte Bildgr\u00f6\u00dfe:  (250, 250) neue Bildgr\u00f6\u00dfe (31, 31) geladen\n",
        "./lfw_funneled/Donald_Rumsfeld/Donald_Rumsfeld_0050.jpg Alte Bildgr\u00f6\u00dfe:  (250, 250) neue Bildgr\u00f6\u00dfe (31, 31) geladen\n",
        "./lfw_funneled/Donald_Rumsfeld/Donald_Rumsfeld_0016.jpg Alte Bildgr\u00f6\u00dfe:  (250, 250) neue Bildgr\u00f6\u00dfe (31, 31) geladen\n",
        "./lfw_funneled/Donald_Rumsfeld/Donald_Rumsfeld_0113.jpg Alte Bildgr\u00f6\u00dfe:  (250, 250) neue Bildgr\u00f6\u00dfe (31, 31) geladen\n",
        "./lfw_funneled/Donald_Rumsfeld/Donald_Rumsfeld_0003.jpg Alte Bildgr\u00f6\u00dfe:  (250, 250) neue Bildgr\u00f6\u00dfe (31, 31) geladen\n",
        "./lfw_funneled/Donald_Rumsfeld/Donald_Rumsfeld_0049.jpg Alte Bildgr\u00f6\u00dfe:  (250, 250) neue Bildgr\u00f6\u00dfe (31, 31) geladen\n",
        "./lfw_funneled/George_W_Bush/George_W_Bush_0398.jpg Alte Bildgr\u00f6\u00dfe:  (250, 250) neue Bildgr\u00f6\u00dfe (31, 31) geladen\n",
        "./lfw_funneled/George_W_Bush/George_W_Bush_0039.jpg Alte Bildgr\u00f6\u00dfe:  (250, 250) neue Bildgr\u00f6\u00dfe (31, 31) geladen\n",
        "./lfw_funneled/George_W_Bush/George_W_Bush_0176.jpg"
       ]
      },
      {
       "output_type": "stream",
       "stream": "stdout",
       "text": [
        " Alte Bildgr\u00f6\u00dfe:  (250, 250) neue Bildgr\u00f6\u00dfe (31, 31) geladen\n",
        "./lfw_funneled/George_W_Bush/George_W_Bush_0183.jpg Alte Bildgr\u00f6\u00dfe:  (250, 250) neue Bildgr\u00f6\u00dfe (31, 31) geladen\n",
        "./lfw_funneled/George_W_Bush/George_W_Bush_0147.jpg Alte Bildgr\u00f6\u00dfe:  (250, 250) neue Bildgr\u00f6\u00dfe (31, 31) geladen\n",
        "./lfw_funneled/George_W_Bush/George_W_Bush_0434.jpg Alte Bildgr\u00f6\u00dfe:  (250, 250) neue Bildgr\u00f6\u00dfe (31, 31) geladen\n",
        "./lfw_funneled/George_W_Bush/George_W_Bush_0306.jpg Alte Bildgr\u00f6\u00dfe:  (250, 250) neue Bildgr\u00f6\u00dfe (31, 31) geladen\n",
        "./lfw_funneled/George_W_Bush/George_W_Bush_0529.jpg Alte Bildgr\u00f6\u00dfe:  (250, 250) neue Bildgr\u00f6\u00dfe (31, 31) geladen\n",
        "./lfw_funneled/George_W_Bush/George_W_Bush_0146.jpg Alte Bildgr\u00f6\u00dfe:  (250, 250) neue Bildgr\u00f6\u00dfe (31, 31) geladen\n",
        "./lfw_funneled/George_W_Bush/George_W_Bush_0159.jpg Alte Bildgr\u00f6\u00dfe:  (250, 250) neue Bildgr\u00f6\u00dfe (31, 31) geladen\n",
        "./lfw_funneled/George_W_Bush/George_W_Bush_0220.jpg Alte Bildgr\u00f6\u00dfe:  (250, 250) neue Bildgr\u00f6\u00dfe (31, 31) geladen\n",
        "./lfw_funneled/George_W_Bush/George_W_Bush_0386.jpg Alte Bildgr\u00f6\u00dfe:  (250, 250) neue Bildgr\u00f6\u00dfe (31, 31) geladen\n",
        "./lfw_funneled/George_W_Bush/George_W_Bush_0017.jpg Alte Bildgr\u00f6\u00dfe:  (250, 250) neue Bildgr\u00f6\u00dfe (31, 31) geladen\n",
        "./lfw_funneled/George_W_Bush/George_W_Bush_0477.jpg"
       ]
      },
      {
       "output_type": "stream",
       "stream": "stdout",
       "text": [
        " Alte Bildgr\u00f6\u00dfe:  (250, 250) neue Bildgr\u00f6\u00dfe (31, 31) geladen\n",
        "./lfw_funneled/George_W_Bush/George_W_Bush_0145.jpg Alte Bildgr\u00f6\u00dfe:  (250, 250) neue Bildgr\u00f6\u00dfe (31, 31) geladen\n",
        "./lfw_funneled/George_W_Bush/George_W_Bush_0071.jpg Alte Bildgr\u00f6\u00dfe:  (250, 250) neue Bildgr\u00f6\u00dfe (31, 31) geladen\n",
        "./lfw_funneled/George_W_Bush/George_W_Bush_0153.jpg Alte Bildgr\u00f6\u00dfe:  (250, 250) neue Bildgr\u00f6\u00dfe (31, 31) geladen\n",
        "./lfw_funneled/George_W_Bush/George_W_Bush_0327.jpg Alte Bildgr\u00f6\u00dfe:  (250, 250) neue Bildgr\u00f6\u00dfe (31, 31) geladen\n",
        "./lfw_funneled/George_W_Bush/George_W_Bush_0018.jpg Alte Bildgr\u00f6\u00dfe:  (250, 250) neue Bildgr\u00f6\u00dfe (31, 31) geladen\n",
        "./lfw_funneled/George_W_Bush/George_W_Bush_0285.jpg Alte Bildgr\u00f6\u00dfe:  (250, 250) neue Bildgr\u00f6\u00dfe (31, 31) geladen\n",
        "./lfw_funneled/George_W_Bush/George_W_Bush_0368.jpg Alte Bildgr\u00f6\u00dfe:  (250, 250) neue Bildgr\u00f6\u00dfe (31, 31) geladen\n",
        "./lfw_funneled/George_W_Bush/George_W_Bush_0097.jpg Alte Bildgr\u00f6\u00dfe:  (250, 250) neue Bildgr\u00f6\u00dfe (31, 31) geladen\n",
        "./lfw_funneled/George_W_Bush/George_W_Bush_0094.jpg"
       ]
      },
      {
       "output_type": "stream",
       "stream": "stdout",
       "text": [
        " Alte Bildgr\u00f6\u00dfe:  (250, 250) neue Bildgr\u00f6\u00dfe (31, 31) geladen\n",
        "./lfw_funneled/George_W_Bush/George_W_Bush_0112.jpg Alte Bildgr\u00f6\u00dfe:  (250, 250) neue Bildgr\u00f6\u00dfe (31, 31) geladen\n",
        "./lfw_funneled/George_W_Bush/George_W_Bush_0111.jpg Alte Bildgr\u00f6\u00dfe:  (250, 250) neue Bildgr\u00f6\u00dfe (31, 31) geladen\n",
        "./lfw_funneled/George_W_Bush/George_W_Bush_0106.jpg Alte Bildgr\u00f6\u00dfe:  (250, 250) neue Bildgr\u00f6\u00dfe (31, 31) geladen\n",
        "./lfw_funneled/George_W_Bush/George_W_Bush_0527.jpg Alte Bildgr\u00f6\u00dfe:  (250, 250) neue Bildgr\u00f6\u00dfe (31, 31) geladen\n",
        "./lfw_funneled/George_W_Bush/George_W_Bush_0332.jpg Alte Bildgr\u00f6\u00dfe:  (250, 250) neue Bildgr\u00f6\u00dfe (31, 31) geladen\n",
        "./lfw_funneled/George_W_Bush/George_W_Bush_0401.jpg Alte Bildgr\u00f6\u00dfe:  (250, 250) neue Bildgr\u00f6\u00dfe (31, 31) geladen\n",
        "./lfw_funneled/George_W_Bush/George_W_Bush_0301.jpg Alte Bildgr\u00f6\u00dfe:  (250, 250) neue Bildgr\u00f6\u00dfe (31, 31) geladen\n",
        "./lfw_funneled/George_W_Bush/George_W_Bush_0271.jpg Alte Bildgr\u00f6\u00dfe:  (250, 250) neue Bildgr\u00f6\u00dfe (31, 31) geladen\n",
        "./lfw_funneled/George_W_Bush/George_W_Bush_0027.jpg Alte Bildgr\u00f6\u00dfe:  (250, 250) neue Bildgr\u00f6\u00dfe (31, 31) geladen\n",
        "./lfw_funneled/George_W_Bush/George_W_Bush_0298.jpg"
       ]
      },
      {
       "output_type": "stream",
       "stream": "stdout",
       "text": [
        " Alte Bildgr\u00f6\u00dfe:  (250, 250) neue Bildgr\u00f6\u00dfe (31, 31) geladen\n",
        "./lfw_funneled/George_W_Bush/George_W_Bush_0005.jpg Alte Bildgr\u00f6\u00dfe:  (250, 250) neue Bildgr\u00f6\u00dfe (31, 31) geladen\n",
        "./lfw_funneled/George_W_Bush/George_W_Bush_0041.jpg Alte Bildgr\u00f6\u00dfe:  (250, 250) neue Bildgr\u00f6\u00dfe (31, 31) geladen\n",
        "./lfw_funneled/George_W_Bush/George_W_Bush_0133.jpg Alte Bildgr\u00f6\u00dfe:  (250, 250) neue Bildgr\u00f6\u00dfe (31, 31) geladen\n",
        "./lfw_funneled/George_W_Bush/George_W_Bush_0424.jpg Alte Bildgr\u00f6\u00dfe:  (250, 250) neue Bildgr\u00f6\u00dfe (31, 31) geladen\n",
        "./lfw_funneled/George_W_Bush/George_W_Bush_0267.jpg Alte Bildgr\u00f6\u00dfe:  (250, 250) neue Bildgr\u00f6\u00dfe (31, 31) geladen\n",
        "./lfw_funneled/George_W_Bush/George_W_Bush_0098.jpg Alte Bildgr\u00f6\u00dfe:  (250, 250) neue Bildgr\u00f6\u00dfe (31, 31) geladen\n",
        "./lfw_funneled/George_W_Bush/George_W_Bush_0346.jpg Alte Bildgr\u00f6\u00dfe:  (250, 250) neue Bildgr\u00f6\u00dfe (31, 31) geladen\n",
        "./lfw_funneled/George_W_Bush/George_W_Bush_0249.jpg Alte Bildgr\u00f6\u00dfe:  (250, 250) neue Bildgr\u00f6\u00dfe (31, 31) geladen\n",
        "./lfw_funneled/George_W_Bush/George_W_Bush_0074.jpg Alte Bildgr\u00f6\u00dfe:  (250, 250) neue Bildgr\u00f6\u00dfe (31, 31) geladen\n",
        "./lfw_funneled/George_W_Bush/George_W_Bush_0203.jpg Alte Bildgr\u00f6\u00dfe:  (250, 250) neue Bildgr\u00f6\u00dfe (31, 31) geladen\n",
        "./lfw_funneled/George_W_Bush/George_W_Bush_0446.jpg"
       ]
      },
      {
       "output_type": "stream",
       "stream": "stdout",
       "text": [
        " Alte Bildgr\u00f6\u00dfe:  (250, 250) neue Bildgr\u00f6\u00dfe (31, 31) geladen\n",
        "./lfw_funneled/George_W_Bush/George_W_Bush_0156.jpg Alte Bildgr\u00f6\u00dfe:  (250, 250) neue Bildgr\u00f6\u00dfe (31, 31) geladen\n",
        "./lfw_funneled/George_W_Bush/George_W_Bush_0215.jpg Alte Bildgr\u00f6\u00dfe:  (250, 250) neue Bildgr\u00f6\u00dfe (31, 31) geladen\n",
        "./lfw_funneled/George_W_Bush/George_W_Bush_0132.jpg Alte Bildgr\u00f6\u00dfe:  (250, 250) neue Bildgr\u00f6\u00dfe (31, 31) geladen\n",
        "./lfw_funneled/George_W_Bush/George_W_Bush_0387.jpg Alte Bildgr\u00f6\u00dfe:  (250, 250) neue Bildgr\u00f6\u00dfe (31, 31) geladen\n",
        "./lfw_funneled/George_W_Bush/George_W_Bush_0308.jpg Alte Bildgr\u00f6\u00dfe:  (250, 250) neue Bildgr\u00f6\u00dfe (31, 31) geladen\n",
        "./lfw_funneled/George_W_Bush/George_W_Bush_0054.jpg Alte Bildgr\u00f6\u00dfe:  (250, 250) neue Bildgr\u00f6\u00dfe (31, 31) geladen\n",
        "./lfw_funneled/George_W_Bush/George_W_Bush_0323.jpg Alte Bildgr\u00f6\u00dfe:  (250, 250) neue Bildgr\u00f6\u00dfe (31, 31) geladen\n",
        "./lfw_funneled/George_W_Bush/George_W_Bush_0519.jpg Alte Bildgr\u00f6\u00dfe:  (250, 250) neue Bildgr\u00f6\u00dfe (31, 31) geladen\n",
        "./lfw_funneled/George_W_Bush/George_W_Bush_0324.jpg Alte Bildgr\u00f6\u00dfe:  (250, 250) neue Bildgr\u00f6\u00dfe (31, 31) geladen\n",
        "./lfw_funneled/George_W_Bush/George_W_Bush_0302.jpg Alte Bildgr\u00f6\u00dfe:  (250, 250) neue Bildgr\u00f6\u00dfe (31, 31) geladen\n",
        "./lfw_funneled/George_W_Bush/George_W_Bush_0083.jpg Alte Bildgr\u00f6\u00dfe:  (250, 250) neue Bildgr\u00f6\u00dfe (31, 31) geladen\n",
        "./lfw_funneled/George_W_Bush/George_W_Bush_0053.jpg Alte Bildgr\u00f6\u00dfe:  (250, 250) neue Bildgr\u00f6\u00dfe (31, 31) geladen\n",
        "./lfw_funneled/George_W_Bush/George_W_Bush_0456.jpg"
       ]
      },
      {
       "output_type": "stream",
       "stream": "stdout",
       "text": [
        " Alte Bildgr\u00f6\u00dfe:  (250, 250) neue Bildgr\u00f6\u00dfe (31, 31) geladen\n",
        "./lfw_funneled/George_W_Bush/George_W_Bush_0495.jpg Alte Bildgr\u00f6\u00dfe:  (250, 250) neue Bildgr\u00f6\u00dfe (31, 31) geladen\n",
        "./lfw_funneled/George_W_Bush/George_W_Bush_0119.jpg Alte Bildgr\u00f6\u00dfe:  (250, 250) neue Bildgr\u00f6\u00dfe (31, 31) geladen\n",
        "./lfw_funneled/George_W_Bush/George_W_Bush_0530.jpg Alte Bildgr\u00f6\u00dfe:  (250, 250) neue Bildgr\u00f6\u00dfe (31, 31) geladen\n",
        "./lfw_funneled/George_W_Bush/George_W_Bush_0262.jpg Alte Bildgr\u00f6\u00dfe:  (250, 250) neue Bildgr\u00f6\u00dfe (31, 31) geladen\n",
        "./lfw_funneled/George_W_Bush/George_W_Bush_0329.jpg Alte Bildgr\u00f6\u00dfe:  (250, 250) neue Bildgr\u00f6\u00dfe (31, 31) geladen\n",
        "./lfw_funneled/George_W_Bush/George_W_Bush_0228.jpg Alte Bildgr\u00f6\u00dfe:  (250, 250) neue Bildgr\u00f6\u00dfe (31, 31) geladen\n",
        "./lfw_funneled/George_W_Bush/George_W_Bush_0378.jpg Alte Bildgr\u00f6\u00dfe:  (250, 250) neue Bildgr\u00f6\u00dfe (31, 31) geladen\n",
        "./lfw_funneled/George_W_Bush/George_W_Bush_0233.jpg Alte Bildgr\u00f6\u00dfe:  (250, 250) neue Bildgr\u00f6\u00dfe (31, 31) geladen\n",
        "./lfw_funneled/George_W_Bush/George_W_Bush_0177.jpg Alte Bildgr\u00f6\u00dfe:  (250, 250) neue Bildgr\u00f6\u00dfe (31, 31) geladen\n",
        "./lfw_funneled/George_W_Bush/George_W_Bush_0286.jpg"
       ]
      },
      {
       "output_type": "stream",
       "stream": "stdout",
       "text": [
        " Alte Bildgr\u00f6\u00dfe:  (250, 250) neue Bildgr\u00f6\u00dfe (31, 31) geladen\n",
        "./lfw_funneled/George_W_Bush/George_W_Bush_0348.jpg Alte Bildgr\u00f6\u00dfe:  (250, 250) neue Bildgr\u00f6\u00dfe (31, 31) geladen\n",
        "./lfw_funneled/George_W_Bush/George_W_Bush_0081.jpg Alte Bildgr\u00f6\u00dfe:  (250, 250) neue Bildgr\u00f6\u00dfe (31, 31) geladen\n",
        "./lfw_funneled/George_W_Bush/George_W_Bush_0335.jpg Alte Bildgr\u00f6\u00dfe:  (250, 250) neue Bildgr\u00f6\u00dfe (31, 31) geladen\n",
        "./lfw_funneled/George_W_Bush/George_W_Bush_0138.jpg Alte Bildgr\u00f6\u00dfe:  (250, 250) neue Bildgr\u00f6\u00dfe (31, 31) geladen\n",
        "./lfw_funneled/George_W_Bush/George_W_Bush_0149.jpg Alte Bildgr\u00f6\u00dfe:  (250, 250) neue Bildgr\u00f6\u00dfe (31, 31) geladen\n",
        "./lfw_funneled/George_W_Bush/George_W_Bush_0247.jpg Alte Bildgr\u00f6\u00dfe:  (250, 250) neue Bildgr\u00f6\u00dfe (31, 31) geladen\n",
        "./lfw_funneled/George_W_Bush/George_W_Bush_0362.jpg Alte Bildgr\u00f6\u00dfe:  (250, 250) neue Bildgr\u00f6\u00dfe (31, 31) geladen\n",
        "./lfw_funneled/George_W_Bush/George_W_Bush_0488.jpg Alte Bildgr\u00f6\u00dfe:  (250, 250) neue Bildgr\u00f6\u00dfe (31, 31) geladen\n",
        "./lfw_funneled/George_W_Bush/George_W_Bush_0425.jpg Alte Bildgr\u00f6\u00dfe:  (250, 250) neue Bildgr\u00f6\u00dfe (31, 31) geladen\n",
        "./lfw_funneled/George_W_Bush/George_W_Bush_0057.jpg Alte Bildgr\u00f6\u00dfe:  (250, 250) neue Bildgr\u00f6\u00dfe (31, 31) geladen\n",
        "./lfw_funneled/George_W_Bush/George_W_Bush_0092.jpg Alte Bildgr\u00f6\u00dfe:  (250, 250) neue Bildgr\u00f6\u00dfe (31, 31) geladen\n",
        "./lfw_funneled/George_W_Bush/George_W_Bush_0385.jpg Alte Bildgr\u00f6\u00dfe:  (250, 250) neue Bildgr\u00f6\u00dfe (31, 31) geladen\n",
        "./lfw_funneled/George_W_Bush/George_W_Bush_0353.jpg"
       ]
      },
      {
       "output_type": "stream",
       "stream": "stdout",
       "text": [
        " Alte Bildgr\u00f6\u00dfe:  (250, 250) neue Bildgr\u00f6\u00dfe (31, 31) geladen\n",
        "./lfw_funneled/George_W_Bush/George_W_Bush_0311.jpg Alte Bildgr\u00f6\u00dfe:  (250, 250) neue Bildgr\u00f6\u00dfe (31, 31) geladen\n",
        "./lfw_funneled/George_W_Bush/George_W_Bush_0330.jpg Alte Bildgr\u00f6\u00dfe:  (250, 250) neue Bildgr\u00f6\u00dfe (31, 31) geladen\n",
        "./lfw_funneled/George_W_Bush/George_W_Bush_0013.jpg Alte Bildgr\u00f6\u00dfe:  (250, 250) neue Bildgr\u00f6\u00dfe (31, 31) geladen\n",
        "./lfw_funneled/George_W_Bush/George_W_Bush_0024.jpg Alte Bildgr\u00f6\u00dfe:  (250, 250) neue Bildgr\u00f6\u00dfe (31, 31) geladen\n",
        "./lfw_funneled/George_W_Bush/George_W_Bush_0080.jpg Alte Bildgr\u00f6\u00dfe:  (250, 250) neue Bildgr\u00f6\u00dfe (31, 31) geladen\n",
        "./lfw_funneled/George_W_Bush/George_W_Bush_0344.jpg Alte Bildgr\u00f6\u00dfe:  (250, 250) neue Bildgr\u00f6\u00dfe (31, 31) geladen\n",
        "./lfw_funneled/George_W_Bush/George_W_Bush_0264.jpg Alte Bildgr\u00f6\u00dfe:  (250, 250) neue Bildgr\u00f6\u00dfe (31, 31) geladen\n",
        "./lfw_funneled/George_W_Bush/George_W_Bush_0393.jpg Alte Bildgr\u00f6\u00dfe:  (250, 250) neue Bildgr\u00f6\u00dfe (31, 31) geladen\n",
        "./lfw_funneled/George_W_Bush/George_W_Bush_0170.jpg Alte Bildgr\u00f6\u00dfe:  (250, 250) neue Bildgr\u00f6\u00dfe (31, 31) geladen\n",
        "./lfw_funneled/George_W_Bush/George_W_Bush_0091.jpg Alte Bildgr\u00f6\u00dfe:  (250, 250) neue Bildgr\u00f6\u00dfe (31, 31) geladen\n",
        "./lfw_funneled/George_W_Bush/George_W_Bush_0139.jpg Alte Bildgr\u00f6\u00dfe:  (250, 250) neue Bildgr\u00f6\u00dfe (31, 31) geladen\n",
        "./lfw_funneled/George_W_Bush/George_W_Bush_0282.jpg"
       ]
      },
      {
       "output_type": "stream",
       "stream": "stdout",
       "text": [
        " Alte Bildgr\u00f6\u00dfe:  (250, 250) neue Bildgr\u00f6\u00dfe (31, 31) geladen\n",
        "./lfw_funneled/George_W_Bush/George_W_Bush_0297.jpg Alte Bildgr\u00f6\u00dfe:  (250, 250) neue Bildgr\u00f6\u00dfe (31, 31) geladen\n",
        "./lfw_funneled/George_W_Bush/George_W_Bush_0036.jpg Alte Bildgr\u00f6\u00dfe:  (250, 250) neue Bildgr\u00f6\u00dfe (31, 31) geladen\n",
        "./lfw_funneled/George_W_Bush/George_W_Bush_0079.jpg Alte Bildgr\u00f6\u00dfe:  (250, 250) neue Bildgr\u00f6\u00dfe (31, 31) geladen\n",
        "./lfw_funneled/George_W_Bush/George_W_Bush_0360.jpg Alte Bildgr\u00f6\u00dfe:  (250, 250) neue Bildgr\u00f6\u00dfe (31, 31) geladen\n",
        "./lfw_funneled/George_W_Bush/George_W_Bush_0437.jpg Alte Bildgr\u00f6\u00dfe:  (250, 250) neue Bildgr\u00f6\u00dfe (31, 31) geladen\n",
        "./lfw_funneled/George_W_Bush/George_W_Bush_0440.jpg Alte Bildgr\u00f6\u00dfe:  (250, 250) neue Bildgr\u00f6\u00dfe (31, 31) geladen\n",
        "./lfw_funneled/George_W_Bush/George_W_Bush_0194.jpg Alte Bildgr\u00f6\u00dfe:  (250, 250) neue Bildgr\u00f6\u00dfe (31, 31) geladen\n",
        "./lfw_funneled/George_W_Bush/George_W_Bush_0126.jpg Alte Bildgr\u00f6\u00dfe:  (250, 250) neue Bildgr\u00f6\u00dfe (31, 31) geladen\n",
        "./lfw_funneled/George_W_Bush/George_W_Bush_0321.jpg Alte Bildgr\u00f6\u00dfe:  (250, 250) neue Bildgr\u00f6\u00dfe (31, 31) geladen\n",
        "./lfw_funneled/George_W_Bush/George_W_Bush_0428.jpg Alte Bildgr\u00f6\u00dfe:  (250, 250) neue Bildgr\u00f6\u00dfe (31, 31) geladen\n",
        "./lfw_funneled/George_W_Bush/George_W_Bush_0206.jpg Alte Bildgr\u00f6\u00dfe:  (250, 250) neue Bildgr\u00f6\u00dfe (31, 31) geladen\n",
        "./lfw_funneled/George_W_Bush/George_W_Bush_0273.jpg"
       ]
      },
      {
       "output_type": "stream",
       "stream": "stdout",
       "text": [
        " Alte Bildgr\u00f6\u00dfe:  (250, 250) neue Bildgr\u00f6\u00dfe (31, 31) geladen\n",
        "./lfw_funneled/George_W_Bush/George_W_Bush_0073.jpg Alte Bildgr\u00f6\u00dfe:  (250, 250) neue Bildgr\u00f6\u00dfe (31, 31) geladen\n",
        "./lfw_funneled/George_W_Bush/George_W_Bush_0011.jpg Alte Bildgr\u00f6\u00dfe:  (250, 250) neue Bildgr\u00f6\u00dfe (31, 31) geladen\n",
        "./lfw_funneled/George_W_Bush/George_W_Bush_0257.jpg Alte Bildgr\u00f6\u00dfe:  (250, 250) neue Bildgr\u00f6\u00dfe (31, 31) geladen\n",
        "./lfw_funneled/George_W_Bush/George_W_Bush_0180.jpg Alte Bildgr\u00f6\u00dfe:  (250, 250) neue Bildgr\u00f6\u00dfe (31, 31) geladen\n",
        "./lfw_funneled/George_W_Bush/George_W_Bush_0275.jpg Alte Bildgr\u00f6\u00dfe:  (250, 250) neue Bildgr\u00f6\u00dfe (31, 31) geladen\n",
        "./lfw_funneled/George_W_Bush/George_W_Bush_0117.jpg Alte Bildgr\u00f6\u00dfe:  (250, 250) neue Bildgr\u00f6\u00dfe (31, 31) geladen\n",
        "./lfw_funneled/George_W_Bush/George_W_Bush_0107.jpg Alte Bildgr\u00f6\u00dfe:  (250, 250) neue Bildgr\u00f6\u00dfe (31, 31) geladen\n",
        "./lfw_funneled/George_W_Bush/George_W_Bush_0255.jpg Alte Bildgr\u00f6\u00dfe:  (250, 250) neue Bildgr\u00f6\u00dfe (31, 31) geladen\n",
        "./lfw_funneled/George_W_Bush/George_W_Bush_0341.jpg Alte Bildgr\u00f6\u00dfe:  (250, 250) neue Bildgr\u00f6\u00dfe (31, 31) geladen\n",
        "./lfw_funneled/George_W_Bush/George_W_Bush_0075.jpg Alte Bildgr\u00f6\u00dfe:  (250, 250) neue Bildgr\u00f6\u00dfe (31, 31) geladen\n",
        "./lfw_funneled/George_W_Bush/George_W_Bush_0400.jpg Alte Bildgr\u00f6\u00dfe:  (250, 250) neue Bildgr\u00f6\u00dfe (31, 31) geladen\n",
        "./lfw_funneled/George_W_Bush/George_W_Bush_0116.jpg Alte Bildgr\u00f6\u00dfe:  (250, 250) neue Bildgr\u00f6\u00dfe (31, 31) geladen\n",
        "./lfw_funneled/George_W_Bush/George_W_Bush_0021.jpg"
       ]
      },
      {
       "output_type": "stream",
       "stream": "stdout",
       "text": [
        " Alte Bildgr\u00f6\u00dfe:  (250, 250) neue Bildgr\u00f6\u00dfe (31, 31) geladen\n",
        "./lfw_funneled/George_W_Bush/George_W_Bush_0245.jpg Alte Bildgr\u00f6\u00dfe:  (250, 250) neue Bildgr\u00f6\u00dfe (31, 31) geladen\n",
        "./lfw_funneled/George_W_Bush/George_W_Bush_0359.jpg Alte Bildgr\u00f6\u00dfe:  (250, 250) neue Bildgr\u00f6\u00dfe (31, 31) geladen\n",
        "./lfw_funneled/George_W_Bush/George_W_Bush_0093.jpg Alte Bildgr\u00f6\u00dfe:  (250, 250) neue Bildgr\u00f6\u00dfe (31, 31) geladen\n",
        "./lfw_funneled/George_W_Bush/George_W_Bush_0355.jpg Alte Bildgr\u00f6\u00dfe:  (250, 250) neue Bildgr\u00f6\u00dfe (31, 31) geladen\n",
        "./lfw_funneled/George_W_Bush/George_W_Bush_0441.jpg Alte Bildgr\u00f6\u00dfe:  (250, 250) neue Bildgr\u00f6\u00dfe (31, 31) geladen\n",
        "./lfw_funneled/George_W_Bush/George_W_Bush_0471.jpg Alte Bildgr\u00f6\u00dfe:  (250, 250) neue Bildgr\u00f6\u00dfe (31, 31) geladen\n",
        "./lfw_funneled/George_W_Bush/George_W_Bush_0364.jpg Alte Bildgr\u00f6\u00dfe:  (250, 250) neue Bildgr\u00f6\u00dfe (31, 31) geladen\n",
        "./lfw_funneled/George_W_Bush/George_W_Bush_0219.jpg Alte Bildgr\u00f6\u00dfe:  (250, 250) neue Bildgr\u00f6\u00dfe (31, 31) geladen\n",
        "./lfw_funneled/George_W_Bush/George_W_Bush_0487.jpg Alte Bildgr\u00f6\u00dfe:  (250, 250) neue Bildgr\u00f6\u00dfe (31, 31) geladen\n",
        "./lfw_funneled/George_W_Bush/George_W_Bush_0127.jpg"
       ]
      },
      {
       "output_type": "stream",
       "stream": "stdout",
       "text": [
        " Alte Bildgr\u00f6\u00dfe:  (250, 250) neue Bildgr\u00f6\u00dfe (31, 31) geladen\n",
        "./lfw_funneled/George_W_Bush/George_W_Bush_0169.jpg Alte Bildgr\u00f6\u00dfe:  (250, 250) neue Bildgr\u00f6\u00dfe (31, 31) geladen\n",
        "./lfw_funneled/George_W_Bush/George_W_Bush_0225.jpg Alte Bildgr\u00f6\u00dfe:  (250, 250) neue Bildgr\u00f6\u00dfe (31, 31) geladen\n",
        "./lfw_funneled/George_W_Bush/George_W_Bush_0325.jpg Alte Bildgr\u00f6\u00dfe:  (250, 250) neue Bildgr\u00f6\u00dfe (31, 31) geladen\n",
        "./lfw_funneled/George_W_Bush/George_W_Bush_0419.jpg Alte Bildgr\u00f6\u00dfe:  (250, 250) neue Bildgr\u00f6\u00dfe (31, 31) geladen\n",
        "./lfw_funneled/George_W_Bush/George_W_Bush_0202.jpg Alte Bildgr\u00f6\u00dfe:  (250, 250) neue Bildgr\u00f6\u00dfe (31, 31) geladen\n",
        "./lfw_funneled/George_W_Bush/George_W_Bush_0155.jpg Alte Bildgr\u00f6\u00dfe:  (250, 250) neue Bildgr\u00f6\u00dfe (31, 31) geladen\n",
        "./lfw_funneled/George_W_Bush/George_W_Bush_0448.jpg Alte Bildgr\u00f6\u00dfe:  (250, 250) neue Bildgr\u00f6\u00dfe (31, 31) geladen\n",
        "./lfw_funneled/George_W_Bush/George_W_Bush_0351.jpg Alte Bildgr\u00f6\u00dfe:  (250, 250) neue Bildgr\u00f6\u00dfe (31, 31) geladen\n",
        "./lfw_funneled/George_W_Bush/George_W_Bush_0050.jpg Alte Bildgr\u00f6\u00dfe:  (250, 250) neue Bildgr\u00f6\u00dfe (31, 31) geladen\n",
        "./lfw_funneled/George_W_Bush/George_W_Bush_0292.jpg Alte Bildgr\u00f6\u00dfe:  (250, 250) neue Bildgr\u00f6\u00dfe (31, 31) geladen\n",
        "./lfw_funneled/George_W_Bush/George_W_Bush_0375.jpg Alte Bildgr\u00f6\u00dfe:  (250, 250) neue Bildgr\u00f6\u00dfe (31, 31) geladen\n",
        "./lfw_funneled/George_W_Bush/George_W_Bush_0207.jpg"
       ]
      },
      {
       "output_type": "stream",
       "stream": "stdout",
       "text": [
        " Alte Bildgr\u00f6\u00dfe:  (250, 250) neue Bildgr\u00f6\u00dfe (31, 31) geladen\n",
        "./lfw_funneled/George_W_Bush/George_W_Bush_0416.jpg Alte Bildgr\u00f6\u00dfe:  (250, 250) neue Bildgr\u00f6\u00dfe (31, 31) geladen\n",
        "./lfw_funneled/George_W_Bush/George_W_Bush_0252.jpg Alte Bildgr\u00f6\u00dfe:  (250, 250) neue Bildgr\u00f6\u00dfe (31, 31) geladen\n",
        "./lfw_funneled/George_W_Bush/George_W_Bush_0237.jpg Alte Bildgr\u00f6\u00dfe:  (250, 250) neue Bildgr\u00f6\u00dfe (31, 31) geladen\n",
        "./lfw_funneled/George_W_Bush/George_W_Bush_0129.jpg Alte Bildgr\u00f6\u00dfe:  (250, 250) neue Bildgr\u00f6\u00dfe (31, 31) geladen\n",
        "./lfw_funneled/George_W_Bush/George_W_Bush_0086.jpg Alte Bildgr\u00f6\u00dfe:  (250, 250) neue Bildgr\u00f6\u00dfe (31, 31) geladen\n",
        "./lfw_funneled/George_W_Bush/George_W_Bush_0160.jpg Alte Bildgr\u00f6\u00dfe:  (250, 250) neue Bildgr\u00f6\u00dfe (31, 31) geladen\n",
        "./lfw_funneled/George_W_Bush/George_W_Bush_0008.jpg Alte Bildgr\u00f6\u00dfe:  (250, 250) neue Bildgr\u00f6\u00dfe (31, 31) geladen\n",
        "./lfw_funneled/George_W_Bush/George_W_Bush_0463.jpg Alte Bildgr\u00f6\u00dfe:  (250, 250) neue Bildgr\u00f6\u00dfe (31, 31) geladen\n",
        "./lfw_funneled/George_W_Bush/George_W_Bush_0157.jpg Alte Bildgr\u00f6\u00dfe:  (250, 250) neue Bildgr\u00f6\u00dfe (31, 31) geladen\n",
        "./lfw_funneled/George_W_Bush/George_W_Bush_0211.jpg Alte Bildgr\u00f6\u00dfe:  (250, 250) neue Bildgr\u00f6\u00dfe (31, 31) geladen\n",
        "./lfw_funneled/George_W_Bush/George_W_Bush_0498.jpg"
       ]
      },
      {
       "output_type": "stream",
       "stream": "stdout",
       "text": [
        " Alte Bildgr\u00f6\u00dfe:  (250, 250) neue Bildgr\u00f6\u00dfe (31, 31) geladen\n",
        "./lfw_funneled/George_W_Bush/George_W_Bush_0060.jpg Alte Bildgr\u00f6\u00dfe:  (250, 250) neue Bildgr\u00f6\u00dfe (31, 31) geladen\n",
        "./lfw_funneled/George_W_Bush/George_W_Bush_0511.jpg Alte Bildgr\u00f6\u00dfe:  (250, 250) neue Bildgr\u00f6\u00dfe (31, 31) geladen\n",
        "./lfw_funneled/George_W_Bush/George_W_Bush_0130.jpg Alte Bildgr\u00f6\u00dfe:  (250, 250) neue Bildgr\u00f6\u00dfe (31, 31) geladen\n",
        "./lfw_funneled/George_W_Bush/George_W_Bush_0523.jpg Alte Bildgr\u00f6\u00dfe:  (250, 250) neue Bildgr\u00f6\u00dfe (31, 31) geladen\n",
        "./lfw_funneled/George_W_Bush/George_W_Bush_0078.jpg Alte Bildgr\u00f6\u00dfe:  (250, 250) neue Bildgr\u00f6\u00dfe (31, 31) geladen\n",
        "./lfw_funneled/George_W_Bush/George_W_Bush_0212.jpg Alte Bildgr\u00f6\u00dfe:  (250, 250) neue Bildgr\u00f6\u00dfe (31, 31) geladen\n",
        "./lfw_funneled/George_W_Bush/George_W_Bush_0168.jpg Alte Bildgr\u00f6\u00dfe:  (250, 250) neue Bildgr\u00f6\u00dfe (31, 31) geladen\n",
        "./lfw_funneled/George_W_Bush/George_W_Bush_0088.jpg Alte Bildgr\u00f6\u00dfe:  (250, 250) neue Bildgr\u00f6\u00dfe (31, 31) geladen\n",
        "./lfw_funneled/George_W_Bush/George_W_Bush_0518.jpg Alte Bildgr\u00f6\u00dfe:  (250, 250) neue Bildgr\u00f6\u00dfe (31, 31) geladen\n",
        "./lfw_funneled/George_W_Bush/George_W_Bush_0204.jpg Alte Bildgr\u00f6\u00dfe:  (250, 250) neue Bildgr\u00f6\u00dfe (31, 31) geladen\n",
        "./lfw_funneled/George_W_Bush/George_W_Bush_0031.jpg Alte Bildgr\u00f6\u00dfe:  (250, 250) neue Bildgr\u00f6\u00dfe (31, 31) geladen\n",
        "./lfw_funneled/George_W_Bush/George_W_Bush_0163.jpg"
       ]
      },
      {
       "output_type": "stream",
       "stream": "stdout",
       "text": [
        " Alte Bildgr\u00f6\u00dfe:  (250, 250) neue Bildgr\u00f6\u00dfe (31, 31) geladen\n",
        "./lfw_funneled/George_W_Bush/George_W_Bush_0361.jpg Alte Bildgr\u00f6\u00dfe:  (250, 250) neue Bildgr\u00f6\u00dfe (31, 31) geladen\n",
        "./lfw_funneled/George_W_Bush/George_W_Bush_0283.jpg Alte Bildgr\u00f6\u00dfe:  (250, 250) neue Bildgr\u00f6\u00dfe (31, 31) geladen\n",
        "./lfw_funneled/George_W_Bush/George_W_Bush_0230.jpg Alte Bildgr\u00f6\u00dfe:  (250, 250) neue Bildgr\u00f6\u00dfe (31, 31) geladen\n",
        "./lfw_funneled/George_W_Bush/George_W_Bush_0326.jpg Alte Bildgr\u00f6\u00dfe:  (250, 250) neue Bildgr\u00f6\u00dfe (31, 31) geladen\n",
        "./lfw_funneled/George_W_Bush/George_W_Bush_0190.jpg Alte Bildgr\u00f6\u00dfe:  (250, 250) neue Bildgr\u00f6\u00dfe (31, 31) geladen\n",
        "./lfw_funneled/George_W_Bush/George_W_Bush_0342.jpg Alte Bildgr\u00f6\u00dfe:  (250, 250) neue Bildgr\u00f6\u00dfe (31, 31) geladen\n",
        "./lfw_funneled/George_W_Bush/George_W_Bush_0394.jpg Alte Bildgr\u00f6\u00dfe:  (250, 250) neue Bildgr\u00f6\u00dfe (31, 31) geladen\n",
        "./lfw_funneled/George_W_Bush/George_W_Bush_0358.jpg Alte Bildgr\u00f6\u00dfe:  (250, 250) neue Bildgr\u00f6\u00dfe (31, 31) geladen\n",
        "./lfw_funneled/George_W_Bush/George_W_Bush_0374.jpg Alte Bildgr\u00f6\u00dfe:  (250, 250) neue Bildgr\u00f6\u00dfe (31, 31) geladen\n",
        "./lfw_funneled/George_W_Bush/George_W_Bush_0436.jpg Alte Bildgr\u00f6\u00dfe:  (250, 250) neue Bildgr\u00f6\u00dfe (31, 31) geladen\n",
        "./lfw_funneled/George_W_Bush/George_W_Bush_0068.jpg Alte Bildgr\u00f6\u00dfe:  (250, 250) neue Bildgr\u00f6\u00dfe (31, 31) geladen\n",
        "./lfw_funneled/George_W_Bush/George_W_Bush_0291.jpg Alte Bildgr\u00f6\u00dfe:  (250, 250) neue Bildgr\u00f6\u00dfe (31, 31) geladen\n",
        "./lfw_funneled/George_W_Bush/George_W_Bush_0192.jpg"
       ]
      },
      {
       "output_type": "stream",
       "stream": "stdout",
       "text": [
        " Alte Bildgr\u00f6\u00dfe:  (250, 250) neue Bildgr\u00f6\u00dfe (31, 31) geladen\n",
        "./lfw_funneled/George_W_Bush/George_W_Bush_0526.jpg Alte Bildgr\u00f6\u00dfe:  (250, 250) neue Bildgr\u00f6\u00dfe (31, 31) geladen\n",
        "./lfw_funneled/George_W_Bush/George_W_Bush_0105.jpg Alte Bildgr\u00f6\u00dfe:  (250, 250) neue Bildgr\u00f6\u00dfe (31, 31) geladen\n",
        "./lfw_funneled/George_W_Bush/George_W_Bush_0065.jpg Alte Bildgr\u00f6\u00dfe:  (250, 250) neue Bildgr\u00f6\u00dfe (31, 31) geladen\n",
        "./lfw_funneled/George_W_Bush/George_W_Bush_0165.jpg Alte Bildgr\u00f6\u00dfe:  (250, 250) neue Bildgr\u00f6\u00dfe (31, 31) geladen\n",
        "./lfw_funneled/George_W_Bush/George_W_Bush_0087.jpg Alte Bildgr\u00f6\u00dfe:  (250, 250) neue Bildgr\u00f6\u00dfe (31, 31) geladen\n",
        "./lfw_funneled/George_W_Bush/George_W_Bush_0022.jpg Alte Bildgr\u00f6\u00dfe:  (250, 250) neue Bildgr\u00f6\u00dfe (31, 31) geladen\n",
        "./lfw_funneled/George_W_Bush/George_W_Bush_0476.jpg Alte Bildgr\u00f6\u00dfe:  (250, 250) neue Bildgr\u00f6\u00dfe (31, 31) geladen\n",
        "./lfw_funneled/George_W_Bush/George_W_Bush_0429.jpg Alte Bildgr\u00f6\u00dfe:  (250, 250) neue Bildgr\u00f6\u00dfe (31, 31) geladen\n",
        "./lfw_funneled/George_W_Bush/George_W_Bush_0191.jpg Alte Bildgr\u00f6\u00dfe:  (250, 250) neue Bildgr\u00f6\u00dfe (31, 31) geladen\n",
        "./lfw_funneled/George_W_Bush/George_W_Bush_0184.jpg"
       ]
      },
      {
       "output_type": "stream",
       "stream": "stdout",
       "text": [
        " Alte Bildgr\u00f6\u00dfe:  (250, 250) neue Bildgr\u00f6\u00dfe (31, 31) geladen\n",
        "./lfw_funneled/George_W_Bush/George_W_Bush_0316.jpg Alte Bildgr\u00f6\u00dfe:  (250, 250) neue Bildgr\u00f6\u00dfe (31, 31) geladen\n",
        "./lfw_funneled/George_W_Bush/George_W_Bush_0421.jpg Alte Bildgr\u00f6\u00dfe:  (250, 250) neue Bildgr\u00f6\u00dfe (31, 31) geladen\n",
        "./lfw_funneled/George_W_Bush/George_W_Bush_0229.jpg Alte Bildgr\u00f6\u00dfe:  (250, 250) neue Bildgr\u00f6\u00dfe (31, 31) geladen\n",
        "./lfw_funneled/George_W_Bush/George_W_Bush_0420.jpg Alte Bildgr\u00f6\u00dfe:  (250, 250) neue Bildgr\u00f6\u00dfe (31, 31) geladen\n",
        "./lfw_funneled/George_W_Bush/George_W_Bush_0125.jpg Alte Bildgr\u00f6\u00dfe:  (250, 250) neue Bildgr\u00f6\u00dfe (31, 31) geladen\n",
        "./lfw_funneled/George_W_Bush/George_W_Bush_0042.jpg Alte Bildgr\u00f6\u00dfe:  (250, 250) neue Bildgr\u00f6\u00dfe (31, 31) geladen\n",
        "./lfw_funneled/George_W_Bush/George_W_Bush_0395.jpg Alte Bildgr\u00f6\u00dfe:  (250, 250) neue Bildgr\u00f6\u00dfe (31, 31) geladen\n",
        "./lfw_funneled/George_W_Bush/George_W_Bush_0034.jpg Alte Bildgr\u00f6\u00dfe:  (250, 250) neue Bildgr\u00f6\u00dfe (31, 31) geladen\n",
        "./lfw_funneled/George_W_Bush/George_W_Bush_0384.jpg Alte Bildgr\u00f6\u00dfe:  (250, 250) neue Bildgr\u00f6\u00dfe (31, 31) geladen\n",
        "./lfw_funneled/George_W_Bush/George_W_Bush_0296.jpg Alte Bildgr\u00f6\u00dfe:  (250, 250) neue Bildgr\u00f6\u00dfe (31, 31) geladen\n",
        "./lfw_funneled/George_W_Bush/George_W_Bush_0450.jpg Alte Bildgr\u00f6\u00dfe:  (250, 250) neue Bildgr\u00f6\u00dfe (31, 31) geladen\n",
        "./lfw_funneled/George_W_Bush/George_W_Bush_0150.jpg Alte Bildgr\u00f6\u00dfe:  (250, 250) neue Bildgr\u00f6\u00dfe (31, 31) geladen\n",
        "./lfw_funneled/George_W_Bush/George_W_Bush_0256.jpg"
       ]
      },
      {
       "output_type": "stream",
       "stream": "stdout",
       "text": [
        " Alte Bildgr\u00f6\u00dfe:  (250, 250) neue Bildgr\u00f6\u00dfe (31, 31) geladen\n",
        "./lfw_funneled/George_W_Bush/George_W_Bush_0418.jpg Alte Bildgr\u00f6\u00dfe:  (250, 250) neue Bildgr\u00f6\u00dfe (31, 31) geladen\n",
        "./lfw_funneled/George_W_Bush/George_W_Bush_0334.jpg Alte Bildgr\u00f6\u00dfe:  (250, 250) neue Bildgr\u00f6\u00dfe (31, 31) geladen\n",
        "./lfw_funneled/George_W_Bush/George_W_Bush_0391.jpg Alte Bildgr\u00f6\u00dfe:  (250, 250) neue Bildgr\u00f6\u00dfe (31, 31) geladen\n",
        "./lfw_funneled/George_W_Bush/George_W_Bush_0313.jpg Alte Bildgr\u00f6\u00dfe:  (250, 250) neue Bildgr\u00f6\u00dfe (31, 31) geladen\n",
        "./lfw_funneled/George_W_Bush/George_W_Bush_0058.jpg Alte Bildgr\u00f6\u00dfe:  (250, 250) neue Bildgr\u00f6\u00dfe (31, 31) geladen\n",
        "./lfw_funneled/George_W_Bush/George_W_Bush_0108.jpg Alte Bildgr\u00f6\u00dfe:  (250, 250) neue Bildgr\u00f6\u00dfe (31, 31) geladen\n",
        "./lfw_funneled/George_W_Bush/George_W_Bush_0525.jpg Alte Bildgr\u00f6\u00dfe:  (250, 250) neue Bildgr\u00f6\u00dfe (31, 31) geladen\n",
        "./lfw_funneled/George_W_Bush/George_W_Bush_0030.jpg Alte Bildgr\u00f6\u00dfe:  (250, 250) neue Bildgr\u00f6\u00dfe (31, 31) geladen\n",
        "./lfw_funneled/George_W_Bush/George_W_Bush_0524.jpg Alte Bildgr\u00f6\u00dfe:  (250, 250) neue Bildgr\u00f6\u00dfe (31, 31) geladen\n",
        "./lfw_funneled/George_W_Bush/George_W_Bush_0174.jpg Alte Bildgr\u00f6\u00dfe:  (250, 250) neue Bildgr\u00f6\u00dfe (31, 31) geladen\n",
        "./lfw_funneled/George_W_Bush/George_W_Bush_0178.jpg"
       ]
      },
      {
       "output_type": "stream",
       "stream": "stdout",
       "text": [
        " Alte Bildgr\u00f6\u00dfe:  (250, 250) neue Bildgr\u00f6\u00dfe (31, 31) geladen\n",
        "./lfw_funneled/George_W_Bush/George_W_Bush_0380.jpg Alte Bildgr\u00f6\u00dfe:  (250, 250) neue Bildgr\u00f6\u00dfe (31, 31) geladen\n",
        "./lfw_funneled/George_W_Bush/George_W_Bush_0243.jpg Alte Bildgr\u00f6\u00dfe:  (250, 250) neue Bildgr\u00f6\u00dfe (31, 31) geladen\n",
        "./lfw_funneled/George_W_Bush/George_W_Bush_0469.jpg Alte Bildgr\u00f6\u00dfe:  (250, 250) neue Bildgr\u00f6\u00dfe (31, 31) geladen\n",
        "./lfw_funneled/George_W_Bush/George_W_Bush_0294.jpg Alte Bildgr\u00f6\u00dfe:  (250, 250) neue Bildgr\u00f6\u00dfe (31, 31) geladen\n",
        "./lfw_funneled/George_W_Bush/George_W_Bush_0103.jpg Alte Bildgr\u00f6\u00dfe:  (250, 250) neue Bildgr\u00f6\u00dfe (31, 31) geladen\n",
        "./lfw_funneled/George_W_Bush/George_W_Bush_0427.jpg Alte Bildgr\u00f6\u00dfe:  (250, 250) neue Bildgr\u00f6\u00dfe (31, 31) geladen\n",
        "./lfw_funneled/George_W_Bush/George_W_Bush_0352.jpg Alte Bildgr\u00f6\u00dfe:  (250, 250) neue Bildgr\u00f6\u00dfe (31, 31) geladen\n",
        "./lfw_funneled/George_W_Bush/George_W_Bush_0076.jpg Alte Bildgr\u00f6\u00dfe:  (250, 250) neue Bildgr\u00f6\u00dfe (31, 31) geladen\n",
        "./lfw_funneled/George_W_Bush/George_W_Bush_0481.jpg Alte Bildgr\u00f6\u00dfe:  (250, 250) neue Bildgr\u00f6\u00dfe (31, 31) geladen\n",
        "./lfw_funneled/George_W_Bush/George_W_Bush_0508.jpg Alte Bildgr\u00f6\u00dfe:  (250, 250) neue Bildgr\u00f6\u00dfe (31, 31) geladen\n",
        "./lfw_funneled/George_W_Bush/George_W_Bush_0340.jpg"
       ]
      },
      {
       "output_type": "stream",
       "stream": "stdout",
       "text": [
        " Alte Bildgr\u00f6\u00dfe:  (250, 250) neue Bildgr\u00f6\u00dfe (31, 31) geladen\n",
        "./lfw_funneled/George_W_Bush/George_W_Bush_0232.jpg Alte Bildgr\u00f6\u00dfe:  (250, 250) neue Bildgr\u00f6\u00dfe (31, 31) geladen\n",
        "./lfw_funneled/George_W_Bush/George_W_Bush_0483.jpg Alte Bildgr\u00f6\u00dfe:  (250, 250) neue Bildgr\u00f6\u00dfe (31, 31) geladen\n",
        "./lfw_funneled/George_W_Bush/George_W_Bush_0089.jpg Alte Bildgr\u00f6\u00dfe:  (250, 250) neue Bildgr\u00f6\u00dfe (31, 31) geladen\n",
        "./lfw_funneled/George_W_Bush/George_W_Bush_0509.jpg Alte Bildgr\u00f6\u00dfe:  (250, 250) neue Bildgr\u00f6\u00dfe (31, 31) geladen\n",
        "./lfw_funneled/George_W_Bush/George_W_Bush_0347.jpg Alte Bildgr\u00f6\u00dfe:  (250, 250) neue Bildgr\u00f6\u00dfe (31, 31) geladen\n",
        "./lfw_funneled/George_W_Bush/George_W_Bush_0201.jpg Alte Bildgr\u00f6\u00dfe:  (250, 250) neue Bildgr\u00f6\u00dfe (31, 31) geladen\n",
        "./lfw_funneled/George_W_Bush/George_W_Bush_0499.jpg Alte Bildgr\u00f6\u00dfe:  (250, 250) neue Bildgr\u00f6\u00dfe (31, 31) geladen\n",
        "./lfw_funneled/George_W_Bush/George_W_Bush_0002.jpg Alte Bildgr\u00f6\u00dfe:  (250, 250) neue Bildgr\u00f6\u00dfe (31, 31) geladen\n",
        "./lfw_funneled/George_W_Bush/George_W_Bush_0072.jpg Alte Bildgr\u00f6\u00dfe:  (250, 250) neue Bildgr\u00f6\u00dfe (31, 31) geladen\n",
        "./lfw_funneled/George_W_Bush/George_W_Bush_0067.jpg Alte Bildgr\u00f6\u00dfe:  (250, 250) neue Bildgr\u00f6\u00dfe (31, 31) geladen\n",
        "./lfw_funneled/George_W_Bush/George_W_Bush_0009.jpg Alte Bildgr\u00f6\u00dfe:  (250, 250) neue Bildgr\u00f6\u00dfe (31, 31) geladen\n",
        "./lfw_funneled/George_W_Bush/George_W_Bush_0435.jpg"
       ]
      },
      {
       "output_type": "stream",
       "stream": "stdout",
       "text": [
        " Alte Bildgr\u00f6\u00dfe:  (250, 250) neue Bildgr\u00f6\u00dfe (31, 31) geladen\n",
        "./lfw_funneled/George_W_Bush/George_W_Bush_0223.jpg Alte Bildgr\u00f6\u00dfe:  (250, 250) neue Bildgr\u00f6\u00dfe (31, 31) geladen\n",
        "./lfw_funneled/George_W_Bush/George_W_Bush_0528.jpg Alte Bildgr\u00f6\u00dfe:  (250, 250) neue Bildgr\u00f6\u00dfe (31, 31) geladen\n",
        "./lfw_funneled/George_W_Bush/George_W_Bush_0214.jpg Alte Bildgr\u00f6\u00dfe:  (250, 250) neue Bildgr\u00f6\u00dfe (31, 31) geladen\n",
        "./lfw_funneled/George_W_Bush/George_W_Bush_0023.jpg Alte Bildgr\u00f6\u00dfe:  (250, 250) neue Bildgr\u00f6\u00dfe (31, 31) geladen\n",
        "./lfw_funneled/George_W_Bush/George_W_Bush_0331.jpg Alte Bildgr\u00f6\u00dfe:  (250, 250) neue Bildgr\u00f6\u00dfe (31, 31) geladen\n",
        "./lfw_funneled/George_W_Bush/George_W_Bush_0154.jpg Alte Bildgr\u00f6\u00dfe:  (250, 250) neue Bildgr\u00f6\u00dfe (31, 31) geladen\n",
        "./lfw_funneled/George_W_Bush/George_W_Bush_0501.jpg Alte Bildgr\u00f6\u00dfe:  (250, 250) neue Bildgr\u00f6\u00dfe (31, 31) geladen\n",
        "./lfw_funneled/George_W_Bush/George_W_Bush_0063.jpg Alte Bildgr\u00f6\u00dfe:  (250, 250) neue Bildgr\u00f6\u00dfe (31, 31) geladen\n",
        "./lfw_funneled/George_W_Bush/George_W_Bush_0480.jpg"
       ]
      },
      {
       "output_type": "stream",
       "stream": "stdout",
       "text": [
        " Alte Bildgr\u00f6\u00dfe:  (250, 250) neue Bildgr\u00f6\u00dfe (31, 31) geladen\n",
        "./lfw_funneled/George_W_Bush/George_W_Bush_0221.jpg Alte Bildgr\u00f6\u00dfe:  (250, 250) neue Bildgr\u00f6\u00dfe (31, 31) geladen\n",
        "./lfw_funneled/George_W_Bush/George_W_Bush_0389.jpg Alte Bildgr\u00f6\u00dfe:  (250, 250) neue Bildgr\u00f6\u00dfe (31, 31) geladen\n",
        "./lfw_funneled/George_W_Bush/George_W_Bush_0251.jpg Alte Bildgr\u00f6\u00dfe:  (250, 250) neue Bildgr\u00f6\u00dfe (31, 31) geladen\n",
        "./lfw_funneled/George_W_Bush/George_W_Bush_0235.jpg Alte Bildgr\u00f6\u00dfe:  (250, 250) neue Bildgr\u00f6\u00dfe (31, 31) geladen\n",
        "./lfw_funneled/George_W_Bush/George_W_Bush_0317.jpg Alte Bildgr\u00f6\u00dfe:  (250, 250) neue Bildgr\u00f6\u00dfe (31, 31) geladen\n",
        "./lfw_funneled/George_W_Bush/George_W_Bush_0246.jpg Alte Bildgr\u00f6\u00dfe:  (250, 250) neue Bildgr\u00f6\u00dfe (31, 31) geladen\n",
        "./lfw_funneled/George_W_Bush/George_W_Bush_0452.jpg Alte Bildgr\u00f6\u00dfe:  (250, 250) neue Bildgr\u00f6\u00dfe (31, 31) geladen\n",
        "./lfw_funneled/George_W_Bush/George_W_Bush_0502.jpg Alte Bildgr\u00f6\u00dfe:  (250, 250) neue Bildgr\u00f6\u00dfe (31, 31) geladen\n",
        "./lfw_funneled/George_W_Bush/George_W_Bush_0040.jpg Alte Bildgr\u00f6\u00dfe:  (250, 250) neue Bildgr\u00f6\u00dfe (31, 31) geladen\n",
        "./lfw_funneled/George_W_Bush/George_W_Bush_0109.jpg Alte Bildgr\u00f6\u00dfe:  (250, 250) neue Bildgr\u00f6\u00dfe (31, 31) geladen\n",
        "./lfw_funneled/George_W_Bush/George_W_Bush_0236.jpg Alte Bildgr\u00f6\u00dfe:  (250, 250) neue Bildgr\u00f6\u00dfe (31, 31) geladen\n",
        "./lfw_funneled/George_W_Bush/George_W_Bush_0460.jpg Alte Bildgr\u00f6\u00dfe:  (250, 250) neue Bildgr\u00f6\u00dfe (31, 31) geladen\n",
        "./lfw_funneled/George_W_Bush/George_W_Bush_0310.jpg"
       ]
      },
      {
       "output_type": "stream",
       "stream": "stdout",
       "text": [
        " Alte Bildgr\u00f6\u00dfe:  (250, 250) neue Bildgr\u00f6\u00dfe (31, 31) geladen\n",
        "./lfw_funneled/George_W_Bush/George_W_Bush_0293.jpg Alte Bildgr\u00f6\u00dfe:  (250, 250) neue Bildgr\u00f6\u00dfe (31, 31) geladen\n",
        "./lfw_funneled/George_W_Bush/George_W_Bush_0366.jpg Alte Bildgr\u00f6\u00dfe:  (250, 250) neue Bildgr\u00f6\u00dfe (31, 31) geladen\n",
        "./lfw_funneled/George_W_Bush/George_W_Bush_0055.jpg Alte Bildgr\u00f6\u00dfe:  (250, 250) neue Bildgr\u00f6\u00dfe (31, 31) geladen\n",
        "./lfw_funneled/George_W_Bush/George_W_Bush_0503.jpg Alte Bildgr\u00f6\u00dfe:  (250, 250) neue Bildgr\u00f6\u00dfe (31, 31) geladen\n",
        "./lfw_funneled/George_W_Bush/George_W_Bush_0405.jpg Alte Bildgr\u00f6\u00dfe:  (250, 250) neue Bildgr\u00f6\u00dfe (31, 31) geladen\n",
        "./lfw_funneled/George_W_Bush/George_W_Bush_0012.jpg Alte Bildgr\u00f6\u00dfe:  (250, 250) neue Bildgr\u00f6\u00dfe (31, 31) geladen\n",
        "./lfw_funneled/George_W_Bush/George_W_Bush_0198.jpg Alte Bildgr\u00f6\u00dfe:  (250, 250) neue Bildgr\u00f6\u00dfe (31, 31) geladen\n",
        "./lfw_funneled/George_W_Bush/George_W_Bush_0451.jpg Alte Bildgr\u00f6\u00dfe:  (250, 250) neue Bildgr\u00f6\u00dfe (31, 31) geladen\n",
        "./lfw_funneled/George_W_Bush/George_W_Bush_0272.jpg Alte Bildgr\u00f6\u00dfe:  (250, 250) neue Bildgr\u00f6\u00dfe (31, 31) geladen\n",
        "./lfw_funneled/George_W_Bush/George_W_Bush_0253.jpg Alte Bildgr\u00f6\u00dfe:  (250, 250) neue Bildgr\u00f6\u00dfe (31, 31) geladen\n",
        "./lfw_funneled/George_W_Bush/George_W_Bush_0506.jpg Alte Bildgr\u00f6\u00dfe:  (250, 250) neue Bildgr\u00f6\u00dfe (31, 31) geladen\n",
        "./lfw_funneled/George_W_Bush/George_W_Bush_0142.jpg"
       ]
      },
      {
       "output_type": "stream",
       "stream": "stdout",
       "text": [
        " Alte Bildgr\u00f6\u00dfe:  (250, 250) neue Bildgr\u00f6\u00dfe (31, 31) geladen\n",
        "./lfw_funneled/George_W_Bush/George_W_Bush_0186.jpg Alte Bildgr\u00f6\u00dfe:  (250, 250) neue Bildgr\u00f6\u00dfe (31, 31) geladen\n",
        "./lfw_funneled/George_W_Bush/George_W_Bush_0445.jpg Alte Bildgr\u00f6\u00dfe:  (250, 250) neue Bildgr\u00f6\u00dfe (31, 31) geladen\n",
        "./lfw_funneled/George_W_Bush/George_W_Bush_0250.jpg Alte Bildgr\u00f6\u00dfe:  (250, 250) neue Bildgr\u00f6\u00dfe (31, 31) geladen\n",
        "./lfw_funneled/George_W_Bush/George_W_Bush_0137.jpg Alte Bildgr\u00f6\u00dfe:  (250, 250) neue Bildgr\u00f6\u00dfe (31, 31) geladen\n",
        "./lfw_funneled/George_W_Bush/George_W_Bush_0504.jpg Alte Bildgr\u00f6\u00dfe:  (250, 250) neue Bildgr\u00f6\u00dfe (31, 31) geladen\n",
        "./lfw_funneled/George_W_Bush/George_W_Bush_0121.jpg Alte Bildgr\u00f6\u00dfe:  (250, 250) neue Bildgr\u00f6\u00dfe (31, 31) geladen\n",
        "./lfw_funneled/George_W_Bush/George_W_Bush_0479.jpg Alte Bildgr\u00f6\u00dfe:  (250, 250) neue Bildgr\u00f6\u00dfe (31, 31) geladen\n",
        "./lfw_funneled/George_W_Bush/George_W_Bush_0164.jpg Alte Bildgr\u00f6\u00dfe:  (250, 250) neue Bildgr\u00f6\u00dfe (31, 31) geladen\n",
        "./lfw_funneled/George_W_Bush/George_W_Bush_0032.jpg Alte Bildgr\u00f6\u00dfe:  (250, 250) neue Bildgr\u00f6\u00dfe (31, 31) geladen\n",
        "./lfw_funneled/George_W_Bush/George_W_Bush_0239.jpg Alte Bildgr\u00f6\u00dfe:  (250, 250) neue Bildgr\u00f6\u00dfe (31, 31) geladen\n",
        "./lfw_funneled/George_W_Bush/George_W_Bush_0162.jpg Alte Bildgr\u00f6\u00dfe:  (250, 250) neue Bildgr\u00f6\u00dfe (31, 31) geladen\n",
        "./lfw_funneled/George_W_Bush/George_W_Bush_0458.jpg"
       ]
      },
      {
       "output_type": "stream",
       "stream": "stdout",
       "text": [
        " Alte Bildgr\u00f6\u00dfe:  (250, 250) neue Bildgr\u00f6\u00dfe (31, 31) geladen\n",
        "./lfw_funneled/George_W_Bush/George_W_Bush_0274.jpg Alte Bildgr\u00f6\u00dfe:  (250, 250) neue Bildgr\u00f6\u00dfe (31, 31) geladen\n",
        "./lfw_funneled/George_W_Bush/George_W_Bush_0004.jpg Alte Bildgr\u00f6\u00dfe:  (250, 250) neue Bildgr\u00f6\u00dfe (31, 31) geladen\n",
        "./lfw_funneled/George_W_Bush/George_W_Bush_0409.jpg Alte Bildgr\u00f6\u00dfe:  (250, 250) neue Bildgr\u00f6\u00dfe (31, 31) geladen\n",
        "./lfw_funneled/George_W_Bush/George_W_Bush_0182.jpg Alte Bildgr\u00f6\u00dfe:  (250, 250) neue Bildgr\u00f6\u00dfe (31, 31) geladen\n",
        "./lfw_funneled/George_W_Bush/George_W_Bush_0403.jpg Alte Bildgr\u00f6\u00dfe:  (250, 250) neue Bildgr\u00f6\u00dfe (31, 31) geladen\n",
        "./lfw_funneled/George_W_Bush/George_W_Bush_0193.jpg Alte Bildgr\u00f6\u00dfe:  (250, 250) neue Bildgr\u00f6\u00dfe (31, 31) geladen\n",
        "./lfw_funneled/George_W_Bush/George_W_Bush_0114.jpg Alte Bildgr\u00f6\u00dfe:  (250, 250) neue Bildgr\u00f6\u00dfe (31, 31) geladen\n",
        "./lfw_funneled/George_W_Bush/George_W_Bush_0143.jpg Alte Bildgr\u00f6\u00dfe:  (250, 250) neue Bildgr\u00f6\u00dfe (31, 31) geladen\n",
        "./lfw_funneled/George_W_Bush/George_W_Bush_0231.jpg Alte Bildgr\u00f6\u00dfe:  (250, 250) neue Bildgr\u00f6\u00dfe (31, 31) geladen\n",
        "./lfw_funneled/George_W_Bush/George_W_Bush_0522.jpg Alte Bildgr\u00f6\u00dfe:  (250, 250) neue Bildgr\u00f6\u00dfe (31, 31) geladen\n",
        "./lfw_funneled/George_W_Bush/George_W_Bush_0371.jpg Alte Bildgr\u00f6\u00dfe:  (250, 250) neue Bildgr\u00f6\u00dfe (31, 31) geladen\n",
        "./lfw_funneled/George_W_Bush/George_W_Bush_0412.jpg Alte Bildgr\u00f6\u00dfe:  (250, 250) neue Bildgr\u00f6\u00dfe (31, 31) geladen\n",
        "./lfw_funneled/George_W_Bush/George_W_Bush_0263.jpg"
       ]
      },
      {
       "output_type": "stream",
       "stream": "stdout",
       "text": [
        " Alte Bildgr\u00f6\u00dfe:  (250, 250) neue Bildgr\u00f6\u00dfe (31, 31) geladen\n",
        "./lfw_funneled/George_W_Bush/George_W_Bush_0209.jpg Alte Bildgr\u00f6\u00dfe:  (250, 250) neue Bildgr\u00f6\u00dfe (31, 31) geladen\n",
        "./lfw_funneled/George_W_Bush/George_W_Bush_0350.jpg Alte Bildgr\u00f6\u00dfe:  (250, 250) neue Bildgr\u00f6\u00dfe (31, 31) geladen\n",
        "./lfw_funneled/George_W_Bush/George_W_Bush_0185.jpg Alte Bildgr\u00f6\u00dfe:  (250, 250) neue Bildgr\u00f6\u00dfe (31, 31) geladen\n",
        "./lfw_funneled/George_W_Bush/George_W_Bush_0343.jpg Alte Bildgr\u00f6\u00dfe:  (250, 250) neue Bildgr\u00f6\u00dfe (31, 31) geladen\n",
        "./lfw_funneled/George_W_Bush/George_W_Bush_0062.jpg Alte Bildgr\u00f6\u00dfe:  (250, 250) neue Bildgr\u00f6\u00dfe (31, 31) geladen\n",
        "./lfw_funneled/George_W_Bush/George_W_Bush_0167.jpg Alte Bildgr\u00f6\u00dfe:  (250, 250) neue Bildgr\u00f6\u00dfe (31, 31) geladen\n",
        "./lfw_funneled/George_W_Bush/George_W_Bush_0122.jpg Alte Bildgr\u00f6\u00dfe:  (250, 250) neue Bildgr\u00f6\u00dfe (31, 31) geladen\n",
        "./lfw_funneled/George_W_Bush/George_W_Bush_0043.jpg Alte Bildgr\u00f6\u00dfe:  (250, 250) neue Bildgr\u00f6\u00dfe (31, 31) geladen\n",
        "./lfw_funneled/George_W_Bush/George_W_Bush_0438.jpg Alte Bildgr\u00f6\u00dfe:  (250, 250) neue Bildgr\u00f6\u00dfe (31, 31) geladen\n",
        "./lfw_funneled/George_W_Bush/George_W_Bush_0431.jpg"
       ]
      },
      {
       "output_type": "stream",
       "stream": "stdout",
       "text": [
        " Alte Bildgr\u00f6\u00dfe:  (250, 250) neue Bildgr\u00f6\u00dfe (31, 31) geladen\n",
        "./lfw_funneled/George_W_Bush/George_W_Bush_0314.jpg Alte Bildgr\u00f6\u00dfe:  (250, 250) neue Bildgr\u00f6\u00dfe (31, 31) geladen\n",
        "./lfw_funneled/George_W_Bush/George_W_Bush_0056.jpg Alte Bildgr\u00f6\u00dfe:  (250, 250) neue Bildgr\u00f6\u00dfe (31, 31) geladen\n",
        "./lfw_funneled/George_W_Bush/George_W_Bush_0432.jpg Alte Bildgr\u00f6\u00dfe:  (250, 250) neue Bildgr\u00f6\u00dfe (31, 31) geladen\n",
        "./lfw_funneled/George_W_Bush/George_W_Bush_0240.jpg Alte Bildgr\u00f6\u00dfe:  (250, 250) neue Bildgr\u00f6\u00dfe (31, 31) geladen\n",
        "./lfw_funneled/George_W_Bush/George_W_Bush_0131.jpg Alte Bildgr\u00f6\u00dfe:  (250, 250) neue Bildgr\u00f6\u00dfe (31, 31) geladen\n",
        "./lfw_funneled/George_W_Bush/George_W_Bush_0370.jpg Alte Bildgr\u00f6\u00dfe:  (250, 250) neue Bildgr\u00f6\u00dfe (31, 31) geladen\n",
        "./lfw_funneled/George_W_Bush/George_W_Bush_0124.jpg Alte Bildgr\u00f6\u00dfe:  (250, 250) neue Bildgr\u00f6\u00dfe (31, 31) geladen\n",
        "./lfw_funneled/George_W_Bush/George_W_Bush_0417.jpg Alte Bildgr\u00f6\u00dfe:  (250, 250) neue Bildgr\u00f6\u00dfe (31, 31) geladen\n",
        "./lfw_funneled/George_W_Bush/George_W_Bush_0379.jpg Alte Bildgr\u00f6\u00dfe:  (250, 250) neue Bildgr\u00f6\u00dfe (31, 31) geladen\n",
        "./lfw_funneled/George_W_Bush/George_W_Bush_0102.jpg Alte Bildgr\u00f6\u00dfe:  (250, 250) neue Bildgr\u00f6\u00dfe (31, 31) geladen\n",
        "./lfw_funneled/George_W_Bush/George_W_Bush_0077.jpg Alte Bildgr\u00f6\u00dfe:  (250, 250) neue Bildgr\u00f6\u00dfe (31, 31) geladen\n",
        "./lfw_funneled/George_W_Bush/George_W_Bush_0444.jpg Alte Bildgr\u00f6\u00dfe:  (250, 250) neue Bildgr\u00f6\u00dfe (31, 31) geladen\n",
        "./lfw_funneled/George_W_Bush/George_W_Bush_0217.jpg"
       ]
      },
      {
       "output_type": "stream",
       "stream": "stdout",
       "text": [
        " Alte Bildgr\u00f6\u00dfe:  (250, 250) neue Bildgr\u00f6\u00dfe (31, 31) geladen\n",
        "./lfw_funneled/George_W_Bush/George_W_Bush_0517.jpg Alte Bildgr\u00f6\u00dfe:  (250, 250) neue Bildgr\u00f6\u00dfe (31, 31) geladen\n",
        "./lfw_funneled/George_W_Bush/George_W_Bush_0289.jpg Alte Bildgr\u00f6\u00dfe:  (250, 250) neue Bildgr\u00f6\u00dfe (31, 31) geladen\n",
        "./lfw_funneled/George_W_Bush/George_W_Bush_0318.jpg Alte Bildgr\u00f6\u00dfe:  (250, 250) neue Bildgr\u00f6\u00dfe (31, 31) geladen\n",
        "./lfw_funneled/George_W_Bush/George_W_Bush_0406.jpg Alte Bildgr\u00f6\u00dfe:  (250, 250) neue Bildgr\u00f6\u00dfe (31, 31) geladen\n",
        "./lfw_funneled/Colin_Powell/Colin_Powell_0095.jpg Alte Bildgr\u00f6\u00dfe:  (250, 250) neue Bildgr\u00f6\u00dfe (31, 31) geladen\n",
        "./lfw_funneled/Colin_Powell/Colin_Powell_0122.jpg Alte Bildgr\u00f6\u00dfe:  (250, 250) neue Bildgr\u00f6\u00dfe (31, 31) geladen\n",
        "./lfw_funneled/Colin_Powell/Colin_Powell_0128.jpg Alte Bildgr\u00f6\u00dfe:  (250, 250) neue Bildgr\u00f6\u00dfe (31, 31) geladen\n",
        "./lfw_funneled/Colin_Powell/Colin_Powell_0084.jpg Alte Bildgr\u00f6\u00dfe:  (250, 250) neue Bildgr\u00f6\u00dfe (31, 31) geladen\n",
        "./lfw_funneled/Colin_Powell/Colin_Powell_0099.jpg Alte Bildgr\u00f6\u00dfe:  (250, 250) neue Bildgr\u00f6\u00dfe (31, 31) geladen\n",
        "./lfw_funneled/Colin_Powell/Colin_Powell_0080.jpg Alte Bildgr\u00f6\u00dfe:  (250, 250) neue Bildgr\u00f6\u00dfe (31, 31) geladen\n",
        "./lfw_funneled/Colin_Powell/Colin_Powell_0156.jpg Alte Bildgr\u00f6\u00dfe:  (250, 250) neue Bildgr\u00f6\u00dfe (31, 31) geladen\n",
        "./lfw_funneled/Colin_Powell/Colin_Powell_0018.jpg"
       ]
      },
      {
       "output_type": "stream",
       "stream": "stdout",
       "text": [
        " Alte Bildgr\u00f6\u00dfe:  (250, 250) neue Bildgr\u00f6\u00dfe (31, 31) geladen\n",
        "./lfw_funneled/Colin_Powell/Colin_Powell_0020.jpg Alte Bildgr\u00f6\u00dfe:  (250, 250) neue Bildgr\u00f6\u00dfe (31, 31) geladen\n",
        "./lfw_funneled/Colin_Powell/Colin_Powell_0005.jpg Alte Bildgr\u00f6\u00dfe:  (250, 250) neue Bildgr\u00f6\u00dfe (31, 31) geladen\n",
        "./lfw_funneled/Colin_Powell/Colin_Powell_0007.jpg Alte Bildgr\u00f6\u00dfe:  (250, 250) neue Bildgr\u00f6\u00dfe (31, 31) geladen\n",
        "./lfw_funneled/Colin_Powell/Colin_Powell_0104.jpg Alte Bildgr\u00f6\u00dfe:  (250, 250) neue Bildgr\u00f6\u00dfe (31, 31) geladen\n",
        "./lfw_funneled/Colin_Powell/Colin_Powell_0031.jpg Alte Bildgr\u00f6\u00dfe:  (250, 250) neue Bildgr\u00f6\u00dfe (31, 31) geladen\n",
        "./lfw_funneled/Colin_Powell/Colin_Powell_0130.jpg Alte Bildgr\u00f6\u00dfe:  (250, 250) neue Bildgr\u00f6\u00dfe (31, 31) geladen\n",
        "./lfw_funneled/Colin_Powell/Colin_Powell_0094.jpg Alte Bildgr\u00f6\u00dfe:  (250, 250) neue Bildgr\u00f6\u00dfe (31, 31) geladen\n",
        "./lfw_funneled/Colin_Powell/Colin_Powell_0207.jpg Alte Bildgr\u00f6\u00dfe:  (250, 250) neue Bildgr\u00f6\u00dfe (31, 31) geladen\n",
        "./lfw_funneled/Colin_Powell/Colin_Powell_0165.jpg"
       ]
      },
      {
       "output_type": "stream",
       "stream": "stdout",
       "text": [
        " Alte Bildgr\u00f6\u00dfe:  (250, 250) neue Bildgr\u00f6\u00dfe (31, 31) geladen\n",
        "./lfw_funneled/Colin_Powell/Colin_Powell_0076.jpg Alte Bildgr\u00f6\u00dfe:  (250, 250) neue Bildgr\u00f6\u00dfe (31, 31) geladen\n",
        "./lfw_funneled/Colin_Powell/Colin_Powell_0103.jpg Alte Bildgr\u00f6\u00dfe:  (250, 250) neue Bildgr\u00f6\u00dfe (31, 31) geladen\n",
        "./lfw_funneled/Colin_Powell/Colin_Powell_0125.jpg Alte Bildgr\u00f6\u00dfe:  (250, 250) neue Bildgr\u00f6\u00dfe (31, 31) geladen\n",
        "./lfw_funneled/Colin_Powell/Colin_Powell_0030.jpg Alte Bildgr\u00f6\u00dfe:  (250, 250) neue Bildgr\u00f6\u00dfe (31, 31) geladen\n",
        "./lfw_funneled/Colin_Powell/Colin_Powell_0006.jpg Alte Bildgr\u00f6\u00dfe:  (250, 250) neue Bildgr\u00f6\u00dfe (31, 31) geladen\n",
        "./lfw_funneled/Colin_Powell/Colin_Powell_0216.jpg Alte Bildgr\u00f6\u00dfe:  (250, 250) neue Bildgr\u00f6\u00dfe (31, 31) geladen\n",
        "./lfw_funneled/Colin_Powell/Colin_Powell_0175.jpg Alte Bildgr\u00f6\u00dfe:  (250, 250) neue Bildgr\u00f6\u00dfe (31, 31) geladen\n",
        "./lfw_funneled/Colin_Powell/Colin_Powell_0159.jpg Alte Bildgr\u00f6\u00dfe:  (250, 250) neue Bildgr\u00f6\u00dfe (31, 31) geladen\n",
        "./lfw_funneled/Colin_Powell/Colin_Powell_0025.jpg Alte Bildgr\u00f6\u00dfe:  (250, 250) neue Bildgr\u00f6\u00dfe (31, 31) geladen\n",
        "./lfw_funneled/Colin_Powell/Colin_Powell_0111.jpg"
       ]
      },
      {
       "output_type": "stream",
       "stream": "stdout",
       "text": [
        " Alte Bildgr\u00f6\u00dfe:  (250, 250) neue Bildgr\u00f6\u00dfe (31, 31) geladen\n",
        "./lfw_funneled/Colin_Powell/Colin_Powell_0060.jpg Alte Bildgr\u00f6\u00dfe:  (250, 250) neue Bildgr\u00f6\u00dfe (31, 31) geladen\n",
        "./lfw_funneled/Colin_Powell/Colin_Powell_0161.jpg Alte Bildgr\u00f6\u00dfe:  (250, 250) neue Bildgr\u00f6\u00dfe (31, 31) geladen\n",
        "./lfw_funneled/Colin_Powell/Colin_Powell_0154.jpg Alte Bildgr\u00f6\u00dfe:  (250, 250) neue Bildgr\u00f6\u00dfe (31, 31) geladen\n",
        "./lfw_funneled/Colin_Powell/Colin_Powell_0197.jpg Alte Bildgr\u00f6\u00dfe:  (250, 250) neue Bildgr\u00f6\u00dfe (31, 31) geladen\n",
        "./lfw_funneled/Colin_Powell/Colin_Powell_0219.jpg Alte Bildgr\u00f6\u00dfe:  (250, 250) neue Bildgr\u00f6\u00dfe (31, 31) geladen\n",
        "./lfw_funneled/Colin_Powell/Colin_Powell_0136.jpg Alte Bildgr\u00f6\u00dfe:  (250, 250) neue Bildgr\u00f6\u00dfe (31, 31) geladen\n",
        "./lfw_funneled/Colin_Powell/Colin_Powell_0137.jpg Alte Bildgr\u00f6\u00dfe:  (250, 250) neue Bildgr\u00f6\u00dfe (31, 31) geladen\n",
        "./lfw_funneled/Colin_Powell/Colin_Powell_0200.jpg"
       ]
      },
      {
       "output_type": "stream",
       "stream": "stdout",
       "text": [
        " Alte Bildgr\u00f6\u00dfe:  (250, 250) neue Bildgr\u00f6\u00dfe (31, 31) geladen\n",
        "./lfw_funneled/Colin_Powell/Colin_Powell_0118.jpg Alte Bildgr\u00f6\u00dfe:  (250, 250) neue Bildgr\u00f6\u00dfe (31, 31) geladen\n",
        "./lfw_funneled/Colin_Powell/Colin_Powell_0185.jpg Alte Bildgr\u00f6\u00dfe:  (250, 250) neue Bildgr\u00f6\u00dfe (31, 31) geladen\n",
        "./lfw_funneled/Colin_Powell/Colin_Powell_0180.jpg Alte Bildgr\u00f6\u00dfe:  (250, 250) neue Bildgr\u00f6\u00dfe (31, 31) geladen\n",
        "./lfw_funneled/Colin_Powell/Colin_Powell_0144.jpg Alte Bildgr\u00f6\u00dfe:  (250, 250) neue Bildgr\u00f6\u00dfe (31, 31) geladen\n",
        "./lfw_funneled/Colin_Powell/Colin_Powell_0184.jpg Alte Bildgr\u00f6\u00dfe:  (250, 250) neue Bildgr\u00f6\u00dfe (31, 31) geladen\n",
        "./lfw_funneled/Colin_Powell/Colin_Powell_0021.jpg Alte Bildgr\u00f6\u00dfe:  (250, 250) neue Bildgr\u00f6\u00dfe (31, 31) geladen\n",
        "./lfw_funneled/Colin_Powell/Colin_Powell_0090.jpg Alte Bildgr\u00f6\u00dfe:  (250, 250) neue Bildgr\u00f6\u00dfe (31, 31) geladen\n",
        "./lfw_funneled/Colin_Powell/Colin_Powell_0201.jpg"
       ]
      },
      {
       "output_type": "stream",
       "stream": "stdout",
       "text": [
        " Alte Bildgr\u00f6\u00dfe:  (250, 250) neue Bildgr\u00f6\u00dfe (31, 31) geladen\n",
        "./lfw_funneled/Colin_Powell/Colin_Powell_0072.jpg Alte Bildgr\u00f6\u00dfe:  (250, 250) neue Bildgr\u00f6\u00dfe (31, 31) geladen\n",
        "./lfw_funneled/Colin_Powell/Colin_Powell_0036.jpg Alte Bildgr\u00f6\u00dfe:  (250, 250) neue Bildgr\u00f6\u00dfe (31, 31) geladen\n",
        "./lfw_funneled/Colin_Powell/Colin_Powell_0003.jpg Alte Bildgr\u00f6\u00dfe:  (250, 250) neue Bildgr\u00f6\u00dfe (31, 31) geladen\n",
        "./lfw_funneled/Colin_Powell/Colin_Powell_0038.jpg Alte Bildgr\u00f6\u00dfe:  (250, 250) neue Bildgr\u00f6\u00dfe (31, 31) geladen\n",
        "./lfw_funneled/Colin_Powell/Colin_Powell_0149.jpg Alte Bildgr\u00f6\u00dfe:  (250, 250) neue Bildgr\u00f6\u00dfe (31, 31) geladen\n",
        "./lfw_funneled/Colin_Powell/Colin_Powell_0224.jpg Alte Bildgr\u00f6\u00dfe:  (250, 250) neue Bildgr\u00f6\u00dfe (31, 31) geladen\n",
        "./lfw_funneled/Colin_Powell/Colin_Powell_0211.jpg Alte Bildgr\u00f6\u00dfe:  (250, 250) neue Bildgr\u00f6\u00dfe (31, 31) geladen\n",
        "./lfw_funneled/Colin_Powell/Colin_Powell_0235.jpg Alte Bildgr\u00f6\u00dfe:  (250, 250) neue Bildgr\u00f6\u00dfe (31, 31) geladen\n",
        "./lfw_funneled/Colin_Powell/Colin_Powell_0203.jpg"
       ]
      },
      {
       "output_type": "stream",
       "stream": "stdout",
       "text": [
        " Alte Bildgr\u00f6\u00dfe:  (250, 250) neue Bildgr\u00f6\u00dfe (31, 31) geladen\n",
        "./lfw_funneled/Colin_Powell/Colin_Powell_0153.jpg Alte Bildgr\u00f6\u00dfe:  (250, 250) neue Bildgr\u00f6\u00dfe (31, 31) geladen\n",
        "./lfw_funneled/Colin_Powell/Colin_Powell_0079.jpg Alte Bildgr\u00f6\u00dfe:  (250, 250) neue Bildgr\u00f6\u00dfe (31, 31) geladen\n",
        "./lfw_funneled/Colin_Powell/Colin_Powell_0026.jpg Alte Bildgr\u00f6\u00dfe:  (250, 250) neue Bildgr\u00f6\u00dfe (31, 31) geladen\n",
        "./lfw_funneled/Colin_Powell/Colin_Powell_0170.jpg Alte Bildgr\u00f6\u00dfe:  (250, 250) neue Bildgr\u00f6\u00dfe (31, 31) geladen\n",
        "./lfw_funneled/Colin_Powell/Colin_Powell_0192.jpg Alte Bildgr\u00f6\u00dfe:  (250, 250) neue Bildgr\u00f6\u00dfe (31, 31) geladen\n",
        "./lfw_funneled/Colin_Powell/Colin_Powell_0138.jpg Alte Bildgr\u00f6\u00dfe:  (250, 250) neue Bildgr\u00f6\u00dfe (31, 31) geladen\n",
        "./lfw_funneled/Colin_Powell/Colin_Powell_0135.jpg Alte Bildgr\u00f6\u00dfe:  (250, 250) neue Bildgr\u00f6\u00dfe (31, 31) geladen\n",
        "./lfw_funneled/Colin_Powell/Colin_Powell_0158.jpg Alte Bildgr\u00f6\u00dfe:  (250, 250) neue Bildgr\u00f6\u00dfe (31, 31) geladen\n",
        "./lfw_funneled/Colin_Powell/Colin_Powell_0230.jpg Alte Bildgr\u00f6\u00dfe:  (250, 250) neue Bildgr\u00f6\u00dfe (31, 31) geladen\n",
        "./lfw_funneled/Colin_Powell/Colin_Powell_0037.jpg"
       ]
      },
      {
       "output_type": "stream",
       "stream": "stdout",
       "text": [
        " Alte Bildgr\u00f6\u00dfe:  (250, 250) neue Bildgr\u00f6\u00dfe (31, 31) geladen\n",
        "./lfw_funneled/Colin_Powell/Colin_Powell_0166.jpg Alte Bildgr\u00f6\u00dfe:  (250, 250) neue Bildgr\u00f6\u00dfe (31, 31) geladen\n",
        "./lfw_funneled/Colin_Powell/Colin_Powell_0108.jpg Alte Bildgr\u00f6\u00dfe:  (250, 250) neue Bildgr\u00f6\u00dfe (31, 31) geladen\n",
        "./lfw_funneled/Colin_Powell/Colin_Powell_0117.jpg Alte Bildgr\u00f6\u00dfe:  (250, 250) neue Bildgr\u00f6\u00dfe (31, 31) geladen\n",
        "./lfw_funneled/Colin_Powell/Colin_Powell_0191.jpg Alte Bildgr\u00f6\u00dfe:  (250, 250) neue Bildgr\u00f6\u00dfe (31, 31) geladen\n",
        "./lfw_funneled/Colin_Powell/Colin_Powell_0223.jpg Alte Bildgr\u00f6\u00dfe:  (250, 250) neue Bildgr\u00f6\u00dfe (31, 31) geladen\n",
        "./lfw_funneled/Colin_Powell/Colin_Powell_0047.jpg Alte Bildgr\u00f6\u00dfe:  (250, 250) neue Bildgr\u00f6\u00dfe (31, 31) geladen\n",
        "./lfw_funneled/Colin_Powell/Colin_Powell_0055.jpg Alte Bildgr\u00f6\u00dfe:  (250, 250) neue Bildgr\u00f6\u00dfe (31, 31) geladen\n",
        "./lfw_funneled/Colin_Powell/Colin_Powell_0134.jpg Alte Bildgr\u00f6\u00dfe:  (250, 250) neue Bildgr\u00f6\u00dfe (31, 31) geladen\n",
        "./lfw_funneled/Colin_Powell/Colin_Powell_0074.jpg"
       ]
      },
      {
       "output_type": "stream",
       "stream": "stdout",
       "text": [
        " Alte Bildgr\u00f6\u00dfe:  (250, 250) neue Bildgr\u00f6\u00dfe (31, 31) geladen\n",
        "./lfw_funneled/Colin_Powell/Colin_Powell_0234.jpg Alte Bildgr\u00f6\u00dfe:  (250, 250) neue Bildgr\u00f6\u00dfe (31, 31) geladen\n",
        "./lfw_funneled/Colin_Powell/Colin_Powell_0231.jpg Alte Bildgr\u00f6\u00dfe:  (250, 250) neue Bildgr\u00f6\u00dfe (31, 31) geladen\n",
        "./lfw_funneled/Colin_Powell/Colin_Powell_0056.jpg Alte Bildgr\u00f6\u00dfe:  (250, 250) neue Bildgr\u00f6\u00dfe (31, 31) geladen\n",
        "./lfw_funneled/Colin_Powell/Colin_Powell_0043.jpg Alte Bildgr\u00f6\u00dfe:  (250, 250) neue Bildgr\u00f6\u00dfe (31, 31) geladen\n",
        "./lfw_funneled/Colin_Powell/Colin_Powell_0082.jpg Alte Bildgr\u00f6\u00dfe:  (250, 250) neue Bildgr\u00f6\u00dfe (31, 31) geladen\n",
        "./lfw_funneled/Colin_Powell/Colin_Powell_0062.jpg Alte Bildgr\u00f6\u00dfe:  (250, 250) neue Bildgr\u00f6\u00dfe (31, 31) geladen\n",
        "./lfw_funneled/Colin_Powell/Colin_Powell_0077.jpg Alte Bildgr\u00f6\u00dfe:  (250, 250) neue Bildgr\u00f6\u00dfe (31, 31) geladen\n",
        "./lfw_funneled/Colin_Powell/Colin_Powell_0042.jpg Alte Bildgr\u00f6\u00dfe:  (250, 250) neue Bildgr\u00f6\u00dfe (31, 31) geladen\n",
        "./lfw_funneled/Colin_Powell/Colin_Powell_0027.jpg Alte Bildgr\u00f6\u00dfe:  (250, 250) neue Bildgr\u00f6\u00dfe (31, 31) geladen\n",
        "./lfw_funneled/Colin_Powell/Colin_Powell_0198.jpg Alte Bildgr\u00f6\u00dfe:  (250, 250) neue Bildgr\u00f6\u00dfe (31, 31) geladen\n",
        "./lfw_funneled/Colin_Powell/Colin_Powell_0225.jpg"
       ]
      },
      {
       "output_type": "stream",
       "stream": "stdout",
       "text": [
        " Alte Bildgr\u00f6\u00dfe:  (250, 250) neue Bildgr\u00f6\u00dfe (31, 31) geladen\n",
        "./lfw_funneled/Colin_Powell/Colin_Powell_0196.jpg Alte Bildgr\u00f6\u00dfe:  (250, 250) neue Bildgr\u00f6\u00dfe (31, 31) geladen\n",
        "./lfw_funneled/Colin_Powell/Colin_Powell_0001.jpg Alte Bildgr\u00f6\u00dfe:  (250, 250) neue Bildgr\u00f6\u00dfe (31, 31) geladen\n",
        "./lfw_funneled/Colin_Powell/Colin_Powell_0085.jpg Alte Bildgr\u00f6\u00dfe:  (250, 250) neue Bildgr\u00f6\u00dfe (31, 31) geladen\n",
        "./lfw_funneled/Colin_Powell/Colin_Powell_0194.jpg Alte Bildgr\u00f6\u00dfe:  (250, 250) neue Bildgr\u00f6\u00dfe (31, 31) geladen\n",
        "./lfw_funneled/Colin_Powell/Colin_Powell_0057.jpg Alte Bildgr\u00f6\u00dfe:  (250, 250) neue Bildgr\u00f6\u00dfe (31, 31) geladen\n",
        "./lfw_funneled/Colin_Powell/Colin_Powell_0070.jpg Alte Bildgr\u00f6\u00dfe:  (250, 250) neue Bildgr\u00f6\u00dfe (31, 31) geladen\n",
        "./lfw_funneled/Colin_Powell/Colin_Powell_0004.jpg Alte Bildgr\u00f6\u00dfe:  (250, 250) neue Bildgr\u00f6\u00dfe (31, 31) geladen\n",
        "./lfw_funneled/Colin_Powell/Colin_Powell_0008.jpg Alte Bildgr\u00f6\u00dfe:  (250, 250) neue Bildgr\u00f6\u00dfe (31, 31) geladen\n",
        "./lfw_funneled/Colin_Powell/Colin_Powell_0210.jpg Alte Bildgr\u00f6\u00dfe:  (250, 250) neue Bildgr\u00f6\u00dfe (31, 31) geladen\n",
        "./lfw_funneled/Colin_Powell/Colin_Powell_0098.jpg"
       ]
      },
      {
       "output_type": "stream",
       "stream": "stdout",
       "text": [
        " Alte Bildgr\u00f6\u00dfe:  (250, 250) neue Bildgr\u00f6\u00dfe (31, 31) geladen\n",
        "./lfw_funneled/Colin_Powell/Colin_Powell_0063.jpg Alte Bildgr\u00f6\u00dfe:  (250, 250) neue Bildgr\u00f6\u00dfe (31, 31) geladen\n",
        "./lfw_funneled/Colin_Powell/Colin_Powell_0015.jpg Alte Bildgr\u00f6\u00dfe:  (250, 250) neue Bildgr\u00f6\u00dfe (31, 31) geladen\n",
        "./lfw_funneled/Colin_Powell/Colin_Powell_0068.jpg Alte Bildgr\u00f6\u00dfe:  (250, 250) neue Bildgr\u00f6\u00dfe (31, 31) geladen\n",
        "./lfw_funneled/Colin_Powell/Colin_Powell_0014.jpg Alte Bildgr\u00f6\u00dfe:  (250, 250) neue Bildgr\u00f6\u00dfe (31, 31) geladen\n",
        "./lfw_funneled/Colin_Powell/Colin_Powell_0173.jpg Alte Bildgr\u00f6\u00dfe:  (250, 250) neue Bildgr\u00f6\u00dfe (31, 31) geladen\n",
        "./lfw_funneled/Colin_Powell/Colin_Powell_0174.jpg Alte Bildgr\u00f6\u00dfe:  (250, 250) neue Bildgr\u00f6\u00dfe (31, 31) geladen\n",
        "./lfw_funneled/Colin_Powell/Colin_Powell_0187.jpg Alte Bildgr\u00f6\u00dfe:  (250, 250) neue Bildgr\u00f6\u00dfe (31, 31) geladen\n",
        "./lfw_funneled/Colin_Powell/Colin_Powell_0181.jpg Alte Bildgr\u00f6\u00dfe:  (250, 250) neue Bildgr\u00f6\u00dfe (31, 31) geladen\n",
        "./lfw_funneled/Colin_Powell/Colin_Powell_0064.jpg Alte Bildgr\u00f6\u00dfe:  (250, 250) neue Bildgr\u00f6\u00dfe (31, 31) geladen\n",
        "./lfw_funneled/Colin_Powell/Colin_Powell_0065.jpg Alte Bildgr\u00f6\u00dfe:  (250, 250) neue Bildgr\u00f6\u00dfe (31, 31) geladen\n",
        "./lfw_funneled/Colin_Powell/Colin_Powell_0069.jpg"
       ]
      },
      {
       "output_type": "stream",
       "stream": "stdout",
       "text": [
        " Alte Bildgr\u00f6\u00dfe:  (250, 250) neue Bildgr\u00f6\u00dfe (31, 31) geladen\n",
        "./lfw_funneled/Colin_Powell/Colin_Powell_0226.jpg Alte Bildgr\u00f6\u00dfe:  (250, 250) neue Bildgr\u00f6\u00dfe (31, 31) geladen\n",
        "./lfw_funneled/Colin_Powell/Colin_Powell_0092.jpg Alte Bildgr\u00f6\u00dfe:  (250, 250) neue Bildgr\u00f6\u00dfe (31, 31) geladen\n",
        "./lfw_funneled/Colin_Powell/Colin_Powell_0035.jpg Alte Bildgr\u00f6\u00dfe:  (250, 250) neue Bildgr\u00f6\u00dfe (31, 31) geladen\n",
        "./lfw_funneled/Colin_Powell/Colin_Powell_0204.jpg Alte Bildgr\u00f6\u00dfe:  (250, 250) neue Bildgr\u00f6\u00dfe (31, 31) geladen\n",
        "./lfw_funneled/Colin_Powell/Colin_Powell_0033.jpg Alte Bildgr\u00f6\u00dfe:  (250, 250) neue Bildgr\u00f6\u00dfe (31, 31) geladen\n",
        "./lfw_funneled/Colin_Powell/Colin_Powell_0172.jpg Alte Bildgr\u00f6\u00dfe:  (250, 250) neue Bildgr\u00f6\u00dfe (31, 31) geladen\n",
        "./lfw_funneled/Colin_Powell/Colin_Powell_0052.jpg Alte Bildgr\u00f6\u00dfe:  (250, 250) neue Bildgr\u00f6\u00dfe (31, 31) geladen\n",
        "./lfw_funneled/Colin_Powell/Colin_Powell_0010.jpg Alte Bildgr\u00f6\u00dfe:  (250, 250) neue Bildgr\u00f6\u00dfe (31, 31) geladen\n",
        "./lfw_funneled/Colin_Powell/Colin_Powell_0039.jpg Alte Bildgr\u00f6\u00dfe:  (250, 250) neue Bildgr\u00f6\u00dfe (31, 31) geladen\n",
        "./lfw_funneled/Colin_Powell/Colin_Powell_0148.jpg"
       ]
      },
      {
       "output_type": "stream",
       "stream": "stdout",
       "text": [
        " Alte Bildgr\u00f6\u00dfe:  (250, 250) neue Bildgr\u00f6\u00dfe (31, 31) geladen\n",
        "./lfw_funneled/Colin_Powell/Colin_Powell_0123.jpg Alte Bildgr\u00f6\u00dfe:  (250, 250) neue Bildgr\u00f6\u00dfe (31, 31) geladen\n",
        "./lfw_funneled/Colin_Powell/Colin_Powell_0131.jpg Alte Bildgr\u00f6\u00dfe:  (250, 250) neue Bildgr\u00f6\u00dfe (31, 31) geladen\n",
        "./lfw_funneled/Colin_Powell/Colin_Powell_0110.jpg Alte Bildgr\u00f6\u00dfe:  (250, 250) neue Bildgr\u00f6\u00dfe (31, 31) geladen\n",
        "./lfw_funneled/Colin_Powell/Colin_Powell_0152.jpg Alte Bildgr\u00f6\u00dfe:  (250, 250) neue Bildgr\u00f6\u00dfe (31, 31) geladen\n",
        "./lfw_funneled/Colin_Powell/Colin_Powell_0046.jpg Alte Bildgr\u00f6\u00dfe:  (250, 250) neue Bildgr\u00f6\u00dfe (31, 31) geladen\n",
        "./lfw_funneled/Colin_Powell/Colin_Powell_0186.jpg Alte Bildgr\u00f6\u00dfe:  (250, 250) neue Bildgr\u00f6\u00dfe (31, 31) geladen\n",
        "./lfw_funneled/Colin_Powell/Colin_Powell_0088.jpg Alte Bildgr\u00f6\u00dfe:  (250, 250) neue Bildgr\u00f6\u00dfe (31, 31) geladen\n",
        "./lfw_funneled/Colin_Powell/Colin_Powell_0195.jpg Alte Bildgr\u00f6\u00dfe:  (250, 250) neue Bildgr\u00f6\u00dfe (31, 31) geladen\n",
        "./lfw_funneled/Colin_Powell/Colin_Powell_0119.jpg Alte Bildgr\u00f6\u00dfe:  (250, 250) neue Bildgr\u00f6\u00dfe (31, 31) geladen\n",
        "./lfw_funneled/Colin_Powell/Colin_Powell_0220.jpg Alte Bildgr\u00f6\u00dfe:  (250, 250) neue Bildgr\u00f6\u00dfe (31, 31) geladen\n",
        "./lfw_funneled/Colin_Powell/Colin_Powell_0147.jpg"
       ]
      },
      {
       "output_type": "stream",
       "stream": "stdout",
       "text": [
        " Alte Bildgr\u00f6\u00dfe:  (250, 250) neue Bildgr\u00f6\u00dfe (31, 31) geladen\n",
        "./lfw_funneled/Colin_Powell/Colin_Powell_0212.jpg Alte Bildgr\u00f6\u00dfe:  (250, 250) neue Bildgr\u00f6\u00dfe (31, 31) geladen\n",
        "./lfw_funneled/Colin_Powell/Colin_Powell_0054.jpg Alte Bildgr\u00f6\u00dfe:  (250, 250) neue Bildgr\u00f6\u00dfe (31, 31) geladen\n",
        "./lfw_funneled/Colin_Powell/Colin_Powell_0081.jpg Alte Bildgr\u00f6\u00dfe:  (250, 250) neue Bildgr\u00f6\u00dfe (31, 31) geladen\n",
        "./lfw_funneled/Colin_Powell/Colin_Powell_0157.jpg Alte Bildgr\u00f6\u00dfe:  (250, 250) neue Bildgr\u00f6\u00dfe (31, 31) geladen\n",
        "./lfw_funneled/Colin_Powell/Colin_Powell_0093.jpg Alte Bildgr\u00f6\u00dfe:  (250, 250) neue Bildgr\u00f6\u00dfe (31, 31) geladen\n",
        "./lfw_funneled/Colin_Powell/Colin_Powell_0124.jpg Alte Bildgr\u00f6\u00dfe:  (250, 250) neue Bildgr\u00f6\u00dfe (31, 31) geladen\n",
        "./lfw_funneled/Colin_Powell/Colin_Powell_0189.jpg Alte Bildgr\u00f6\u00dfe:  (250, 250) neue Bildgr\u00f6\u00dfe (31, 31) geladen\n",
        "./lfw_funneled/Colin_Powell/Colin_Powell_0145.jpg Alte Bildgr\u00f6\u00dfe:  (250, 250) neue Bildgr\u00f6\u00dfe (31, 31) geladen\n",
        "./lfw_funneled/Colin_Powell/Colin_Powell_0205.jpg Alte Bildgr\u00f6\u00dfe:  (250, 250) neue Bildgr\u00f6\u00dfe (31, 31) geladen\n",
        "./lfw_funneled/Colin_Powell/Colin_Powell_0040.jpg"
       ]
      },
      {
       "output_type": "stream",
       "stream": "stdout",
       "text": [
        " Alte Bildgr\u00f6\u00dfe:  (250, 250) neue Bildgr\u00f6\u00dfe (31, 31) geladen\n",
        "./lfw_funneled/Colin_Powell/Colin_Powell_0115.jpg Alte Bildgr\u00f6\u00dfe:  (250, 250) neue Bildgr\u00f6\u00dfe (31, 31) geladen\n",
        "./lfw_funneled/Colin_Powell/Colin_Powell_0213.jpg Alte Bildgr\u00f6\u00dfe:  (250, 250) neue Bildgr\u00f6\u00dfe (31, 31) geladen\n",
        "./lfw_funneled/Colin_Powell/Colin_Powell_0041.jpg Alte Bildgr\u00f6\u00dfe:  (250, 250) neue Bildgr\u00f6\u00dfe (31, 31) geladen\n",
        "./lfw_funneled/Colin_Powell/Colin_Powell_0229.jpg Alte Bildgr\u00f6\u00dfe:  (250, 250) neue Bildgr\u00f6\u00dfe (31, 31) geladen\n",
        "./lfw_funneled/Colin_Powell/Colin_Powell_0162.jpg Alte Bildgr\u00f6\u00dfe:  (250, 250) neue Bildgr\u00f6\u00dfe (31, 31) geladen\n",
        "./lfw_funneled/Colin_Powell/Colin_Powell_0164.jpg Alte Bildgr\u00f6\u00dfe:  (250, 250) neue Bildgr\u00f6\u00dfe (31, 31) geladen\n",
        "./lfw_funneled/Colin_Powell/Colin_Powell_0067.jpg Alte Bildgr\u00f6\u00dfe:  (250, 250) neue Bildgr\u00f6\u00dfe (31, 31) geladen\n",
        "./lfw_funneled/Colin_Powell/Colin_Powell_0146.jpg Alte Bildgr\u00f6\u00dfe:  (250, 250) neue Bildgr\u00f6\u00dfe (31, 31) geladen\n",
        "./lfw_funneled/Hugo_Chavez/Hugo_Chavez_0053.jpg Alte Bildgr\u00f6\u00dfe:  (250, 250) neue Bildgr\u00f6\u00dfe (31, 31) geladen\n",
        "./lfw_funneled/Hugo_Chavez/Hugo_Chavez_0029.jpg Alte Bildgr\u00f6\u00dfe:  (250, 250) neue Bildgr\u00f6\u00dfe (31, 31) geladen\n",
        "./lfw_funneled/Hugo_Chavez/Hugo_Chavez_0061.jpg Alte Bildgr\u00f6\u00dfe:  (250, 250) neue Bildgr\u00f6\u00dfe (31, 31) geladen\n",
        "./lfw_funneled/Hugo_Chavez/Hugo_Chavez_0062.jpg"
       ]
      },
      {
       "output_type": "stream",
       "stream": "stdout",
       "text": [
        " Alte Bildgr\u00f6\u00dfe:  (250, 250) neue Bildgr\u00f6\u00dfe (31, 31) geladen\n",
        "./lfw_funneled/Hugo_Chavez/Hugo_Chavez_0058.jpg Alte Bildgr\u00f6\u00dfe:  (250, 250) neue Bildgr\u00f6\u00dfe (31, 31) geladen\n",
        "./lfw_funneled/Hugo_Chavez/Hugo_Chavez_0054.jpg Alte Bildgr\u00f6\u00dfe:  (250, 250) neue Bildgr\u00f6\u00dfe (31, 31) geladen\n",
        "./lfw_funneled/Hugo_Chavez/Hugo_Chavez_0011.jpg Alte Bildgr\u00f6\u00dfe:  (250, 250) neue Bildgr\u00f6\u00dfe (31, 31) geladen\n",
        "./lfw_funneled/Hugo_Chavez/Hugo_Chavez_0003.jpg Alte Bildgr\u00f6\u00dfe:  (250, 250) neue Bildgr\u00f6\u00dfe (31, 31) geladen\n",
        "./lfw_funneled/Hugo_Chavez/Hugo_Chavez_0046.jpg Alte Bildgr\u00f6\u00dfe:  (250, 250) neue Bildgr\u00f6\u00dfe (31, 31) geladen\n",
        "./lfw_funneled/Hugo_Chavez/Hugo_Chavez_0038.jpg Alte Bildgr\u00f6\u00dfe:  (250, 250) neue Bildgr\u00f6\u00dfe (31, 31) geladen\n",
        "./lfw_funneled/Hugo_Chavez/Hugo_Chavez_0026.jpg Alte Bildgr\u00f6\u00dfe:  (250, 250) neue Bildgr\u00f6\u00dfe (31, 31) geladen\n",
        "./lfw_funneled/Hugo_Chavez/Hugo_Chavez_0008.jpg Alte Bildgr\u00f6\u00dfe:  (250, 250) neue Bildgr\u00f6\u00dfe (31, 31) geladen\n",
        "./lfw_funneled/Hugo_Chavez/Hugo_Chavez_0020.jpg Alte Bildgr\u00f6\u00dfe:  (250, 250) neue Bildgr\u00f6\u00dfe (31, 31) geladen\n",
        "./lfw_funneled/Hugo_Chavez/Hugo_Chavez_0027.jpg Alte Bildgr\u00f6\u00dfe:  (250, 250) neue Bildgr\u00f6\u00dfe (31, 31) geladen\n",
        "./lfw_funneled/Hugo_Chavez/Hugo_Chavez_0056.jpg"
       ]
      },
      {
       "output_type": "stream",
       "stream": "stdout",
       "text": [
        " Alte Bildgr\u00f6\u00dfe:  (250, 250) neue Bildgr\u00f6\u00dfe (31, 31) geladen\n",
        "./lfw_funneled/Hugo_Chavez/Hugo_Chavez_0009.jpg Alte Bildgr\u00f6\u00dfe:  (250, 250) neue Bildgr\u00f6\u00dfe (31, 31) geladen\n",
        "./lfw_funneled/Hugo_Chavez/Hugo_Chavez_0023.jpg Alte Bildgr\u00f6\u00dfe:  (250, 250) neue Bildgr\u00f6\u00dfe (31, 31) geladen\n",
        "./lfw_funneled/Hugo_Chavez/Hugo_Chavez_0045.jpg Alte Bildgr\u00f6\u00dfe:  (250, 250) neue Bildgr\u00f6\u00dfe (31, 31) geladen\n",
        "./lfw_funneled/Hugo_Chavez/Hugo_Chavez_0037.jpg Alte Bildgr\u00f6\u00dfe:  (250, 250) neue Bildgr\u00f6\u00dfe (31, 31) geladen\n",
        "./lfw_funneled/Hugo_Chavez/Hugo_Chavez_0022.jpg Alte Bildgr\u00f6\u00dfe:  (250, 250) neue Bildgr\u00f6\u00dfe (31, 31) geladen\n",
        "./lfw_funneled/Hugo_Chavez/Hugo_Chavez_0059.jpg Alte Bildgr\u00f6\u00dfe:  (250, 250) neue Bildgr\u00f6\u00dfe (31, 31) geladen\n",
        "./lfw_funneled/Hugo_Chavez/Hugo_Chavez_0036.jpg Alte Bildgr\u00f6\u00dfe:  (250, 250) neue Bildgr\u00f6\u00dfe (31, 31) geladen\n",
        "./lfw_funneled/Hugo_Chavez/Hugo_Chavez_0040.jpg Alte Bildgr\u00f6\u00dfe:  (250, 250) neue Bildgr\u00f6\u00dfe (31, 31) geladen\n",
        "./lfw_funneled/Hugo_Chavez/Hugo_Chavez_0064.jpg Alte Bildgr\u00f6\u00dfe:  (250, 250) neue Bildgr\u00f6\u00dfe (31, 31) geladen\n",
        "./lfw_funneled/Hugo_Chavez/Hugo_Chavez_0001.jpg Alte Bildgr\u00f6\u00dfe:  (250, 250) neue Bildgr\u00f6\u00dfe (31, 31) geladen\n",
        "./lfw_funneled/Hugo_Chavez/Hugo_Chavez_0069.jpg Alte Bildgr\u00f6\u00dfe:  (250, 250) neue Bildgr\u00f6\u00dfe (31, 31) geladen\n",
        "./lfw_funneled/Hugo_Chavez/Hugo_Chavez_0018.jpg"
       ]
      },
      {
       "output_type": "stream",
       "stream": "stdout",
       "text": [
        " Alte Bildgr\u00f6\u00dfe:  (250, 250) neue Bildgr\u00f6\u00dfe (31, 31) geladen\n",
        "./lfw_funneled/Hugo_Chavez/Hugo_Chavez_0033.jpg Alte Bildgr\u00f6\u00dfe:  (250, 250) neue Bildgr\u00f6\u00dfe (31, 31) geladen\n",
        "./lfw_funneled/Hugo_Chavez/Hugo_Chavez_0042.jpg Alte Bildgr\u00f6\u00dfe:  (250, 250) neue Bildgr\u00f6\u00dfe (31, 31) geladen\n",
        "./lfw_funneled/Hugo_Chavez/Hugo_Chavez_0024.jpg Alte Bildgr\u00f6\u00dfe:  (250, 250) neue Bildgr\u00f6\u00dfe (31, 31) geladen\n",
        "./lfw_funneled/Hugo_Chavez/Hugo_Chavez_0052.jpg Alte Bildgr\u00f6\u00dfe:  (250, 250) neue Bildgr\u00f6\u00dfe (31, 31) geladen\n",
        "./lfw_funneled/Hugo_Chavez/Hugo_Chavez_0014.jpg Alte Bildgr\u00f6\u00dfe:  (250, 250) neue Bildgr\u00f6\u00dfe (31, 31) geladen\n",
        "./lfw_funneled/Hugo_Chavez/Hugo_Chavez_0044.jpg Alte Bildgr\u00f6\u00dfe:  (250, 250) neue Bildgr\u00f6\u00dfe (31, 31) geladen\n",
        "./lfw_funneled/Hugo_Chavez/Hugo_Chavez_0013.jpg Alte Bildgr\u00f6\u00dfe:  (250, 250) neue Bildgr\u00f6\u00dfe (31, 31) geladen\n",
        "./lfw_funneled/Hugo_Chavez/Hugo_Chavez_0025.jpg Alte Bildgr\u00f6\u00dfe:  (250, 250) neue Bildgr\u00f6\u00dfe (31, 31) geladen\n",
        "./lfw_funneled/Hugo_Chavez/Hugo_Chavez_0043.jpg Alte Bildgr\u00f6\u00dfe:  (250, 250) neue Bildgr\u00f6\u00dfe (31, 31) geladen\n",
        "./lfw_funneled/Hugo_Chavez/Hugo_Chavez_0034.jpg Alte Bildgr\u00f6\u00dfe:  (250, 250) neue Bildgr\u00f6\u00dfe (31, 31) geladen\n",
        "./lfw_funneled/Hugo_Chavez/Hugo_Chavez_0019.jpg Alte Bildgr\u00f6\u00dfe:  (250, 250) neue Bildgr\u00f6\u00dfe (31, 31) geladen\n",
        "./lfw_funneled/Hugo_Chavez/Hugo_Chavez_0041.jpg Alte Bildgr\u00f6\u00dfe:  (250, 250) neue Bildgr\u00f6\u00dfe (31, 31) geladen\n",
        "./lfw_funneled/Hugo_Chavez/Hugo_Chavez_0016.jpg"
       ]
      },
      {
       "output_type": "stream",
       "stream": "stdout",
       "text": [
        " Alte Bildgr\u00f6\u00dfe:  (250, 250) neue Bildgr\u00f6\u00dfe (31, 31) geladen\n",
        "./lfw_funneled/Hugo_Chavez/Hugo_Chavez_0065.jpg Alte Bildgr\u00f6\u00dfe:  (250, 250) neue Bildgr\u00f6\u00dfe (31, 31) geladen\n",
        "./lfw_funneled/Hugo_Chavez/Hugo_Chavez_0028.jpg Alte Bildgr\u00f6\u00dfe:  (250, 250) neue Bildgr\u00f6\u00dfe (31, 31) geladen\n",
        "./lfw_funneled/Hugo_Chavez/Hugo_Chavez_0032.jpg Alte Bildgr\u00f6\u00dfe:  (250, 250) neue Bildgr\u00f6\u00dfe (31, 31) geladen\n",
        "./lfw_funneled/Gerhard_Schroeder/Gerhard_Schroeder_0064.jpg Alte Bildgr\u00f6\u00dfe:  (250, 250) neue Bildgr\u00f6\u00dfe (31, 31) geladen\n",
        "./lfw_funneled/Gerhard_Schroeder/Gerhard_Schroeder_0095.jpg Alte Bildgr\u00f6\u00dfe:  (250, 250) neue Bildgr\u00f6\u00dfe (31, 31) geladen\n",
        "./lfw_funneled/Gerhard_Schroeder/Gerhard_Schroeder_0098.jpg Alte Bildgr\u00f6\u00dfe:  (250, 250) neue Bildgr\u00f6\u00dfe (31, 31) geladen\n",
        "./lfw_funneled/Gerhard_Schroeder/Gerhard_Schroeder_0100.jpg Alte Bildgr\u00f6\u00dfe:  (250, 250) neue Bildgr\u00f6\u00dfe (31, 31) geladen\n",
        "./lfw_funneled/Gerhard_Schroeder/Gerhard_Schroeder_0019.jpg Alte Bildgr\u00f6\u00dfe:  (250, 250) neue Bildgr\u00f6\u00dfe (31, 31) geladen\n",
        "./lfw_funneled/Gerhard_Schroeder/Gerhard_Schroeder_0040.jpg Alte Bildgr\u00f6\u00dfe:  (250, 250) neue Bildgr\u00f6\u00dfe (31, 31) geladen\n",
        "./lfw_funneled/Gerhard_Schroeder/Gerhard_Schroeder_0022.jpg Alte Bildgr\u00f6\u00dfe:  (250, 250) neue Bildgr\u00f6\u00dfe (31, 31) geladen\n",
        "./lfw_funneled/Gerhard_Schroeder/Gerhard_Schroeder_0020.jpg"
       ]
      },
      {
       "output_type": "stream",
       "stream": "stdout",
       "text": [
        " Alte Bildgr\u00f6\u00dfe:  (250, 250) neue Bildgr\u00f6\u00dfe (31, 31) geladen\n",
        "./lfw_funneled/Gerhard_Schroeder/Gerhard_Schroeder_0093.jpg Alte Bildgr\u00f6\u00dfe:  (250, 250) neue Bildgr\u00f6\u00dfe (31, 31) geladen\n",
        "./lfw_funneled/Gerhard_Schroeder/Gerhard_Schroeder_0096.jpg Alte Bildgr\u00f6\u00dfe:  (250, 250) neue Bildgr\u00f6\u00dfe (31, 31) geladen\n",
        "./lfw_funneled/Gerhard_Schroeder/Gerhard_Schroeder_0009.jpg Alte Bildgr\u00f6\u00dfe:  (250, 250) neue Bildgr\u00f6\u00dfe (31, 31) geladen\n",
        "./lfw_funneled/Gerhard_Schroeder/Gerhard_Schroeder_0036.jpg Alte Bildgr\u00f6\u00dfe:  (250, 250) neue Bildgr\u00f6\u00dfe (31, 31) geladen\n",
        "./lfw_funneled/Gerhard_Schroeder/Gerhard_Schroeder_0083.jpg Alte Bildgr\u00f6\u00dfe:  (250, 250) neue Bildgr\u00f6\u00dfe (31, 31) geladen\n",
        "./lfw_funneled/Gerhard_Schroeder/Gerhard_Schroeder_0070.jpg Alte Bildgr\u00f6\u00dfe:  (250, 250) neue Bildgr\u00f6\u00dfe (31, 31) geladen\n",
        "./lfw_funneled/Gerhard_Schroeder/Gerhard_Schroeder_0101.jpg Alte Bildgr\u00f6\u00dfe:  (250, 250) neue Bildgr\u00f6\u00dfe (31, 31) geladen\n",
        "./lfw_funneled/Gerhard_Schroeder/Gerhard_Schroeder_0082.jpg Alte Bildgr\u00f6\u00dfe:  (250, 250) neue Bildgr\u00f6\u00dfe (31, 31) geladen\n",
        "./lfw_funneled/Gerhard_Schroeder/Gerhard_Schroeder_0023.jpg Alte Bildgr\u00f6\u00dfe:  (250, 250) neue Bildgr\u00f6\u00dfe (31, 31) geladen\n",
        "./lfw_funneled/Gerhard_Schroeder/Gerhard_Schroeder_0084.jpg Alte Bildgr\u00f6\u00dfe:  (250, 250) neue Bildgr\u00f6\u00dfe (31, 31) geladen\n",
        "./lfw_funneled/Gerhard_Schroeder/Gerhard_Schroeder_0016.jpg Alte Bildgr\u00f6\u00dfe:  (250, 250) neue Bildgr\u00f6\u00dfe (31, 31) geladen\n",
        "./lfw_funneled/Gerhard_Schroeder/Gerhard_Schroeder_0090.jpg Alte Bildgr\u00f6\u00dfe:  (250, 250) neue Bildgr\u00f6\u00dfe (31, 31) geladen\n",
        "./lfw_funneled/Gerhard_Schroeder/Gerhard_Schroeder_0092.jpg"
       ]
      },
      {
       "output_type": "stream",
       "stream": "stdout",
       "text": [
        " Alte Bildgr\u00f6\u00dfe:  (250, 250) neue Bildgr\u00f6\u00dfe (31, 31) geladen\n",
        "./lfw_funneled/Gerhard_Schroeder/Gerhard_Schroeder_0006.jpg Alte Bildgr\u00f6\u00dfe:  (250, 250) neue Bildgr\u00f6\u00dfe (31, 31) geladen\n",
        "./lfw_funneled/Gerhard_Schroeder/Gerhard_Schroeder_0088.jpg Alte Bildgr\u00f6\u00dfe:  (250, 250) neue Bildgr\u00f6\u00dfe (31, 31) geladen\n",
        "./lfw_funneled/Gerhard_Schroeder/Gerhard_Schroeder_0007.jpg Alte Bildgr\u00f6\u00dfe:  (250, 250) neue Bildgr\u00f6\u00dfe (31, 31) geladen\n",
        "./lfw_funneled/Gerhard_Schroeder/Gerhard_Schroeder_0050.jpg Alte Bildgr\u00f6\u00dfe:  (250, 250) neue Bildgr\u00f6\u00dfe (31, 31) geladen\n",
        "./lfw_funneled/Gerhard_Schroeder/Gerhard_Schroeder_0062.jpg Alte Bildgr\u00f6\u00dfe:  (250, 250) neue Bildgr\u00f6\u00dfe (31, 31) geladen\n",
        "./lfw_funneled/Gerhard_Schroeder/Gerhard_Schroeder_0034.jpg Alte Bildgr\u00f6\u00dfe:  (250, 250) neue Bildgr\u00f6\u00dfe (31, 31) geladen\n",
        "./lfw_funneled/Gerhard_Schroeder/Gerhard_Schroeder_0033.jpg Alte Bildgr\u00f6\u00dfe:  (250, 250) neue Bildgr\u00f6\u00dfe (31, 31) geladen\n",
        "./lfw_funneled/Gerhard_Schroeder/Gerhard_Schroeder_0073.jpg Alte Bildgr\u00f6\u00dfe:  (250, 250) neue Bildgr\u00f6\u00dfe (31, 31) geladen\n",
        "./lfw_funneled/Gerhard_Schroeder/Gerhard_Schroeder_0005.jpg Alte Bildgr\u00f6\u00dfe:  (250, 250) neue Bildgr\u00f6\u00dfe (31, 31) geladen\n",
        "./lfw_funneled/Gerhard_Schroeder/Gerhard_Schroeder_0029.jpg Alte Bildgr\u00f6\u00dfe:  (250, 250) neue Bildgr\u00f6\u00dfe (31, 31) geladen\n",
        "./lfw_funneled/Gerhard_Schroeder/Gerhard_Schroeder_0076.jpg Alte Bildgr\u00f6\u00dfe:  (250, 250) neue Bildgr\u00f6\u00dfe (31, 31) geladen\n",
        "./lfw_funneled/Gerhard_Schroeder/Gerhard_Schroeder_0079.jpg"
       ]
      },
      {
       "output_type": "stream",
       "stream": "stdout",
       "text": [
        " Alte Bildgr\u00f6\u00dfe:  (250, 250) neue Bildgr\u00f6\u00dfe (31, 31) geladen\n",
        "./lfw_funneled/Gerhard_Schroeder/Gerhard_Schroeder_0078.jpg Alte Bildgr\u00f6\u00dfe:  (250, 250) neue Bildgr\u00f6\u00dfe (31, 31) geladen\n",
        "./lfw_funneled/Gerhard_Schroeder/Gerhard_Schroeder_0017.jpg Alte Bildgr\u00f6\u00dfe:  (250, 250) neue Bildgr\u00f6\u00dfe (31, 31) geladen\n",
        "./lfw_funneled/Gerhard_Schroeder/Gerhard_Schroeder_0104.jpg Alte Bildgr\u00f6\u00dfe:  (250, 250) neue Bildgr\u00f6\u00dfe (31, 31) geladen\n",
        "./lfw_funneled/Gerhard_Schroeder/Gerhard_Schroeder_0067.jpg Alte Bildgr\u00f6\u00dfe:  (250, 250) neue Bildgr\u00f6\u00dfe (31, 31) geladen\n",
        "./lfw_funneled/Gerhard_Schroeder/Gerhard_Schroeder_0089.jpg Alte Bildgr\u00f6\u00dfe:  (250, 250) neue Bildgr\u00f6\u00dfe (31, 31) geladen\n",
        "./lfw_funneled/Gerhard_Schroeder/Gerhard_Schroeder_0056.jpg Alte Bildgr\u00f6\u00dfe:  (250, 250) neue Bildgr\u00f6\u00dfe (31, 31) geladen\n",
        "./lfw_funneled/Gerhard_Schroeder/Gerhard_Schroeder_0051.jpg Alte Bildgr\u00f6\u00dfe:  (250, 250) neue Bildgr\u00f6\u00dfe (31, 31) geladen\n",
        "./lfw_funneled/Gerhard_Schroeder/Gerhard_Schroeder_0061.jpg Alte Bildgr\u00f6\u00dfe:  (250, 250) neue Bildgr\u00f6\u00dfe (31, 31) geladen\n",
        "./lfw_funneled/Gerhard_Schroeder/Gerhard_Schroeder_0011.jpg Alte Bildgr\u00f6\u00dfe:  (250, 250) neue Bildgr\u00f6\u00dfe (31, 31) geladen\n",
        "./lfw_funneled/Gerhard_Schroeder/Gerhard_Schroeder_0053.jpg"
       ]
      },
      {
       "output_type": "stream",
       "stream": "stdout",
       "text": [
        " Alte Bildgr\u00f6\u00dfe:  (250, 250) neue Bildgr\u00f6\u00dfe (31, 31) geladen\n",
        "./lfw_funneled/Gerhard_Schroeder/Gerhard_Schroeder_0103.jpg Alte Bildgr\u00f6\u00dfe:  (250, 250) neue Bildgr\u00f6\u00dfe (31, 31) geladen\n",
        "./lfw_funneled/Gerhard_Schroeder/Gerhard_Schroeder_0027.jpg Alte Bildgr\u00f6\u00dfe:  (250, 250) neue Bildgr\u00f6\u00dfe (31, 31) geladen\n",
        "./lfw_funneled/Gerhard_Schroeder/Gerhard_Schroeder_0077.jpg Alte Bildgr\u00f6\u00dfe:  (250, 250) neue Bildgr\u00f6\u00dfe (31, 31) geladen\n",
        "./lfw_funneled/Gerhard_Schroeder/Gerhard_Schroeder_0046.jpg Alte Bildgr\u00f6\u00dfe:  (250, 250) neue Bildgr\u00f6\u00dfe (31, 31) geladen\n",
        "./lfw_funneled/Gerhard_Schroeder/Gerhard_Schroeder_0026.jpg Alte Bildgr\u00f6\u00dfe:  (250, 250) neue Bildgr\u00f6\u00dfe (31, 31) geladen\n",
        "./lfw_funneled/Gerhard_Schroeder/Gerhard_Schroeder_0021.jpg Alte Bildgr\u00f6\u00dfe:  (250, 250) neue Bildgr\u00f6\u00dfe (31, 31) geladen\n",
        "./lfw_funneled/Gerhard_Schroeder/Gerhard_Schroeder_0057.jpg Alte Bildgr\u00f6\u00dfe:  (250, 250) neue Bildgr\u00f6\u00dfe (31, 31) geladen\n",
        "./lfw_funneled/Gerhard_Schroeder/Gerhard_Schroeder_0031.jpg Alte Bildgr\u00f6\u00dfe:  (250, 250) neue Bildgr\u00f6\u00dfe (31, 31) geladen\n",
        "./lfw_funneled/Gerhard_Schroeder/Gerhard_Schroeder_0071.jpg Alte Bildgr\u00f6\u00dfe:  (250, 250) neue Bildgr\u00f6\u00dfe (31, 31) geladen\n",
        "./lfw_funneled/Gerhard_Schroeder/Gerhard_Schroeder_0018.jpg Alte Bildgr\u00f6\u00dfe:  (250, 250) neue Bildgr\u00f6\u00dfe (31, 31) geladen\n",
        "./lfw_funneled/Gerhard_Schroeder/Gerhard_Schroeder_0099.jpg Alte Bildgr\u00f6\u00dfe:  (250, 250) neue Bildgr\u00f6\u00dfe (31, 31) geladen\n",
        "./lfw_funneled/Gerhard_Schroeder/Gerhard_Schroeder_0108.jpg Alte Bildgr\u00f6\u00dfe:  (250, 250) neue Bildgr\u00f6\u00dfe (31, 31) geladen\n",
        "./lfw_funneled/Gerhard_Schroeder/Gerhard_Schroeder_0024.jpg"
       ]
      },
      {
       "output_type": "stream",
       "stream": "stdout",
       "text": [
        " Alte Bildgr\u00f6\u00dfe:  (250, 250) neue Bildgr\u00f6\u00dfe (31, 31) geladen\n",
        "./lfw_funneled/Gerhard_Schroeder/Gerhard_Schroeder_0003.jpg Alte Bildgr\u00f6\u00dfe:  (250, 250) neue Bildgr\u00f6\u00dfe (31, 31) geladen\n",
        "./lfw_funneled/Gerhard_Schroeder/Gerhard_Schroeder_0107.jpg Alte Bildgr\u00f6\u00dfe:  (250, 250) neue Bildgr\u00f6\u00dfe (31, 31) geladen\n",
        "./lfw_funneled/Gerhard_Schroeder/Gerhard_Schroeder_0047.jpg Alte Bildgr\u00f6\u00dfe:  (250, 250) neue Bildgr\u00f6\u00dfe (31, 31) geladen\n",
        "./lfw_funneled/Gerhard_Schroeder/Gerhard_Schroeder_0068.jpg Alte Bildgr\u00f6\u00dfe:  (250, 250) neue Bildgr\u00f6\u00dfe (31, 31) geladen\n",
        "./lfw_funneled/Gerhard_Schroeder/Gerhard_Schroeder_0086.jpg Alte Bildgr\u00f6\u00dfe:  (250, 250) neue Bildgr\u00f6\u00dfe (31, 31) geladen\n",
        "./lfw_funneled/Gerhard_Schroeder/Gerhard_Schroeder_0060.jpg Alte Bildgr\u00f6\u00dfe:  (250, 250) neue Bildgr\u00f6\u00dfe (31, 31) geladen\n",
        "./lfw_funneled/Gerhard_Schroeder/Gerhard_Schroeder_0065.jpg Alte Bildgr\u00f6\u00dfe:  (250, 250) neue Bildgr\u00f6\u00dfe (31, 31) geladen\n",
        "./lfw_funneled/Gerhard_Schroeder/Gerhard_Schroeder_0032.jpg Alte Bildgr\u00f6\u00dfe:  (250, 250) neue Bildgr\u00f6\u00dfe (31, 31) geladen\n",
        "./lfw_funneled/Gerhard_Schroeder/Gerhard_Schroeder_0097.jpg Alte Bildgr\u00f6\u00dfe:  (250, 250) neue Bildgr\u00f6\u00dfe (31, 31) geladen\n",
        "-  60.0 % der Bilder wurden in die Designmatrix geladen - \n",
        "./lfw_funneled/Ariel_Sharon/Ariel_Sharon_0066.jpg Alte Bildgr\u00f6\u00dfe:  (250, 250) neue Bildgr\u00f6\u00dfe (31, 31) geladen\n",
        "./lfw_funneled/Ariel_Sharon/Ariel_Sharon_0033.jpg Alte Bildgr\u00f6\u00dfe: "
       ]
      },
      {
       "output_type": "stream",
       "stream": "stdout",
       "text": [
        " (250, 250) neue Bildgr\u00f6\u00dfe (31, 31) geladen\n",
        "./lfw_funneled/Ariel_Sharon/Ariel_Sharon_0032.jpg Alte Bildgr\u00f6\u00dfe:  (250, 250) neue Bildgr\u00f6\u00dfe (31, 31) geladen\n",
        "./lfw_funneled/Ariel_Sharon/Ariel_Sharon_0009.jpg Alte Bildgr\u00f6\u00dfe:  (250, 250) neue Bildgr\u00f6\u00dfe (31, 31) geladen\n",
        "./lfw_funneled/Ariel_Sharon/Ariel_Sharon_0037.jpg Alte Bildgr\u00f6\u00dfe:  (250, 250) neue Bildgr\u00f6\u00dfe (31, 31) geladen\n",
        "./lfw_funneled/Ariel_Sharon/Ariel_Sharon_0051.jpg Alte Bildgr\u00f6\u00dfe:  (250, 250) neue Bildgr\u00f6\u00dfe (31, 31) geladen\n",
        "./lfw_funneled/Ariel_Sharon/Ariel_Sharon_0067.jpg Alte Bildgr\u00f6\u00dfe:  (250, 250) neue Bildgr\u00f6\u00dfe (31, 31) geladen\n",
        "./lfw_funneled/Ariel_Sharon/Ariel_Sharon_0038.jpg Alte Bildgr\u00f6\u00dfe:  (250, 250) neue Bildgr\u00f6\u00dfe (31, 31) geladen\n",
        "./lfw_funneled/Ariel_Sharon/Ariel_Sharon_0059.jpg Alte Bildgr\u00f6\u00dfe:  (250, 250) neue Bildgr\u00f6\u00dfe (31, 31) geladen\n",
        "./lfw_funneled/Ariel_Sharon/Ariel_Sharon_0015.jpg Alte Bildgr\u00f6\u00dfe:  (250, 250) neue Bildgr\u00f6\u00dfe (31, 31) geladen\n",
        "./lfw_funneled/Ariel_Sharon/Ariel_Sharon_0077.jpg Alte Bildgr\u00f6\u00dfe:  (250, 250) neue Bildgr\u00f6\u00dfe (31, 31) geladen\n",
        "./lfw_funneled/Ariel_Sharon/Ariel_Sharon_0006.jpg Alte Bildgr\u00f6\u00dfe:  (250, 250) neue Bildgr\u00f6\u00dfe (31, 31) geladen\n",
        "./lfw_funneled/Ariel_Sharon/Ariel_Sharon_0018.jpg Alte Bildgr\u00f6\u00dfe:  (250, 250) neue Bildgr\u00f6\u00dfe (31, 31) geladen\n",
        "./lfw_funneled/Ariel_Sharon/Ariel_Sharon_0047.jpg"
       ]
      },
      {
       "output_type": "stream",
       "stream": "stdout",
       "text": [
        " Alte Bildgr\u00f6\u00dfe:  (250, 250) neue Bildgr\u00f6\u00dfe (31, 31) geladen\n",
        "./lfw_funneled/Ariel_Sharon/Ariel_Sharon_0012.jpg Alte Bildgr\u00f6\u00dfe:  (250, 250) neue Bildgr\u00f6\u00dfe (31, 31) geladen\n",
        "./lfw_funneled/Ariel_Sharon/Ariel_Sharon_0058.jpg Alte Bildgr\u00f6\u00dfe:  (250, 250) neue Bildgr\u00f6\u00dfe (31, 31) geladen\n",
        "./lfw_funneled/Ariel_Sharon/Ariel_Sharon_0007.jpg Alte Bildgr\u00f6\u00dfe:  (250, 250) neue Bildgr\u00f6\u00dfe (31, 31) geladen\n",
        "./lfw_funneled/Ariel_Sharon/Ariel_Sharon_0053.jpg Alte Bildgr\u00f6\u00dfe:  (250, 250) neue Bildgr\u00f6\u00dfe (31, 31) geladen\n",
        "./lfw_funneled/Ariel_Sharon/Ariel_Sharon_0016.jpg Alte Bildgr\u00f6\u00dfe:  (250, 250) neue Bildgr\u00f6\u00dfe (31, 31) geladen\n",
        "./lfw_funneled/Ariel_Sharon/Ariel_Sharon_0075.jpg Alte Bildgr\u00f6\u00dfe:  (250, 250) neue Bildgr\u00f6\u00dfe (31, 31) geladen\n",
        "./lfw_funneled/Ariel_Sharon/Ariel_Sharon_0011.jpg Alte Bildgr\u00f6\u00dfe:  (250, 250) neue Bildgr\u00f6\u00dfe (31, 31) geladen\n",
        "./lfw_funneled/Ariel_Sharon/Ariel_Sharon_0019.jpg Alte Bildgr\u00f6\u00dfe:  (250, 250) neue Bildgr\u00f6\u00dfe (31, 31) geladen\n",
        "./lfw_funneled/Ariel_Sharon/Ariel_Sharon_0076.jpg Alte Bildgr\u00f6\u00dfe:  (250, 250) neue Bildgr\u00f6\u00dfe (31, 31) geladen\n",
        "./lfw_funneled/Ariel_Sharon/Ariel_Sharon_0072.jpg Alte Bildgr\u00f6\u00dfe:  (250, 250) neue Bildgr\u00f6\u00dfe (31, 31) geladen\n",
        "./lfw_funneled/Ariel_Sharon/Ariel_Sharon_0014.jpg Alte Bildgr\u00f6\u00dfe:  (250, 250) neue Bildgr\u00f6\u00dfe (31, 31) geladen\n",
        "./lfw_funneled/Ariel_Sharon/Ariel_Sharon_0064.jpg Alte Bildgr\u00f6\u00dfe:  (250, 250) neue Bildgr\u00f6\u00dfe (31, 31) geladen\n",
        "./lfw_funneled/Ariel_Sharon/Ariel_Sharon_0040.jpg"
       ]
      },
      {
       "output_type": "stream",
       "stream": "stdout",
       "text": [
        " Alte Bildgr\u00f6\u00dfe:  (250, 250) neue Bildgr\u00f6\u00dfe (31, 31) geladen\n",
        "./lfw_funneled/Ariel_Sharon/Ariel_Sharon_0049.jpg Alte Bildgr\u00f6\u00dfe:  (250, 250) neue Bildgr\u00f6\u00dfe (31, 31) geladen\n",
        "./lfw_funneled/Ariel_Sharon/Ariel_Sharon_0046.jpg Alte Bildgr\u00f6\u00dfe:  (250, 250) neue Bildgr\u00f6\u00dfe (31, 31) geladen\n",
        "./lfw_funneled/Ariel_Sharon/Ariel_Sharon_0043.jpg Alte Bildgr\u00f6\u00dfe:  (250, 250) neue Bildgr\u00f6\u00dfe (31, 31) geladen\n",
        "./lfw_funneled/Tony_Blair/Tony_Blair_0069.jpg Alte Bildgr\u00f6\u00dfe:  (250, 250) neue Bildgr\u00f6\u00dfe (31, 31) geladen\n",
        "./lfw_funneled/Tony_Blair/Tony_Blair_0070.jpg Alte Bildgr\u00f6\u00dfe:  (250, 250) neue Bildgr\u00f6\u00dfe (31, 31) geladen\n",
        "./lfw_funneled/Tony_Blair/Tony_Blair_0117.jpg Alte Bildgr\u00f6\u00dfe:  (250, 250) neue Bildgr\u00f6\u00dfe (31, 31) geladen\n",
        "./lfw_funneled/Tony_Blair/Tony_Blair_0134.jpg Alte Bildgr\u00f6\u00dfe:  (250, 250) neue Bildgr\u00f6\u00dfe (31, 31) geladen\n",
        "./lfw_funneled/Tony_Blair/Tony_Blair_0015.jpg Alte Bildgr\u00f6\u00dfe:  (250, 250) neue Bildgr\u00f6\u00dfe (31, 31) geladen\n",
        "./lfw_funneled/Tony_Blair/Tony_Blair_0112.jpg Alte Bildgr\u00f6\u00dfe:  (250, 250) neue Bildgr\u00f6\u00dfe (31, 31) geladen\n",
        "./lfw_funneled/Tony_Blair/Tony_Blair_0020.jpg"
       ]
      },
      {
       "output_type": "stream",
       "stream": "stdout",
       "text": [
        " Alte Bildgr\u00f6\u00dfe:  (250, 250) neue Bildgr\u00f6\u00dfe (31, 31) geladen\n",
        "./lfw_funneled/Tony_Blair/Tony_Blair_0012.jpg Alte Bildgr\u00f6\u00dfe:  (250, 250) neue Bildgr\u00f6\u00dfe (31, 31) geladen\n",
        "./lfw_funneled/Tony_Blair/Tony_Blair_0038.jpg Alte Bildgr\u00f6\u00dfe:  (250, 250) neue Bildgr\u00f6\u00dfe (31, 31) geladen\n",
        "./lfw_funneled/Tony_Blair/Tony_Blair_0122.jpg Alte Bildgr\u00f6\u00dfe:  (250, 250) neue Bildgr\u00f6\u00dfe (31, 31) geladen\n",
        "./lfw_funneled/Tony_Blair/Tony_Blair_0102.jpg Alte Bildgr\u00f6\u00dfe:  (250, 250) neue Bildgr\u00f6\u00dfe (31, 31) geladen\n",
        "./lfw_funneled/Tony_Blair/Tony_Blair_0010.jpg Alte Bildgr\u00f6\u00dfe:  (250, 250) neue Bildgr\u00f6\u00dfe (31, 31) geladen\n",
        "./lfw_funneled/Tony_Blair/Tony_Blair_0043.jpg Alte Bildgr\u00f6\u00dfe:  (250, 250) neue Bildgr\u00f6\u00dfe (31, 31) geladen\n",
        "./lfw_funneled/Tony_Blair/Tony_Blair_0014.jpg Alte Bildgr\u00f6\u00dfe:  (250, 250) neue Bildgr\u00f6\u00dfe (31, 31) geladen\n",
        "./lfw_funneled/Tony_Blair/Tony_Blair_0114.jpg Alte Bildgr\u00f6\u00dfe:  (250, 250) neue Bildgr\u00f6\u00dfe (31, 31) geladen\n",
        "./lfw_funneled/Tony_Blair/Tony_Blair_0139.jpg Alte Bildgr\u00f6\u00dfe:  (250, 250) neue Bildgr\u00f6\u00dfe (31, 31) geladen\n",
        "./lfw_funneled/Tony_Blair/Tony_Blair_0099.jpg Alte Bildgr\u00f6\u00dfe:  (250, 250) neue Bildgr\u00f6\u00dfe (31, 31) geladen\n",
        "./lfw_funneled/Tony_Blair/Tony_Blair_0004.jpg Alte Bildgr\u00f6\u00dfe:  (250, 250) neue Bildgr\u00f6\u00dfe (31, 31) geladen\n",
        "./lfw_funneled/Tony_Blair/Tony_Blair_0128.jpg "
       ]
      },
      {
       "output_type": "stream",
       "stream": "stdout",
       "text": [
        "Alte Bildgr\u00f6\u00dfe:  (250, 250) neue Bildgr\u00f6\u00dfe (31, 31) geladen\n",
        "./lfw_funneled/Tony_Blair/Tony_Blair_0036.jpg Alte Bildgr\u00f6\u00dfe:  (250, 250) neue Bildgr\u00f6\u00dfe (31, 31) geladen\n",
        "./lfw_funneled/Tony_Blair/Tony_Blair_0103.jpg Alte Bildgr\u00f6\u00dfe:  (250, 250) neue Bildgr\u00f6\u00dfe (31, 31) geladen\n",
        "./lfw_funneled/Tony_Blair/Tony_Blair_0105.jpg Alte Bildgr\u00f6\u00dfe:  (250, 250) neue Bildgr\u00f6\u00dfe (31, 31) geladen\n",
        "./lfw_funneled/Tony_Blair/Tony_Blair_0017.jpg Alte Bildgr\u00f6\u00dfe:  (250, 250) neue Bildgr\u00f6\u00dfe (31, 31) geladen\n",
        "./lfw_funneled/Tony_Blair/Tony_Blair_0141.jpg Alte Bildgr\u00f6\u00dfe:  (250, 250) neue Bildgr\u00f6\u00dfe (31, 31) geladen\n",
        "./lfw_funneled/Tony_Blair/Tony_Blair_0047.jpg Alte Bildgr\u00f6\u00dfe:  (250, 250) neue Bildgr\u00f6\u00dfe (31, 31) geladen\n",
        "./lfw_funneled/Tony_Blair/Tony_Blair_0063.jpg Alte Bildgr\u00f6\u00dfe:  (250, 250) neue Bildgr\u00f6\u00dfe (31, 31) geladen\n",
        "./lfw_funneled/Tony_Blair/Tony_Blair_0094.jpg Alte Bildgr\u00f6\u00dfe:  (250, 250) neue Bildgr\u00f6\u00dfe (31, 31) geladen\n",
        "./lfw_funneled/Tony_Blair/Tony_Blair_0058.jpg Alte Bildgr\u00f6\u00dfe:  (250, 250) neue Bildgr\u00f6\u00dfe (31, 31) geladen\n",
        "./lfw_funneled/Tony_Blair/Tony_Blair_0008.jpg Alte Bildgr\u00f6\u00dfe:  (250, 250) neue Bildgr\u00f6\u00dfe (31, 31) geladen\n",
        "./lfw_funneled/Tony_Blair/Tony_Blair_0129.jpg Alte Bildgr\u00f6\u00dfe:  (250, 250) neue Bildgr\u00f6\u00dfe (31, 31) geladen\n",
        "./lfw_funneled/Tony_Blair/Tony_Blair_0061.jpg Alte Bildgr\u00f6\u00dfe:  (250, 250) neue Bildgr\u00f6\u00dfe (31, 31) geladen\n",
        "./lfw_funneled/Tony_Blair/Tony_Blair_0135.jpg"
       ]
      },
      {
       "output_type": "stream",
       "stream": "stdout",
       "text": [
        " Alte Bildgr\u00f6\u00dfe:  (250, 250) neue Bildgr\u00f6\u00dfe (31, 31) geladen\n",
        "./lfw_funneled/Tony_Blair/Tony_Blair_0009.jpg Alte Bildgr\u00f6\u00dfe:  (250, 250) neue Bildgr\u00f6\u00dfe (31, 31) geladen\n",
        "./lfw_funneled/Tony_Blair/Tony_Blair_0101.jpg Alte Bildgr\u00f6\u00dfe:  (250, 250) neue Bildgr\u00f6\u00dfe (31, 31) geladen\n",
        "./lfw_funneled/Tony_Blair/Tony_Blair_0082.jpg Alte Bildgr\u00f6\u00dfe:  (250, 250) neue Bildgr\u00f6\u00dfe (31, 31) geladen\n",
        "./lfw_funneled/Tony_Blair/Tony_Blair_0083.jpg Alte Bildgr\u00f6\u00dfe:  (250, 250) neue Bildgr\u00f6\u00dfe (31, 31) geladen\n",
        "./lfw_funneled/Tony_Blair/Tony_Blair_0137.jpg Alte Bildgr\u00f6\u00dfe:  (250, 250) neue Bildgr\u00f6\u00dfe (31, 31) geladen\n",
        "./lfw_funneled/Tony_Blair/Tony_Blair_0140.jpg Alte Bildgr\u00f6\u00dfe:  (250, 250) neue Bildgr\u00f6\u00dfe (31, 31) geladen\n",
        "./lfw_funneled/Tony_Blair/Tony_Blair_0095.jpg Alte Bildgr\u00f6\u00dfe:  (250, 250) neue Bildgr\u00f6\u00dfe (31, 31) geladen\n",
        "./lfw_funneled/Tony_Blair/Tony_Blair_0003.jpg Alte Bildgr\u00f6\u00dfe:  (250, 250) neue Bildgr\u00f6\u00dfe (31, 31) geladen\n",
        "./lfw_funneled/Tony_Blair/Tony_Blair_0092.jpg"
       ]
      },
      {
       "output_type": "stream",
       "stream": "stdout",
       "text": [
        " Alte Bildgr\u00f6\u00dfe:  (250, 250) neue Bildgr\u00f6\u00dfe (31, 31) geladen\n",
        "./lfw_funneled/Tony_Blair/Tony_Blair_0016.jpg Alte Bildgr\u00f6\u00dfe:  (250, 250) neue Bildgr\u00f6\u00dfe (31, 31) geladen\n",
        "./lfw_funneled/Tony_Blair/Tony_Blair_0086.jpg Alte Bildgr\u00f6\u00dfe:  (250, 250) neue Bildgr\u00f6\u00dfe (31, 31) geladen\n",
        "./lfw_funneled/Tony_Blair/Tony_Blair_0053.jpg Alte Bildgr\u00f6\u00dfe:  (250, 250) neue Bildgr\u00f6\u00dfe (31, 31) geladen\n",
        "./lfw_funneled/Tony_Blair/Tony_Blair_0018.jpg Alte Bildgr\u00f6\u00dfe:  (250, 250) neue Bildgr\u00f6\u00dfe (31, 31) geladen\n",
        "./lfw_funneled/Tony_Blair/Tony_Blair_0116.jpg Alte Bildgr\u00f6\u00dfe:  (250, 250) neue Bildgr\u00f6\u00dfe (31, 31) geladen\n",
        "./lfw_funneled/Tony_Blair/Tony_Blair_0096.jpg Alte Bildgr\u00f6\u00dfe:  (250, 250) neue Bildgr\u00f6\u00dfe (31, 31) geladen\n",
        "./lfw_funneled/Tony_Blair/Tony_Blair_0019.jpg Alte Bildgr\u00f6\u00dfe:  (250, 250) neue Bildgr\u00f6\u00dfe (31, 31) geladen\n",
        "./lfw_funneled/Tony_Blair/Tony_Blair_0078.jpg Alte Bildgr\u00f6\u00dfe:  (250, 250) neue Bildgr\u00f6\u00dfe (31, 31) geladen\n",
        "./lfw_funneled/Tony_Blair/Tony_Blair_0007.jpg"
       ]
      },
      {
       "output_type": "stream",
       "stream": "stdout",
       "text": [
        " Alte Bildgr\u00f6\u00dfe:  (250, 250) neue Bildgr\u00f6\u00dfe (31, 31) geladen\n",
        "./lfw_funneled/Tony_Blair/Tony_Blair_0067.jpg Alte Bildgr\u00f6\u00dfe:  (250, 250) neue Bildgr\u00f6\u00dfe (31, 31) geladen\n",
        "./lfw_funneled/Tony_Blair/Tony_Blair_0072.jpg Alte Bildgr\u00f6\u00dfe:  (250, 250) neue Bildgr\u00f6\u00dfe (31, 31) geladen\n",
        "./lfw_funneled/Tony_Blair/Tony_Blair_0136.jpg Alte Bildgr\u00f6\u00dfe:  (250, 250) neue Bildgr\u00f6\u00dfe (31, 31) geladen\n",
        "./lfw_funneled/Tony_Blair/Tony_Blair_0045.jpg Alte Bildgr\u00f6\u00dfe:  (250, 250) neue Bildgr\u00f6\u00dfe (31, 31) geladen\n",
        "./lfw_funneled/Tony_Blair/Tony_Blair_0002.jpg Alte Bildgr\u00f6\u00dfe:  (250, 250) neue Bildgr\u00f6\u00dfe (31, 31) geladen\n",
        "./lfw_funneled/Tony_Blair/Tony_Blair_0115.jpg Alte Bildgr\u00f6\u00dfe:  (250, 250) neue Bildgr\u00f6\u00dfe (31, 31) geladen\n",
        "./lfw_funneled/Tony_Blair/Tony_Blair_0073.jpg Alte Bildgr\u00f6\u00dfe:  (250, 250) neue Bildgr\u00f6\u00dfe (31, 31) geladen\n",
        "./lfw_funneled/Donald_Rumsfeld/Donald_Rumsfeld_0032.jpg Alte Bildgr\u00f6\u00dfe:  (250, 250) neue Bildgr\u00f6\u00dfe (31, 31) geladen\n",
        "./lfw_funneled/Donald_Rumsfeld/Donald_Rumsfeld_0114.jpg Alte Bildgr\u00f6\u00dfe:  (250, 250) neue Bildgr\u00f6\u00dfe (31, 31) geladen\n",
        "./lfw_funneled/Donald_Rumsfeld/Donald_Rumsfeld_0110.jpg"
       ]
      },
      {
       "output_type": "stream",
       "stream": "stdout",
       "text": [
        " Alte Bildgr\u00f6\u00dfe:  (250, 250) neue Bildgr\u00f6\u00dfe (31, 31) geladen\n",
        "./lfw_funneled/Donald_Rumsfeld/Donald_Rumsfeld_0075.jpg Alte Bildgr\u00f6\u00dfe:  (250, 250) neue Bildgr\u00f6\u00dfe (31, 31) geladen\n",
        "./lfw_funneled/Donald_Rumsfeld/Donald_Rumsfeld_0092.jpg Alte Bildgr\u00f6\u00dfe:  (250, 250) neue Bildgr\u00f6\u00dfe (31, 31) geladen\n",
        "./lfw_funneled/Donald_Rumsfeld/Donald_Rumsfeld_0113.jpg Alte Bildgr\u00f6\u00dfe:  (250, 250) neue Bildgr\u00f6\u00dfe (31, 31) geladen\n",
        "./lfw_funneled/Donald_Rumsfeld/Donald_Rumsfeld_0109.jpg Alte Bildgr\u00f6\u00dfe:  (250, 250) neue Bildgr\u00f6\u00dfe (31, 31) geladen\n",
        "./lfw_funneled/Donald_Rumsfeld/Donald_Rumsfeld_0087.jpg Alte Bildgr\u00f6\u00dfe:  (250, 250) neue Bildgr\u00f6\u00dfe (31, 31) geladen\n",
        "./lfw_funneled/Donald_Rumsfeld/Donald_Rumsfeld_0098.jpg Alte Bildgr\u00f6\u00dfe:  (250, 250) neue Bildgr\u00f6\u00dfe (31, 31) geladen\n",
        "./lfw_funneled/Donald_Rumsfeld/Donald_Rumsfeld_0052.jpg Alte Bildgr\u00f6\u00dfe:  (250, 250) neue Bildgr\u00f6\u00dfe (31, 31) geladen\n",
        "./lfw_funneled/Donald_Rumsfeld/Donald_Rumsfeld_0076.jpg Alte Bildgr\u00f6\u00dfe:  (250, 250) neue Bildgr\u00f6\u00dfe (31, 31) geladen\n",
        "./lfw_funneled/Donald_Rumsfeld/Donald_Rumsfeld_0073.jpg"
       ]
      },
      {
       "output_type": "stream",
       "stream": "stdout",
       "text": [
        " Alte Bildgr\u00f6\u00dfe:  (250, 250) neue Bildgr\u00f6\u00dfe (31, 31) geladen\n",
        "./lfw_funneled/Donald_Rumsfeld/Donald_Rumsfeld_0063.jpg Alte Bildgr\u00f6\u00dfe:  (250, 250) neue Bildgr\u00f6\u00dfe (31, 31) geladen\n",
        "./lfw_funneled/Donald_Rumsfeld/Donald_Rumsfeld_0026.jpg Alte Bildgr\u00f6\u00dfe:  (250, 250) neue Bildgr\u00f6\u00dfe (31, 31) geladen\n",
        "./lfw_funneled/Donald_Rumsfeld/Donald_Rumsfeld_0074.jpg Alte Bildgr\u00f6\u00dfe:  (250, 250) neue Bildgr\u00f6\u00dfe (31, 31) geladen\n",
        "./lfw_funneled/Donald_Rumsfeld/Donald_Rumsfeld_0002.jpg Alte Bildgr\u00f6\u00dfe:  (250, 250) neue Bildgr\u00f6\u00dfe (31, 31) geladen\n",
        "./lfw_funneled/Donald_Rumsfeld/Donald_Rumsfeld_0053.jpg Alte Bildgr\u00f6\u00dfe:  (250, 250) neue Bildgr\u00f6\u00dfe (31, 31) geladen\n",
        "./lfw_funneled/Donald_Rumsfeld/Donald_Rumsfeld_0115.jpg Alte Bildgr\u00f6\u00dfe:  (250, 250) neue Bildgr\u00f6\u00dfe (31, 31) geladen\n",
        "./lfw_funneled/Donald_Rumsfeld/Donald_Rumsfeld_0078.jpg Alte Bildgr\u00f6\u00dfe:  (250, 250) neue Bildgr\u00f6\u00dfe (31, 31) geladen\n",
        "./lfw_funneled/Donald_Rumsfeld/Donald_Rumsfeld_0116.jpg Alte Bildgr\u00f6\u00dfe:  (250, 250) neue Bildgr\u00f6\u00dfe (31, 31) geladen\n",
        "./lfw_funneled/Donald_Rumsfeld/Donald_Rumsfeld_0091.jpg Alte Bildgr\u00f6\u00dfe:  (250, 250) neue Bildgr\u00f6\u00dfe (31, 31) geladen\n",
        "./lfw_funneled/Donald_Rumsfeld/Donald_Rumsfeld_0023.jpg"
       ]
      },
      {
       "output_type": "stream",
       "stream": "stdout",
       "text": [
        " Alte Bildgr\u00f6\u00dfe:  (250, 250) neue Bildgr\u00f6\u00dfe (31, 31) geladen\n",
        "./lfw_funneled/Donald_Rumsfeld/Donald_Rumsfeld_0089.jpg Alte Bildgr\u00f6\u00dfe:  (250, 250) neue Bildgr\u00f6\u00dfe (31, 31) geladen\n",
        "./lfw_funneled/Donald_Rumsfeld/Donald_Rumsfeld_0021.jpg Alte Bildgr\u00f6\u00dfe:  (250, 250) neue Bildgr\u00f6\u00dfe (31, 31) geladen\n",
        "./lfw_funneled/Donald_Rumsfeld/Donald_Rumsfeld_0003.jpg Alte Bildgr\u00f6\u00dfe:  (250, 250) neue Bildgr\u00f6\u00dfe (31, 31) geladen\n",
        "./lfw_funneled/Donald_Rumsfeld/Donald_Rumsfeld_0066.jpg Alte Bildgr\u00f6\u00dfe:  (250, 250) neue Bildgr\u00f6\u00dfe (31, 31) geladen\n",
        "./lfw_funneled/Donald_Rumsfeld/Donald_Rumsfeld_0033.jpg Alte Bildgr\u00f6\u00dfe:  (250, 250) neue Bildgr\u00f6\u00dfe (31, 31) geladen\n",
        "./lfw_funneled/Donald_Rumsfeld/Donald_Rumsfeld_0019.jpg Alte Bildgr\u00f6\u00dfe:  (250, 250) neue Bildgr\u00f6\u00dfe (31, 31) geladen\n",
        "./lfw_funneled/Donald_Rumsfeld/Donald_Rumsfeld_0036.jpg Alte Bildgr\u00f6\u00dfe:  (250, 250) neue Bildgr\u00f6\u00dfe (31, 31) geladen\n",
        "./lfw_funneled/Donald_Rumsfeld/Donald_Rumsfeld_0007.jpg Alte Bildgr\u00f6\u00dfe:  (250, 250) neue Bildgr\u00f6\u00dfe (31, 31) geladen\n",
        "./lfw_funneled/Donald_Rumsfeld/Donald_Rumsfeld_0107.jpg"
       ]
      },
      {
       "output_type": "stream",
       "stream": "stdout",
       "text": [
        " Alte Bildgr\u00f6\u00dfe:  (250, 250) neue Bildgr\u00f6\u00dfe (31, 31) geladen\n",
        "./lfw_funneled/Donald_Rumsfeld/Donald_Rumsfeld_0012.jpg Alte Bildgr\u00f6\u00dfe:  (250, 250) neue Bildgr\u00f6\u00dfe (31, 31) geladen\n",
        "./lfw_funneled/Donald_Rumsfeld/Donald_Rumsfeld_0041.jpg Alte Bildgr\u00f6\u00dfe:  (250, 250) neue Bildgr\u00f6\u00dfe (31, 31) geladen\n",
        "./lfw_funneled/Donald_Rumsfeld/Donald_Rumsfeld_0011.jpg Alte Bildgr\u00f6\u00dfe:  (250, 250) neue Bildgr\u00f6\u00dfe (31, 31) geladen\n",
        "./lfw_funneled/Donald_Rumsfeld/Donald_Rumsfeld_0070.jpg Alte Bildgr\u00f6\u00dfe:  (250, 250) neue Bildgr\u00f6\u00dfe (31, 31) geladen\n",
        "./lfw_funneled/Donald_Rumsfeld/Donald_Rumsfeld_0048.jpg Alte Bildgr\u00f6\u00dfe:  (250, 250) neue Bildgr\u00f6\u00dfe (31, 31) geladen\n",
        "./lfw_funneled/Donald_Rumsfeld/Donald_Rumsfeld_0106.jpg Alte Bildgr\u00f6\u00dfe:  (250, 250) neue Bildgr\u00f6\u00dfe (31, 31) geladen\n",
        "./lfw_funneled/Donald_Rumsfeld/Donald_Rumsfeld_0085.jpg Alte Bildgr\u00f6\u00dfe:  (250, 250) neue Bildgr\u00f6\u00dfe (31, 31) geladen\n",
        "./lfw_funneled/Donald_Rumsfeld/Donald_Rumsfeld_0083.jpg Alte Bildgr\u00f6\u00dfe:  (250, 250) neue Bildgr\u00f6\u00dfe (31, 31) geladen\n",
        "./lfw_funneled/Donald_Rumsfeld/Donald_Rumsfeld_0005.jpg Alte Bildgr\u00f6\u00dfe:  (250, 250) neue Bildgr\u00f6\u00dfe (31, 31) geladen\n",
        "./lfw_funneled/Donald_Rumsfeld/Donald_Rumsfeld_0020.jpg"
       ]
      },
      {
       "output_type": "stream",
       "stream": "stdout",
       "text": [
        " Alte Bildgr\u00f6\u00dfe:  (250, 250) neue Bildgr\u00f6\u00dfe (31, 31) geladen\n",
        "./lfw_funneled/Donald_Rumsfeld/Donald_Rumsfeld_0054.jpg Alte Bildgr\u00f6\u00dfe:  (250, 250) neue Bildgr\u00f6\u00dfe (31, 31) geladen\n",
        "./lfw_funneled/Donald_Rumsfeld/Donald_Rumsfeld_0077.jpg Alte Bildgr\u00f6\u00dfe:  (250, 250) neue Bildgr\u00f6\u00dfe (31, 31) geladen\n",
        "./lfw_funneled/Donald_Rumsfeld/Donald_Rumsfeld_0097.jpg Alte Bildgr\u00f6\u00dfe:  (250, 250) neue Bildgr\u00f6\u00dfe (31, 31) geladen\n",
        "./lfw_funneled/Donald_Rumsfeld/Donald_Rumsfeld_0034.jpg Alte Bildgr\u00f6\u00dfe:  (250, 250) neue Bildgr\u00f6\u00dfe (31, 31) geladen\n",
        "./lfw_funneled/Donald_Rumsfeld/Donald_Rumsfeld_0069.jpg Alte Bildgr\u00f6\u00dfe:  (250, 250) neue Bildgr\u00f6\u00dfe (31, 31) geladen\n",
        "./lfw_funneled/Donald_Rumsfeld/Donald_Rumsfeld_0096.jpg Alte Bildgr\u00f6\u00dfe:  (250, 250) neue Bildgr\u00f6\u00dfe (31, 31) geladen\n",
        "./lfw_funneled/George_W_Bush/George_W_Bush_0071.jpg Alte Bildgr\u00f6\u00dfe:  (250, 250) neue Bildgr\u00f6\u00dfe (31, 31) geladen\n",
        "./lfw_funneled/George_W_Bush/George_W_Bush_0374.jpg Alte Bildgr\u00f6\u00dfe:  (250, 250) neue Bildgr\u00f6\u00dfe (31, 31) geladen\n",
        "./lfw_funneled/George_W_Bush/George_W_Bush_0252.jpg Alte Bildgr\u00f6\u00dfe:  (250, 250) neue Bildgr\u00f6\u00dfe (31, 31) geladen\n",
        "./lfw_funneled/George_W_Bush/George_W_Bush_0406.jpg"
       ]
      },
      {
       "output_type": "stream",
       "stream": "stdout",
       "text": [
        " Alte Bildgr\u00f6\u00dfe:  (250, 250) neue Bildgr\u00f6\u00dfe (31, 31) geladen\n",
        "./lfw_funneled/George_W_Bush/George_W_Bush_0375.jpg Alte Bildgr\u00f6\u00dfe:  (250, 250) neue Bildgr\u00f6\u00dfe (31, 31) geladen\n",
        "./lfw_funneled/George_W_Bush/George_W_Bush_0284.jpg Alte Bildgr\u00f6\u00dfe:  (250, 250) neue Bildgr\u00f6\u00dfe (31, 31) geladen\n",
        "./lfw_funneled/George_W_Bush/George_W_Bush_0429.jpg Alte Bildgr\u00f6\u00dfe:  (250, 250) neue Bildgr\u00f6\u00dfe (31, 31) geladen\n",
        "./lfw_funneled/George_W_Bush/George_W_Bush_0391.jpg Alte Bildgr\u00f6\u00dfe:  (250, 250) neue Bildgr\u00f6\u00dfe (31, 31) geladen\n",
        "./lfw_funneled/George_W_Bush/George_W_Bush_0515.jpg Alte Bildgr\u00f6\u00dfe:  (250, 250) neue Bildgr\u00f6\u00dfe (31, 31) geladen\n",
        "./lfw_funneled/George_W_Bush/George_W_Bush_0503.jpg Alte Bildgr\u00f6\u00dfe:  (250, 250) neue Bildgr\u00f6\u00dfe (31, 31) geladen\n",
        "./lfw_funneled/George_W_Bush/George_W_Bush_0322.jpg Alte Bildgr\u00f6\u00dfe:  (250, 250) neue Bildgr\u00f6\u00dfe (31, 31) geladen\n",
        "./lfw_funneled/George_W_Bush/George_W_Bush_0474.jpg Alte Bildgr\u00f6\u00dfe:  (250, 250) neue Bildgr\u00f6\u00dfe (31, 31) geladen\n",
        "./lfw_funneled/George_W_Bush/George_W_Bush_0471.jpg Alte Bildgr\u00f6\u00dfe:  (250, 250) neue Bildgr\u00f6\u00dfe (31, 31) geladen\n",
        "./lfw_funneled/George_W_Bush/George_W_Bush_0178.jpg"
       ]
      },
      {
       "output_type": "stream",
       "stream": "stdout",
       "text": [
        " Alte Bildgr\u00f6\u00dfe:  (250, 250) neue Bildgr\u00f6\u00dfe (31, 31) geladen\n",
        "./lfw_funneled/George_W_Bush/George_W_Bush_0453.jpg Alte Bildgr\u00f6\u00dfe:  (250, 250) neue Bildgr\u00f6\u00dfe (31, 31) geladen\n",
        "./lfw_funneled/George_W_Bush/George_W_Bush_0395.jpg Alte Bildgr\u00f6\u00dfe:  (250, 250) neue Bildgr\u00f6\u00dfe (31, 31) geladen\n",
        "./lfw_funneled/George_W_Bush/George_W_Bush_0258.jpg Alte Bildgr\u00f6\u00dfe:  (250, 250) neue Bildgr\u00f6\u00dfe (31, 31) geladen\n",
        "./lfw_funneled/George_W_Bush/George_W_Bush_0349.jpg Alte Bildgr\u00f6\u00dfe:  (250, 250) neue Bildgr\u00f6\u00dfe (31, 31) geladen\n",
        "./lfw_funneled/George_W_Bush/George_W_Bush_0334.jpg Alte Bildgr\u00f6\u00dfe:  (250, 250) neue Bildgr\u00f6\u00dfe (31, 31) geladen\n",
        "./lfw_funneled/George_W_Bush/George_W_Bush_0298.jpg Alte Bildgr\u00f6\u00dfe:  (250, 250) neue Bildgr\u00f6\u00dfe (31, 31) geladen\n",
        "./lfw_funneled/George_W_Bush/George_W_Bush_0324.jpg Alte Bildgr\u00f6\u00dfe:  (250, 250) neue Bildgr\u00f6\u00dfe (31, 31) geladen\n",
        "./lfw_funneled/George_W_Bush/George_W_Bush_0522.jpg Alte Bildgr\u00f6\u00dfe:  (250, 250) neue Bildgr\u00f6\u00dfe (31, 31) geladen\n",
        "./lfw_funneled/George_W_Bush/George_W_Bush_0095.jpg Alte Bildgr\u00f6\u00dfe:  (250, 250) neue Bildgr\u00f6\u00dfe (31, 31) geladen\n",
        "./lfw_funneled/George_W_Bush/George_W_Bush_0049.jpg Alte Bildgr\u00f6\u00dfe:  (250, 250) neue Bildgr\u00f6\u00dfe (31, 31) geladen\n",
        "./lfw_funneled/George_W_Bush/George_W_Bush_0168.jpg"
       ]
      },
      {
       "output_type": "stream",
       "stream": "stdout",
       "text": [
        " Alte Bildgr\u00f6\u00dfe:  (250, 250) neue Bildgr\u00f6\u00dfe (31, 31) geladen\n",
        "./lfw_funneled/George_W_Bush/George_W_Bush_0220.jpg Alte Bildgr\u00f6\u00dfe:  (250, 250) neue Bildgr\u00f6\u00dfe (31, 31) geladen\n",
        "./lfw_funneled/George_W_Bush/George_W_Bush_0052.jpg Alte Bildgr\u00f6\u00dfe:  (250, 250) neue Bildgr\u00f6\u00dfe (31, 31) geladen\n",
        "./lfw_funneled/George_W_Bush/George_W_Bush_0174.jpg Alte Bildgr\u00f6\u00dfe:  (250, 250) neue Bildgr\u00f6\u00dfe (31, 31) geladen\n",
        "./lfw_funneled/George_W_Bush/George_W_Bush_0404.jpg Alte Bildgr\u00f6\u00dfe:  (250, 250) neue Bildgr\u00f6\u00dfe (31, 31) geladen\n",
        "./lfw_funneled/George_W_Bush/George_W_Bush_0455.jpg Alte Bildgr\u00f6\u00dfe:  (250, 250) neue Bildgr\u00f6\u00dfe (31, 31) geladen\n",
        "./lfw_funneled/George_W_Bush/George_W_Bush_0500.jpg Alte Bildgr\u00f6\u00dfe:  (250, 250) neue Bildgr\u00f6\u00dfe (31, 31) geladen\n",
        "./lfw_funneled/George_W_Bush/George_W_Bush_0142.jpg Alte Bildgr\u00f6\u00dfe:  (250, 250) neue Bildgr\u00f6\u00dfe (31, 31) geladen\n",
        "./lfw_funneled/George_W_Bush/George_W_Bush_0119.jpg"
       ]
      },
      {
       "output_type": "stream",
       "stream": "stdout",
       "text": [
        " Alte Bildgr\u00f6\u00dfe:  (250, 250) neue Bildgr\u00f6\u00dfe (31, 31) geladen\n",
        "./lfw_funneled/George_W_Bush/George_W_Bush_0403.jpg Alte Bildgr\u00f6\u00dfe:  (250, 250) neue Bildgr\u00f6\u00dfe (31, 31) geladen\n",
        "./lfw_funneled/George_W_Bush/George_W_Bush_0528.jpg Alte Bildgr\u00f6\u00dfe:  (250, 250) neue Bildgr\u00f6\u00dfe (31, 31) geladen\n",
        "./lfw_funneled/George_W_Bush/George_W_Bush_0398.jpg Alte Bildgr\u00f6\u00dfe:  (250, 250) neue Bildgr\u00f6\u00dfe (31, 31) geladen\n",
        "./lfw_funneled/George_W_Bush/George_W_Bush_0496.jpg Alte Bildgr\u00f6\u00dfe:  (250, 250) neue Bildgr\u00f6\u00dfe (31, 31) geladen\n",
        "./lfw_funneled/George_W_Bush/George_W_Bush_0060.jpg Alte Bildgr\u00f6\u00dfe:  (250, 250) neue Bildgr\u00f6\u00dfe (31, 31) geladen\n",
        "./lfw_funneled/George_W_Bush/George_W_Bush_0231.jpg Alte Bildgr\u00f6\u00dfe:  (250, 250) neue Bildgr\u00f6\u00dfe (31, 31) geladen\n",
        "./lfw_funneled/George_W_Bush/George_W_Bush_0141.jpg Alte Bildgr\u00f6\u00dfe:  (250, 250) neue Bildgr\u00f6\u00dfe (31, 31) geladen\n",
        "./lfw_funneled/George_W_Bush/George_W_Bush_0381.jpg Alte Bildgr\u00f6\u00dfe:  (250, 250) neue Bildgr\u00f6\u00dfe (31, 31) geladen\n",
        "./lfw_funneled/George_W_Bush/George_W_Bush_0313.jpg Alte Bildgr\u00f6\u00dfe:  (250, 250) neue Bildgr\u00f6\u00dfe (31, 31) geladen\n",
        "./lfw_funneled/George_W_Bush/George_W_Bush_0197.jpg"
       ]
      },
      {
       "output_type": "stream",
       "stream": "stdout",
       "text": [
        " Alte Bildgr\u00f6\u00dfe:  (250, 250) neue Bildgr\u00f6\u00dfe (31, 31) geladen\n",
        "./lfw_funneled/George_W_Bush/George_W_Bush_0236.jpg Alte Bildgr\u00f6\u00dfe:  (250, 250) neue Bildgr\u00f6\u00dfe (31, 31) geladen\n",
        "./lfw_funneled/George_W_Bush/George_W_Bush_0388.jpg Alte Bildgr\u00f6\u00dfe:  (250, 250) neue Bildgr\u00f6\u00dfe (31, 31) geladen\n",
        "./lfw_funneled/George_W_Bush/George_W_Bush_0091.jpg Alte Bildgr\u00f6\u00dfe:  (250, 250) neue Bildgr\u00f6\u00dfe (31, 31) geladen\n",
        "./lfw_funneled/George_W_Bush/George_W_Bush_0160.jpg Alte Bildgr\u00f6\u00dfe:  (250, 250) neue Bildgr\u00f6\u00dfe (31, 31) geladen\n",
        "./lfw_funneled/George_W_Bush/George_W_Bush_0364.jpg Alte Bildgr\u00f6\u00dfe:  (250, 250) neue Bildgr\u00f6\u00dfe (31, 31) geladen\n",
        "./lfw_funneled/George_W_Bush/George_W_Bush_0063.jpg Alte Bildgr\u00f6\u00dfe:  (250, 250) neue Bildgr\u00f6\u00dfe (31, 31) geladen\n",
        "./lfw_funneled/George_W_Bush/George_W_Bush_0123.jpg Alte Bildgr\u00f6\u00dfe:  (250, 250) neue Bildgr\u00f6\u00dfe (31, 31) geladen\n",
        "./lfw_funneled/George_W_Bush/George_W_Bush_0038.jpg Alte Bildgr\u00f6\u00dfe:  (250, 250) neue Bildgr\u00f6\u00dfe (31, 31) geladen\n",
        "./lfw_funneled/George_W_Bush/George_W_Bush_0328.jpg Alte Bildgr\u00f6\u00dfe:  (250, 250) neue Bildgr\u00f6\u00dfe (31, 31) geladen\n",
        "./lfw_funneled/George_W_Bush/George_W_Bush_0093.jpg Alte Bildgr\u00f6\u00dfe:  (250, 250) neue Bildgr\u00f6\u00dfe (31, 31) geladen\n",
        "./lfw_funneled/George_W_Bush/George_W_Bush_0411.jpg"
       ]
      },
      {
       "output_type": "stream",
       "stream": "stdout",
       "text": [
        " Alte Bildgr\u00f6\u00dfe:  (250, 250) neue Bildgr\u00f6\u00dfe (31, 31) geladen\n",
        "./lfw_funneled/George_W_Bush/George_W_Bush_0497.jpg Alte Bildgr\u00f6\u00dfe:  (250, 250) neue Bildgr\u00f6\u00dfe (31, 31) geladen\n",
        "./lfw_funneled/George_W_Bush/George_W_Bush_0068.jpg Alte Bildgr\u00f6\u00dfe:  (250, 250) neue Bildgr\u00f6\u00dfe (31, 31) geladen\n",
        "./lfw_funneled/George_W_Bush/George_W_Bush_0470.jpg Alte Bildgr\u00f6\u00dfe:  (250, 250) neue Bildgr\u00f6\u00dfe (31, 31) geladen\n",
        "./lfw_funneled/George_W_Bush/George_W_Bush_0222.jpg Alte Bildgr\u00f6\u00dfe:  (250, 250) neue Bildgr\u00f6\u00dfe (31, 31) geladen\n",
        "./lfw_funneled/George_W_Bush/George_W_Bush_0380.jpg Alte Bildgr\u00f6\u00dfe:  (250, 250) neue Bildgr\u00f6\u00dfe (31, 31) geladen\n",
        "./lfw_funneled/George_W_Bush/George_W_Bush_0207.jpg Alte Bildgr\u00f6\u00dfe:  (250, 250) neue Bildgr\u00f6\u00dfe (31, 31) geladen\n",
        "./lfw_funneled/George_W_Bush/George_W_Bush_0130.jpg Alte Bildgr\u00f6\u00dfe:  (250, 250) neue Bildgr\u00f6\u00dfe (31, 31) geladen\n",
        "./lfw_funneled/George_W_Bush/George_W_Bush_0216.jpg Alte Bildgr\u00f6\u00dfe:  (250, 250) neue Bildgr\u00f6\u00dfe (31, 31) geladen\n",
        "./lfw_funneled/George_W_Bush/George_W_Bush_0337.jpg Alte Bildgr\u00f6\u00dfe:  (250, 250) neue Bildgr\u00f6\u00dfe (31, 31) geladen\n",
        "./lfw_funneled/George_W_Bush/George_W_Bush_0365.jpg"
       ]
      },
      {
       "output_type": "stream",
       "stream": "stdout",
       "text": [
        " Alte Bildgr\u00f6\u00dfe:  (250, 250) neue Bildgr\u00f6\u00dfe (31, 31) geladen\n",
        "./lfw_funneled/George_W_Bush/George_W_Bush_0410.jpg Alte Bildgr\u00f6\u00dfe:  (250, 250) neue Bildgr\u00f6\u00dfe (31, 31) geladen\n",
        "./lfw_funneled/George_W_Bush/George_W_Bush_0526.jpg Alte Bildgr\u00f6\u00dfe:  (250, 250) neue Bildgr\u00f6\u00dfe (31, 31) geladen\n",
        "./lfw_funneled/George_W_Bush/George_W_Bush_0180.jpg Alte Bildgr\u00f6\u00dfe:  (250, 250) neue Bildgr\u00f6\u00dfe (31, 31) geladen\n",
        "./lfw_funneled/George_W_Bush/George_W_Bush_0012.jpg Alte Bildgr\u00f6\u00dfe:  (250, 250) neue Bildgr\u00f6\u00dfe (31, 31) geladen\n",
        "./lfw_funneled/George_W_Bush/George_W_Bush_0310.jpg Alte Bildgr\u00f6\u00dfe:  (250, 250) neue Bildgr\u00f6\u00dfe (31, 31) geladen\n",
        "./lfw_funneled/George_W_Bush/George_W_Bush_0300.jpg Alte Bildgr\u00f6\u00dfe:  (250, 250) neue Bildgr\u00f6\u00dfe (31, 31) geladen\n",
        "./lfw_funneled/George_W_Bush/George_W_Bush_0438.jpg Alte Bildgr\u00f6\u00dfe:  (250, 250) neue Bildgr\u00f6\u00dfe (31, 31) geladen\n",
        "./lfw_funneled/George_W_Bush/George_W_Bush_0521.jpg Alte Bildgr\u00f6\u00dfe:  (250, 250) neue Bildgr\u00f6\u00dfe (31, 31) geladen\n",
        "./lfw_funneled/George_W_Bush/George_W_Bush_0145.jpg Alte Bildgr\u00f6\u00dfe:  (250, 250) neue Bildgr\u00f6\u00dfe (31, 31) geladen\n",
        "./lfw_funneled/George_W_Bush/George_W_Bush_0330.jpg"
       ]
      },
      {
       "output_type": "stream",
       "stream": "stdout",
       "text": [
        " Alte Bildgr\u00f6\u00dfe:  (250, 250) neue Bildgr\u00f6\u00dfe (31, 31) geladen\n",
        "./lfw_funneled/George_W_Bush/George_W_Bush_0377.jpg Alte Bildgr\u00f6\u00dfe:  (250, 250) neue Bildgr\u00f6\u00dfe (31, 31) geladen\n",
        "./lfw_funneled/George_W_Bush/George_W_Bush_0147.jpg Alte Bildgr\u00f6\u00dfe:  (250, 250) neue Bildgr\u00f6\u00dfe (31, 31) geladen\n",
        "./lfw_funneled/George_W_Bush/George_W_Bush_0245.jpg Alte Bildgr\u00f6\u00dfe:  (250, 250) neue Bildgr\u00f6\u00dfe (31, 31) geladen\n",
        "./lfw_funneled/George_W_Bush/George_W_Bush_0193.jpg Alte Bildgr\u00f6\u00dfe:  (250, 250) neue Bildgr\u00f6\u00dfe (31, 31) geladen\n",
        "./lfw_funneled/George_W_Bush/George_W_Bush_0057.jpg Alte Bildgr\u00f6\u00dfe:  (250, 250) neue Bildgr\u00f6\u00dfe (31, 31) geladen\n",
        "./lfw_funneled/George_W_Bush/George_W_Bush_0507.jpg Alte Bildgr\u00f6\u00dfe:  (250, 250) neue Bildgr\u00f6\u00dfe (31, 31) geladen\n",
        "./lfw_funneled/George_W_Bush/George_W_Bush_0090.jpg Alte Bildgr\u00f6\u00dfe:  (250, 250) neue Bildgr\u00f6\u00dfe (31, 31) geladen\n",
        "./lfw_funneled/George_W_Bush/George_W_Bush_0006.jpg Alte Bildgr\u00f6\u00dfe:  (250, 250) neue Bildgr\u00f6\u00dfe (31, 31) geladen\n",
        "./lfw_funneled/George_W_Bush/George_W_Bush_0136.jpg Alte Bildgr\u00f6\u00dfe:  (250, 250) neue Bildgr\u00f6\u00dfe (31, 31) geladen\n",
        "./lfw_funneled/George_W_Bush/George_W_Bush_0262.jpg Alte Bildgr\u00f6\u00dfe:  (250, 250) neue Bildgr\u00f6\u00dfe (31, 31) geladen\n",
        "./lfw_funneled/George_W_Bush/George_W_Bush_0393.jpg"
       ]
      },
      {
       "output_type": "stream",
       "stream": "stdout",
       "text": [
        " Alte Bildgr\u00f6\u00dfe:  (250, 250) neue Bildgr\u00f6\u00dfe (31, 31) geladen\n",
        "./lfw_funneled/George_W_Bush/George_W_Bush_0459.jpg Alte Bildgr\u00f6\u00dfe:  (250, 250) neue Bildgr\u00f6\u00dfe (31, 31) geladen\n",
        "./lfw_funneled/George_W_Bush/George_W_Bush_0173.jpg Alte Bildgr\u00f6\u00dfe:  (250, 250) neue Bildgr\u00f6\u00dfe (31, 31) geladen\n",
        "./lfw_funneled/George_W_Bush/George_W_Bush_0251.jpg Alte Bildgr\u00f6\u00dfe:  (250, 250) neue Bildgr\u00f6\u00dfe (31, 31) geladen\n",
        "./lfw_funneled/George_W_Bush/George_W_Bush_0241.jpg Alte Bildgr\u00f6\u00dfe:  (250, 250) neue Bildgr\u00f6\u00dfe (31, 31) geladen\n",
        "./lfw_funneled/George_W_Bush/George_W_Bush_0502.jpg Alte Bildgr\u00f6\u00dfe:  (250, 250) neue Bildgr\u00f6\u00dfe (31, 31) geladen\n",
        "./lfw_funneled/George_W_Bush/George_W_Bush_0279.jpg Alte Bildgr\u00f6\u00dfe:  (250, 250) neue Bildgr\u00f6\u00dfe (31, 31) geladen\n",
        "./lfw_funneled/George_W_Bush/George_W_Bush_0003.jpg Alte Bildgr\u00f6\u00dfe:  (250, 250) neue Bildgr\u00f6\u00dfe (31, 31) geladen\n",
        "./lfw_funneled/George_W_Bush/George_W_Bush_0271.jpg Alte Bildgr\u00f6\u00dfe:  (250, 250) neue Bildgr\u00f6\u00dfe (31, 31) geladen\n",
        "./lfw_funneled/George_W_Bush/George_W_Bush_0129.jpg Alte Bildgr\u00f6\u00dfe:  (250, 250) neue Bildgr\u00f6\u00dfe (31, 31) geladen\n",
        "./lfw_funneled/George_W_Bush/George_W_Bush_0013.jpg"
       ]
      },
      {
       "output_type": "stream",
       "stream": "stdout",
       "text": [
        " Alte Bildgr\u00f6\u00dfe:  (250, 250) neue Bildgr\u00f6\u00dfe (31, 31) geladen\n",
        "./lfw_funneled/George_W_Bush/George_W_Bush_0493.jpg Alte Bildgr\u00f6\u00dfe:  (250, 250) neue Bildgr\u00f6\u00dfe (31, 31) geladen\n",
        "./lfw_funneled/George_W_Bush/George_W_Bush_0302.jpg Alte Bildgr\u00f6\u00dfe:  (250, 250) neue Bildgr\u00f6\u00dfe (31, 31) geladen\n",
        "./lfw_funneled/George_W_Bush/George_W_Bush_0171.jpg Alte Bildgr\u00f6\u00dfe:  (250, 250) neue Bildgr\u00f6\u00dfe (31, 31) geladen\n",
        "./lfw_funneled/George_W_Bush/George_W_Bush_0317.jpg Alte Bildgr\u00f6\u00dfe:  (250, 250) neue Bildgr\u00f6\u00dfe (31, 31) geladen\n",
        "./lfw_funneled/George_W_Bush/George_W_Bush_0075.jpg Alte Bildgr\u00f6\u00dfe:  (250, 250) neue Bildgr\u00f6\u00dfe (31, 31) geladen\n",
        "./lfw_funneled/George_W_Bush/George_W_Bush_0260.jpg Alte Bildgr\u00f6\u00dfe:  (250, 250) neue Bildgr\u00f6\u00dfe (31, 31) geladen\n",
        "./lfw_funneled/George_W_Bush/George_W_Bush_0305.jpg Alte Bildgr\u00f6\u00dfe:  (250, 250) neue Bildgr\u00f6\u00dfe (31, 31) geladen\n",
        "./lfw_funneled/George_W_Bush/George_W_Bush_0108.jpg Alte Bildgr\u00f6\u00dfe:  (250, 250) neue Bildgr\u00f6\u00dfe (31, 31) geladen\n",
        "./lfw_funneled/George_W_Bush/George_W_Bush_0187.jpg Alte Bildgr\u00f6\u00dfe:  (250, 250) neue Bildgr\u00f6\u00dfe (31, 31) geladen\n",
        "./lfw_funneled/George_W_Bush/George_W_Bush_0214.jpg Alte Bildgr\u00f6\u00dfe:  (250, 250) neue Bildgr\u00f6\u00dfe (31, 31) geladen\n",
        "./lfw_funneled/George_W_Bush/George_W_Bush_0146.jpg Alte Bildgr\u00f6\u00dfe:  (250, 250) neue Bildgr\u00f6\u00dfe (31, 31) geladen\n",
        "./lfw_funneled/George_W_Bush/George_W_Bush_0099.jpg"
       ]
      },
      {
       "output_type": "stream",
       "stream": "stdout",
       "text": [
        " Alte Bildgr\u00f6\u00dfe:  (250, 250) neue Bildgr\u00f6\u00dfe (31, 31) geladen\n",
        "./lfw_funneled/George_W_Bush/George_W_Bush_0120.jpg Alte Bildgr\u00f6\u00dfe:  (250, 250) neue Bildgr\u00f6\u00dfe (31, 31) geladen\n",
        "./lfw_funneled/George_W_Bush/George_W_Bush_0100.jpg Alte Bildgr\u00f6\u00dfe:  (250, 250) neue Bildgr\u00f6\u00dfe (31, 31) geladen\n",
        "./lfw_funneled/George_W_Bush/George_W_Bush_0112.jpg Alte Bildgr\u00f6\u00dfe:  (250, 250) neue Bildgr\u00f6\u00dfe (31, 31) geladen\n",
        "./lfw_funneled/George_W_Bush/George_W_Bush_0044.jpg Alte Bildgr\u00f6\u00dfe:  (250, 250) neue Bildgr\u00f6\u00dfe (31, 31) geladen\n",
        "./lfw_funneled/George_W_Bush/George_W_Bush_0144.jpg Alte Bildgr\u00f6\u00dfe:  (250, 250) neue Bildgr\u00f6\u00dfe (31, 31) geladen\n",
        "./lfw_funneled/George_W_Bush/George_W_Bush_0137.jpg Alte Bildgr\u00f6\u00dfe:  (250, 250) neue Bildgr\u00f6\u00dfe (31, 31) geladen\n",
        "./lfw_funneled/George_W_Bush/George_W_Bush_0188.jpg Alte Bildgr\u00f6\u00dfe:  (250, 250) neue Bildgr\u00f6\u00dfe (31, 31) geladen\n",
        "./lfw_funneled/George_W_Bush/George_W_Bush_0373.jpg Alte Bildgr\u00f6\u00dfe:  (250, 250) neue Bildgr\u00f6\u00dfe (31, 31) geladen\n",
        "./lfw_funneled/George_W_Bush/George_W_Bush_0304.jpg Alte Bildgr\u00f6\u00dfe:  (250, 250) neue Bildgr\u00f6\u00dfe (31, 31) geladen\n",
        "./lfw_funneled/George_W_Bush/George_W_Bush_0164.jpg"
       ]
      },
      {
       "output_type": "stream",
       "stream": "stdout",
       "text": [
        " Alte Bildgr\u00f6\u00dfe:  (250, 250) neue Bildgr\u00f6\u00dfe (31, 31) geladen\n",
        "./lfw_funneled/George_W_Bush/George_W_Bush_0454.jpg Alte Bildgr\u00f6\u00dfe:  (250, 250) neue Bildgr\u00f6\u00dfe (31, 31) geladen\n",
        "./lfw_funneled/George_W_Bush/George_W_Bush_0283.jpg Alte Bildgr\u00f6\u00dfe:  (250, 250) neue Bildgr\u00f6\u00dfe (31, 31) geladen\n",
        "./lfw_funneled/George_W_Bush/George_W_Bush_0194.jpg Alte Bildgr\u00f6\u00dfe:  (250, 250) neue Bildgr\u00f6\u00dfe (31, 31) geladen\n",
        "./lfw_funneled/George_W_Bush/George_W_Bush_0048.jpg Alte Bildgr\u00f6\u00dfe:  (250, 250) neue Bildgr\u00f6\u00dfe (31, 31) geladen\n",
        "./lfw_funneled/George_W_Bush/George_W_Bush_0166.jpg Alte Bildgr\u00f6\u00dfe:  (250, 250) neue Bildgr\u00f6\u00dfe (31, 31) geladen\n",
        "./lfw_funneled/George_W_Bush/George_W_Bush_0196.jpg Alte Bildgr\u00f6\u00dfe:  (250, 250) neue Bildgr\u00f6\u00dfe (31, 31) geladen\n",
        "./lfw_funneled/George_W_Bush/George_W_Bush_0015.jpg Alte Bildgr\u00f6\u00dfe:  (250, 250) neue Bildgr\u00f6\u00dfe (31, 31) geladen\n",
        "./lfw_funneled/George_W_Bush/George_W_Bush_0080.jpg Alte Bildgr\u00f6\u00dfe:  (250, 250) neue Bildgr\u00f6\u00dfe (31, 31) geladen\n",
        "./lfw_funneled/George_W_Bush/George_W_Bush_0124.jpg Alte Bildgr\u00f6\u00dfe:  (250, 250) neue Bildgr\u00f6\u00dfe (31, 31) geladen\n",
        "./lfw_funneled/George_W_Bush/George_W_Bush_0102.jpg Alte Bildgr\u00f6\u00dfe:  (250, 250) neue Bildgr\u00f6\u00dfe (31, 31) geladen\n",
        "./lfw_funneled/George_W_Bush/George_W_Bush_0405.jpg"
       ]
      },
      {
       "output_type": "stream",
       "stream": "stdout",
       "text": [
        " Alte Bildgr\u00f6\u00dfe:  (250, 250) neue Bildgr\u00f6\u00dfe (31, 31) geladen\n",
        "./lfw_funneled/George_W_Bush/George_W_Bush_0162.jpg Alte Bildgr\u00f6\u00dfe:  (250, 250) neue Bildgr\u00f6\u00dfe (31, 31) geladen\n",
        "./lfw_funneled/George_W_Bush/George_W_Bush_0478.jpg Alte Bildgr\u00f6\u00dfe:  (250, 250) neue Bildgr\u00f6\u00dfe (31, 31) geladen\n",
        "./lfw_funneled/George_W_Bush/George_W_Bush_0128.jpg Alte Bildgr\u00f6\u00dfe:  (250, 250) neue Bildgr\u00f6\u00dfe (31, 31) geladen\n",
        "./lfw_funneled/George_W_Bush/George_W_Bush_0529.jpg Alte Bildgr\u00f6\u00dfe:  (250, 250) neue Bildgr\u00f6\u00dfe (31, 31) geladen\n",
        "./lfw_funneled/George_W_Bush/George_W_Bush_0200.jpg Alte Bildgr\u00f6\u00dfe:  (250, 250) neue Bildgr\u00f6\u00dfe (31, 31) geladen\n",
        "./lfw_funneled/George_W_Bush/George_W_Bush_0018.jpg Alte Bildgr\u00f6\u00dfe:  (250, 250) neue Bildgr\u00f6\u00dfe (31, 31) geladen\n",
        "./lfw_funneled/George_W_Bush/George_W_Bush_0436.jpg Alte Bildgr\u00f6\u00dfe:  (250, 250) neue Bildgr\u00f6\u00dfe (31, 31) geladen\n",
        "./lfw_funneled/George_W_Bush/George_W_Bush_0165.jpg Alte Bildgr\u00f6\u00dfe:  (250, 250) neue Bildgr\u00f6\u00dfe (31, 31) geladen\n",
        "./lfw_funneled/George_W_Bush/George_W_Bush_0243.jpg Alte Bildgr\u00f6\u00dfe:  (250, 250) neue Bildgr\u00f6\u00dfe (31, 31) geladen\n",
        "./lfw_funneled/George_W_Bush/George_W_Bush_0131.jpg Alte Bildgr\u00f6\u00dfe:  (250, 250) neue Bildgr\u00f6\u00dfe (31, 31) geladen\n",
        "./lfw_funneled/George_W_Bush/George_W_Bush_0156.jpg"
       ]
      },
      {
       "output_type": "stream",
       "stream": "stdout",
       "text": [
        " Alte Bildgr\u00f6\u00dfe:  (250, 250) neue Bildgr\u00f6\u00dfe (31, 31) geladen\n",
        "./lfw_funneled/George_W_Bush/George_W_Bush_0110.jpg Alte Bildgr\u00f6\u00dfe:  (250, 250) neue Bildgr\u00f6\u00dfe (31, 31) geladen\n",
        "./lfw_funneled/George_W_Bush/George_W_Bush_0004.jpg Alte Bildgr\u00f6\u00dfe:  (250, 250) neue Bildgr\u00f6\u00dfe (31, 31) geladen\n",
        "./lfw_funneled/George_W_Bush/George_W_Bush_0020.jpg Alte Bildgr\u00f6\u00dfe:  (250, 250) neue Bildgr\u00f6\u00dfe (31, 31) geladen\n",
        "./lfw_funneled/George_W_Bush/George_W_Bush_0439.jpg Alte Bildgr\u00f6\u00dfe:  (250, 250) neue Bildgr\u00f6\u00dfe (31, 31) geladen\n",
        "./lfw_funneled/George_W_Bush/George_W_Bush_0256.jpg Alte Bildgr\u00f6\u00dfe:  (250, 250) neue Bildgr\u00f6\u00dfe (31, 31) geladen\n",
        "./lfw_funneled/George_W_Bush/George_W_Bush_0329.jpg Alte Bildgr\u00f6\u00dfe:  (250, 250) neue Bildgr\u00f6\u00dfe (31, 31) geladen\n",
        "./lfw_funneled/George_W_Bush/George_W_Bush_0083.jpg Alte Bildgr\u00f6\u00dfe:  (250, 250) neue Bildgr\u00f6\u00dfe (31, 31) geladen\n",
        "./lfw_funneled/George_W_Bush/George_W_Bush_0058.jpg Alte Bildgr\u00f6\u00dfe:  (250, 250) neue Bildgr\u00f6\u00dfe (31, 31) geladen\n",
        "./lfw_funneled/George_W_Bush/George_W_Bush_0415.jpg Alte Bildgr\u00f6\u00dfe:  (250, 250) neue Bildgr\u00f6\u00dfe (31, 31) geladen\n",
        "./lfw_funneled/George_W_Bush/George_W_Bush_0010.jpg"
       ]
      },
      {
       "output_type": "stream",
       "stream": "stdout",
       "text": [
        " Alte Bildgr\u00f6\u00dfe:  (250, 250) neue Bildgr\u00f6\u00dfe (31, 31) geladen\n",
        "./lfw_funneled/George_W_Bush/George_W_Bush_0037.jpg Alte Bildgr\u00f6\u00dfe:  (250, 250) neue Bildgr\u00f6\u00dfe (31, 31) geladen\n",
        "./lfw_funneled/George_W_Bush/George_W_Bush_0101.jpg Alte Bildgr\u00f6\u00dfe:  (250, 250) neue Bildgr\u00f6\u00dfe (31, 31) geladen\n",
        "./lfw_funneled/George_W_Bush/George_W_Bush_0378.jpg Alte Bildgr\u00f6\u00dfe:  (250, 250) neue Bildgr\u00f6\u00dfe (31, 31) geladen\n",
        "./lfw_funneled/George_W_Bush/George_W_Bush_0169.jpg Alte Bildgr\u00f6\u00dfe:  (250, 250) neue Bildgr\u00f6\u00dfe (31, 31) geladen\n",
        "./lfw_funneled/George_W_Bush/George_W_Bush_0346.jpg Alte Bildgr\u00f6\u00dfe:  (250, 250) neue Bildgr\u00f6\u00dfe (31, 31) geladen\n",
        "./lfw_funneled/George_W_Bush/George_W_Bush_0361.jpg Alte Bildgr\u00f6\u00dfe:  (250, 250) neue Bildgr\u00f6\u00dfe (31, 31) geladen\n",
        "./lfw_funneled/George_W_Bush/George_W_Bush_0286.jpg Alte Bildgr\u00f6\u00dfe:  (250, 250) neue Bildgr\u00f6\u00dfe (31, 31) geladen\n",
        "./lfw_funneled/George_W_Bush/George_W_Bush_0096.jpg Alte Bildgr\u00f6\u00dfe:  (250, 250) neue Bildgr\u00f6\u00dfe (31, 31) geladen\n",
        "./lfw_funneled/George_W_Bush/George_W_Bush_0139.jpg Alte Bildgr\u00f6\u00dfe:  (250, 250) neue Bildgr\u00f6\u00dfe (31, 31) geladen\n",
        "./lfw_funneled/George_W_Bush/George_W_Bush_0132.jpg Alte Bildgr\u00f6\u00dfe:  (250, 250) neue Bildgr\u00f6\u00dfe (31, 31) geladen\n",
        "./lfw_funneled/George_W_Bush/George_W_Bush_0158.jpg Alte Bildgr\u00f6\u00dfe:  (250, 250) neue Bildgr\u00f6\u00dfe (31, 31) geladen\n",
        "./lfw_funneled/George_W_Bush/George_W_Bush_0259.jpg Alte Bildgr\u00f6\u00dfe:  (250, 250) neue Bildgr\u00f6\u00dfe (31, 31) geladen\n",
        "./lfw_funneled/George_W_Bush/George_W_Bush_0125.jpg"
       ]
      },
      {
       "output_type": "stream",
       "stream": "stdout",
       "text": [
        " Alte Bildgr\u00f6\u00dfe:  (250, 250) neue Bildgr\u00f6\u00dfe (31, 31) geladen\n",
        "./lfw_funneled/George_W_Bush/George_W_Bush_0490.jpg Alte Bildgr\u00f6\u00dfe:  (250, 250) neue Bildgr\u00f6\u00dfe (31, 31) geladen\n",
        "./lfw_funneled/George_W_Bush/George_W_Bush_0440.jpg Alte Bildgr\u00f6\u00dfe:  (250, 250) neue Bildgr\u00f6\u00dfe (31, 31) geladen\n",
        "./lfw_funneled/George_W_Bush/George_W_Bush_0206.jpg Alte Bildgr\u00f6\u00dfe:  (250, 250) neue Bildgr\u00f6\u00dfe (31, 31) geladen\n",
        "./lfw_funneled/George_W_Bush/George_W_Bush_0247.jpg Alte Bildgr\u00f6\u00dfe:  (250, 250) neue Bildgr\u00f6\u00dfe (31, 31) geladen\n",
        "./lfw_funneled/George_W_Bush/George_W_Bush_0390.jpg Alte Bildgr\u00f6\u00dfe:  (250, 250) neue Bildgr\u00f6\u00dfe (31, 31) geladen\n",
        "./lfw_funneled/George_W_Bush/George_W_Bush_0512.jpg Alte Bildgr\u00f6\u00dfe:  (250, 250) neue Bildgr\u00f6\u00dfe (31, 31) geladen\n",
        "./lfw_funneled/George_W_Bush/George_W_Bush_0176.jpg Alte Bildgr\u00f6\u00dfe:  (250, 250) neue Bildgr\u00f6\u00dfe (31, 31) geladen\n",
        "./lfw_funneled/George_W_Bush/George_W_Bush_0106.jpg Alte Bildgr\u00f6\u00dfe:  (250, 250) neue Bildgr\u00f6\u00dfe (31, 31) geladen\n",
        "./lfw_funneled/George_W_Bush/George_W_Bush_0114.jpg Alte Bildgr\u00f6\u00dfe:  (250, 250) neue Bildgr\u00f6\u00dfe (31, 31) geladen\n",
        "./lfw_funneled/George_W_Bush/George_W_Bush_0111.jpg Alte Bildgr\u00f6\u00dfe:  (250, 250) neue Bildgr\u00f6\u00dfe (31, 31) geladen\n",
        "./lfw_funneled/George_W_Bush/George_W_Bush_0437.jpg"
       ]
      },
      {
       "output_type": "stream",
       "stream": "stdout",
       "text": [
        " Alte Bildgr\u00f6\u00dfe:  (250, 250) neue Bildgr\u00f6\u00dfe (31, 31) geladen\n",
        "./lfw_funneled/George_W_Bush/George_W_Bush_0225.jpg Alte Bildgr\u00f6\u00dfe:  (250, 250) neue Bildgr\u00f6\u00dfe (31, 31) geladen\n",
        "./lfw_funneled/George_W_Bush/George_W_Bush_0476.jpg Alte Bildgr\u00f6\u00dfe:  (250, 250) neue Bildgr\u00f6\u00dfe (31, 31) geladen\n",
        "./lfw_funneled/George_W_Bush/George_W_Bush_0344.jpg Alte Bildgr\u00f6\u00dfe:  (250, 250) neue Bildgr\u00f6\u00dfe (31, 31) geladen\n",
        "./lfw_funneled/George_W_Bush/George_W_Bush_0508.jpg Alte Bildgr\u00f6\u00dfe:  (250, 250) neue Bildgr\u00f6\u00dfe (31, 31) geladen\n",
        "./lfw_funneled/George_W_Bush/George_W_Bush_0074.jpg Alte Bildgr\u00f6\u00dfe:  (250, 250) neue Bildgr\u00f6\u00dfe (31, 31) geladen\n",
        "./lfw_funneled/George_W_Bush/George_W_Bush_0022.jpg Alte Bildgr\u00f6\u00dfe:  (250, 250) neue Bildgr\u00f6\u00dfe (31, 31) geladen\n",
        "./lfw_funneled/George_W_Bush/George_W_Bush_0054.jpg Alte Bildgr\u00f6\u00dfe:  (250, 250) neue Bildgr\u00f6\u00dfe (31, 31) geladen\n",
        "./lfw_funneled/George_W_Bush/George_W_Bush_0432.jpg Alte Bildgr\u00f6\u00dfe:  (250, 250) neue Bildgr\u00f6\u00dfe (31, 31) geladen\n",
        "./lfw_funneled/George_W_Bush/George_W_Bush_0446.jpg Alte Bildgr\u00f6\u00dfe:  (250, 250) neue Bildgr\u00f6\u00dfe (31, 31) geladen\n",
        "./lfw_funneled/George_W_Bush/George_W_Bush_0277.jpg Alte Bildgr\u00f6\u00dfe:  (250, 250) neue Bildgr\u00f6\u00dfe (31, 31) geladen\n",
        "./lfw_funneled/George_W_Bush/George_W_Bush_0246.jpg Alte Bildgr\u00f6\u00dfe:  (250, 250) neue Bildgr\u00f6\u00dfe (31, 31) geladen\n",
        "./lfw_funneled/George_W_Bush/George_W_Bush_0024.jpg Alte Bildgr\u00f6\u00dfe:  (250, 250) neue Bildgr\u00f6\u00dfe (31, 31) geladen\n",
        "./lfw_funneled/George_W_Bush/George_W_Bush_0273.jpg"
       ]
      },
      {
       "output_type": "stream",
       "stream": "stdout",
       "text": [
        " Alte Bildgr\u00f6\u00dfe:  (250, 250) neue Bildgr\u00f6\u00dfe (31, 31) geladen\n",
        "./lfw_funneled/George_W_Bush/George_W_Bush_0504.jpg Alte Bildgr\u00f6\u00dfe:  (250, 250) neue Bildgr\u00f6\u00dfe (31, 31) geladen\n",
        "./lfw_funneled/George_W_Bush/George_W_Bush_0154.jpg Alte Bildgr\u00f6\u00dfe:  (250, 250) neue Bildgr\u00f6\u00dfe (31, 31) geladen\n",
        "./lfw_funneled/George_W_Bush/George_W_Bush_0486.jpg Alte Bildgr\u00f6\u00dfe:  (250, 250) neue Bildgr\u00f6\u00dfe (31, 31) geladen\n",
        "./lfw_funneled/George_W_Bush/George_W_Bush_0362.jpg Alte Bildgr\u00f6\u00dfe:  (250, 250) neue Bildgr\u00f6\u00dfe (31, 31) geladen\n",
        "./lfw_funneled/George_W_Bush/George_W_Bush_0167.jpg Alte Bildgr\u00f6\u00dfe:  (250, 250) neue Bildgr\u00f6\u00dfe (31, 31) geladen\n",
        "./lfw_funneled/George_W_Bush/George_W_Bush_0509.jpg Alte Bildgr\u00f6\u00dfe:  (250, 250) neue Bildgr\u00f6\u00dfe (31, 31) geladen\n",
        "./lfw_funneled/George_W_Bush/George_W_Bush_0290.jpg Alte Bildgr\u00f6\u00dfe:  (250, 250) neue Bildgr\u00f6\u00dfe (31, 31) geladen\n",
        "./lfw_funneled/George_W_Bush/George_W_Bush_0228.jpg Alte Bildgr\u00f6\u00dfe:  (250, 250) neue Bildgr\u00f6\u00dfe (31, 31) geladen\n",
        "./lfw_funneled/George_W_Bush/George_W_Bush_0002.jpg Alte Bildgr\u00f6\u00dfe:  (250, 250) neue Bildgr\u00f6\u00dfe (31, 31) geladen\n",
        "./lfw_funneled/George_W_Bush/George_W_Bush_0268.jpg Alte Bildgr\u00f6\u00dfe:  (250, 250) neue Bildgr\u00f6\u00dfe (31, 31) geladen\n",
        "./lfw_funneled/George_W_Bush/George_W_Bush_0444.jpg Alte Bildgr\u00f6\u00dfe:  (250, 250) neue Bildgr\u00f6\u00dfe (31, 31) geladen\n",
        "./lfw_funneled/George_W_Bush/George_W_Bush_0441.jpg"
       ]
      },
      {
       "output_type": "stream",
       "stream": "stdout",
       "text": [
        " Alte Bildgr\u00f6\u00dfe:  (250, 250) neue Bildgr\u00f6\u00dfe (31, 31) geladen\n",
        "./lfw_funneled/George_W_Bush/George_W_Bush_0035.jpg Alte Bildgr\u00f6\u00dfe:  (250, 250) neue Bildgr\u00f6\u00dfe (31, 31) geladen\n",
        "./lfw_funneled/George_W_Bush/George_W_Bush_0224.jpg Alte Bildgr\u00f6\u00dfe:  (250, 250) neue Bildgr\u00f6\u00dfe (31, 31) geladen\n",
        "./lfw_funneled/George_W_Bush/George_W_Bush_0385.jpg Alte Bildgr\u00f6\u00dfe:  (250, 250) neue Bildgr\u00f6\u00dfe (31, 31) geladen\n",
        "./lfw_funneled/George_W_Bush/George_W_Bush_0085.jpg Alte Bildgr\u00f6\u00dfe:  (250, 250) neue Bildgr\u00f6\u00dfe (31, 31) geladen\n",
        "./lfw_funneled/George_W_Bush/George_W_Bush_0149.jpg Alte Bildgr\u00f6\u00dfe:  (250, 250) neue Bildgr\u00f6\u00dfe (31, 31) geladen\n",
        "./lfw_funneled/George_W_Bush/George_W_Bush_0192.jpg Alte Bildgr\u00f6\u00dfe:  (250, 250) neue Bildgr\u00f6\u00dfe (31, 31) geladen\n",
        "./lfw_funneled/George_W_Bush/George_W_Bush_0042.jpg Alte Bildgr\u00f6\u00dfe:  (250, 250) neue Bildgr\u00f6\u00dfe (31, 31) geladen\n",
        "./lfw_funneled/George_W_Bush/George_W_Bush_0043.jpg Alte Bildgr\u00f6\u00dfe:  (250, 250) neue Bildgr\u00f6\u00dfe (31, 31) geladen\n",
        "./lfw_funneled/George_W_Bush/George_W_Bush_0242.jpg Alte Bildgr\u00f6\u00dfe:  (250, 250) neue Bildgr\u00f6\u00dfe (31, 31) geladen\n",
        "./lfw_funneled/George_W_Bush/George_W_Bush_0163.jpg Alte Bildgr\u00f6\u00dfe:  (250, 250) neue Bildgr\u00f6\u00dfe (31, 31) geladen\n",
        "./lfw_funneled/George_W_Bush/George_W_Bush_0494.jpg Alte Bildgr\u00f6\u00dfe:  (250, 250) neue Bildgr\u00f6\u00dfe (31, 31) geladen\n",
        "./lfw_funneled/George_W_Bush/George_W_Bush_0064.jpg Alte Bildgr\u00f6\u00dfe:  (250, 250) neue Bildgr\u00f6\u00dfe (31, 31) geladen\n",
        "./lfw_funneled/George_W_Bush/George_W_Bush_0014.jpg"
       ]
      },
      {
       "output_type": "stream",
       "stream": "stdout",
       "text": [
        " Alte Bildgr\u00f6\u00dfe:  (250, 250) neue Bildgr\u00f6\u00dfe (31, 31) geladen\n",
        "./lfw_funneled/Colin_Powell/Colin_Powell_0209.jpg Alte Bildgr\u00f6\u00dfe:  (250, 250) neue Bildgr\u00f6\u00dfe (31, 31) geladen\n",
        "./lfw_funneled/Colin_Powell/Colin_Powell_0202.jpg Alte Bildgr\u00f6\u00dfe:  (250, 250) neue Bildgr\u00f6\u00dfe (31, 31) geladen\n",
        "./lfw_funneled/Colin_Powell/Colin_Powell_0158.jpg Alte Bildgr\u00f6\u00dfe:  (250, 250) neue Bildgr\u00f6\u00dfe (31, 31) geladen\n",
        "./lfw_funneled/Colin_Powell/Colin_Powell_0132.jpg Alte Bildgr\u00f6\u00dfe:  (250, 250) neue Bildgr\u00f6\u00dfe (31, 31) geladen\n",
        "./lfw_funneled/Colin_Powell/Colin_Powell_0119.jpg Alte Bildgr\u00f6\u00dfe:  (250, 250) neue Bildgr\u00f6\u00dfe (31, 31) geladen\n",
        "./lfw_funneled/Colin_Powell/Colin_Powell_0051.jpg Alte Bildgr\u00f6\u00dfe:  (250, 250) neue Bildgr\u00f6\u00dfe (31, 31) geladen\n",
        "./lfw_funneled/Colin_Powell/Colin_Powell_0044.jpg Alte Bildgr\u00f6\u00dfe:  (250, 250) neue Bildgr\u00f6\u00dfe (31, 31) geladen\n",
        "./lfw_funneled/Colin_Powell/Colin_Powell_0220.jpg Alte Bildgr\u00f6\u00dfe:  (250, 250) neue Bildgr\u00f6\u00dfe (31, 31) geladen\n",
        "./lfw_funneled/Colin_Powell/Colin_Powell_0050.jpg Alte Bildgr\u00f6\u00dfe:  (250, 250) neue Bildgr\u00f6\u00dfe (31, 31) geladen\n",
        "./lfw_funneled/Colin_Powell/Colin_Powell_0159.jpg Alte Bildgr\u00f6\u00dfe:  (250, 250) neue Bildgr\u00f6\u00dfe (31, 31) geladen\n",
        "./lfw_funneled/Colin_Powell/Colin_Powell_0106.jpg Alte Bildgr\u00f6\u00dfe:  (250, 250) neue Bildgr\u00f6\u00dfe (31, 31) geladen\n",
        "./lfw_funneled/Colin_Powell/Colin_Powell_0076.jpg Alte Bildgr\u00f6\u00dfe:  (250, 250) neue Bildgr\u00f6\u00dfe (31, 31) geladen\n",
        "./lfw_funneled/Colin_Powell/Colin_Powell_0116.jpg"
       ]
      },
      {
       "output_type": "stream",
       "stream": "stdout",
       "text": [
        " Alte Bildgr\u00f6\u00dfe:  (250, 250) neue Bildgr\u00f6\u00dfe (31, 31) geladen\n",
        "./lfw_funneled/Colin_Powell/Colin_Powell_0082.jpg Alte Bildgr\u00f6\u00dfe:  (250, 250) neue Bildgr\u00f6\u00dfe (31, 31) geladen\n",
        "./lfw_funneled/Colin_Powell/Colin_Powell_0018.jpg Alte Bildgr\u00f6\u00dfe:  (250, 250) neue Bildgr\u00f6\u00dfe (31, 31) geladen\n",
        "./lfw_funneled/Colin_Powell/Colin_Powell_0015.jpg Alte Bildgr\u00f6\u00dfe:  (250, 250) neue Bildgr\u00f6\u00dfe (31, 31) geladen\n",
        "./lfw_funneled/Colin_Powell/Colin_Powell_0144.jpg Alte Bildgr\u00f6\u00dfe:  (250, 250) neue Bildgr\u00f6\u00dfe (31, 31) geladen\n",
        "./lfw_funneled/Colin_Powell/Colin_Powell_0178.jpg Alte Bildgr\u00f6\u00dfe:  (250, 250) neue Bildgr\u00f6\u00dfe (31, 31) geladen\n",
        "./lfw_funneled/Colin_Powell/Colin_Powell_0081.jpg Alte Bildgr\u00f6\u00dfe:  (250, 250) neue Bildgr\u00f6\u00dfe (31, 31) geladen\n",
        "./lfw_funneled/Colin_Powell/Colin_Powell_0200.jpg Alte Bildgr\u00f6\u00dfe:  (250, 250) neue Bildgr\u00f6\u00dfe (31, 31) geladen\n",
        "./lfw_funneled/Colin_Powell/Colin_Powell_0154.jpg Alte Bildgr\u00f6\u00dfe:  (250, 250) neue Bildgr\u00f6\u00dfe (31, 31) geladen\n",
        "./lfw_funneled/Colin_Powell/Colin_Powell_0149.jpg Alte Bildgr\u00f6\u00dfe:  (250, 250) neue Bildgr\u00f6\u00dfe (31, 31) geladen\n",
        "./lfw_funneled/Colin_Powell/Colin_Powell_0153.jpg"
       ]
      },
      {
       "output_type": "stream",
       "stream": "stdout",
       "text": [
        " Alte Bildgr\u00f6\u00dfe:  (250, 250) neue Bildgr\u00f6\u00dfe (31, 31) geladen\n",
        "./lfw_funneled/Colin_Powell/Colin_Powell_0143.jpg Alte Bildgr\u00f6\u00dfe:  (250, 250) neue Bildgr\u00f6\u00dfe (31, 31) geladen\n",
        "./lfw_funneled/Colin_Powell/Colin_Powell_0041.jpg Alte Bildgr\u00f6\u00dfe:  (250, 250) neue Bildgr\u00f6\u00dfe (31, 31) geladen\n",
        "./lfw_funneled/Colin_Powell/Colin_Powell_0181.jpg Alte Bildgr\u00f6\u00dfe:  (250, 250) neue Bildgr\u00f6\u00dfe (31, 31) geladen\n",
        "./lfw_funneled/Colin_Powell/Colin_Powell_0226.jpg Alte Bildgr\u00f6\u00dfe:  (250, 250) neue Bildgr\u00f6\u00dfe (31, 31) geladen\n",
        "./lfw_funneled/Colin_Powell/Colin_Powell_0224.jpg Alte Bildgr\u00f6\u00dfe:  (250, 250) neue Bildgr\u00f6\u00dfe (31, 31) geladen\n",
        "./lfw_funneled/Colin_Powell/Colin_Powell_0094.jpg Alte Bildgr\u00f6\u00dfe:  (250, 250) neue Bildgr\u00f6\u00dfe (31, 31) geladen\n",
        "./lfw_funneled/Colin_Powell/Colin_Powell_0052.jpg Alte Bildgr\u00f6\u00dfe:  (250, 250) neue Bildgr\u00f6\u00dfe (31, 31) geladen\n",
        "./lfw_funneled/Colin_Powell/Colin_Powell_0133.jpg Alte Bildgr\u00f6\u00dfe:  (250, 250) neue Bildgr\u00f6\u00dfe (31, 31) geladen\n",
        "./lfw_funneled/Colin_Powell/Colin_Powell_0217.jpg Alte Bildgr\u00f6\u00dfe:  (250, 250) neue Bildgr\u00f6\u00dfe (31, 31) geladen\n",
        "./lfw_funneled/Colin_Powell/Colin_Powell_0086.jpg Alte Bildgr\u00f6\u00dfe:  (250, 250) neue Bildgr\u00f6\u00dfe (31, 31) geladen\n",
        "./lfw_funneled/Colin_Powell/Colin_Powell_0193.jpg Alte Bildgr\u00f6\u00dfe:  (250, 250) neue Bildgr\u00f6\u00dfe (31, 31) geladen\n",
        "./lfw_funneled/Colin_Powell/Colin_Powell_0027.jpg"
       ]
      },
      {
       "output_type": "stream",
       "stream": "stdout",
       "text": [
        " Alte Bildgr\u00f6\u00dfe:  (250, 250) neue Bildgr\u00f6\u00dfe (31, 31) geladen\n",
        "./lfw_funneled/Colin_Powell/Colin_Powell_0062.jpg Alte Bildgr\u00f6\u00dfe:  (250, 250) neue Bildgr\u00f6\u00dfe (31, 31) geladen\n",
        "./lfw_funneled/Colin_Powell/Colin_Powell_0066.jpg Alte Bildgr\u00f6\u00dfe:  (250, 250) neue Bildgr\u00f6\u00dfe (31, 31) geladen\n",
        "./lfw_funneled/Colin_Powell/Colin_Powell_0093.jpg Alte Bildgr\u00f6\u00dfe:  (250, 250) neue Bildgr\u00f6\u00dfe (31, 31) geladen\n",
        "./lfw_funneled/Colin_Powell/Colin_Powell_0146.jpg Alte Bildgr\u00f6\u00dfe:  (250, 250) neue Bildgr\u00f6\u00dfe (31, 31) geladen\n",
        "./lfw_funneled/Colin_Powell/Colin_Powell_0122.jpg Alte Bildgr\u00f6\u00dfe:  (250, 250) neue Bildgr\u00f6\u00dfe (31, 31) geladen\n",
        "./lfw_funneled/Colin_Powell/Colin_Powell_0090.jpg Alte Bildgr\u00f6\u00dfe:  (250, 250) neue Bildgr\u00f6\u00dfe (31, 31) geladen\n",
        "./lfw_funneled/Colin_Powell/Colin_Powell_0223.jpg Alte Bildgr\u00f6\u00dfe:  (250, 250) neue Bildgr\u00f6\u00dfe (31, 31) geladen\n",
        "./lfw_funneled/Colin_Powell/Colin_Powell_0188.jpg Alte Bildgr\u00f6\u00dfe:  (250, 250) neue Bildgr\u00f6\u00dfe (31, 31) geladen\n",
        "./lfw_funneled/Colin_Powell/Colin_Powell_0101.jpg Alte Bildgr\u00f6\u00dfe:  (250, 250) neue Bildgr\u00f6\u00dfe (31, 31) geladen\n",
        "./lfw_funneled/Colin_Powell/Colin_Powell_0196.jpg Alte Bildgr\u00f6\u00dfe:  (250, 250) neue Bildgr\u00f6\u00dfe (31, 31) geladen\n",
        "./lfw_funneled/Colin_Powell/Colin_Powell_0214.jpg"
       ]
      },
      {
       "output_type": "stream",
       "stream": "stdout",
       "text": [
        " Alte Bildgr\u00f6\u00dfe:  (250, 250) neue Bildgr\u00f6\u00dfe (31, 31) geladen\n",
        "./lfw_funneled/Colin_Powell/Colin_Powell_0104.jpg Alte Bildgr\u00f6\u00dfe:  (250, 250) neue Bildgr\u00f6\u00dfe (31, 31) geladen\n",
        "./lfw_funneled/Colin_Powell/Colin_Powell_0047.jpg Alte Bildgr\u00f6\u00dfe:  (250, 250) neue Bildgr\u00f6\u00dfe (31, 31) geladen\n",
        "./lfw_funneled/Colin_Powell/Colin_Powell_0109.jpg Alte Bildgr\u00f6\u00dfe:  (250, 250) neue Bildgr\u00f6\u00dfe (31, 31) geladen\n",
        "./lfw_funneled/Colin_Powell/Colin_Powell_0074.jpg Alte Bildgr\u00f6\u00dfe:  (250, 250) neue Bildgr\u00f6\u00dfe (31, 31) geladen\n",
        "./lfw_funneled/Colin_Powell/Colin_Powell_0100.jpg Alte Bildgr\u00f6\u00dfe:  (250, 250) neue Bildgr\u00f6\u00dfe (31, 31) geladen\n",
        "./lfw_funneled/Colin_Powell/Colin_Powell_0064.jpg Alte Bildgr\u00f6\u00dfe:  (250, 250) neue Bildgr\u00f6\u00dfe (31, 31) geladen\n",
        "./lfw_funneled/Colin_Powell/Colin_Powell_0162.jpg Alte Bildgr\u00f6\u00dfe:  (250, 250) neue Bildgr\u00f6\u00dfe (31, 31) geladen\n",
        "./lfw_funneled/Colin_Powell/Colin_Powell_0113.jpg Alte Bildgr\u00f6\u00dfe:  (250, 250) neue Bildgr\u00f6\u00dfe (31, 31) geladen\n",
        "./lfw_funneled/Colin_Powell/Colin_Powell_0043.jpg Alte Bildgr\u00f6\u00dfe:  (250, 250) neue Bildgr\u00f6\u00dfe (31, 31) geladen\n",
        "./lfw_funneled/Colin_Powell/Colin_Powell_0166.jpg Alte Bildgr\u00f6\u00dfe:  (250, 250) neue Bildgr\u00f6\u00dfe (31, 31) geladen\n",
        "./lfw_funneled/Colin_Powell/Colin_Powell_0229.jpg Alte Bildgr\u00f6\u00dfe:  (250, 250) neue Bildgr\u00f6\u00dfe (31, 31) geladen\n",
        "./lfw_funneled/Colin_Powell/Colin_Powell_0157.jpg Alte Bildgr\u00f6\u00dfe:  (250, 250) neue Bildgr\u00f6\u00dfe (31, 31) geladen\n",
        "./lfw_funneled/Colin_Powell/Colin_Powell_0131.jpg"
       ]
      },
      {
       "output_type": "stream",
       "stream": "stdout",
       "text": [
        " Alte Bildgr\u00f6\u00dfe:  (250, 250) neue Bildgr\u00f6\u00dfe (31, 31) geladen\n",
        "./lfw_funneled/Colin_Powell/Colin_Powell_0176.jpg Alte Bildgr\u00f6\u00dfe:  (250, 250) neue Bildgr\u00f6\u00dfe (31, 31) geladen\n",
        "./lfw_funneled/Colin_Powell/Colin_Powell_0189.jpg Alte Bildgr\u00f6\u00dfe:  (250, 250) neue Bildgr\u00f6\u00dfe (31, 31) geladen\n",
        "./lfw_funneled/Colin_Powell/Colin_Powell_0108.jpg Alte Bildgr\u00f6\u00dfe:  (250, 250) neue Bildgr\u00f6\u00dfe (31, 31) geladen\n",
        "./lfw_funneled/Colin_Powell/Colin_Powell_0219.jpg Alte Bildgr\u00f6\u00dfe:  (250, 250) neue Bildgr\u00f6\u00dfe (31, 31) geladen\n",
        "./lfw_funneled/Colin_Powell/Colin_Powell_0049.jpg Alte Bildgr\u00f6\u00dfe:  (250, 250) neue Bildgr\u00f6\u00dfe (31, 31) geladen\n",
        "./lfw_funneled/Colin_Powell/Colin_Powell_0032.jpg Alte Bildgr\u00f6\u00dfe:  (250, 250) neue Bildgr\u00f6\u00dfe (31, 31) geladen\n",
        "./lfw_funneled/Colin_Powell/Colin_Powell_0078.jpg Alte Bildgr\u00f6\u00dfe:  (250, 250) neue Bildgr\u00f6\u00dfe (31, 31) geladen\n",
        "./lfw_funneled/Colin_Powell/Colin_Powell_0017.jpg Alte Bildgr\u00f6\u00dfe:  (250, 250) neue Bildgr\u00f6\u00dfe (31, 31) geladen\n",
        "./lfw_funneled/Colin_Powell/Colin_Powell_0207.jpg Alte Bildgr\u00f6\u00dfe:  (250, 250) neue Bildgr\u00f6\u00dfe (31, 31) geladen\n",
        "./lfw_funneled/Colin_Powell/Colin_Powell_0161.jpg Alte Bildgr\u00f6\u00dfe:  (250, 250) neue Bildgr\u00f6\u00dfe (31, 31) geladen\n",
        "./lfw_funneled/Colin_Powell/Colin_Powell_0097.jpg Alte Bildgr\u00f6\u00dfe:  (250, 250) neue Bildgr\u00f6\u00dfe (31, 31) geladen\n",
        "./lfw_funneled/Colin_Powell/Colin_Powell_0201.jpg"
       ]
      },
      {
       "output_type": "stream",
       "stream": "stdout",
       "text": [
        " Alte Bildgr\u00f6\u00dfe:  (250, 250) neue Bildgr\u00f6\u00dfe (31, 31) geladen\n",
        "./lfw_funneled/Colin_Powell/Colin_Powell_0170.jpg Alte Bildgr\u00f6\u00dfe:  (250, 250) neue Bildgr\u00f6\u00dfe (31, 31) geladen\n",
        "./lfw_funneled/Colin_Powell/Colin_Powell_0160.jpg Alte Bildgr\u00f6\u00dfe:  (250, 250) neue Bildgr\u00f6\u00dfe (31, 31) geladen\n",
        "./lfw_funneled/Colin_Powell/Colin_Powell_0008.jpg Alte Bildgr\u00f6\u00dfe:  (250, 250) neue Bildgr\u00f6\u00dfe (31, 31) geladen\n",
        "./lfw_funneled/Colin_Powell/Colin_Powell_0211.jpg Alte Bildgr\u00f6\u00dfe:  (250, 250) neue Bildgr\u00f6\u00dfe (31, 31) geladen\n",
        "./lfw_funneled/Colin_Powell/Colin_Powell_0028.jpg Alte Bildgr\u00f6\u00dfe:  (250, 250) neue Bildgr\u00f6\u00dfe (31, 31) geladen\n",
        "./lfw_funneled/Colin_Powell/Colin_Powell_0175.jpg Alte Bildgr\u00f6\u00dfe:  (250, 250) neue Bildgr\u00f6\u00dfe (31, 31) geladen\n",
        "./lfw_funneled/Colin_Powell/Colin_Powell_0009.jpg Alte Bildgr\u00f6\u00dfe:  (250, 250) neue Bildgr\u00f6\u00dfe (31, 31) geladen\n",
        "./lfw_funneled/Colin_Powell/Colin_Powell_0150.jpg Alte Bildgr\u00f6\u00dfe:  (250, 250) neue Bildgr\u00f6\u00dfe (31, 31) geladen\n",
        "./lfw_funneled/Colin_Powell/Colin_Powell_0021.jpg Alte Bildgr\u00f6\u00dfe:  (250, 250) neue Bildgr\u00f6\u00dfe (31, 31) geladen\n",
        "./lfw_funneled/Colin_Powell/Colin_Powell_0085.jpg Alte Bildgr\u00f6\u00dfe:  (250, 250) neue Bildgr\u00f6\u00dfe (31, 31) geladen\n",
        "./lfw_funneled/Colin_Powell/Colin_Powell_0036.jpg Alte Bildgr\u00f6\u00dfe:  (250, 250) neue Bildgr\u00f6\u00dfe (31, 31) geladen\n",
        "./lfw_funneled/Colin_Powell/Colin_Powell_0024.jpg"
       ]
      },
      {
       "output_type": "stream",
       "stream": "stdout",
       "text": [
        " Alte Bildgr\u00f6\u00dfe:  (250, 250) neue Bildgr\u00f6\u00dfe (31, 31) geladen\n",
        "./lfw_funneled/Colin_Powell/Colin_Powell_0011.jpg Alte Bildgr\u00f6\u00dfe:  (250, 250) neue Bildgr\u00f6\u00dfe (31, 31) geladen\n",
        "./lfw_funneled/Colin_Powell/Colin_Powell_0059.jpg Alte Bildgr\u00f6\u00dfe:  (250, 250) neue Bildgr\u00f6\u00dfe (31, 31) geladen\n",
        "./lfw_funneled/Colin_Powell/Colin_Powell_0213.jpg Alte Bildgr\u00f6\u00dfe:  (250, 250) neue Bildgr\u00f6\u00dfe (31, 31) geladen\n",
        "./lfw_funneled/Colin_Powell/Colin_Powell_0147.jpg Alte Bildgr\u00f6\u00dfe:  (250, 250) neue Bildgr\u00f6\u00dfe (31, 31) geladen\n",
        "./lfw_funneled/Colin_Powell/Colin_Powell_0171.jpg Alte Bildgr\u00f6\u00dfe:  (250, 250) neue Bildgr\u00f6\u00dfe (31, 31) geladen\n",
        "./lfw_funneled/Colin_Powell/Colin_Powell_0060.jpg Alte Bildgr\u00f6\u00dfe:  (250, 250) neue Bildgr\u00f6\u00dfe (31, 31) geladen\n",
        "./lfw_funneled/Colin_Powell/Colin_Powell_0057.jpg Alte Bildgr\u00f6\u00dfe:  (250, 250) neue Bildgr\u00f6\u00dfe (31, 31) geladen\n",
        "./lfw_funneled/Colin_Powell/Colin_Powell_0192.jpg Alte Bildgr\u00f6\u00dfe:  (250, 250) neue Bildgr\u00f6\u00dfe (31, 31) geladen\n",
        "./lfw_funneled/Colin_Powell/Colin_Powell_0016.jpg Alte Bildgr\u00f6\u00dfe:  (250, 250) neue Bildgr\u00f6\u00dfe (31, 31) geladen\n",
        "./lfw_funneled/Colin_Powell/Colin_Powell_0225.jpg Alte Bildgr\u00f6\u00dfe:  (250, 250) neue Bildgr\u00f6\u00dfe (31, 31) geladen\n",
        "./lfw_funneled/Hugo_Chavez/Hugo_Chavez_0028.jpg Alte Bildgr\u00f6\u00dfe:  (250, 250) neue Bildgr\u00f6\u00dfe (31, 31) geladen\n",
        "./lfw_funneled/Hugo_Chavez/Hugo_Chavez_0062.jpg Alte Bildgr\u00f6\u00dfe:  (250, 250) "
       ]
      },
      {
       "output_type": "stream",
       "stream": "stdout",
       "text": [
        "neue Bildgr\u00f6\u00dfe (31, 31) geladen\n",
        "./lfw_funneled/Hugo_Chavez/Hugo_Chavez_0045.jpg Alte Bildgr\u00f6\u00dfe:  (250, 250) neue Bildgr\u00f6\u00dfe (31, 31) geladen\n",
        "./lfw_funneled/Hugo_Chavez/Hugo_Chavez_0005.jpg Alte Bildgr\u00f6\u00dfe:  (250, 250) neue Bildgr\u00f6\u00dfe (31, 31) geladen\n",
        "./lfw_funneled/Hugo_Chavez/Hugo_Chavez_0052.jpg Alte Bildgr\u00f6\u00dfe:  (250, 250) neue Bildgr\u00f6\u00dfe (31, 31) geladen\n",
        "./lfw_funneled/Hugo_Chavez/Hugo_Chavez_0066.jpg Alte Bildgr\u00f6\u00dfe:  (250, 250) neue Bildgr\u00f6\u00dfe (31, 31) geladen\n",
        "./lfw_funneled/Hugo_Chavez/Hugo_Chavez_0068.jpg Alte Bildgr\u00f6\u00dfe:  (250, 250) neue Bildgr\u00f6\u00dfe (31, 31) geladen\n",
        "./lfw_funneled/Hugo_Chavez/Hugo_Chavez_0017.jpg Alte Bildgr\u00f6\u00dfe:  (250, 250) neue Bildgr\u00f6\u00dfe (31, 31) geladen\n",
        "./lfw_funneled/Hugo_Chavez/Hugo_Chavez_0071.jpg Alte Bildgr\u00f6\u00dfe:  (250, 250) neue Bildgr\u00f6\u00dfe (31, 31) geladen\n",
        "./lfw_funneled/Hugo_Chavez/Hugo_Chavez_0056.jpg Alte Bildgr\u00f6\u00dfe:  (250, 250) neue Bildgr\u00f6\u00dfe (31, 31) geladen\n",
        "./lfw_funneled/Hugo_Chavez/Hugo_Chavez_0032.jpg Alte Bildgr\u00f6\u00dfe:  (250, 250) neue Bildgr\u00f6\u00dfe (31, 31) geladen\n",
        "./lfw_funneled/Hugo_Chavez/Hugo_Chavez_0064.jpg"
       ]
      },
      {
       "output_type": "stream",
       "stream": "stdout",
       "text": [
        " Alte Bildgr\u00f6\u00dfe:  (250, 250) neue Bildgr\u00f6\u00dfe (31, 31) geladen\n",
        "./lfw_funneled/Hugo_Chavez/Hugo_Chavez_0035.jpg Alte Bildgr\u00f6\u00dfe:  (250, 250) neue Bildgr\u00f6\u00dfe (31, 31) geladen\n",
        "./lfw_funneled/Hugo_Chavez/Hugo_Chavez_0042.jpg Alte Bildgr\u00f6\u00dfe:  (250, 250) neue Bildgr\u00f6\u00dfe (31, 31) geladen\n",
        "./lfw_funneled/Hugo_Chavez/Hugo_Chavez_0025.jpg Alte Bildgr\u00f6\u00dfe:  (250, 250) neue Bildgr\u00f6\u00dfe (31, 31) geladen\n",
        "./lfw_funneled/Hugo_Chavez/Hugo_Chavez_0024.jpg Alte Bildgr\u00f6\u00dfe:  (250, 250) neue Bildgr\u00f6\u00dfe (31, 31) geladen\n",
        "./lfw_funneled/Hugo_Chavez/Hugo_Chavez_0018.jpg Alte Bildgr\u00f6\u00dfe:  (250, 250) neue Bildgr\u00f6\u00dfe (31, 31) geladen\n",
        "./lfw_funneled/Hugo_Chavez/Hugo_Chavez_0031.jpg Alte Bildgr\u00f6\u00dfe:  (250, 250) neue Bildgr\u00f6\u00dfe (31, 31) geladen\n",
        "./lfw_funneled/Hugo_Chavez/Hugo_Chavez_0014.jpg Alte Bildgr\u00f6\u00dfe:  (250, 250) neue Bildgr\u00f6\u00dfe (31, 31) geladen\n",
        "./lfw_funneled/Hugo_Chavez/Hugo_Chavez_0051.jpg Alte Bildgr\u00f6\u00dfe:  (250, 250) neue Bildgr\u00f6\u00dfe (31, 31) geladen"
       ]
      },
      {
       "output_type": "stream",
       "stream": "stdout",
       "text": [
        "\n",
        "./lfw_funneled/Hugo_Chavez/Hugo_Chavez_0030.jpg Alte Bildgr\u00f6\u00dfe:  (250, 250) neue Bildgr\u00f6\u00dfe (31, 31) geladen\n",
        "./lfw_funneled/Hugo_Chavez/Hugo_Chavez_0059.jpg Alte Bildgr\u00f6\u00dfe:  (250, 250) neue Bildgr\u00f6\u00dfe (31, 31) geladen\n",
        "./lfw_funneled/Hugo_Chavez/Hugo_Chavez_0067.jpg Alte Bildgr\u00f6\u00dfe:  (250, 250) neue Bildgr\u00f6\u00dfe (31, 31) geladen\n",
        "./lfw_funneled/Hugo_Chavez/Hugo_Chavez_0011.jpg Alte Bildgr\u00f6\u00dfe:  (250, 250) neue Bildgr\u00f6\u00dfe (31, 31) geladen\n",
        "./lfw_funneled/Hugo_Chavez/Hugo_Chavez_0010.jpg Alte Bildgr\u00f6\u00dfe:  (250, 250) neue Bildgr\u00f6\u00dfe (31, 31) geladen\n",
        "./lfw_funneled/Hugo_Chavez/Hugo_Chavez_0060.jpg Alte Bildgr\u00f6\u00dfe:  (250, 250) neue Bildgr\u00f6\u00dfe (31, 31) geladen\n",
        "./lfw_funneled/Hugo_Chavez/Hugo_Chavez_0021.jpg Alte Bildgr\u00f6\u00dfe:  (250, 250) neue Bildgr\u00f6\u00dfe (31, 31) geladen\n",
        "./lfw_funneled/Gerhard_Schroeder/Gerhard_Schroeder_0031.jpg Alte Bildgr\u00f6\u00dfe:  (250, 250) neue Bildgr\u00f6\u00dfe (31, 31) geladen\n",
        "./lfw_funneled/Gerhard_Schroeder/Gerhard_Schroeder_0029.jpg Alte Bildgr\u00f6\u00dfe:  (250, 250) neue Bildgr\u00f6\u00dfe (31, 31) geladen\n",
        "./lfw_funneled/Gerhard_Schroeder/Gerhard_Schroeder_0089.jpg Alte Bildgr\u00f6\u00dfe:  (250, 250) neue Bildgr\u00f6\u00dfe (31, 31) geladen\n",
        "./lfw_funneled/Gerhard_Schroeder/Gerhard_Schroeder_0079.jpg"
       ]
      },
      {
       "output_type": "stream",
       "stream": "stdout",
       "text": [
        " Alte Bildgr\u00f6\u00dfe:  (250, 250) neue Bildgr\u00f6\u00dfe (31, 31) geladen\n",
        "./lfw_funneled/Gerhard_Schroeder/Gerhard_Schroeder_0001.jpg Alte Bildgr\u00f6\u00dfe:  (250, 250) neue Bildgr\u00f6\u00dfe (31, 31) geladen\n",
        "./lfw_funneled/Gerhard_Schroeder/Gerhard_Schroeder_0076.jpg Alte Bildgr\u00f6\u00dfe:  (250, 250) neue Bildgr\u00f6\u00dfe (31, 31) geladen\n",
        "./lfw_funneled/Gerhard_Schroeder/Gerhard_Schroeder_0078.jpg Alte Bildgr\u00f6\u00dfe:  (250, 250) neue Bildgr\u00f6\u00dfe (31, 31) geladen\n",
        "./lfw_funneled/Gerhard_Schroeder/Gerhard_Schroeder_0033.jpg Alte Bildgr\u00f6\u00dfe:  (250, 250) neue Bildgr\u00f6\u00dfe (31, 31) geladen\n",
        "./lfw_funneled/Gerhard_Schroeder/Gerhard_Schroeder_0043.jpg Alte Bildgr\u00f6\u00dfe:  (250, 250) neue Bildgr\u00f6\u00dfe (31, 31) geladen\n",
        "./lfw_funneled/Gerhard_Schroeder/Gerhard_Schroeder_0109.jpg Alte Bildgr\u00f6\u00dfe:  (250, 250) neue Bildgr\u00f6\u00dfe (31, 31) geladen\n",
        "./lfw_funneled/Gerhard_Schroeder/Gerhard_Schroeder_0008.jpg Alte Bildgr\u00f6\u00dfe:  (250, 250) neue Bildgr\u00f6\u00dfe (31, 31) geladen\n",
        "./lfw_funneled/Gerhard_Schroeder/Gerhard_Schroeder_0057.jpg Alte Bildgr\u00f6\u00dfe:  (250, 250) neue Bildgr\u00f6\u00dfe (31, 31) geladen\n",
        "./lfw_funneled/Gerhard_Schroeder/Gerhard_Schroeder_0006.jpg"
       ]
      },
      {
       "output_type": "stream",
       "stream": "stdout",
       "text": [
        " Alte Bildgr\u00f6\u00dfe:  (250, 250) neue Bildgr\u00f6\u00dfe (31, 31) geladen\n",
        "./lfw_funneled/Gerhard_Schroeder/Gerhard_Schroeder_0053.jpg Alte Bildgr\u00f6\u00dfe:  (250, 250) neue Bildgr\u00f6\u00dfe (31, 31) geladen\n",
        "./lfw_funneled/Gerhard_Schroeder/Gerhard_Schroeder_0011.jpg Alte Bildgr\u00f6\u00dfe:  (250, 250) neue Bildgr\u00f6\u00dfe (31, 31) geladen\n",
        "./lfw_funneled/Gerhard_Schroeder/Gerhard_Schroeder_0074.jpg Alte Bildgr\u00f6\u00dfe:  (250, 250) neue Bildgr\u00f6\u00dfe (31, 31) geladen\n",
        "./lfw_funneled/Gerhard_Schroeder/Gerhard_Schroeder_0030.jpg Alte Bildgr\u00f6\u00dfe:  (250, 250) neue Bildgr\u00f6\u00dfe (31, 31) geladen\n",
        "./lfw_funneled/Gerhard_Schroeder/Gerhard_Schroeder_0088.jpg Alte Bildgr\u00f6\u00dfe:  (250, 250) neue Bildgr\u00f6\u00dfe (31, 31) geladen\n",
        "./lfw_funneled/Gerhard_Schroeder/Gerhard_Schroeder_0087.jpg Alte Bildgr\u00f6\u00dfe:  (250, 250) neue Bildgr\u00f6\u00dfe (31, 31) geladen\n",
        "./lfw_funneled/Gerhard_Schroeder/Gerhard_Schroeder_0094.jpg Alte Bildgr\u00f6\u00dfe:  (250, 250) neue Bildgr\u00f6\u00dfe (31, 31) geladen\n",
        "./lfw_funneled/Gerhard_Schroeder/Gerhard_Schroeder_0091.jpg Alte Bildgr\u00f6\u00dfe:  (250, 250) neue Bildgr\u00f6\u00dfe (31, 31) geladen\n",
        "./lfw_funneled/Gerhard_Schroeder/Gerhard_Schroeder_0003.jpg Alte Bildgr\u00f6\u00dfe:  (250, 250) neue Bildgr\u00f6\u00dfe (31, 31) geladen\n",
        "./lfw_funneled/Gerhard_Schroeder/Gerhard_Schroeder_0063.jpg Alte Bildgr\u00f6\u00dfe:  (250, 250) neue Bildgr\u00f6\u00dfe (31, 31) geladen\n",
        "./lfw_funneled/Gerhard_Schroeder/Gerhard_Schroeder_0099.jpg Alte Bildgr\u00f6\u00dfe:  (250, 250) neue Bildgr\u00f6\u00dfe (31, 31) geladen\n",
        "./lfw_funneled/Gerhard_Schroeder/Gerhard_Schroeder_0073.jpg Alte Bildgr\u00f6\u00dfe:  (250, 250) neue Bildgr\u00f6\u00dfe (31, 31) geladen\n",
        "./lfw_funneled/Gerhard_Schroeder/Gerhard_Schroeder_0096.jpg"
       ]
      },
      {
       "output_type": "stream",
       "stream": "stdout",
       "text": [
        " Alte Bildgr\u00f6\u00dfe:  (250, 250) neue Bildgr\u00f6\u00dfe (31, 31) geladen\n",
        "./lfw_funneled/Gerhard_Schroeder/Gerhard_Schroeder_0034.jpg Alte Bildgr\u00f6\u00dfe:  (250, 250) neue Bildgr\u00f6\u00dfe (31, 31) geladen\n",
        "./lfw_funneled/Gerhard_Schroeder/Gerhard_Schroeder_0081.jpg Alte Bildgr\u00f6\u00dfe:  (250, 250) neue Bildgr\u00f6\u00dfe (31, 31) geladen\n",
        "./lfw_funneled/Gerhard_Schroeder/Gerhard_Schroeder_0077.jpg Alte Bildgr\u00f6\u00dfe:  (250, 250) neue Bildgr\u00f6\u00dfe (31, 31) geladen\n",
        "./lfw_funneled/Gerhard_Schroeder/Gerhard_Schroeder_0002.jpg Alte Bildgr\u00f6\u00dfe:  (250, 250) neue Bildgr\u00f6\u00dfe (31, 31) geladen\n",
        "./lfw_funneled/Gerhard_Schroeder/Gerhard_Schroeder_0061.jpg Alte Bildgr\u00f6\u00dfe:  (250, 250) neue Bildgr\u00f6\u00dfe (31, 31) geladen\n",
        "./lfw_funneled/Gerhard_Schroeder/Gerhard_Schroeder_0046.jpg Alte Bildgr\u00f6\u00dfe:  (250, 250) neue Bildgr\u00f6\u00dfe (31, 31) geladen\n",
        "./lfw_funneled/Gerhard_Schroeder/Gerhard_Schroeder_0013.jpg Alte Bildgr\u00f6\u00dfe:  (250, 250) neue Bildgr\u00f6\u00dfe (31, 31) geladen\n",
        "./lfw_funneled/Gerhard_Schroeder/Gerhard_Schroeder_0084.jpg Alte Bildgr\u00f6\u00dfe:  (250, 250) neue Bildgr\u00f6\u00dfe (31, 31) geladen\n",
        "./lfw_funneled/Gerhard_Schroeder/Gerhard_Schroeder_0040.jpg Alte Bildgr\u00f6\u00dfe:  (250, 250) neue Bildgr\u00f6\u00dfe (31, 31) geladen\n",
        "./lfw_funneled/Gerhard_Schroeder/Gerhard_Schroeder_0070.jpg Alte Bildgr\u00f6\u00dfe:  (250, 250) neue Bildgr\u00f6\u00dfe (31, 31) geladen\n",
        "./lfw_funneled/Gerhard_Schroeder/Gerhard_Schroeder_0067.jpg Alte Bildgr\u00f6\u00dfe:  (250, 250) neue Bildgr\u00f6\u00dfe (31, 31) geladen\n",
        "./lfw_funneled/Gerhard_Schroeder/Gerhard_Schroeder_0044.jpg"
       ]
      },
      {
       "output_type": "stream",
       "stream": "stdout",
       "text": [
        " Alte Bildgr\u00f6\u00dfe:  (250, 250) neue Bildgr\u00f6\u00dfe (31, 31) geladen\n",
        "./lfw_funneled/Gerhard_Schroeder/Gerhard_Schroeder_0049.jpg Alte Bildgr\u00f6\u00dfe:  (250, 250) neue Bildgr\u00f6\u00dfe (31, 31) geladen\n",
        "./lfw_funneled/Gerhard_Schroeder/Gerhard_Schroeder_0092.jpg Alte Bildgr\u00f6\u00dfe:  (250, 250) neue Bildgr\u00f6\u00dfe (31, 31) geladen\n",
        "./lfw_funneled/Gerhard_Schroeder/Gerhard_Schroeder_0080.jpg Alte Bildgr\u00f6\u00dfe:  (250, 250) neue Bildgr\u00f6\u00dfe (31, 31) geladen\n",
        "./lfw_funneled/Gerhard_Schroeder/Gerhard_Schroeder_0014.jpg Alte Bildgr\u00f6\u00dfe:  (250, 250) neue Bildgr\u00f6\u00dfe (31, 31) geladen\n",
        "./lfw_funneled/Gerhard_Schroeder/Gerhard_Schroeder_0068.jpg Alte Bildgr\u00f6\u00dfe:  (250, 250) neue Bildgr\u00f6\u00dfe (31, 31) geladen\n",
        "-  60.0 % der Bilder wurden in die Testbilder geladen - \n",
        "- getInForm: Achtung \u00fcbergebene Daten wurden angepasst und \u00fcberschrieben! -"
       ]
      },
      {
       "output_type": "stream",
       "stream": "stdout",
       "text": [
        "\n",
        "von shape:  (7,) nach:  (1288, 961)\n",
        "u:"
       ]
      },
      {
       "output_type": "stream",
       "stream": "stdout",
       "text": [
        " (1288, 1288)\n",
        "d: (961,)\n",
        "VT: (961, 961)\n",
        "V: (961, 961)\n"
       ]
      }
     ],
     "prompt_number": 51
    },
    {
     "cell_type": "code",
     "collapsed": false,
     "input": [
      "# Darstellen der 7 ersten Eigengesichter als Bild\n",
      "eigengesichter = []\n",
      "faces = []\n",
      "for i in range(0, 7):\n",
      "    face = np.reshape(V[:,i], ImageSize)\n",
      "    eigengesichter.append(face)\n",
      "    faces.append(eigengesichter[i])\n",
      "\n",
      "    min = faces[i].min()\n",
      "    max = faces[i].max()\n",
      "\n",
      "    faces[i] = faces[i] - min\n",
      "    faces[i] = faces[i] / (max-min)\n",
      "    \n",
      "fig = plt.figure()    \n",
      "fig, ax = subplots(figsize=(14, 14))\n",
      "for j in range (0,7):\n",
      "    ax = plt.subplot(1,7,j+1) \n",
      "    ax.imshow(faces[j])\n",
      "\n",
      "gray()\n",
      "plt.show()"
     ],
     "language": "python",
     "metadata": {},
     "outputs": [
      {
       "metadata": {},
       "output_type": "display_data",
       "text": [
        "<matplotlib.figure.Figure at 0x7f1b294fc4d0>"
       ]
      },
      {
       "metadata": {},
       "output_type": "display_data",
       "png": "[encoded data removed]",
       "text": [
        "<matplotlib.figure.Figure at 0x7f1b2940c2d0>"
       ]
      }
     ],
     "prompt_number": 52
    },
    {
     "cell_type": "code",
     "collapsed": false,
     "input": [
      "# Projizieren Sie jedes der Trainings- und Testbilder auf die ersten 7 Eigengesichter (Skalarprodukts)\n",
      "\n",
      "imagecountTest =0\n",
      "imagecountTraining =0\n",
      "# standardisieren\n",
      "for i in range(0, len(TestBilder)):\n",
      "    mean = np.mean(TestBilder[i])\n",
      "    TestBilder[i] -= mean\n",
      "    imagecountTest += len(TestBilder[i]) \n",
      "\n",
      "# Standardisieren\n",
      "for i in range(0, len(TrainingsBilder)):\n",
      "    mean = np.mean(TrainingsBilder[i])\n",
      "    TrainingsBilder[i] -= mean\n",
      "    imagecountTraining += len(TrainingsBilder[i])  \n",
      "    \n",
      "# Testbilder  \n",
      "projezierteTestBilder = np.zeros((7,imagecountTest))\n",
      "for i in range(0, len(TestBilder)):\n",
      "    for pic in range(0,len(TestBilder[i])):\n",
      "        for j in range(0,7):\n",
      "            projezierteTestBilder[j][i+pic] = np.dot(VT[:,j], TestBilder[i][pic])\n",
      "           \n",
      "# Trainingsbilder             \n",
      "projezierteTrainingsBilder = np.zeros((7,imagecountTraining))\n",
      "for i in range(0, len(TrainingsBilder)):\n",
      "    for pic in range(0,len(TrainingsBilder[i])):\n",
      "        # erste 7 Eigengesichter\n",
      "        for j in range(0,7):\n",
      "            projezierteTrainingsBilder[j][i+pic] = np.dot(VT[:,j], TrainingsBilder[i][pic])\n",
      "\n",
      "        \n",
      "# Sie erhalten so fu\u0308r jedes Trainings- und Testbild 7 Merkmale.\n",
      "print 'Merkmale Shape: ',shape(projezierteTestBilder),shape(projezierteTrainingsBilder)"
     ],
     "language": "python",
     "metadata": {},
     "outputs": [
      {
       "output_type": "stream",
       "stream": "stdout",
       "text": [
        "Merkmale Shape:  (7, 508) (7, 773)\n"
       ]
      }
     ],
     "prompt_number": 55
    },
    {
     "cell_type": "markdown",
     "metadata": {},
     "source": [
      "<b>Trainingskonstante"
     ]
    },
    {
     "cell_type": "code",
     "collapsed": false,
     "input": [
      "SuchePerson =  'George W Bush'\n",
      "#SuchePerson = 'Ariel Sharon'\n",
      "#SuchePerson = 'Colin Powell'\n",
      "#SuchePerson = 'Donald Rumsfeld'\n",
      "#SuchePerson =  'Gerhard Schroeder'\n",
      "#SuchePerson =  'Hugo Chavez'\n",
      "#SuchePerson =  'Tony Blair'"
     ],
     "language": "python",
     "metadata": {},
     "outputs": [],
     "prompt_number": 73
    },
    {
     "cell_type": "code",
     "collapsed": false,
     "input": [
      "# George-W.-Bush-Detektor\n",
      "# Erstellt Labelliste und Bilderliste aller Bilder\n",
      "def GeorgeW_Bush_Detektor(Data,Name):\n",
      "   # imagesList= []\n",
      "    labelList =[]\n",
      "    for person in range(0,len(NameList)):\n",
      "        for picture in range(0,len(Data[person])):\n",
      "            if(person==NameList.index(Name)):\n",
      "                #imagesList.append(Data[person]) Wert +1\n",
      "                labelList.append(1)\n",
      "            else:\n",
      "                #imagesList.append(Data[person]) Wert -1\n",
      "                labelList.append(-1)\n",
      "    return labelList"
     ],
     "language": "python",
     "metadata": {},
     "outputs": [],
     "prompt_number": 74
    },
    {
     "cell_type": "code",
     "collapsed": false,
     "input": [
      "# Unter Verwendung der Hauptkomponenten (PCA)\n",
      "breakIterate = 2000\n",
      "lernrate = 0.1\n",
      "\n",
      "labelList=GeorgeW_Bush_Detektor(TrainingsBilder,SuchePerson) # Erstelle Perzeptron Test Daten\n",
      "HKgewichtsVektor_w,HKSchwellwert_b = primal_Perzeptron(projezierteTrainingsBilder[NameList.index(SuchePerson)],labelList,lernrate,breakIterate,False )"
     ],
     "language": "python",
     "metadata": {},
     "outputs": [
      {
       "output_type": "stream",
       "stream": "stdout",
       "text": [
        "Abbruch in 1999"
       ]
      },
      {
       "output_type": "stream",
       "stream": "stdout",
       "text": [
        "\r",
        "Abbruch in 1998"
       ]
      },
      {
       "output_type": "stream",
       "stream": "stdout",
       "text": [
        "\r",
        "Abbruch in 1997"
       ]
      },
      {
       "output_type": "stream",
       "stream": "stdout",
       "text": [
        "\r",
        "Abbruch in 1996"
       ]
      },
      {
       "output_type": "stream",
       "stream": "stdout",
       "text": [
        "\r",
        "Abbruch in 1995"
       ]
      },
      {
       "output_type": "stream",
       "stream": "stdout",
       "text": [
        "\r",
        "Abbruch in 1994"
       ]
      },
      {
       "output_type": "stream",
       "stream": "stdout",
       "text": [
        "\r",
        "Abbruch in 1993"
       ]
      },
      {
       "output_type": "stream",
       "stream": "stdout",
       "text": [
        "\r",
        "Abbruch in 1992"
       ]
      },
      {
       "output_type": "stream",
       "stream": "stdout",
       "text": [
        "\r",
        "Abbruch in 1991"
       ]
      },
      {
       "output_type": "stream",
       "stream": "stdout",
       "text": [
        "\r",
        "Abbruch in 1990"
       ]
      },
      {
       "output_type": "stream",
       "stream": "stdout",
       "text": [
        "\r",
        "Abbruch in 1989"
       ]
      },
      {
       "output_type": "stream",
       "stream": "stdout",
       "text": [
        "\r",
        "Abbruch in 1988"
       ]
      },
      {
       "output_type": "stream",
       "stream": "stdout",
       "text": [
        "\r",
        "Abbruch in 1987"
       ]
      },
      {
       "output_type": "stream",
       "stream": "stdout",
       "text": [
        "\r",
        "Abbruch in 1986"
       ]
      },
      {
       "output_type": "stream",
       "stream": "stdout",
       "text": [
        "\r",
        "Abbruch in 1985"
       ]
      },
      {
       "output_type": "stream",
       "stream": "stdout",
       "text": [
        "\r",
        "Abbruch in 1984"
       ]
      },
      {
       "output_type": "stream",
       "stream": "stdout",
       "text": [
        "\r",
        "Abbruch in 1983"
       ]
      },
      {
       "output_type": "stream",
       "stream": "stdout",
       "text": [
        "\r",
        "Abbruch in 1982"
       ]
      },
      {
       "output_type": "stream",
       "stream": "stdout",
       "text": [
        "\r",
        "Abbruch in 1981"
       ]
      },
      {
       "output_type": "stream",
       "stream": "stdout",
       "text": [
        "\r",
        "Abbruch in 1980"
       ]
      },
      {
       "output_type": "stream",
       "stream": "stdout",
       "text": [
        "\r",
        "Abbruch in 1979"
       ]
      },
      {
       "output_type": "stream",
       "stream": "stdout",
       "text": [
        "\r",
        "Abbruch in 1978"
       ]
      },
      {
       "output_type": "stream",
       "stream": "stdout",
       "text": [
        "\r",
        "Abbruch in 1977"
       ]
      },
      {
       "output_type": "stream",
       "stream": "stdout",
       "text": [
        "\r",
        "Abbruch in 1976"
       ]
      },
      {
       "output_type": "stream",
       "stream": "stdout",
       "text": [
        "\r",
        "Abbruch in 1975"
       ]
      },
      {
       "output_type": "stream",
       "stream": "stdout",
       "text": [
        "\r",
        "Abbruch in 1974"
       ]
      },
      {
       "output_type": "stream",
       "stream": "stdout",
       "text": [
        "\r",
        "Abbruch in 1973"
       ]
      },
      {
       "output_type": "stream",
       "stream": "stdout",
       "text": [
        "\r",
        "Abbruch in 1972"
       ]
      },
      {
       "output_type": "stream",
       "stream": "stdout",
       "text": [
        "\r",
        "Abbruch in 1971"
       ]
      },
      {
       "output_type": "stream",
       "stream": "stdout",
       "text": [
        "\r",
        "Abbruch in 1970"
       ]
      },
      {
       "output_type": "stream",
       "stream": "stdout",
       "text": [
        "\r",
        "Abbruch in 1969"
       ]
      },
      {
       "output_type": "stream",
       "stream": "stdout",
       "text": [
        "\r",
        "Abbruch in 1968"
       ]
      },
      {
       "output_type": "stream",
       "stream": "stdout",
       "text": [
        "\r",
        "Abbruch in 1967"
       ]
      },
      {
       "output_type": "stream",
       "stream": "stdout",
       "text": [
        "\r",
        "Abbruch in 1966"
       ]
      },
      {
       "output_type": "stream",
       "stream": "stdout",
       "text": [
        "\r",
        "Abbruch in 1965"
       ]
      },
      {
       "output_type": "stream",
       "stream": "stdout",
       "text": [
        "\r",
        "Abbruch in 1964"
       ]
      },
      {
       "output_type": "stream",
       "stream": "stdout",
       "text": [
        "\r",
        "Abbruch in 1963"
       ]
      },
      {
       "output_type": "stream",
       "stream": "stdout",
       "text": [
        "\r",
        "Abbruch in 1962"
       ]
      },
      {
       "output_type": "stream",
       "stream": "stdout",
       "text": [
        "\r",
        "Abbruch in 1961"
       ]
      },
      {
       "output_type": "stream",
       "stream": "stdout",
       "text": [
        "\r",
        "Abbruch in 1960"
       ]
      },
      {
       "output_type": "stream",
       "stream": "stdout",
       "text": [
        "\r",
        "Abbruch in 1959"
       ]
      },
      {
       "output_type": "stream",
       "stream": "stdout",
       "text": [
        "\r",
        "Abbruch in 1958"
       ]
      },
      {
       "output_type": "stream",
       "stream": "stdout",
       "text": [
        "\r",
        "Abbruch in 1957"
       ]
      },
      {
       "output_type": "stream",
       "stream": "stdout",
       "text": [
        "\r",
        "Abbruch in 1956"
       ]
      },
      {
       "output_type": "stream",
       "stream": "stdout",
       "text": [
        "\r",
        "Abbruch in 1955"
       ]
      },
      {
       "output_type": "stream",
       "stream": "stdout",
       "text": [
        "\r",
        "Abbruch in 1954"
       ]
      },
      {
       "output_type": "stream",
       "stream": "stdout",
       "text": [
        "\r",
        "Abbruch in 1953"
       ]
      },
      {
       "output_type": "stream",
       "stream": "stdout",
       "text": [
        "\r",
        "Abbruch in 1952"
       ]
      },
      {
       "output_type": "stream",
       "stream": "stdout",
       "text": [
        "\r",
        "Abbruch in 1951"
       ]
      },
      {
       "output_type": "stream",
       "stream": "stdout",
       "text": [
        "\r",
        "Abbruch in 1950"
       ]
      },
      {
       "output_type": "stream",
       "stream": "stdout",
       "text": [
        "\r",
        "Abbruch in 1949"
       ]
      },
      {
       "output_type": "stream",
       "stream": "stdout",
       "text": [
        "\r",
        "Abbruch in 1948"
       ]
      },
      {
       "output_type": "stream",
       "stream": "stdout",
       "text": [
        "\r",
        "Abbruch in 1947"
       ]
      },
      {
       "output_type": "stream",
       "stream": "stdout",
       "text": [
        "\r",
        "Abbruch in 1946"
       ]
      },
      {
       "output_type": "stream",
       "stream": "stdout",
       "text": [
        "\r",
        "Abbruch in 1945"
       ]
      },
      {
       "output_type": "stream",
       "stream": "stdout",
       "text": [
        "\r",
        "Abbruch in 1944"
       ]
      },
      {
       "output_type": "stream",
       "stream": "stdout",
       "text": [
        "\r",
        "Abbruch in 1943"
       ]
      },
      {
       "output_type": "stream",
       "stream": "stdout",
       "text": [
        "\r",
        "Abbruch in 1942"
       ]
      },
      {
       "output_type": "stream",
       "stream": "stdout",
       "text": [
        "\r",
        "Abbruch in 1941"
       ]
      },
      {
       "output_type": "stream",
       "stream": "stdout",
       "text": [
        "\r",
        "Abbruch in 1940"
       ]
      },
      {
       "output_type": "stream",
       "stream": "stdout",
       "text": [
        "\r",
        "Abbruch in 1939"
       ]
      },
      {
       "output_type": "stream",
       "stream": "stdout",
       "text": [
        "\r",
        "Abbruch in 1938"
       ]
      },
      {
       "output_type": "stream",
       "stream": "stdout",
       "text": [
        "\r",
        "Abbruch in 1937"
       ]
      },
      {
       "output_type": "stream",
       "stream": "stdout",
       "text": [
        "\r",
        "Abbruch in 1936"
       ]
      },
      {
       "output_type": "stream",
       "stream": "stdout",
       "text": [
        "\r",
        "Abbruch in 1935"
       ]
      },
      {
       "output_type": "stream",
       "stream": "stdout",
       "text": [
        "\r",
        "Abbruch in 1934"
       ]
      },
      {
       "output_type": "stream",
       "stream": "stdout",
       "text": [
        "\r",
        "Abbruch in 1933"
       ]
      },
      {
       "output_type": "stream",
       "stream": "stdout",
       "text": [
        "\r",
        "Abbruch in 1932"
       ]
      },
      {
       "output_type": "stream",
       "stream": "stdout",
       "text": [
        "\r",
        "Abbruch in 1931"
       ]
      },
      {
       "output_type": "stream",
       "stream": "stdout",
       "text": [
        "\r",
        "Abbruch in 1930"
       ]
      },
      {
       "output_type": "stream",
       "stream": "stdout",
       "text": [
        "\r",
        "Abbruch in 1929"
       ]
      },
      {
       "output_type": "stream",
       "stream": "stdout",
       "text": [
        "\r",
        "Abbruch in 1928"
       ]
      },
      {
       "output_type": "stream",
       "stream": "stdout",
       "text": [
        "\r",
        "Abbruch in 1927"
       ]
      },
      {
       "output_type": "stream",
       "stream": "stdout",
       "text": [
        "\r",
        "Abbruch in 1926"
       ]
      },
      {
       "output_type": "stream",
       "stream": "stdout",
       "text": [
        "\r",
        "Abbruch in 1925"
       ]
      },
      {
       "output_type": "stream",
       "stream": "stdout",
       "text": [
        "\r",
        "Abbruch in 1924"
       ]
      },
      {
       "output_type": "stream",
       "stream": "stdout",
       "text": [
        "\r",
        "Abbruch in 1923"
       ]
      },
      {
       "output_type": "stream",
       "stream": "stdout",
       "text": [
        "\r",
        "Abbruch in 1922"
       ]
      },
      {
       "output_type": "stream",
       "stream": "stdout",
       "text": [
        "\r",
        "Abbruch in 1921"
       ]
      },
      {
       "output_type": "stream",
       "stream": "stdout",
       "text": [
        "\r",
        "Abbruch in 1920"
       ]
      },
      {
       "output_type": "stream",
       "stream": "stdout",
       "text": [
        "\r",
        "Abbruch in 1919"
       ]
      },
      {
       "output_type": "stream",
       "stream": "stdout",
       "text": [
        "\r",
        "Abbruch in 1918"
       ]
      },
      {
       "output_type": "stream",
       "stream": "stdout",
       "text": [
        "\r",
        "Abbruch in 1917"
       ]
      },
      {
       "output_type": "stream",
       "stream": "stdout",
       "text": [
        "\r",
        "Abbruch in 1916"
       ]
      },
      {
       "output_type": "stream",
       "stream": "stdout",
       "text": [
        "\r",
        "Abbruch in 1915"
       ]
      },
      {
       "output_type": "stream",
       "stream": "stdout",
       "text": [
        "\r",
        "Abbruch in 1914"
       ]
      },
      {
       "output_type": "stream",
       "stream": "stdout",
       "text": [
        "\r",
        "Abbruch in 1913"
       ]
      },
      {
       "output_type": "stream",
       "stream": "stdout",
       "text": [
        "\r",
        "Abbruch in 1912"
       ]
      },
      {
       "output_type": "stream",
       "stream": "stdout",
       "text": [
        "\r",
        "Abbruch in 1911"
       ]
      },
      {
       "output_type": "stream",
       "stream": "stdout",
       "text": [
        "\r",
        "Abbruch in 1910"
       ]
      },
      {
       "output_type": "stream",
       "stream": "stdout",
       "text": [
        "\r",
        "Abbruch in 1909"
       ]
      },
      {
       "output_type": "stream",
       "stream": "stdout",
       "text": [
        "\r",
        "Abbruch in 1908"
       ]
      },
      {
       "output_type": "stream",
       "stream": "stdout",
       "text": [
        "\r",
        "Abbruch in 1907"
       ]
      },
      {
       "output_type": "stream",
       "stream": "stdout",
       "text": [
        "\r",
        "Abbruch in 1906"
       ]
      },
      {
       "output_type": "stream",
       "stream": "stdout",
       "text": [
        "\r",
        "Abbruch in 1905"
       ]
      },
      {
       "output_type": "stream",
       "stream": "stdout",
       "text": [
        "\r",
        "Abbruch in 1904"
       ]
      },
      {
       "output_type": "stream",
       "stream": "stdout",
       "text": [
        "\r",
        "Abbruch in 1903"
       ]
      },
      {
       "output_type": "stream",
       "stream": "stdout",
       "text": [
        "\r",
        "Abbruch in 1902"
       ]
      },
      {
       "output_type": "stream",
       "stream": "stdout",
       "text": [
        "\r",
        "Abbruch in 1901"
       ]
      },
      {
       "output_type": "stream",
       "stream": "stdout",
       "text": [
        "\r",
        "Abbruch in 1900"
       ]
      },
      {
       "output_type": "stream",
       "stream": "stdout",
       "text": [
        "\r",
        "Abbruch in 1899"
       ]
      },
      {
       "output_type": "stream",
       "stream": "stdout",
       "text": [
        "\r",
        "Abbruch in 1898"
       ]
      },
      {
       "output_type": "stream",
       "stream": "stdout",
       "text": [
        "\r",
        "Abbruch in 1897"
       ]
      },
      {
       "output_type": "stream",
       "stream": "stdout",
       "text": [
        "\r",
        "Abbruch in 1896"
       ]
      },
      {
       "output_type": "stream",
       "stream": "stdout",
       "text": [
        "\r",
        "Abbruch in 1895"
       ]
      },
      {
       "output_type": "stream",
       "stream": "stdout",
       "text": [
        "\r",
        "Abbruch in 1894"
       ]
      },
      {
       "output_type": "stream",
       "stream": "stdout",
       "text": [
        "\r",
        "Abbruch in 1893"
       ]
      },
      {
       "output_type": "stream",
       "stream": "stdout",
       "text": [
        "\r",
        "Abbruch in 1892"
       ]
      },
      {
       "output_type": "stream",
       "stream": "stdout",
       "text": [
        "\r",
        "Abbruch in 1891"
       ]
      },
      {
       "output_type": "stream",
       "stream": "stdout",
       "text": [
        "\r",
        "Abbruch in 1890"
       ]
      },
      {
       "output_type": "stream",
       "stream": "stdout",
       "text": [
        "\r",
        "Abbruch in 1889"
       ]
      },
      {
       "output_type": "stream",
       "stream": "stdout",
       "text": [
        "\r",
        "Abbruch in 1888"
       ]
      },
      {
       "output_type": "stream",
       "stream": "stdout",
       "text": [
        "\r",
        "Abbruch in 1887"
       ]
      },
      {
       "output_type": "stream",
       "stream": "stdout",
       "text": [
        "\r",
        "Abbruch in 1886"
       ]
      },
      {
       "output_type": "stream",
       "stream": "stdout",
       "text": [
        "\r",
        "Abbruch in 1885"
       ]
      },
      {
       "output_type": "stream",
       "stream": "stdout",
       "text": [
        "\r",
        "Abbruch in 1884"
       ]
      },
      {
       "output_type": "stream",
       "stream": "stdout",
       "text": [
        "\r",
        "Abbruch in 1883"
       ]
      },
      {
       "output_type": "stream",
       "stream": "stdout",
       "text": [
        "\r",
        "Abbruch in 1882"
       ]
      },
      {
       "output_type": "stream",
       "stream": "stdout",
       "text": [
        "\r",
        "Abbruch in 1881"
       ]
      },
      {
       "output_type": "stream",
       "stream": "stdout",
       "text": [
        "\r",
        "Abbruch in 1880"
       ]
      },
      {
       "output_type": "stream",
       "stream": "stdout",
       "text": [
        "\r",
        "Abbruch in 1879"
       ]
      },
      {
       "output_type": "stream",
       "stream": "stdout",
       "text": [
        "\r",
        "Abbruch in 1878"
       ]
      },
      {
       "output_type": "stream",
       "stream": "stdout",
       "text": [
        "\r",
        "Abbruch in 1877"
       ]
      },
      {
       "output_type": "stream",
       "stream": "stdout",
       "text": [
        "\r",
        "Abbruch in 1876"
       ]
      },
      {
       "output_type": "stream",
       "stream": "stdout",
       "text": [
        "\r",
        "Abbruch in 1875"
       ]
      },
      {
       "output_type": "stream",
       "stream": "stdout",
       "text": [
        "\r",
        "Abbruch in 1874"
       ]
      },
      {
       "output_type": "stream",
       "stream": "stdout",
       "text": [
        "\r",
        "Abbruch in 1873"
       ]
      },
      {
       "output_type": "stream",
       "stream": "stdout",
       "text": [
        "\r",
        "Abbruch in 1872"
       ]
      },
      {
       "output_type": "stream",
       "stream": "stdout",
       "text": [
        "\r",
        "Abbruch in 1871"
       ]
      },
      {
       "output_type": "stream",
       "stream": "stdout",
       "text": [
        "\r",
        "Abbruch in 1870"
       ]
      },
      {
       "output_type": "stream",
       "stream": "stdout",
       "text": [
        "\r",
        "Abbruch in 1869"
       ]
      },
      {
       "output_type": "stream",
       "stream": "stdout",
       "text": [
        "\r",
        "Abbruch in 1868"
       ]
      },
      {
       "output_type": "stream",
       "stream": "stdout",
       "text": [
        "\r",
        "Abbruch in 1867"
       ]
      },
      {
       "output_type": "stream",
       "stream": "stdout",
       "text": [
        "\r",
        "Abbruch in 1866"
       ]
      },
      {
       "output_type": "stream",
       "stream": "stdout",
       "text": [
        "\r",
        "Abbruch in 1865"
       ]
      },
      {
       "output_type": "stream",
       "stream": "stdout",
       "text": [
        "\r",
        "Abbruch in 1864"
       ]
      },
      {
       "output_type": "stream",
       "stream": "stdout",
       "text": [
        "\r",
        "Abbruch in 1863"
       ]
      },
      {
       "output_type": "stream",
       "stream": "stdout",
       "text": [
        "\r",
        "Abbruch in 1862"
       ]
      },
      {
       "output_type": "stream",
       "stream": "stdout",
       "text": [
        "\r",
        "Abbruch in 1861"
       ]
      },
      {
       "output_type": "stream",
       "stream": "stdout",
       "text": [
        "\r",
        "Abbruch in 1860"
       ]
      },
      {
       "output_type": "stream",
       "stream": "stdout",
       "text": [
        "\r",
        "Abbruch in 1859"
       ]
      },
      {
       "output_type": "stream",
       "stream": "stdout",
       "text": [
        "\r",
        "Abbruch in 1858"
       ]
      },
      {
       "output_type": "stream",
       "stream": "stdout",
       "text": [
        "\r",
        "Abbruch in 1857"
       ]
      },
      {
       "output_type": "stream",
       "stream": "stdout",
       "text": [
        "\r",
        "Abbruch in 1856"
       ]
      },
      {
       "output_type": "stream",
       "stream": "stdout",
       "text": [
        "\r",
        "Abbruch in 1855"
       ]
      },
      {
       "output_type": "stream",
       "stream": "stdout",
       "text": [
        "\r",
        "Abbruch in 1854"
       ]
      },
      {
       "output_type": "stream",
       "stream": "stdout",
       "text": [
        "\r",
        "Abbruch in 1853"
       ]
      },
      {
       "output_type": "stream",
       "stream": "stdout",
       "text": [
        "\r",
        "Abbruch in 1852"
       ]
      },
      {
       "output_type": "stream",
       "stream": "stdout",
       "text": [
        "\r",
        "Abbruch in 1851"
       ]
      },
      {
       "output_type": "stream",
       "stream": "stdout",
       "text": [
        "\r",
        "Abbruch in 1850"
       ]
      },
      {
       "output_type": "stream",
       "stream": "stdout",
       "text": [
        "\r",
        "Abbruch in 1849"
       ]
      },
      {
       "output_type": "stream",
       "stream": "stdout",
       "text": [
        "\r",
        "Abbruch in 1848"
       ]
      },
      {
       "output_type": "stream",
       "stream": "stdout",
       "text": [
        "\r",
        "Abbruch in 1847"
       ]
      },
      {
       "output_type": "stream",
       "stream": "stdout",
       "text": [
        "\r",
        "Abbruch in 1846"
       ]
      },
      {
       "output_type": "stream",
       "stream": "stdout",
       "text": [
        "\r",
        "Abbruch in 1845"
       ]
      },
      {
       "output_type": "stream",
       "stream": "stdout",
       "text": [
        "\r",
        "Abbruch in 1844"
       ]
      },
      {
       "output_type": "stream",
       "stream": "stdout",
       "text": [
        "\r",
        "Abbruch in 1843"
       ]
      },
      {
       "output_type": "stream",
       "stream": "stdout",
       "text": [
        "\r",
        "Abbruch in 1842"
       ]
      },
      {
       "output_type": "stream",
       "stream": "stdout",
       "text": [
        "\r",
        "Abbruch in 1841"
       ]
      },
      {
       "output_type": "stream",
       "stream": "stdout",
       "text": [
        "\r",
        "Abbruch in 1840"
       ]
      },
      {
       "output_type": "stream",
       "stream": "stdout",
       "text": [
        "\r",
        "Abbruch in 1839"
       ]
      },
      {
       "output_type": "stream",
       "stream": "stdout",
       "text": [
        "\r",
        "Abbruch in 1838"
       ]
      },
      {
       "output_type": "stream",
       "stream": "stdout",
       "text": [
        "\r",
        "Abbruch in 1837"
       ]
      },
      {
       "output_type": "stream",
       "stream": "stdout",
       "text": [
        "\r",
        "Abbruch in 1836"
       ]
      },
      {
       "output_type": "stream",
       "stream": "stdout",
       "text": [
        "\r",
        "Abbruch in 1835"
       ]
      },
      {
       "output_type": "stream",
       "stream": "stdout",
       "text": [
        "\r",
        "Abbruch in 1834"
       ]
      },
      {
       "output_type": "stream",
       "stream": "stdout",
       "text": [
        "\r",
        "Abbruch in 1833"
       ]
      },
      {
       "output_type": "stream",
       "stream": "stdout",
       "text": [
        "\r",
        "Abbruch in 1832"
       ]
      },
      {
       "output_type": "stream",
       "stream": "stdout",
       "text": [
        "\r",
        "Abbruch in 1831"
       ]
      },
      {
       "output_type": "stream",
       "stream": "stdout",
       "text": [
        "\r",
        "Abbruch in 1830"
       ]
      },
      {
       "output_type": "stream",
       "stream": "stdout",
       "text": [
        "\r",
        "Abbruch in 1829"
       ]
      },
      {
       "output_type": "stream",
       "stream": "stdout",
       "text": [
        "\r",
        "Abbruch in 1828"
       ]
      },
      {
       "output_type": "stream",
       "stream": "stdout",
       "text": [
        "\r",
        "Abbruch in 1827"
       ]
      },
      {
       "output_type": "stream",
       "stream": "stdout",
       "text": [
        "\r",
        "Abbruch in 1826"
       ]
      },
      {
       "output_type": "stream",
       "stream": "stdout",
       "text": [
        "\r",
        "Abbruch in 1825"
       ]
      },
      {
       "output_type": "stream",
       "stream": "stdout",
       "text": [
        "\r",
        "Abbruch in 1824"
       ]
      },
      {
       "output_type": "stream",
       "stream": "stdout",
       "text": [
        "\r",
        "Abbruch in 1823"
       ]
      },
      {
       "output_type": "stream",
       "stream": "stdout",
       "text": [
        "\r",
        "Abbruch in 1822"
       ]
      },
      {
       "output_type": "stream",
       "stream": "stdout",
       "text": [
        "\r",
        "Abbruch in 1821"
       ]
      },
      {
       "output_type": "stream",
       "stream": "stdout",
       "text": [
        "\r",
        "Abbruch in 1820"
       ]
      },
      {
       "output_type": "stream",
       "stream": "stdout",
       "text": [
        "\r",
        "Abbruch in 1819"
       ]
      },
      {
       "output_type": "stream",
       "stream": "stdout",
       "text": [
        "\r",
        "Abbruch in 1818"
       ]
      },
      {
       "output_type": "stream",
       "stream": "stdout",
       "text": [
        "\r",
        "Abbruch in 1817"
       ]
      },
      {
       "output_type": "stream",
       "stream": "stdout",
       "text": [
        "\r",
        "Abbruch in 1816"
       ]
      },
      {
       "output_type": "stream",
       "stream": "stdout",
       "text": [
        "\r",
        "Abbruch in 1815"
       ]
      },
      {
       "output_type": "stream",
       "stream": "stdout",
       "text": [
        "\r",
        "Abbruch in 1814"
       ]
      },
      {
       "output_type": "stream",
       "stream": "stdout",
       "text": [
        "\r",
        "Abbruch in 1813"
       ]
      },
      {
       "output_type": "stream",
       "stream": "stdout",
       "text": [
        "\r",
        "Abbruch in 1812"
       ]
      },
      {
       "output_type": "stream",
       "stream": "stdout",
       "text": [
        "\r",
        "Abbruch in 1811"
       ]
      },
      {
       "output_type": "stream",
       "stream": "stdout",
       "text": [
        "\r",
        "Abbruch in 1810"
       ]
      },
      {
       "output_type": "stream",
       "stream": "stdout",
       "text": [
        "\r",
        "Abbruch in 1809"
       ]
      },
      {
       "output_type": "stream",
       "stream": "stdout",
       "text": [
        "\r",
        "Abbruch in 1808"
       ]
      },
      {
       "output_type": "stream",
       "stream": "stdout",
       "text": [
        "\r",
        "Abbruch in 1807"
       ]
      },
      {
       "output_type": "stream",
       "stream": "stdout",
       "text": [
        "\r",
        "Abbruch in 1806"
       ]
      },
      {
       "output_type": "stream",
       "stream": "stdout",
       "text": [
        "\r",
        "Abbruch in 1805"
       ]
      },
      {
       "output_type": "stream",
       "stream": "stdout",
       "text": [
        "\r",
        "Abbruch in 1804"
       ]
      },
      {
       "output_type": "stream",
       "stream": "stdout",
       "text": [
        "\r",
        "Abbruch in 1803"
       ]
      },
      {
       "output_type": "stream",
       "stream": "stdout",
       "text": [
        "\r",
        "Abbruch in 1802"
       ]
      },
      {
       "output_type": "stream",
       "stream": "stdout",
       "text": [
        "\r",
        "Abbruch in 1801"
       ]
      },
      {
       "output_type": "stream",
       "stream": "stdout",
       "text": [
        "\r",
        "Abbruch in 1800"
       ]
      },
      {
       "output_type": "stream",
       "stream": "stdout",
       "text": [
        "\r",
        "Abbruch in 1799"
       ]
      },
      {
       "output_type": "stream",
       "stream": "stdout",
       "text": [
        "\r",
        "Abbruch in 1798"
       ]
      },
      {
       "output_type": "stream",
       "stream": "stdout",
       "text": [
        "\r",
        "Abbruch in 1797"
       ]
      },
      {
       "output_type": "stream",
       "stream": "stdout",
       "text": [
        "\r",
        "Abbruch in 1796"
       ]
      },
      {
       "output_type": "stream",
       "stream": "stdout",
       "text": [
        "\r",
        "Abbruch in 1795"
       ]
      },
      {
       "output_type": "stream",
       "stream": "stdout",
       "text": [
        "\r",
        "Abbruch in 1794"
       ]
      },
      {
       "output_type": "stream",
       "stream": "stdout",
       "text": [
        "\r",
        "Abbruch in 1793"
       ]
      },
      {
       "output_type": "stream",
       "stream": "stdout",
       "text": [
        "\r",
        "Abbruch in 1792"
       ]
      },
      {
       "output_type": "stream",
       "stream": "stdout",
       "text": [
        "\r",
        "Abbruch in 1791"
       ]
      },
      {
       "output_type": "stream",
       "stream": "stdout",
       "text": [
        "\r",
        "Abbruch in 1790"
       ]
      },
      {
       "output_type": "stream",
       "stream": "stdout",
       "text": [
        "\r",
        "Abbruch in 1789"
       ]
      },
      {
       "output_type": "stream",
       "stream": "stdout",
       "text": [
        "\r",
        "Abbruch in 1788"
       ]
      },
      {
       "output_type": "stream",
       "stream": "stdout",
       "text": [
        "\r",
        "Abbruch in 1787"
       ]
      },
      {
       "output_type": "stream",
       "stream": "stdout",
       "text": [
        "\r",
        "Abbruch in 1786"
       ]
      },
      {
       "output_type": "stream",
       "stream": "stdout",
       "text": [
        "\r",
        "Abbruch in 1785"
       ]
      },
      {
       "output_type": "stream",
       "stream": "stdout",
       "text": [
        "\r",
        "Abbruch in 1784"
       ]
      },
      {
       "output_type": "stream",
       "stream": "stdout",
       "text": [
        "\r",
        "Abbruch in 1783"
       ]
      },
      {
       "output_type": "stream",
       "stream": "stdout",
       "text": [
        "\r",
        "Abbruch in 1782"
       ]
      },
      {
       "output_type": "stream",
       "stream": "stdout",
       "text": [
        "\r",
        "Abbruch in 1781"
       ]
      },
      {
       "output_type": "stream",
       "stream": "stdout",
       "text": [
        "\r",
        "Abbruch in 1780"
       ]
      },
      {
       "output_type": "stream",
       "stream": "stdout",
       "text": [
        "\r",
        "Abbruch in 1779"
       ]
      },
      {
       "output_type": "stream",
       "stream": "stdout",
       "text": [
        "\r",
        "Abbruch in 1778"
       ]
      },
      {
       "output_type": "stream",
       "stream": "stdout",
       "text": [
        "\r",
        "Abbruch in 1777"
       ]
      },
      {
       "output_type": "stream",
       "stream": "stdout",
       "text": [
        "\r",
        "Abbruch in 1776"
       ]
      },
      {
       "output_type": "stream",
       "stream": "stdout",
       "text": [
        "\r",
        "Abbruch in 1775"
       ]
      },
      {
       "output_type": "stream",
       "stream": "stdout",
       "text": [
        "\r",
        "Abbruch in 1774"
       ]
      },
      {
       "output_type": "stream",
       "stream": "stdout",
       "text": [
        "\r",
        "Abbruch in 1773"
       ]
      },
      {
       "output_type": "stream",
       "stream": "stdout",
       "text": [
        "\r",
        "Abbruch in 1772"
       ]
      },
      {
       "output_type": "stream",
       "stream": "stdout",
       "text": [
        "\r",
        "Abbruch in 1771"
       ]
      },
      {
       "output_type": "stream",
       "stream": "stdout",
       "text": [
        "\r",
        "Abbruch in 1770"
       ]
      },
      {
       "output_type": "stream",
       "stream": "stdout",
       "text": [
        "\r",
        "Abbruch in 1769"
       ]
      },
      {
       "output_type": "stream",
       "stream": "stdout",
       "text": [
        "\r",
        "Abbruch in 1768"
       ]
      },
      {
       "output_type": "stream",
       "stream": "stdout",
       "text": [
        "\r",
        "Abbruch in 1767"
       ]
      },
      {
       "output_type": "stream",
       "stream": "stdout",
       "text": [
        "\r",
        "Abbruch in 1766"
       ]
      },
      {
       "output_type": "stream",
       "stream": "stdout",
       "text": [
        "\r",
        "Abbruch in 1765"
       ]
      },
      {
       "output_type": "stream",
       "stream": "stdout",
       "text": [
        "\r",
        "Abbruch in 1764"
       ]
      },
      {
       "output_type": "stream",
       "stream": "stdout",
       "text": [
        "\r",
        "Abbruch in 1763"
       ]
      },
      {
       "output_type": "stream",
       "stream": "stdout",
       "text": [
        "\r",
        "Abbruch in 1762"
       ]
      },
      {
       "output_type": "stream",
       "stream": "stdout",
       "text": [
        "\r",
        "Abbruch in 1761"
       ]
      },
      {
       "output_type": "stream",
       "stream": "stdout",
       "text": [
        "\r",
        "Abbruch in 1760"
       ]
      },
      {
       "output_type": "stream",
       "stream": "stdout",
       "text": [
        "\r",
        "Abbruch in 1759"
       ]
      },
      {
       "output_type": "stream",
       "stream": "stdout",
       "text": [
        "\r",
        "Abbruch in 1758"
       ]
      },
      {
       "output_type": "stream",
       "stream": "stdout",
       "text": [
        "\r",
        "Abbruch in 1757"
       ]
      },
      {
       "output_type": "stream",
       "stream": "stdout",
       "text": [
        "\r",
        "Abbruch in 1756"
       ]
      },
      {
       "output_type": "stream",
       "stream": "stdout",
       "text": [
        "\r",
        "Abbruch in 1755"
       ]
      },
      {
       "output_type": "stream",
       "stream": "stdout",
       "text": [
        "\r",
        "Abbruch in 1754"
       ]
      },
      {
       "output_type": "stream",
       "stream": "stdout",
       "text": [
        "\r",
        "Abbruch in 1753"
       ]
      },
      {
       "output_type": "stream",
       "stream": "stdout",
       "text": [
        "\r",
        "Abbruch in 1752"
       ]
      },
      {
       "output_type": "stream",
       "stream": "stdout",
       "text": [
        "\r",
        "Abbruch in 1751"
       ]
      },
      {
       "output_type": "stream",
       "stream": "stdout",
       "text": [
        "\r",
        "Abbruch in 1750"
       ]
      },
      {
       "output_type": "stream",
       "stream": "stdout",
       "text": [
        "\r",
        "Abbruch in 1749"
       ]
      },
      {
       "output_type": "stream",
       "stream": "stdout",
       "text": [
        "\r",
        "Abbruch in 1748"
       ]
      },
      {
       "output_type": "stream",
       "stream": "stdout",
       "text": [
        "\r",
        "Abbruch in 1747"
       ]
      },
      {
       "output_type": "stream",
       "stream": "stdout",
       "text": [
        "\r",
        "Abbruch in 1746"
       ]
      },
      {
       "output_type": "stream",
       "stream": "stdout",
       "text": [
        "\r",
        "Abbruch in 1745"
       ]
      },
      {
       "output_type": "stream",
       "stream": "stdout",
       "text": [
        "\r",
        "Abbruch in 1744"
       ]
      },
      {
       "output_type": "stream",
       "stream": "stdout",
       "text": [
        "\r",
        "Abbruch in 1743"
       ]
      },
      {
       "output_type": "stream",
       "stream": "stdout",
       "text": [
        "\r",
        "Abbruch in 1742"
       ]
      },
      {
       "output_type": "stream",
       "stream": "stdout",
       "text": [
        "\r",
        "Abbruch in 1741"
       ]
      },
      {
       "output_type": "stream",
       "stream": "stdout",
       "text": [
        "\r",
        "Abbruch in 1740"
       ]
      },
      {
       "output_type": "stream",
       "stream": "stdout",
       "text": [
        "\r",
        "Abbruch in 1739"
       ]
      },
      {
       "output_type": "stream",
       "stream": "stdout",
       "text": [
        "\r",
        "Abbruch in 1738"
       ]
      },
      {
       "output_type": "stream",
       "stream": "stdout",
       "text": [
        "\r",
        "Abbruch in 1737"
       ]
      },
      {
       "output_type": "stream",
       "stream": "stdout",
       "text": [
        "\r",
        "Abbruch in 1736"
       ]
      },
      {
       "output_type": "stream",
       "stream": "stdout",
       "text": [
        "\r",
        "Abbruch in 1735"
       ]
      },
      {
       "output_type": "stream",
       "stream": "stdout",
       "text": [
        "\r",
        "Abbruch in 1734"
       ]
      },
      {
       "output_type": "stream",
       "stream": "stdout",
       "text": [
        "\r",
        "Abbruch in 1733"
       ]
      },
      {
       "output_type": "stream",
       "stream": "stdout",
       "text": [
        "\r",
        "Abbruch in 1732"
       ]
      },
      {
       "output_type": "stream",
       "stream": "stdout",
       "text": [
        "\r",
        "Abbruch in 1731"
       ]
      },
      {
       "output_type": "stream",
       "stream": "stdout",
       "text": [
        "\r",
        "Abbruch in 1730"
       ]
      },
      {
       "output_type": "stream",
       "stream": "stdout",
       "text": [
        "\r",
        "Abbruch in 1729"
       ]
      },
      {
       "output_type": "stream",
       "stream": "stdout",
       "text": [
        "\r",
        "Abbruch in 1728"
       ]
      },
      {
       "output_type": "stream",
       "stream": "stdout",
       "text": [
        "\r",
        "Abbruch in 1727"
       ]
      },
      {
       "output_type": "stream",
       "stream": "stdout",
       "text": [
        "\r",
        "Abbruch in 1726"
       ]
      },
      {
       "output_type": "stream",
       "stream": "stdout",
       "text": [
        "\r",
        "Abbruch in 1725"
       ]
      },
      {
       "output_type": "stream",
       "stream": "stdout",
       "text": [
        "\r",
        "Abbruch in 1724"
       ]
      },
      {
       "output_type": "stream",
       "stream": "stdout",
       "text": [
        "\r",
        "Abbruch in 1723"
       ]
      },
      {
       "output_type": "stream",
       "stream": "stdout",
       "text": [
        "\r",
        "Abbruch in 1722"
       ]
      },
      {
       "output_type": "stream",
       "stream": "stdout",
       "text": [
        "\r",
        "Abbruch in 1721"
       ]
      },
      {
       "output_type": "stream",
       "stream": "stdout",
       "text": [
        "\r",
        "Abbruch in 1720"
       ]
      },
      {
       "output_type": "stream",
       "stream": "stdout",
       "text": [
        "\r",
        "Abbruch in 1719"
       ]
      },
      {
       "output_type": "stream",
       "stream": "stdout",
       "text": [
        "\r",
        "Abbruch in 1718"
       ]
      },
      {
       "output_type": "stream",
       "stream": "stdout",
       "text": [
        "\r",
        "Abbruch in 1717"
       ]
      },
      {
       "output_type": "stream",
       "stream": "stdout",
       "text": [
        "\r",
        "Abbruch in 1716"
       ]
      },
      {
       "output_type": "stream",
       "stream": "stdout",
       "text": [
        "\r",
        "Abbruch in 1715"
       ]
      },
      {
       "output_type": "stream",
       "stream": "stdout",
       "text": [
        "\r",
        "Abbruch in 1714"
       ]
      },
      {
       "output_type": "stream",
       "stream": "stdout",
       "text": [
        "\r",
        "Abbruch in 1713"
       ]
      },
      {
       "output_type": "stream",
       "stream": "stdout",
       "text": [
        "\r",
        "Abbruch in 1712"
       ]
      },
      {
       "output_type": "stream",
       "stream": "stdout",
       "text": [
        "\r",
        "Abbruch in 1711"
       ]
      },
      {
       "output_type": "stream",
       "stream": "stdout",
       "text": [
        "\r",
        "Abbruch in 1710"
       ]
      },
      {
       "output_type": "stream",
       "stream": "stdout",
       "text": [
        "\r",
        "Abbruch in 1709"
       ]
      },
      {
       "output_type": "stream",
       "stream": "stdout",
       "text": [
        "\r",
        "Abbruch in 1708"
       ]
      },
      {
       "output_type": "stream",
       "stream": "stdout",
       "text": [
        "\r",
        "Abbruch in 1707"
       ]
      },
      {
       "output_type": "stream",
       "stream": "stdout",
       "text": [
        "\r",
        "Abbruch in 1706"
       ]
      },
      {
       "output_type": "stream",
       "stream": "stdout",
       "text": [
        "\r",
        "Abbruch in 1705"
       ]
      },
      {
       "output_type": "stream",
       "stream": "stdout",
       "text": [
        "\r",
        "Abbruch in 1704"
       ]
      },
      {
       "output_type": "stream",
       "stream": "stdout",
       "text": [
        "\r",
        "Abbruch in 1703"
       ]
      },
      {
       "output_type": "stream",
       "stream": "stdout",
       "text": [
        "\r",
        "Abbruch in 1702"
       ]
      },
      {
       "output_type": "stream",
       "stream": "stdout",
       "text": [
        "\r",
        "Abbruch in 1701"
       ]
      },
      {
       "output_type": "stream",
       "stream": "stdout",
       "text": [
        "\r",
        "Abbruch in 1700"
       ]
      },
      {
       "output_type": "stream",
       "stream": "stdout",
       "text": [
        "\r",
        "Abbruch in 1699"
       ]
      },
      {
       "output_type": "stream",
       "stream": "stdout",
       "text": [
        "\r",
        "Abbruch in 1698"
       ]
      },
      {
       "output_type": "stream",
       "stream": "stdout",
       "text": [
        "\r",
        "Abbruch in 1697"
       ]
      },
      {
       "output_type": "stream",
       "stream": "stdout",
       "text": [
        "\r",
        "Abbruch in 1696"
       ]
      },
      {
       "output_type": "stream",
       "stream": "stdout",
       "text": [
        "\r",
        "Abbruch in 1695"
       ]
      },
      {
       "output_type": "stream",
       "stream": "stdout",
       "text": [
        "\r",
        "Abbruch in 1694"
       ]
      },
      {
       "output_type": "stream",
       "stream": "stdout",
       "text": [
        "\r",
        "Abbruch in 1693"
       ]
      },
      {
       "output_type": "stream",
       "stream": "stdout",
       "text": [
        "\r",
        "Abbruch in 1692"
       ]
      },
      {
       "output_type": "stream",
       "stream": "stdout",
       "text": [
        "\r",
        "Abbruch in 1691"
       ]
      },
      {
       "output_type": "stream",
       "stream": "stdout",
       "text": [
        "\r",
        "Abbruch in 1690"
       ]
      },
      {
       "output_type": "stream",
       "stream": "stdout",
       "text": [
        "\r",
        "Abbruch in 1689"
       ]
      },
      {
       "output_type": "stream",
       "stream": "stdout",
       "text": [
        "\r",
        "Abbruch in 1688"
       ]
      },
      {
       "output_type": "stream",
       "stream": "stdout",
       "text": [
        "\r",
        "Abbruch in 1687"
       ]
      },
      {
       "output_type": "stream",
       "stream": "stdout",
       "text": [
        "\r",
        "Abbruch in 1686"
       ]
      },
      {
       "output_type": "stream",
       "stream": "stdout",
       "text": [
        "\r",
        "Abbruch in 1685"
       ]
      },
      {
       "output_type": "stream",
       "stream": "stdout",
       "text": [
        "\r",
        "Abbruch in 1684"
       ]
      },
      {
       "output_type": "stream",
       "stream": "stdout",
       "text": [
        "\r",
        "Abbruch in 1683"
       ]
      },
      {
       "output_type": "stream",
       "stream": "stdout",
       "text": [
        "\r",
        "Abbruch in 1682"
       ]
      },
      {
       "output_type": "stream",
       "stream": "stdout",
       "text": [
        "\r",
        "Abbruch in 1681"
       ]
      },
      {
       "output_type": "stream",
       "stream": "stdout",
       "text": [
        "\r",
        "Abbruch in 1680"
       ]
      },
      {
       "output_type": "stream",
       "stream": "stdout",
       "text": [
        "\r",
        "Abbruch in 1679"
       ]
      },
      {
       "output_type": "stream",
       "stream": "stdout",
       "text": [
        "\r",
        "Abbruch in 1678"
       ]
      },
      {
       "output_type": "stream",
       "stream": "stdout",
       "text": [
        "\r",
        "Abbruch in 1677"
       ]
      },
      {
       "output_type": "stream",
       "stream": "stdout",
       "text": [
        "\r",
        "Abbruch in 1676"
       ]
      },
      {
       "output_type": "stream",
       "stream": "stdout",
       "text": [
        "\r",
        "Abbruch in 1675"
       ]
      },
      {
       "output_type": "stream",
       "stream": "stdout",
       "text": [
        "\r",
        "Abbruch in 1674"
       ]
      },
      {
       "output_type": "stream",
       "stream": "stdout",
       "text": [
        "\r",
        "Abbruch in 1673"
       ]
      },
      {
       "output_type": "stream",
       "stream": "stdout",
       "text": [
        "\r",
        "Abbruch in 1672"
       ]
      },
      {
       "output_type": "stream",
       "stream": "stdout",
       "text": [
        "\r",
        "Abbruch in 1671"
       ]
      },
      {
       "output_type": "stream",
       "stream": "stdout",
       "text": [
        "\r",
        "Abbruch in 1670"
       ]
      },
      {
       "output_type": "stream",
       "stream": "stdout",
       "text": [
        "\r",
        "Abbruch in 1669"
       ]
      },
      {
       "output_type": "stream",
       "stream": "stdout",
       "text": [
        "\r",
        "Abbruch in 1668"
       ]
      },
      {
       "output_type": "stream",
       "stream": "stdout",
       "text": [
        "\r",
        "Abbruch in 1667"
       ]
      },
      {
       "output_type": "stream",
       "stream": "stdout",
       "text": [
        "\r",
        "Abbruch in 1666"
       ]
      },
      {
       "output_type": "stream",
       "stream": "stdout",
       "text": [
        "\r",
        "Abbruch in 1665"
       ]
      },
      {
       "output_type": "stream",
       "stream": "stdout",
       "text": [
        "\r",
        "Abbruch in 1664"
       ]
      },
      {
       "output_type": "stream",
       "stream": "stdout",
       "text": [
        "\r",
        "Abbruch in 1663"
       ]
      },
      {
       "output_type": "stream",
       "stream": "stdout",
       "text": [
        "\r",
        "Abbruch in 1662"
       ]
      },
      {
       "output_type": "stream",
       "stream": "stdout",
       "text": [
        "\r",
        "Abbruch in 1661"
       ]
      },
      {
       "output_type": "stream",
       "stream": "stdout",
       "text": [
        "\r",
        "Abbruch in 1660"
       ]
      },
      {
       "output_type": "stream",
       "stream": "stdout",
       "text": [
        "\r",
        "Abbruch in 1659"
       ]
      },
      {
       "output_type": "stream",
       "stream": "stdout",
       "text": [
        "\r",
        "Abbruch in 1658"
       ]
      },
      {
       "output_type": "stream",
       "stream": "stdout",
       "text": [
        "\r",
        "Abbruch in 1657"
       ]
      },
      {
       "output_type": "stream",
       "stream": "stdout",
       "text": [
        "\r",
        "Abbruch in 1656"
       ]
      },
      {
       "output_type": "stream",
       "stream": "stdout",
       "text": [
        "\r",
        "Abbruch in 1655"
       ]
      },
      {
       "output_type": "stream",
       "stream": "stdout",
       "text": [
        "\r",
        "Abbruch in 1654"
       ]
      },
      {
       "output_type": "stream",
       "stream": "stdout",
       "text": [
        "\r",
        "Abbruch in 1653"
       ]
      },
      {
       "output_type": "stream",
       "stream": "stdout",
       "text": [
        "\r",
        "Abbruch in 1652"
       ]
      },
      {
       "output_type": "stream",
       "stream": "stdout",
       "text": [
        "\r",
        "Abbruch in 1651"
       ]
      },
      {
       "output_type": "stream",
       "stream": "stdout",
       "text": [
        "\r",
        "Abbruch in 1650"
       ]
      },
      {
       "output_type": "stream",
       "stream": "stdout",
       "text": [
        "\r",
        "Abbruch in 1649"
       ]
      },
      {
       "output_type": "stream",
       "stream": "stdout",
       "text": [
        "\r",
        "Abbruch in 1648"
       ]
      },
      {
       "output_type": "stream",
       "stream": "stdout",
       "text": [
        "\r",
        "Abbruch in 1647"
       ]
      },
      {
       "output_type": "stream",
       "stream": "stdout",
       "text": [
        "\r",
        "Abbruch in 1646"
       ]
      },
      {
       "output_type": "stream",
       "stream": "stdout",
       "text": [
        "\r",
        "Abbruch in 1645"
       ]
      },
      {
       "output_type": "stream",
       "stream": "stdout",
       "text": [
        "\r",
        "Abbruch in 1644"
       ]
      },
      {
       "output_type": "stream",
       "stream": "stdout",
       "text": [
        "\r",
        "Abbruch in 1643"
       ]
      },
      {
       "output_type": "stream",
       "stream": "stdout",
       "text": [
        "\r",
        "Abbruch in 1642"
       ]
      },
      {
       "output_type": "stream",
       "stream": "stdout",
       "text": [
        "\r",
        "Abbruch in 1641"
       ]
      },
      {
       "output_type": "stream",
       "stream": "stdout",
       "text": [
        "\r",
        "Abbruch in 1640"
       ]
      },
      {
       "output_type": "stream",
       "stream": "stdout",
       "text": [
        "\r",
        "Abbruch in 1639"
       ]
      },
      {
       "output_type": "stream",
       "stream": "stdout",
       "text": [
        "\r",
        "Abbruch in 1638"
       ]
      },
      {
       "output_type": "stream",
       "stream": "stdout",
       "text": [
        "\r",
        "Abbruch in 1637"
       ]
      },
      {
       "output_type": "stream",
       "stream": "stdout",
       "text": [
        "\r",
        "Abbruch in 1636"
       ]
      },
      {
       "output_type": "stream",
       "stream": "stdout",
       "text": [
        "\r",
        "Abbruch in 1635"
       ]
      },
      {
       "output_type": "stream",
       "stream": "stdout",
       "text": [
        "\r",
        "Abbruch in 1634"
       ]
      },
      {
       "output_type": "stream",
       "stream": "stdout",
       "text": [
        "\r",
        "Abbruch in 1633"
       ]
      },
      {
       "output_type": "stream",
       "stream": "stdout",
       "text": [
        "\r",
        "Abbruch in 1632"
       ]
      },
      {
       "output_type": "stream",
       "stream": "stdout",
       "text": [
        "\r",
        "Abbruch in 1631"
       ]
      },
      {
       "output_type": "stream",
       "stream": "stdout",
       "text": [
        "\r",
        "Abbruch in 1630"
       ]
      },
      {
       "output_type": "stream",
       "stream": "stdout",
       "text": [
        "\r",
        "Abbruch in 1629"
       ]
      },
      {
       "output_type": "stream",
       "stream": "stdout",
       "text": [
        "\r",
        "Abbruch in 1628"
       ]
      },
      {
       "output_type": "stream",
       "stream": "stdout",
       "text": [
        "\r",
        "Abbruch in 1627"
       ]
      },
      {
       "output_type": "stream",
       "stream": "stdout",
       "text": [
        "\r",
        "Abbruch in 1626"
       ]
      },
      {
       "output_type": "stream",
       "stream": "stdout",
       "text": [
        "\r",
        "Abbruch in 1625"
       ]
      },
      {
       "output_type": "stream",
       "stream": "stdout",
       "text": [
        "\r",
        "Abbruch in 1624"
       ]
      },
      {
       "output_type": "stream",
       "stream": "stdout",
       "text": [
        "\r",
        "Abbruch in 1623"
       ]
      },
      {
       "output_type": "stream",
       "stream": "stdout",
       "text": [
        "\r",
        "Abbruch in 1622"
       ]
      },
      {
       "output_type": "stream",
       "stream": "stdout",
       "text": [
        "\r",
        "Abbruch in 1621"
       ]
      },
      {
       "output_type": "stream",
       "stream": "stdout",
       "text": [
        "\r",
        "Abbruch in 1620"
       ]
      },
      {
       "output_type": "stream",
       "stream": "stdout",
       "text": [
        "\r",
        "Abbruch in 1619"
       ]
      },
      {
       "output_type": "stream",
       "stream": "stdout",
       "text": [
        "\r",
        "Abbruch in 1618"
       ]
      },
      {
       "output_type": "stream",
       "stream": "stdout",
       "text": [
        "\r",
        "Abbruch in 1617"
       ]
      },
      {
       "output_type": "stream",
       "stream": "stdout",
       "text": [
        "\r",
        "Abbruch in 1616"
       ]
      },
      {
       "output_type": "stream",
       "stream": "stdout",
       "text": [
        "\r",
        "Abbruch in 1615"
       ]
      },
      {
       "output_type": "stream",
       "stream": "stdout",
       "text": [
        "\r",
        "Abbruch in 1614"
       ]
      },
      {
       "output_type": "stream",
       "stream": "stdout",
       "text": [
        "\r",
        "Abbruch in 1613"
       ]
      },
      {
       "output_type": "stream",
       "stream": "stdout",
       "text": [
        "\r",
        "Abbruch in 1612"
       ]
      },
      {
       "output_type": "stream",
       "stream": "stdout",
       "text": [
        "\r",
        "Abbruch in 1611"
       ]
      },
      {
       "output_type": "stream",
       "stream": "stdout",
       "text": [
        "\r",
        "Abbruch in 1610"
       ]
      },
      {
       "output_type": "stream",
       "stream": "stdout",
       "text": [
        "\r",
        "Abbruch in 1609"
       ]
      },
      {
       "output_type": "stream",
       "stream": "stdout",
       "text": [
        "\r",
        "Abbruch in 1608"
       ]
      },
      {
       "output_type": "stream",
       "stream": "stdout",
       "text": [
        "\r",
        "Abbruch in 1607"
       ]
      },
      {
       "output_type": "stream",
       "stream": "stdout",
       "text": [
        "\r",
        "Abbruch in 1606"
       ]
      },
      {
       "output_type": "stream",
       "stream": "stdout",
       "text": [
        "\r",
        "Abbruch in 1605"
       ]
      },
      {
       "output_type": "stream",
       "stream": "stdout",
       "text": [
        "\r",
        "Abbruch in 1604"
       ]
      },
      {
       "output_type": "stream",
       "stream": "stdout",
       "text": [
        "\r",
        "Abbruch in 1603"
       ]
      },
      {
       "output_type": "stream",
       "stream": "stdout",
       "text": [
        "\r",
        "Abbruch in 1602"
       ]
      },
      {
       "output_type": "stream",
       "stream": "stdout",
       "text": [
        "\r",
        "Abbruch in 1601"
       ]
      },
      {
       "output_type": "stream",
       "stream": "stdout",
       "text": [
        "\r",
        "Abbruch in 1600"
       ]
      },
      {
       "output_type": "stream",
       "stream": "stdout",
       "text": [
        "\r",
        "Abbruch in 1599"
       ]
      },
      {
       "output_type": "stream",
       "stream": "stdout",
       "text": [
        "\r",
        "Abbruch in 1598"
       ]
      },
      {
       "output_type": "stream",
       "stream": "stdout",
       "text": [
        "\r",
        "Abbruch in 1597"
       ]
      },
      {
       "output_type": "stream",
       "stream": "stdout",
       "text": [
        "\r",
        "Abbruch in 1596"
       ]
      },
      {
       "output_type": "stream",
       "stream": "stdout",
       "text": [
        "\r",
        "Abbruch in 1595"
       ]
      },
      {
       "output_type": "stream",
       "stream": "stdout",
       "text": [
        "\r",
        "Abbruch in 1594"
       ]
      },
      {
       "output_type": "stream",
       "stream": "stdout",
       "text": [
        "\r",
        "Abbruch in 1593"
       ]
      },
      {
       "output_type": "stream",
       "stream": "stdout",
       "text": [
        "\r",
        "Abbruch in 1592"
       ]
      },
      {
       "output_type": "stream",
       "stream": "stdout",
       "text": [
        "\r",
        "Abbruch in 1591"
       ]
      },
      {
       "output_type": "stream",
       "stream": "stdout",
       "text": [
        "\r",
        "Abbruch in 1590"
       ]
      },
      {
       "output_type": "stream",
       "stream": "stdout",
       "text": [
        "\r",
        "Abbruch in 1589"
       ]
      },
      {
       "output_type": "stream",
       "stream": "stdout",
       "text": [
        "\r",
        "Abbruch in 1588"
       ]
      },
      {
       "output_type": "stream",
       "stream": "stdout",
       "text": [
        "\r",
        "Abbruch in 1587"
       ]
      },
      {
       "output_type": "stream",
       "stream": "stdout",
       "text": [
        "\r",
        "Abbruch in 1586"
       ]
      },
      {
       "output_type": "stream",
       "stream": "stdout",
       "text": [
        "\r",
        "Abbruch in 1585"
       ]
      },
      {
       "output_type": "stream",
       "stream": "stdout",
       "text": [
        "\r",
        "Abbruch in 1584"
       ]
      },
      {
       "output_type": "stream",
       "stream": "stdout",
       "text": [
        "\r",
        "Abbruch in 1583"
       ]
      },
      {
       "output_type": "stream",
       "stream": "stdout",
       "text": [
        "\r",
        "Abbruch in 1582"
       ]
      },
      {
       "output_type": "stream",
       "stream": "stdout",
       "text": [
        "\r",
        "Abbruch in 1581"
       ]
      },
      {
       "output_type": "stream",
       "stream": "stdout",
       "text": [
        "\r",
        "Abbruch in 1580"
       ]
      },
      {
       "output_type": "stream",
       "stream": "stdout",
       "text": [
        "\r",
        "Abbruch in 1579"
       ]
      },
      {
       "output_type": "stream",
       "stream": "stdout",
       "text": [
        "\r",
        "Abbruch in 1578"
       ]
      },
      {
       "output_type": "stream",
       "stream": "stdout",
       "text": [
        "\r",
        "Abbruch in 1577"
       ]
      },
      {
       "output_type": "stream",
       "stream": "stdout",
       "text": [
        "\r",
        "Abbruch in 1576"
       ]
      },
      {
       "output_type": "stream",
       "stream": "stdout",
       "text": [
        "\r",
        "Abbruch in 1575"
       ]
      },
      {
       "output_type": "stream",
       "stream": "stdout",
       "text": [
        "\r",
        "Abbruch in 1574"
       ]
      },
      {
       "output_type": "stream",
       "stream": "stdout",
       "text": [
        "\r",
        "Abbruch in 1573"
       ]
      },
      {
       "output_type": "stream",
       "stream": "stdout",
       "text": [
        "\r",
        "Abbruch in 1572"
       ]
      },
      {
       "output_type": "stream",
       "stream": "stdout",
       "text": [
        "\r",
        "Abbruch in 1571"
       ]
      },
      {
       "output_type": "stream",
       "stream": "stdout",
       "text": [
        "\r",
        "Abbruch in 1570"
       ]
      },
      {
       "output_type": "stream",
       "stream": "stdout",
       "text": [
        "\r",
        "Abbruch in 1569"
       ]
      },
      {
       "output_type": "stream",
       "stream": "stdout",
       "text": [
        "\r",
        "Abbruch in 1568"
       ]
      },
      {
       "output_type": "stream",
       "stream": "stdout",
       "text": [
        "\r",
        "Abbruch in 1567"
       ]
      },
      {
       "output_type": "stream",
       "stream": "stdout",
       "text": [
        "\r",
        "Abbruch in 1566"
       ]
      },
      {
       "output_type": "stream",
       "stream": "stdout",
       "text": [
        "\r",
        "Abbruch in 1565"
       ]
      },
      {
       "output_type": "stream",
       "stream": "stdout",
       "text": [
        "\r",
        "Abbruch in 1564"
       ]
      },
      {
       "output_type": "stream",
       "stream": "stdout",
       "text": [
        "\r",
        "Abbruch in 1563"
       ]
      },
      {
       "output_type": "stream",
       "stream": "stdout",
       "text": [
        "\r",
        "Abbruch in 1562"
       ]
      },
      {
       "output_type": "stream",
       "stream": "stdout",
       "text": [
        "\r",
        "Abbruch in 1561"
       ]
      },
      {
       "output_type": "stream",
       "stream": "stdout",
       "text": [
        "\r",
        "Abbruch in 1560"
       ]
      },
      {
       "output_type": "stream",
       "stream": "stdout",
       "text": [
        "\r",
        "Abbruch in 1559"
       ]
      },
      {
       "output_type": "stream",
       "stream": "stdout",
       "text": [
        "\r",
        "Abbruch in 1558"
       ]
      },
      {
       "output_type": "stream",
       "stream": "stdout",
       "text": [
        "\r",
        "Abbruch in 1557"
       ]
      },
      {
       "output_type": "stream",
       "stream": "stdout",
       "text": [
        "\r",
        "Abbruch in 1556"
       ]
      },
      {
       "output_type": "stream",
       "stream": "stdout",
       "text": [
        "\r",
        "Abbruch in 1555"
       ]
      },
      {
       "output_type": "stream",
       "stream": "stdout",
       "text": [
        "\r",
        "Abbruch in 1554"
       ]
      },
      {
       "output_type": "stream",
       "stream": "stdout",
       "text": [
        "\r",
        "Abbruch in 1553"
       ]
      },
      {
       "output_type": "stream",
       "stream": "stdout",
       "text": [
        "\r",
        "Abbruch in 1552"
       ]
      },
      {
       "output_type": "stream",
       "stream": "stdout",
       "text": [
        "\r",
        "Abbruch in 1551"
       ]
      },
      {
       "output_type": "stream",
       "stream": "stdout",
       "text": [
        "\r",
        "Abbruch in 1550"
       ]
      },
      {
       "output_type": "stream",
       "stream": "stdout",
       "text": [
        "\r",
        "Abbruch in 1549"
       ]
      },
      {
       "output_type": "stream",
       "stream": "stdout",
       "text": [
        "\r",
        "Abbruch in 1548"
       ]
      },
      {
       "output_type": "stream",
       "stream": "stdout",
       "text": [
        "\r",
        "Abbruch in 1547"
       ]
      },
      {
       "output_type": "stream",
       "stream": "stdout",
       "text": [
        "\r",
        "Abbruch in 1546"
       ]
      },
      {
       "output_type": "stream",
       "stream": "stdout",
       "text": [
        "\r",
        "Abbruch in 1545"
       ]
      },
      {
       "output_type": "stream",
       "stream": "stdout",
       "text": [
        "\r",
        "Abbruch in 1544"
       ]
      },
      {
       "output_type": "stream",
       "stream": "stdout",
       "text": [
        "\r",
        "Abbruch in 1543"
       ]
      },
      {
       "output_type": "stream",
       "stream": "stdout",
       "text": [
        "\r",
        "Abbruch in 1542"
       ]
      },
      {
       "output_type": "stream",
       "stream": "stdout",
       "text": [
        "\r",
        "Abbruch in 1541"
       ]
      },
      {
       "output_type": "stream",
       "stream": "stdout",
       "text": [
        "\r",
        "Abbruch in 1540"
       ]
      },
      {
       "output_type": "stream",
       "stream": "stdout",
       "text": [
        "\r",
        "Abbruch in 1539"
       ]
      },
      {
       "output_type": "stream",
       "stream": "stdout",
       "text": [
        "\r",
        "Abbruch in 1538"
       ]
      },
      {
       "output_type": "stream",
       "stream": "stdout",
       "text": [
        "\r",
        "Abbruch in 1537"
       ]
      },
      {
       "output_type": "stream",
       "stream": "stdout",
       "text": [
        "\r",
        "Abbruch in 1536"
       ]
      },
      {
       "output_type": "stream",
       "stream": "stdout",
       "text": [
        "\r",
        "Abbruch in 1535"
       ]
      },
      {
       "output_type": "stream",
       "stream": "stdout",
       "text": [
        "\r",
        "Abbruch in 1534"
       ]
      },
      {
       "output_type": "stream",
       "stream": "stdout",
       "text": [
        "\r",
        "Abbruch in 1533"
       ]
      },
      {
       "output_type": "stream",
       "stream": "stdout",
       "text": [
        "\r",
        "Abbruch in 1532"
       ]
      },
      {
       "output_type": "stream",
       "stream": "stdout",
       "text": [
        "\r",
        "Abbruch in 1531"
       ]
      },
      {
       "output_type": "stream",
       "stream": "stdout",
       "text": [
        "\r",
        "Abbruch in 1530"
       ]
      },
      {
       "output_type": "stream",
       "stream": "stdout",
       "text": [
        "\r",
        "Abbruch in 1529"
       ]
      },
      {
       "output_type": "stream",
       "stream": "stdout",
       "text": [
        "\r",
        "Abbruch in 1528"
       ]
      },
      {
       "output_type": "stream",
       "stream": "stdout",
       "text": [
        "\r",
        "Abbruch in 1527"
       ]
      },
      {
       "output_type": "stream",
       "stream": "stdout",
       "text": [
        "\r",
        "Abbruch in 1526"
       ]
      },
      {
       "output_type": "stream",
       "stream": "stdout",
       "text": [
        "\r",
        "Abbruch in 1525"
       ]
      },
      {
       "output_type": "stream",
       "stream": "stdout",
       "text": [
        "\r",
        "Abbruch in 1524"
       ]
      },
      {
       "output_type": "stream",
       "stream": "stdout",
       "text": [
        "\r",
        "Abbruch in 1523"
       ]
      },
      {
       "output_type": "stream",
       "stream": "stdout",
       "text": [
        "\r",
        "Abbruch in 1522"
       ]
      },
      {
       "output_type": "stream",
       "stream": "stdout",
       "text": [
        "\r",
        "Abbruch in 1521"
       ]
      },
      {
       "output_type": "stream",
       "stream": "stdout",
       "text": [
        "\r",
        "Abbruch in 1520"
       ]
      },
      {
       "output_type": "stream",
       "stream": "stdout",
       "text": [
        "\r",
        "Abbruch in 1519"
       ]
      },
      {
       "output_type": "stream",
       "stream": "stdout",
       "text": [
        "\r",
        "Abbruch in 1518"
       ]
      },
      {
       "output_type": "stream",
       "stream": "stdout",
       "text": [
        "\r",
        "Abbruch in 1517"
       ]
      },
      {
       "output_type": "stream",
       "stream": "stdout",
       "text": [
        "\r",
        "Abbruch in 1516"
       ]
      },
      {
       "output_type": "stream",
       "stream": "stdout",
       "text": [
        "\r",
        "Abbruch in 1515"
       ]
      },
      {
       "output_type": "stream",
       "stream": "stdout",
       "text": [
        "\r",
        "Abbruch in 1514"
       ]
      },
      {
       "output_type": "stream",
       "stream": "stdout",
       "text": [
        "\r",
        "Abbruch in 1513"
       ]
      },
      {
       "output_type": "stream",
       "stream": "stdout",
       "text": [
        "\r",
        "Abbruch in 1512"
       ]
      },
      {
       "output_type": "stream",
       "stream": "stdout",
       "text": [
        "\r",
        "Abbruch in 1511"
       ]
      },
      {
       "output_type": "stream",
       "stream": "stdout",
       "text": [
        "\r",
        "Abbruch in 1510"
       ]
      },
      {
       "output_type": "stream",
       "stream": "stdout",
       "text": [
        "\r",
        "Abbruch in 1509"
       ]
      },
      {
       "output_type": "stream",
       "stream": "stdout",
       "text": [
        "\r",
        "Abbruch in 1508"
       ]
      },
      {
       "output_type": "stream",
       "stream": "stdout",
       "text": [
        "\r",
        "Abbruch in 1507"
       ]
      },
      {
       "output_type": "stream",
       "stream": "stdout",
       "text": [
        "\r",
        "Abbruch in 1506"
       ]
      },
      {
       "output_type": "stream",
       "stream": "stdout",
       "text": [
        "\r",
        "Abbruch in 1505"
       ]
      },
      {
       "output_type": "stream",
       "stream": "stdout",
       "text": [
        "\r",
        "Abbruch in 1504"
       ]
      },
      {
       "output_type": "stream",
       "stream": "stdout",
       "text": [
        "\r",
        "Abbruch in 1503"
       ]
      },
      {
       "output_type": "stream",
       "stream": "stdout",
       "text": [
        "\r",
        "Abbruch in 1502"
       ]
      },
      {
       "output_type": "stream",
       "stream": "stdout",
       "text": [
        "\r",
        "Abbruch in 1501"
       ]
      },
      {
       "output_type": "stream",
       "stream": "stdout",
       "text": [
        "\r",
        "Abbruch in 1500"
       ]
      },
      {
       "output_type": "stream",
       "stream": "stdout",
       "text": [
        "\r",
        "Abbruch in 1499"
       ]
      },
      {
       "output_type": "stream",
       "stream": "stdout",
       "text": [
        "\r",
        "Abbruch in 1498"
       ]
      },
      {
       "output_type": "stream",
       "stream": "stdout",
       "text": [
        "\r",
        "Abbruch in 1497"
       ]
      },
      {
       "output_type": "stream",
       "stream": "stdout",
       "text": [
        "\r",
        "Abbruch in 1496"
       ]
      },
      {
       "output_type": "stream",
       "stream": "stdout",
       "text": [
        "\r",
        "Abbruch in 1495"
       ]
      },
      {
       "output_type": "stream",
       "stream": "stdout",
       "text": [
        "\r",
        "Abbruch in 1494"
       ]
      },
      {
       "output_type": "stream",
       "stream": "stdout",
       "text": [
        "\r",
        "Abbruch in 1493"
       ]
      },
      {
       "output_type": "stream",
       "stream": "stdout",
       "text": [
        "\r",
        "Abbruch in 1492"
       ]
      },
      {
       "output_type": "stream",
       "stream": "stdout",
       "text": [
        "\r",
        "Abbruch in 1491"
       ]
      },
      {
       "output_type": "stream",
       "stream": "stdout",
       "text": [
        "\r",
        "Abbruch in 1490"
       ]
      },
      {
       "output_type": "stream",
       "stream": "stdout",
       "text": [
        "\r",
        "Abbruch in 1489"
       ]
      },
      {
       "output_type": "stream",
       "stream": "stdout",
       "text": [
        "\r",
        "Abbruch in 1488"
       ]
      },
      {
       "output_type": "stream",
       "stream": "stdout",
       "text": [
        "\r",
        "Abbruch in 1487"
       ]
      },
      {
       "output_type": "stream",
       "stream": "stdout",
       "text": [
        "\r",
        "Abbruch in 1486"
       ]
      },
      {
       "output_type": "stream",
       "stream": "stdout",
       "text": [
        "\r",
        "Abbruch in 1485"
       ]
      },
      {
       "output_type": "stream",
       "stream": "stdout",
       "text": [
        "\r",
        "Abbruch in 1484"
       ]
      },
      {
       "output_type": "stream",
       "stream": "stdout",
       "text": [
        "\r",
        "Abbruch in 1483"
       ]
      },
      {
       "output_type": "stream",
       "stream": "stdout",
       "text": [
        "\r",
        "Abbruch in 1482"
       ]
      },
      {
       "output_type": "stream",
       "stream": "stdout",
       "text": [
        "\r",
        "Abbruch in 1481"
       ]
      },
      {
       "output_type": "stream",
       "stream": "stdout",
       "text": [
        "\r",
        "Abbruch in 1480"
       ]
      },
      {
       "output_type": "stream",
       "stream": "stdout",
       "text": [
        "\r",
        "Abbruch in 1479"
       ]
      },
      {
       "output_type": "stream",
       "stream": "stdout",
       "text": [
        "\r",
        "Abbruch in 1478"
       ]
      },
      {
       "output_type": "stream",
       "stream": "stdout",
       "text": [
        "\r",
        "Abbruch in 1477"
       ]
      },
      {
       "output_type": "stream",
       "stream": "stdout",
       "text": [
        "\r",
        "Abbruch in 1476"
       ]
      },
      {
       "output_type": "stream",
       "stream": "stdout",
       "text": [
        "\r",
        "Abbruch in 1475"
       ]
      },
      {
       "output_type": "stream",
       "stream": "stdout",
       "text": [
        "\r",
        "Abbruch in 1474"
       ]
      },
      {
       "output_type": "stream",
       "stream": "stdout",
       "text": [
        "\r",
        "Abbruch in 1473"
       ]
      },
      {
       "output_type": "stream",
       "stream": "stdout",
       "text": [
        "\r",
        "Abbruch in 1472"
       ]
      },
      {
       "output_type": "stream",
       "stream": "stdout",
       "text": [
        "\r",
        "Abbruch in 1471"
       ]
      },
      {
       "output_type": "stream",
       "stream": "stdout",
       "text": [
        "\r",
        "Abbruch in 1470"
       ]
      },
      {
       "output_type": "stream",
       "stream": "stdout",
       "text": [
        "\r",
        "Abbruch in 1469"
       ]
      },
      {
       "output_type": "stream",
       "stream": "stdout",
       "text": [
        "\r",
        "Abbruch in 1468"
       ]
      },
      {
       "output_type": "stream",
       "stream": "stdout",
       "text": [
        "\r",
        "Abbruch in 1467"
       ]
      },
      {
       "output_type": "stream",
       "stream": "stdout",
       "text": [
        "\r",
        "Abbruch in 1466"
       ]
      },
      {
       "output_type": "stream",
       "stream": "stdout",
       "text": [
        "\r",
        "Abbruch in 1465"
       ]
      },
      {
       "output_type": "stream",
       "stream": "stdout",
       "text": [
        "\r",
        "Abbruch in 1464"
       ]
      },
      {
       "output_type": "stream",
       "stream": "stdout",
       "text": [
        "\r",
        "Abbruch in 1463"
       ]
      },
      {
       "output_type": "stream",
       "stream": "stdout",
       "text": [
        "\r",
        "Abbruch in 1462"
       ]
      },
      {
       "output_type": "stream",
       "stream": "stdout",
       "text": [
        "\r",
        "Abbruch in 1461"
       ]
      },
      {
       "output_type": "stream",
       "stream": "stdout",
       "text": [
        "\r",
        "Abbruch in 1460"
       ]
      },
      {
       "output_type": "stream",
       "stream": "stdout",
       "text": [
        "\r",
        "Abbruch in 1459"
       ]
      },
      {
       "output_type": "stream",
       "stream": "stdout",
       "text": [
        "\r",
        "Abbruch in 1458"
       ]
      },
      {
       "output_type": "stream",
       "stream": "stdout",
       "text": [
        "\r",
        "Abbruch in 1457"
       ]
      },
      {
       "output_type": "stream",
       "stream": "stdout",
       "text": [
        "\r",
        "Abbruch in 1456"
       ]
      },
      {
       "output_type": "stream",
       "stream": "stdout",
       "text": [
        "\r",
        "Abbruch in 1455"
       ]
      },
      {
       "output_type": "stream",
       "stream": "stdout",
       "text": [
        "\r",
        "Abbruch in 1454"
       ]
      },
      {
       "output_type": "stream",
       "stream": "stdout",
       "text": [
        "\r",
        "Abbruch in 1453"
       ]
      },
      {
       "output_type": "stream",
       "stream": "stdout",
       "text": [
        "\r",
        "Abbruch in 1452"
       ]
      },
      {
       "output_type": "stream",
       "stream": "stdout",
       "text": [
        "\r",
        "Abbruch in 1451"
       ]
      },
      {
       "output_type": "stream",
       "stream": "stdout",
       "text": [
        "\r",
        "Abbruch in 1450"
       ]
      },
      {
       "output_type": "stream",
       "stream": "stdout",
       "text": [
        "\r",
        "Abbruch in 1449"
       ]
      },
      {
       "output_type": "stream",
       "stream": "stdout",
       "text": [
        "\r",
        "Abbruch in 1448"
       ]
      },
      {
       "output_type": "stream",
       "stream": "stdout",
       "text": [
        "\r",
        "Abbruch in 1447"
       ]
      },
      {
       "output_type": "stream",
       "stream": "stdout",
       "text": [
        "\r",
        "Abbruch in 1446"
       ]
      },
      {
       "output_type": "stream",
       "stream": "stdout",
       "text": [
        "\r",
        "Abbruch in 1445"
       ]
      },
      {
       "output_type": "stream",
       "stream": "stdout",
       "text": [
        "\r",
        "Abbruch in 1444"
       ]
      },
      {
       "output_type": "stream",
       "stream": "stdout",
       "text": [
        "\r",
        "Abbruch in 1443"
       ]
      },
      {
       "output_type": "stream",
       "stream": "stdout",
       "text": [
        "\r",
        "Abbruch in 1442"
       ]
      },
      {
       "output_type": "stream",
       "stream": "stdout",
       "text": [
        "\r",
        "Abbruch in 1441"
       ]
      },
      {
       "output_type": "stream",
       "stream": "stdout",
       "text": [
        "\r",
        "Abbruch in 1440"
       ]
      },
      {
       "output_type": "stream",
       "stream": "stdout",
       "text": [
        "\r",
        "Abbruch in 1439"
       ]
      },
      {
       "output_type": "stream",
       "stream": "stdout",
       "text": [
        "\r",
        "Abbruch in 1438"
       ]
      },
      {
       "output_type": "stream",
       "stream": "stdout",
       "text": [
        "\r",
        "Abbruch in 1437"
       ]
      },
      {
       "output_type": "stream",
       "stream": "stdout",
       "text": [
        "\r",
        "Abbruch in 1436"
       ]
      },
      {
       "output_type": "stream",
       "stream": "stdout",
       "text": [
        "\r",
        "Abbruch in 1435"
       ]
      },
      {
       "output_type": "stream",
       "stream": "stdout",
       "text": [
        "\r",
        "Abbruch in 1434"
       ]
      },
      {
       "output_type": "stream",
       "stream": "stdout",
       "text": [
        "\r",
        "Abbruch in 1433"
       ]
      },
      {
       "output_type": "stream",
       "stream": "stdout",
       "text": [
        "\r",
        "Abbruch in 1432"
       ]
      },
      {
       "output_type": "stream",
       "stream": "stdout",
       "text": [
        "\r",
        "Abbruch in 1431"
       ]
      },
      {
       "output_type": "stream",
       "stream": "stdout",
       "text": [
        "\r",
        "Abbruch in 1430"
       ]
      },
      {
       "output_type": "stream",
       "stream": "stdout",
       "text": [
        "\r",
        "Abbruch in 1429"
       ]
      },
      {
       "output_type": "stream",
       "stream": "stdout",
       "text": [
        "\r",
        "Abbruch in 1428"
       ]
      },
      {
       "output_type": "stream",
       "stream": "stdout",
       "text": [
        "\r",
        "Abbruch in 1427"
       ]
      },
      {
       "output_type": "stream",
       "stream": "stdout",
       "text": [
        "\r",
        "Abbruch in 1426"
       ]
      },
      {
       "output_type": "stream",
       "stream": "stdout",
       "text": [
        "\r",
        "Abbruch in 1425"
       ]
      },
      {
       "output_type": "stream",
       "stream": "stdout",
       "text": [
        "\r",
        "Abbruch in 1424"
       ]
      },
      {
       "output_type": "stream",
       "stream": "stdout",
       "text": [
        "\r",
        "Abbruch in 1423"
       ]
      },
      {
       "output_type": "stream",
       "stream": "stdout",
       "text": [
        "\r",
        "Abbruch in 1422"
       ]
      },
      {
       "output_type": "stream",
       "stream": "stdout",
       "text": [
        "\r",
        "Abbruch in 1421"
       ]
      },
      {
       "output_type": "stream",
       "stream": "stdout",
       "text": [
        "\r",
        "Abbruch in 1420"
       ]
      },
      {
       "output_type": "stream",
       "stream": "stdout",
       "text": [
        "\r",
        "Abbruch in 1419"
       ]
      },
      {
       "output_type": "stream",
       "stream": "stdout",
       "text": [
        "\r",
        "Abbruch in 1418"
       ]
      },
      {
       "output_type": "stream",
       "stream": "stdout",
       "text": [
        "\r",
        "Abbruch in 1417"
       ]
      },
      {
       "output_type": "stream",
       "stream": "stdout",
       "text": [
        "\r",
        "Abbruch in 1416"
       ]
      },
      {
       "output_type": "stream",
       "stream": "stdout",
       "text": [
        "\r",
        "Abbruch in 1415"
       ]
      },
      {
       "output_type": "stream",
       "stream": "stdout",
       "text": [
        "\r",
        "Abbruch in 1414"
       ]
      },
      {
       "output_type": "stream",
       "stream": "stdout",
       "text": [
        "\r",
        "Abbruch in 1413"
       ]
      },
      {
       "output_type": "stream",
       "stream": "stdout",
       "text": [
        "\r",
        "Abbruch in 1412"
       ]
      },
      {
       "output_type": "stream",
       "stream": "stdout",
       "text": [
        "\r",
        "Abbruch in 1411"
       ]
      },
      {
       "output_type": "stream",
       "stream": "stdout",
       "text": [
        "\r",
        "Abbruch in 1410"
       ]
      },
      {
       "output_type": "stream",
       "stream": "stdout",
       "text": [
        "\r",
        "Abbruch in 1409"
       ]
      },
      {
       "output_type": "stream",
       "stream": "stdout",
       "text": [
        "\r",
        "Abbruch in 1408"
       ]
      },
      {
       "output_type": "stream",
       "stream": "stdout",
       "text": [
        "\r",
        "Abbruch in 1407"
       ]
      },
      {
       "output_type": "stream",
       "stream": "stdout",
       "text": [
        "\r",
        "Abbruch in 1406"
       ]
      },
      {
       "output_type": "stream",
       "stream": "stdout",
       "text": [
        "\r",
        "Abbruch in 1405"
       ]
      },
      {
       "output_type": "stream",
       "stream": "stdout",
       "text": [
        "\r",
        "Abbruch in 1404"
       ]
      },
      {
       "output_type": "stream",
       "stream": "stdout",
       "text": [
        "\r",
        "Abbruch in 1403"
       ]
      },
      {
       "output_type": "stream",
       "stream": "stdout",
       "text": [
        "\r",
        "Abbruch in 1402"
       ]
      },
      {
       "output_type": "stream",
       "stream": "stdout",
       "text": [
        "\r",
        "Abbruch in 1401"
       ]
      },
      {
       "output_type": "stream",
       "stream": "stdout",
       "text": [
        "\r",
        "Abbruch in 1400"
       ]
      },
      {
       "output_type": "stream",
       "stream": "stdout",
       "text": [
        "\r",
        "Abbruch in 1399"
       ]
      },
      {
       "output_type": "stream",
       "stream": "stdout",
       "text": [
        "\r",
        "Abbruch in 1398"
       ]
      },
      {
       "output_type": "stream",
       "stream": "stdout",
       "text": [
        "\r",
        "Abbruch in 1397"
       ]
      },
      {
       "output_type": "stream",
       "stream": "stdout",
       "text": [
        "\r",
        "Abbruch in 1396"
       ]
      },
      {
       "output_type": "stream",
       "stream": "stdout",
       "text": [
        "\r",
        "Abbruch in 1395"
       ]
      },
      {
       "output_type": "stream",
       "stream": "stdout",
       "text": [
        "\r",
        "Abbruch in 1394"
       ]
      },
      {
       "output_type": "stream",
       "stream": "stdout",
       "text": [
        "\r",
        "Abbruch in 1393"
       ]
      },
      {
       "output_type": "stream",
       "stream": "stdout",
       "text": [
        "\r",
        "Abbruch in 1392"
       ]
      },
      {
       "output_type": "stream",
       "stream": "stdout",
       "text": [
        "\r",
        "Abbruch in 1391"
       ]
      },
      {
       "output_type": "stream",
       "stream": "stdout",
       "text": [
        "\r",
        "Abbruch in 1390"
       ]
      },
      {
       "output_type": "stream",
       "stream": "stdout",
       "text": [
        "\r",
        "Abbruch in 1389"
       ]
      },
      {
       "output_type": "stream",
       "stream": "stdout",
       "text": [
        "\r",
        "Abbruch in 1388"
       ]
      },
      {
       "output_type": "stream",
       "stream": "stdout",
       "text": [
        "\r",
        "Abbruch in 1387"
       ]
      },
      {
       "output_type": "stream",
       "stream": "stdout",
       "text": [
        "\r",
        "Abbruch in 1386"
       ]
      },
      {
       "output_type": "stream",
       "stream": "stdout",
       "text": [
        "\r",
        "Abbruch in 1385"
       ]
      },
      {
       "output_type": "stream",
       "stream": "stdout",
       "text": [
        "\r",
        "Abbruch in 1384"
       ]
      },
      {
       "output_type": "stream",
       "stream": "stdout",
       "text": [
        "\r",
        "Abbruch in 1383"
       ]
      },
      {
       "output_type": "stream",
       "stream": "stdout",
       "text": [
        "\r",
        "Abbruch in 1382"
       ]
      },
      {
       "output_type": "stream",
       "stream": "stdout",
       "text": [
        "\r",
        "Abbruch in 1381"
       ]
      },
      {
       "output_type": "stream",
       "stream": "stdout",
       "text": [
        "\r",
        "Abbruch in 1380"
       ]
      },
      {
       "output_type": "stream",
       "stream": "stdout",
       "text": [
        "\r",
        "Abbruch in 1379"
       ]
      },
      {
       "output_type": "stream",
       "stream": "stdout",
       "text": [
        "\r",
        "Abbruch in 1378"
       ]
      },
      {
       "output_type": "stream",
       "stream": "stdout",
       "text": [
        "\r",
        "Abbruch in 1377"
       ]
      },
      {
       "output_type": "stream",
       "stream": "stdout",
       "text": [
        "\r",
        "Abbruch in 1376"
       ]
      },
      {
       "output_type": "stream",
       "stream": "stdout",
       "text": [
        "\r",
        "Abbruch in 1375"
       ]
      },
      {
       "output_type": "stream",
       "stream": "stdout",
       "text": [
        "\r",
        "Abbruch in 1374"
       ]
      },
      {
       "output_type": "stream",
       "stream": "stdout",
       "text": [
        "\r",
        "Abbruch in 1373"
       ]
      },
      {
       "output_type": "stream",
       "stream": "stdout",
       "text": [
        "\r",
        "Abbruch in 1372"
       ]
      },
      {
       "output_type": "stream",
       "stream": "stdout",
       "text": [
        "\r",
        "Abbruch in 1371"
       ]
      },
      {
       "output_type": "stream",
       "stream": "stdout",
       "text": [
        "\r",
        "Abbruch in 1370"
       ]
      },
      {
       "output_type": "stream",
       "stream": "stdout",
       "text": [
        "\r",
        "Abbruch in 1369"
       ]
      },
      {
       "output_type": "stream",
       "stream": "stdout",
       "text": [
        "\r",
        "Abbruch in 1368"
       ]
      },
      {
       "output_type": "stream",
       "stream": "stdout",
       "text": [
        "\r",
        "Abbruch in 1367"
       ]
      },
      {
       "output_type": "stream",
       "stream": "stdout",
       "text": [
        "\r",
        "Abbruch in 1366"
       ]
      },
      {
       "output_type": "stream",
       "stream": "stdout",
       "text": [
        "\r",
        "Abbruch in 1365"
       ]
      },
      {
       "output_type": "stream",
       "stream": "stdout",
       "text": [
        "\r",
        "Abbruch in 1364"
       ]
      },
      {
       "output_type": "stream",
       "stream": "stdout",
       "text": [
        "\r",
        "Abbruch in 1363"
       ]
      },
      {
       "output_type": "stream",
       "stream": "stdout",
       "text": [
        "\r",
        "Abbruch in 1362"
       ]
      },
      {
       "output_type": "stream",
       "stream": "stdout",
       "text": [
        "\r",
        "Abbruch in 1361"
       ]
      },
      {
       "output_type": "stream",
       "stream": "stdout",
       "text": [
        "\r",
        "Abbruch in 1360"
       ]
      },
      {
       "output_type": "stream",
       "stream": "stdout",
       "text": [
        "\r",
        "Abbruch in 1359"
       ]
      },
      {
       "output_type": "stream",
       "stream": "stdout",
       "text": [
        "\r",
        "Abbruch in 1358"
       ]
      },
      {
       "output_type": "stream",
       "stream": "stdout",
       "text": [
        "\r",
        "Abbruch in 1357"
       ]
      },
      {
       "output_type": "stream",
       "stream": "stdout",
       "text": [
        "\r",
        "Abbruch in 1356"
       ]
      },
      {
       "output_type": "stream",
       "stream": "stdout",
       "text": [
        "\r",
        "Abbruch in 1355"
       ]
      },
      {
       "output_type": "stream",
       "stream": "stdout",
       "text": [
        "\r",
        "Abbruch in 1354"
       ]
      },
      {
       "output_type": "stream",
       "stream": "stdout",
       "text": [
        "\r",
        "Abbruch in 1353"
       ]
      },
      {
       "output_type": "stream",
       "stream": "stdout",
       "text": [
        "\r",
        "Abbruch in 1352"
       ]
      },
      {
       "output_type": "stream",
       "stream": "stdout",
       "text": [
        "\r",
        "Abbruch in 1351"
       ]
      },
      {
       "output_type": "stream",
       "stream": "stdout",
       "text": [
        "\r",
        "Abbruch in 1350"
       ]
      },
      {
       "output_type": "stream",
       "stream": "stdout",
       "text": [
        "\r",
        "Abbruch in 1349"
       ]
      },
      {
       "output_type": "stream",
       "stream": "stdout",
       "text": [
        "\r",
        "Abbruch in 1348"
       ]
      },
      {
       "output_type": "stream",
       "stream": "stdout",
       "text": [
        "\r",
        "Abbruch in 1347"
       ]
      },
      {
       "output_type": "stream",
       "stream": "stdout",
       "text": [
        "\r",
        "Abbruch in 1346"
       ]
      },
      {
       "output_type": "stream",
       "stream": "stdout",
       "text": [
        "\r",
        "Abbruch in 1345"
       ]
      },
      {
       "output_type": "stream",
       "stream": "stdout",
       "text": [
        "\r",
        "Abbruch in 1344"
       ]
      },
      {
       "output_type": "stream",
       "stream": "stdout",
       "text": [
        "\r",
        "Abbruch in 1343"
       ]
      },
      {
       "output_type": "stream",
       "stream": "stdout",
       "text": [
        "\r",
        "Abbruch in 1342"
       ]
      },
      {
       "output_type": "stream",
       "stream": "stdout",
       "text": [
        "\r",
        "Abbruch in 1341"
       ]
      },
      {
       "output_type": "stream",
       "stream": "stdout",
       "text": [
        "\r",
        "Abbruch in 1340"
       ]
      },
      {
       "output_type": "stream",
       "stream": "stdout",
       "text": [
        "\r",
        "Abbruch in 1339"
       ]
      },
      {
       "output_type": "stream",
       "stream": "stdout",
       "text": [
        "\r",
        "Abbruch in 1338"
       ]
      },
      {
       "output_type": "stream",
       "stream": "stdout",
       "text": [
        "\r",
        "Abbruch in 1337"
       ]
      },
      {
       "output_type": "stream",
       "stream": "stdout",
       "text": [
        "\r",
        "Abbruch in 1336"
       ]
      },
      {
       "output_type": "stream",
       "stream": "stdout",
       "text": [
        "\r",
        "Abbruch in 1335"
       ]
      },
      {
       "output_type": "stream",
       "stream": "stdout",
       "text": [
        "\r",
        "Abbruch in 1334"
       ]
      },
      {
       "output_type": "stream",
       "stream": "stdout",
       "text": [
        "\r",
        "Abbruch in 1333"
       ]
      },
      {
       "output_type": "stream",
       "stream": "stdout",
       "text": [
        "\r",
        "Abbruch in 1332"
       ]
      },
      {
       "output_type": "stream",
       "stream": "stdout",
       "text": [
        "\r",
        "Abbruch in 1331"
       ]
      },
      {
       "output_type": "stream",
       "stream": "stdout",
       "text": [
        "\r",
        "Abbruch in 1330"
       ]
      },
      {
       "output_type": "stream",
       "stream": "stdout",
       "text": [
        "\r",
        "Abbruch in 1329"
       ]
      },
      {
       "output_type": "stream",
       "stream": "stdout",
       "text": [
        "\r",
        "Abbruch in 1328"
       ]
      },
      {
       "output_type": "stream",
       "stream": "stdout",
       "text": [
        "\r",
        "Abbruch in 1327"
       ]
      },
      {
       "output_type": "stream",
       "stream": "stdout",
       "text": [
        "\r",
        "Abbruch in 1326"
       ]
      },
      {
       "output_type": "stream",
       "stream": "stdout",
       "text": [
        "\r",
        "Abbruch in 1325"
       ]
      },
      {
       "output_type": "stream",
       "stream": "stdout",
       "text": [
        "\r",
        "Abbruch in 1324"
       ]
      },
      {
       "output_type": "stream",
       "stream": "stdout",
       "text": [
        "\r",
        "Abbruch in 1323"
       ]
      },
      {
       "output_type": "stream",
       "stream": "stdout",
       "text": [
        "\r",
        "Abbruch in 1322"
       ]
      },
      {
       "output_type": "stream",
       "stream": "stdout",
       "text": [
        "\r",
        "Abbruch in 1321"
       ]
      },
      {
       "output_type": "stream",
       "stream": "stdout",
       "text": [
        "\r",
        "Abbruch in 1320"
       ]
      },
      {
       "output_type": "stream",
       "stream": "stdout",
       "text": [
        "\r",
        "Abbruch in 1319"
       ]
      },
      {
       "output_type": "stream",
       "stream": "stdout",
       "text": [
        "\r",
        "Abbruch in 1318"
       ]
      },
      {
       "output_type": "stream",
       "stream": "stdout",
       "text": [
        "\r",
        "Abbruch in 1317"
       ]
      },
      {
       "output_type": "stream",
       "stream": "stdout",
       "text": [
        "\r",
        "Abbruch in 1316"
       ]
      },
      {
       "output_type": "stream",
       "stream": "stdout",
       "text": [
        "\r",
        "Abbruch in 1315"
       ]
      },
      {
       "output_type": "stream",
       "stream": "stdout",
       "text": [
        "\r",
        "Abbruch in 1314"
       ]
      },
      {
       "output_type": "stream",
       "stream": "stdout",
       "text": [
        "\r",
        "Abbruch in 1313"
       ]
      },
      {
       "output_type": "stream",
       "stream": "stdout",
       "text": [
        "\r",
        "Abbruch in 1312"
       ]
      },
      {
       "output_type": "stream",
       "stream": "stdout",
       "text": [
        "\r",
        "Abbruch in 1311"
       ]
      },
      {
       "output_type": "stream",
       "stream": "stdout",
       "text": [
        "\r",
        "Abbruch in 1310"
       ]
      },
      {
       "output_type": "stream",
       "stream": "stdout",
       "text": [
        "\r",
        "Abbruch in 1309"
       ]
      },
      {
       "output_type": "stream",
       "stream": "stdout",
       "text": [
        "\r",
        "Abbruch in 1308"
       ]
      },
      {
       "output_type": "stream",
       "stream": "stdout",
       "text": [
        "\r",
        "Abbruch in 1307"
       ]
      },
      {
       "output_type": "stream",
       "stream": "stdout",
       "text": [
        "\r",
        "Abbruch in 1306"
       ]
      },
      {
       "output_type": "stream",
       "stream": "stdout",
       "text": [
        "\r",
        "Abbruch in 1305"
       ]
      },
      {
       "output_type": "stream",
       "stream": "stdout",
       "text": [
        "\r",
        "Abbruch in 1304"
       ]
      },
      {
       "output_type": "stream",
       "stream": "stdout",
       "text": [
        "\r",
        "Abbruch in 1303"
       ]
      },
      {
       "output_type": "stream",
       "stream": "stdout",
       "text": [
        "\r",
        "Abbruch in 1302"
       ]
      },
      {
       "output_type": "stream",
       "stream": "stdout",
       "text": [
        "\r",
        "Abbruch in 1301"
       ]
      },
      {
       "output_type": "stream",
       "stream": "stdout",
       "text": [
        "\r",
        "Abbruch in 1300"
       ]
      },
      {
       "output_type": "stream",
       "stream": "stdout",
       "text": [
        "\r",
        "Abbruch in 1299"
       ]
      },
      {
       "output_type": "stream",
       "stream": "stdout",
       "text": [
        "\r",
        "Abbruch in 1298"
       ]
      },
      {
       "output_type": "stream",
       "stream": "stdout",
       "text": [
        "\r",
        "Abbruch in 1297"
       ]
      },
      {
       "output_type": "stream",
       "stream": "stdout",
       "text": [
        "\r",
        "Abbruch in 1296"
       ]
      },
      {
       "output_type": "stream",
       "stream": "stdout",
       "text": [
        "\r",
        "Abbruch in 1295"
       ]
      },
      {
       "output_type": "stream",
       "stream": "stdout",
       "text": [
        "\r",
        "Abbruch in 1294"
       ]
      },
      {
       "output_type": "stream",
       "stream": "stdout",
       "text": [
        "\r",
        "Abbruch in 1293"
       ]
      },
      {
       "output_type": "stream",
       "stream": "stdout",
       "text": [
        "\r",
        "Abbruch in 1292"
       ]
      },
      {
       "output_type": "stream",
       "stream": "stdout",
       "text": [
        "\r",
        "Abbruch in 1291"
       ]
      },
      {
       "output_type": "stream",
       "stream": "stdout",
       "text": [
        "\r",
        "Abbruch in 1290"
       ]
      },
      {
       "output_type": "stream",
       "stream": "stdout",
       "text": [
        "\r",
        "Abbruch in 1289"
       ]
      },
      {
       "output_type": "stream",
       "stream": "stdout",
       "text": [
        "\r",
        "Abbruch in 1288"
       ]
      },
      {
       "output_type": "stream",
       "stream": "stdout",
       "text": [
        "\r",
        "Abbruch in 1287"
       ]
      },
      {
       "output_type": "stream",
       "stream": "stdout",
       "text": [
        "\r",
        "Abbruch in 1286"
       ]
      },
      {
       "output_type": "stream",
       "stream": "stdout",
       "text": [
        "\r",
        "Abbruch in 1285"
       ]
      },
      {
       "output_type": "stream",
       "stream": "stdout",
       "text": [
        "\r",
        "Abbruch in 1284"
       ]
      },
      {
       "output_type": "stream",
       "stream": "stdout",
       "text": [
        "\r",
        "Abbruch in 1283"
       ]
      },
      {
       "output_type": "stream",
       "stream": "stdout",
       "text": [
        "\r",
        "Abbruch in 1282"
       ]
      },
      {
       "output_type": "stream",
       "stream": "stdout",
       "text": [
        "\r",
        "Abbruch in 1281"
       ]
      },
      {
       "output_type": "stream",
       "stream": "stdout",
       "text": [
        "\r",
        "Abbruch in 1280"
       ]
      },
      {
       "output_type": "stream",
       "stream": "stdout",
       "text": [
        "\r",
        "Abbruch in 1279"
       ]
      },
      {
       "output_type": "stream",
       "stream": "stdout",
       "text": [
        "\r",
        "Abbruch in 1278"
       ]
      },
      {
       "output_type": "stream",
       "stream": "stdout",
       "text": [
        "\r",
        "Abbruch in 1277"
       ]
      },
      {
       "output_type": "stream",
       "stream": "stdout",
       "text": [
        "\r",
        "Abbruch in 1276"
       ]
      },
      {
       "output_type": "stream",
       "stream": "stdout",
       "text": [
        "\r",
        "Abbruch in 1275"
       ]
      },
      {
       "output_type": "stream",
       "stream": "stdout",
       "text": [
        "\r",
        "Abbruch in 1274"
       ]
      },
      {
       "output_type": "stream",
       "stream": "stdout",
       "text": [
        "\r",
        "Abbruch in 1273"
       ]
      },
      {
       "output_type": "stream",
       "stream": "stdout",
       "text": [
        "\r",
        "Abbruch in 1272"
       ]
      },
      {
       "output_type": "stream",
       "stream": "stdout",
       "text": [
        "\r",
        "Abbruch in 1271"
       ]
      },
      {
       "output_type": "stream",
       "stream": "stdout",
       "text": [
        "\r",
        "Abbruch in 1270"
       ]
      },
      {
       "output_type": "stream",
       "stream": "stdout",
       "text": [
        "\r",
        "Abbruch in 1269"
       ]
      },
      {
       "output_type": "stream",
       "stream": "stdout",
       "text": [
        "\r",
        "Abbruch in 1268"
       ]
      },
      {
       "output_type": "stream",
       "stream": "stdout",
       "text": [
        "\r",
        "Abbruch in 1267"
       ]
      },
      {
       "output_type": "stream",
       "stream": "stdout",
       "text": [
        "\r",
        "Abbruch in 1266"
       ]
      },
      {
       "output_type": "stream",
       "stream": "stdout",
       "text": [
        "\r",
        "Abbruch in 1265"
       ]
      },
      {
       "output_type": "stream",
       "stream": "stdout",
       "text": [
        "\r",
        "Abbruch in 1264"
       ]
      },
      {
       "output_type": "stream",
       "stream": "stdout",
       "text": [
        "\r",
        "Abbruch in 1263"
       ]
      },
      {
       "output_type": "stream",
       "stream": "stdout",
       "text": [
        "\r",
        "Abbruch in 1262"
       ]
      },
      {
       "output_type": "stream",
       "stream": "stdout",
       "text": [
        "\r",
        "Abbruch in 1261"
       ]
      },
      {
       "output_type": "stream",
       "stream": "stdout",
       "text": [
        "\r",
        "Abbruch in 1260"
       ]
      },
      {
       "output_type": "stream",
       "stream": "stdout",
       "text": [
        "\r",
        "Abbruch in 1259"
       ]
      },
      {
       "output_type": "stream",
       "stream": "stdout",
       "text": [
        "\r",
        "Abbruch in 1258"
       ]
      },
      {
       "output_type": "stream",
       "stream": "stdout",
       "text": [
        "\r",
        "Abbruch in 1257"
       ]
      },
      {
       "output_type": "stream",
       "stream": "stdout",
       "text": [
        "\r",
        "Abbruch in 1256"
       ]
      },
      {
       "output_type": "stream",
       "stream": "stdout",
       "text": [
        "\r",
        "Abbruch in 1255"
       ]
      },
      {
       "output_type": "stream",
       "stream": "stdout",
       "text": [
        "\r",
        "Abbruch in 1254"
       ]
      },
      {
       "output_type": "stream",
       "stream": "stdout",
       "text": [
        "\r",
        "Abbruch in 1253"
       ]
      },
      {
       "output_type": "stream",
       "stream": "stdout",
       "text": [
        "\r",
        "Abbruch in 1252"
       ]
      },
      {
       "output_type": "stream",
       "stream": "stdout",
       "text": [
        "\r",
        "Abbruch in 1251"
       ]
      },
      {
       "output_type": "stream",
       "stream": "stdout",
       "text": [
        "\r",
        "Abbruch in 1250"
       ]
      },
      {
       "output_type": "stream",
       "stream": "stdout",
       "text": [
        "\r",
        "Abbruch in 1249"
       ]
      },
      {
       "output_type": "stream",
       "stream": "stdout",
       "text": [
        "\r",
        "Abbruch in 1248"
       ]
      },
      {
       "output_type": "stream",
       "stream": "stdout",
       "text": [
        "\r",
        "Abbruch in 1247"
       ]
      },
      {
       "output_type": "stream",
       "stream": "stdout",
       "text": [
        "\r",
        "Abbruch in 1246"
       ]
      },
      {
       "output_type": "stream",
       "stream": "stdout",
       "text": [
        "\r",
        "Abbruch in 1245"
       ]
      },
      {
       "output_type": "stream",
       "stream": "stdout",
       "text": [
        "\r",
        "Abbruch in 1244"
       ]
      },
      {
       "output_type": "stream",
       "stream": "stdout",
       "text": [
        "\r",
        "Abbruch in 1243"
       ]
      },
      {
       "output_type": "stream",
       "stream": "stdout",
       "text": [
        "\r",
        "Abbruch in 1242"
       ]
      },
      {
       "output_type": "stream",
       "stream": "stdout",
       "text": [
        "\r",
        "Abbruch in 1241"
       ]
      },
      {
       "output_type": "stream",
       "stream": "stdout",
       "text": [
        "\r",
        "Abbruch in 1240"
       ]
      },
      {
       "output_type": "stream",
       "stream": "stdout",
       "text": [
        "\r",
        "Abbruch in 1239"
       ]
      },
      {
       "output_type": "stream",
       "stream": "stdout",
       "text": [
        "\r",
        "Abbruch in 1238"
       ]
      },
      {
       "output_type": "stream",
       "stream": "stdout",
       "text": [
        "\r",
        "Abbruch in 1237"
       ]
      },
      {
       "output_type": "stream",
       "stream": "stdout",
       "text": [
        "\r",
        "Abbruch in 1236"
       ]
      },
      {
       "output_type": "stream",
       "stream": "stdout",
       "text": [
        "\r",
        "Abbruch in 1235"
       ]
      },
      {
       "output_type": "stream",
       "stream": "stdout",
       "text": [
        "\r",
        "Abbruch in 1234"
       ]
      },
      {
       "output_type": "stream",
       "stream": "stdout",
       "text": [
        "\r",
        "Abbruch in 1233"
       ]
      },
      {
       "output_type": "stream",
       "stream": "stdout",
       "text": [
        "\r",
        "Abbruch in 1232"
       ]
      },
      {
       "output_type": "stream",
       "stream": "stdout",
       "text": [
        "\r",
        "Abbruch in 1231"
       ]
      },
      {
       "output_type": "stream",
       "stream": "stdout",
       "text": [
        "\r",
        "Abbruch in 1230"
       ]
      },
      {
       "output_type": "stream",
       "stream": "stdout",
       "text": [
        "\r",
        "Abbruch in 1229"
       ]
      },
      {
       "output_type": "stream",
       "stream": "stdout",
       "text": [
        "\r",
        "Abbruch in 1228"
       ]
      },
      {
       "output_type": "stream",
       "stream": "stdout",
       "text": [
        "\r",
        "Abbruch in 1227"
       ]
      },
      {
       "output_type": "stream",
       "stream": "stdout",
       "text": [
        "\r",
        "Abbruch in 1226"
       ]
      },
      {
       "output_type": "stream",
       "stream": "stdout",
       "text": [
        "\r",
        "Abbruch in 1225"
       ]
      },
      {
       "output_type": "stream",
       "stream": "stdout",
       "text": [
        "\r",
        "Abbruch in 1224"
       ]
      },
      {
       "output_type": "stream",
       "stream": "stdout",
       "text": [
        "\r",
        "Abbruch in 1223"
       ]
      },
      {
       "output_type": "stream",
       "stream": "stdout",
       "text": [
        "\r",
        "Abbruch in 1222"
       ]
      },
      {
       "output_type": "stream",
       "stream": "stdout",
       "text": [
        "\r",
        "Abbruch in 1221"
       ]
      },
      {
       "output_type": "stream",
       "stream": "stdout",
       "text": [
        "\r",
        "Abbruch in 1220"
       ]
      },
      {
       "output_type": "stream",
       "stream": "stdout",
       "text": [
        "\r",
        "Abbruch in 1219"
       ]
      },
      {
       "output_type": "stream",
       "stream": "stdout",
       "text": [
        "\r",
        "Abbruch in 1218"
       ]
      },
      {
       "output_type": "stream",
       "stream": "stdout",
       "text": [
        "\r",
        "Abbruch in 1217"
       ]
      },
      {
       "output_type": "stream",
       "stream": "stdout",
       "text": [
        "\r",
        "Abbruch in 1216"
       ]
      },
      {
       "output_type": "stream",
       "stream": "stdout",
       "text": [
        "\r",
        "Abbruch in 1215"
       ]
      },
      {
       "output_type": "stream",
       "stream": "stdout",
       "text": [
        "\r",
        "Abbruch in 1214"
       ]
      },
      {
       "output_type": "stream",
       "stream": "stdout",
       "text": [
        "\r",
        "Abbruch in 1213"
       ]
      },
      {
       "output_type": "stream",
       "stream": "stdout",
       "text": [
        "\r",
        "Abbruch in 1212"
       ]
      },
      {
       "output_type": "stream",
       "stream": "stdout",
       "text": [
        "\r",
        "Abbruch in 1211"
       ]
      },
      {
       "output_type": "stream",
       "stream": "stdout",
       "text": [
        "\r",
        "Abbruch in 1210"
       ]
      },
      {
       "output_type": "stream",
       "stream": "stdout",
       "text": [
        "\r",
        "Abbruch in 1209"
       ]
      },
      {
       "output_type": "stream",
       "stream": "stdout",
       "text": [
        "\r",
        "Abbruch in 1208"
       ]
      },
      {
       "output_type": "stream",
       "stream": "stdout",
       "text": [
        "\r",
        "Abbruch in 1207"
       ]
      },
      {
       "output_type": "stream",
       "stream": "stdout",
       "text": [
        "\r",
        "Abbruch in 1206"
       ]
      },
      {
       "output_type": "stream",
       "stream": "stdout",
       "text": [
        "\r",
        "Abbruch in 1205"
       ]
      },
      {
       "output_type": "stream",
       "stream": "stdout",
       "text": [
        "\r",
        "Abbruch in 1204"
       ]
      },
      {
       "output_type": "stream",
       "stream": "stdout",
       "text": [
        "\r",
        "Abbruch in 1203"
       ]
      },
      {
       "output_type": "stream",
       "stream": "stdout",
       "text": [
        "\r",
        "Abbruch in 1202"
       ]
      },
      {
       "output_type": "stream",
       "stream": "stdout",
       "text": [
        "\r",
        "Abbruch in 1201"
       ]
      },
      {
       "output_type": "stream",
       "stream": "stdout",
       "text": [
        "\r",
        "Abbruch in 1200"
       ]
      },
      {
       "output_type": "stream",
       "stream": "stdout",
       "text": [
        "\r",
        "Abbruch in 1199"
       ]
      },
      {
       "output_type": "stream",
       "stream": "stdout",
       "text": [
        "\r",
        "Abbruch in 1198"
       ]
      },
      {
       "output_type": "stream",
       "stream": "stdout",
       "text": [
        "\r",
        "Abbruch in 1197"
       ]
      },
      {
       "output_type": "stream",
       "stream": "stdout",
       "text": [
        "\r",
        "Abbruch in 1196"
       ]
      },
      {
       "output_type": "stream",
       "stream": "stdout",
       "text": [
        "\r",
        "Abbruch in 1195"
       ]
      },
      {
       "output_type": "stream",
       "stream": "stdout",
       "text": [
        "\r",
        "Abbruch in 1194"
       ]
      },
      {
       "output_type": "stream",
       "stream": "stdout",
       "text": [
        "\r",
        "Abbruch in 1193"
       ]
      },
      {
       "output_type": "stream",
       "stream": "stdout",
       "text": [
        "\r",
        "Abbruch in 1192"
       ]
      },
      {
       "output_type": "stream",
       "stream": "stdout",
       "text": [
        "\r",
        "Abbruch in 1191"
       ]
      },
      {
       "output_type": "stream",
       "stream": "stdout",
       "text": [
        "\r",
        "Abbruch in 1190"
       ]
      },
      {
       "output_type": "stream",
       "stream": "stdout",
       "text": [
        "\r",
        "Abbruch in 1189"
       ]
      },
      {
       "output_type": "stream",
       "stream": "stdout",
       "text": [
        "\r",
        "Abbruch in 1188"
       ]
      },
      {
       "output_type": "stream",
       "stream": "stdout",
       "text": [
        "\r",
        "Abbruch in 1187"
       ]
      },
      {
       "output_type": "stream",
       "stream": "stdout",
       "text": [
        "\r",
        "Abbruch in 1186"
       ]
      },
      {
       "output_type": "stream",
       "stream": "stdout",
       "text": [
        "\r",
        "Abbruch in 1185"
       ]
      },
      {
       "output_type": "stream",
       "stream": "stdout",
       "text": [
        "\r",
        "Abbruch in 1184"
       ]
      },
      {
       "output_type": "stream",
       "stream": "stdout",
       "text": [
        "\r",
        "Abbruch in 1183"
       ]
      },
      {
       "output_type": "stream",
       "stream": "stdout",
       "text": [
        "\r",
        "Abbruch in 1182"
       ]
      },
      {
       "output_type": "stream",
       "stream": "stdout",
       "text": [
        "\r",
        "Abbruch in 1181"
       ]
      },
      {
       "output_type": "stream",
       "stream": "stdout",
       "text": [
        "\r",
        "Abbruch in 1180"
       ]
      },
      {
       "output_type": "stream",
       "stream": "stdout",
       "text": [
        "\r",
        "Abbruch in 1179"
       ]
      },
      {
       "output_type": "stream",
       "stream": "stdout",
       "text": [
        "\r",
        "Abbruch in 1178"
       ]
      },
      {
       "output_type": "stream",
       "stream": "stdout",
       "text": [
        "\r",
        "Abbruch in 1177"
       ]
      },
      {
       "output_type": "stream",
       "stream": "stdout",
       "text": [
        "\r",
        "Abbruch in 1176"
       ]
      },
      {
       "output_type": "stream",
       "stream": "stdout",
       "text": [
        "\r",
        "Abbruch in 1175"
       ]
      },
      {
       "output_type": "stream",
       "stream": "stdout",
       "text": [
        "\r",
        "Abbruch in 1174"
       ]
      },
      {
       "output_type": "stream",
       "stream": "stdout",
       "text": [
        "\r",
        "Abbruch in 1173"
       ]
      },
      {
       "output_type": "stream",
       "stream": "stdout",
       "text": [
        "\r",
        "Abbruch in 1172"
       ]
      },
      {
       "output_type": "stream",
       "stream": "stdout",
       "text": [
        "\r",
        "Abbruch in 1171"
       ]
      },
      {
       "output_type": "stream",
       "stream": "stdout",
       "text": [
        "\r",
        "Abbruch in 1170"
       ]
      },
      {
       "output_type": "stream",
       "stream": "stdout",
       "text": [
        "\r",
        "Abbruch in 1169"
       ]
      },
      {
       "output_type": "stream",
       "stream": "stdout",
       "text": [
        "\r",
        "Abbruch in 1168"
       ]
      },
      {
       "output_type": "stream",
       "stream": "stdout",
       "text": [
        "\r",
        "Abbruch in 1167"
       ]
      },
      {
       "output_type": "stream",
       "stream": "stdout",
       "text": [
        "\r",
        "Abbruch in 1166"
       ]
      },
      {
       "output_type": "stream",
       "stream": "stdout",
       "text": [
        "\r",
        "Abbruch in 1165"
       ]
      },
      {
       "output_type": "stream",
       "stream": "stdout",
       "text": [
        "\r",
        "Abbruch in 1164"
       ]
      },
      {
       "output_type": "stream",
       "stream": "stdout",
       "text": [
        "\r",
        "Abbruch in 1163"
       ]
      },
      {
       "output_type": "stream",
       "stream": "stdout",
       "text": [
        "\r",
        "Abbruch in 1162"
       ]
      },
      {
       "output_type": "stream",
       "stream": "stdout",
       "text": [
        "\r",
        "Abbruch in 1161"
       ]
      },
      {
       "output_type": "stream",
       "stream": "stdout",
       "text": [
        "\r",
        "Abbruch in 1160"
       ]
      },
      {
       "output_type": "stream",
       "stream": "stdout",
       "text": [
        "\r",
        "Abbruch in 1159"
       ]
      },
      {
       "output_type": "stream",
       "stream": "stdout",
       "text": [
        "\r",
        "Abbruch in 1158"
       ]
      },
      {
       "output_type": "stream",
       "stream": "stdout",
       "text": [
        "\r",
        "Abbruch in 1157"
       ]
      },
      {
       "output_type": "stream",
       "stream": "stdout",
       "text": [
        "\r",
        "Abbruch in 1156"
       ]
      },
      {
       "output_type": "stream",
       "stream": "stdout",
       "text": [
        "\r",
        "Abbruch in 1155"
       ]
      },
      {
       "output_type": "stream",
       "stream": "stdout",
       "text": [
        "\r",
        "Abbruch in 1154"
       ]
      },
      {
       "output_type": "stream",
       "stream": "stdout",
       "text": [
        "\r",
        "Abbruch in 1153"
       ]
      },
      {
       "output_type": "stream",
       "stream": "stdout",
       "text": [
        "\r",
        "Abbruch in 1152"
       ]
      },
      {
       "output_type": "stream",
       "stream": "stdout",
       "text": [
        "\r",
        "Abbruch in 1151"
       ]
      },
      {
       "output_type": "stream",
       "stream": "stdout",
       "text": [
        "\r",
        "Abbruch in 1150"
       ]
      },
      {
       "output_type": "stream",
       "stream": "stdout",
       "text": [
        "\r",
        "Abbruch in 1149"
       ]
      },
      {
       "output_type": "stream",
       "stream": "stdout",
       "text": [
        "\r",
        "Abbruch in 1148"
       ]
      },
      {
       "output_type": "stream",
       "stream": "stdout",
       "text": [
        "\r",
        "Abbruch in 1147"
       ]
      },
      {
       "output_type": "stream",
       "stream": "stdout",
       "text": [
        "\r",
        "Abbruch in 1146"
       ]
      },
      {
       "output_type": "stream",
       "stream": "stdout",
       "text": [
        "\r",
        "Abbruch in 1145"
       ]
      },
      {
       "output_type": "stream",
       "stream": "stdout",
       "text": [
        "\r",
        "Abbruch in 1144"
       ]
      },
      {
       "output_type": "stream",
       "stream": "stdout",
       "text": [
        "\r",
        "Abbruch in 1143"
       ]
      },
      {
       "output_type": "stream",
       "stream": "stdout",
       "text": [
        "\r",
        "Abbruch in 1142"
       ]
      },
      {
       "output_type": "stream",
       "stream": "stdout",
       "text": [
        "\r",
        "Abbruch in 1141"
       ]
      },
      {
       "output_type": "stream",
       "stream": "stdout",
       "text": [
        "\r",
        "Abbruch in 1140"
       ]
      },
      {
       "output_type": "stream",
       "stream": "stdout",
       "text": [
        "\r",
        "Abbruch in 1139"
       ]
      },
      {
       "output_type": "stream",
       "stream": "stdout",
       "text": [
        "\r",
        "Abbruch in 1138"
       ]
      },
      {
       "output_type": "stream",
       "stream": "stdout",
       "text": [
        "\r",
        "Abbruch in 1137"
       ]
      },
      {
       "output_type": "stream",
       "stream": "stdout",
       "text": [
        "\r",
        "Abbruch in 1136"
       ]
      },
      {
       "output_type": "stream",
       "stream": "stdout",
       "text": [
        "\r",
        "Abbruch in 1135"
       ]
      },
      {
       "output_type": "stream",
       "stream": "stdout",
       "text": [
        "\r",
        "Abbruch in 1134"
       ]
      },
      {
       "output_type": "stream",
       "stream": "stdout",
       "text": [
        "\r",
        "Abbruch in 1133"
       ]
      },
      {
       "output_type": "stream",
       "stream": "stdout",
       "text": [
        "\r",
        "Abbruch in 1132"
       ]
      },
      {
       "output_type": "stream",
       "stream": "stdout",
       "text": [
        "\r",
        "Abbruch in 1131"
       ]
      },
      {
       "output_type": "stream",
       "stream": "stdout",
       "text": [
        "\r",
        "Abbruch in 1130"
       ]
      },
      {
       "output_type": "stream",
       "stream": "stdout",
       "text": [
        "\r",
        "Abbruch in 1129"
       ]
      },
      {
       "output_type": "stream",
       "stream": "stdout",
       "text": [
        "\r",
        "Abbruch in 1128"
       ]
      },
      {
       "output_type": "stream",
       "stream": "stdout",
       "text": [
        "\r",
        "Abbruch in 1127"
       ]
      },
      {
       "output_type": "stream",
       "stream": "stdout",
       "text": [
        "\r",
        "Abbruch in 1126"
       ]
      },
      {
       "output_type": "stream",
       "stream": "stdout",
       "text": [
        "\r",
        "Abbruch in 1125"
       ]
      },
      {
       "output_type": "stream",
       "stream": "stdout",
       "text": [
        "\r",
        "Abbruch in 1124"
       ]
      },
      {
       "output_type": "stream",
       "stream": "stdout",
       "text": [
        "\r",
        "Abbruch in 1123"
       ]
      },
      {
       "output_type": "stream",
       "stream": "stdout",
       "text": [
        "\r",
        "Abbruch in 1122"
       ]
      },
      {
       "output_type": "stream",
       "stream": "stdout",
       "text": [
        "\r",
        "Abbruch in 1121"
       ]
      },
      {
       "output_type": "stream",
       "stream": "stdout",
       "text": [
        "\r",
        "Abbruch in 1120"
       ]
      },
      {
       "output_type": "stream",
       "stream": "stdout",
       "text": [
        "\r",
        "Abbruch in 1119"
       ]
      },
      {
       "output_type": "stream",
       "stream": "stdout",
       "text": [
        "\r",
        "Abbruch in 1118"
       ]
      },
      {
       "output_type": "stream",
       "stream": "stdout",
       "text": [
        "\r",
        "Abbruch in 1117"
       ]
      },
      {
       "output_type": "stream",
       "stream": "stdout",
       "text": [
        "\r",
        "Abbruch in 1116"
       ]
      },
      {
       "output_type": "stream",
       "stream": "stdout",
       "text": [
        "\r",
        "Abbruch in 1115"
       ]
      },
      {
       "output_type": "stream",
       "stream": "stdout",
       "text": [
        "\r",
        "Abbruch in 1114"
       ]
      },
      {
       "output_type": "stream",
       "stream": "stdout",
       "text": [
        "\r",
        "Abbruch in 1113"
       ]
      },
      {
       "output_type": "stream",
       "stream": "stdout",
       "text": [
        "\r",
        "Abbruch in 1112"
       ]
      },
      {
       "output_type": "stream",
       "stream": "stdout",
       "text": [
        "\r",
        "Abbruch in 1111"
       ]
      },
      {
       "output_type": "stream",
       "stream": "stdout",
       "text": [
        "\r",
        "Abbruch in 1110"
       ]
      },
      {
       "output_type": "stream",
       "stream": "stdout",
       "text": [
        "\r",
        "Abbruch in 1109"
       ]
      },
      {
       "output_type": "stream",
       "stream": "stdout",
       "text": [
        "\r",
        "Abbruch in 1108"
       ]
      },
      {
       "output_type": "stream",
       "stream": "stdout",
       "text": [
        "\r",
        "Abbruch in 1107"
       ]
      },
      {
       "output_type": "stream",
       "stream": "stdout",
       "text": [
        "\r",
        "Abbruch in 1106"
       ]
      },
      {
       "output_type": "stream",
       "stream": "stdout",
       "text": [
        "\r",
        "Abbruch in 1105"
       ]
      },
      {
       "output_type": "stream",
       "stream": "stdout",
       "text": [
        "\r",
        "Abbruch in 1104"
       ]
      },
      {
       "output_type": "stream",
       "stream": "stdout",
       "text": [
        "\r",
        "Abbruch in 1103"
       ]
      },
      {
       "output_type": "stream",
       "stream": "stdout",
       "text": [
        "\r",
        "Abbruch in 1102"
       ]
      },
      {
       "output_type": "stream",
       "stream": "stdout",
       "text": [
        "\r",
        "Abbruch in 1101"
       ]
      },
      {
       "output_type": "stream",
       "stream": "stdout",
       "text": [
        "\r",
        "Abbruch in 1100"
       ]
      },
      {
       "output_type": "stream",
       "stream": "stdout",
       "text": [
        "\r",
        "Abbruch in 1099"
       ]
      },
      {
       "output_type": "stream",
       "stream": "stdout",
       "text": [
        "\r",
        "Abbruch in 1098"
       ]
      },
      {
       "output_type": "stream",
       "stream": "stdout",
       "text": [
        "\r",
        "Abbruch in 1097"
       ]
      },
      {
       "output_type": "stream",
       "stream": "stdout",
       "text": [
        "\r",
        "Abbruch in 1096"
       ]
      },
      {
       "output_type": "stream",
       "stream": "stdout",
       "text": [
        "\r",
        "Abbruch in 1095"
       ]
      },
      {
       "output_type": "stream",
       "stream": "stdout",
       "text": [
        "\r",
        "Abbruch in 1094"
       ]
      },
      {
       "output_type": "stream",
       "stream": "stdout",
       "text": [
        "\r",
        "Abbruch in 1093"
       ]
      },
      {
       "output_type": "stream",
       "stream": "stdout",
       "text": [
        "\r",
        "Abbruch in 1092"
       ]
      },
      {
       "output_type": "stream",
       "stream": "stdout",
       "text": [
        "\r",
        "Abbruch in 1091"
       ]
      },
      {
       "output_type": "stream",
       "stream": "stdout",
       "text": [
        "\r",
        "Abbruch in 1090"
       ]
      },
      {
       "output_type": "stream",
       "stream": "stdout",
       "text": [
        "\r",
        "Abbruch in 1089"
       ]
      },
      {
       "output_type": "stream",
       "stream": "stdout",
       "text": [
        "\r",
        "Abbruch in 1088"
       ]
      },
      {
       "output_type": "stream",
       "stream": "stdout",
       "text": [
        "\r",
        "Abbruch in 1087"
       ]
      },
      {
       "output_type": "stream",
       "stream": "stdout",
       "text": [
        "\r",
        "Abbruch in 1086"
       ]
      },
      {
       "output_type": "stream",
       "stream": "stdout",
       "text": [
        "\r",
        "Abbruch in 1085"
       ]
      },
      {
       "output_type": "stream",
       "stream": "stdout",
       "text": [
        "\r",
        "Abbruch in 1084"
       ]
      },
      {
       "output_type": "stream",
       "stream": "stdout",
       "text": [
        "\r",
        "Abbruch in 1083"
       ]
      },
      {
       "output_type": "stream",
       "stream": "stdout",
       "text": [
        "\r",
        "Abbruch in 1082"
       ]
      },
      {
       "output_type": "stream",
       "stream": "stdout",
       "text": [
        "\r",
        "Abbruch in 1081"
       ]
      },
      {
       "output_type": "stream",
       "stream": "stdout",
       "text": [
        "\r",
        "Abbruch in 1080"
       ]
      },
      {
       "output_type": "stream",
       "stream": "stdout",
       "text": [
        "\r",
        "Abbruch in 1079"
       ]
      },
      {
       "output_type": "stream",
       "stream": "stdout",
       "text": [
        "\r",
        "Abbruch in 1078"
       ]
      },
      {
       "output_type": "stream",
       "stream": "stdout",
       "text": [
        "\r",
        "Abbruch in 1077"
       ]
      },
      {
       "output_type": "stream",
       "stream": "stdout",
       "text": [
        "\r",
        "Abbruch in 1076"
       ]
      },
      {
       "output_type": "stream",
       "stream": "stdout",
       "text": [
        "\r",
        "Abbruch in 1075"
       ]
      },
      {
       "output_type": "stream",
       "stream": "stdout",
       "text": [
        "\r",
        "Abbruch in 1074"
       ]
      },
      {
       "output_type": "stream",
       "stream": "stdout",
       "text": [
        "\r",
        "Abbruch in 1073"
       ]
      },
      {
       "output_type": "stream",
       "stream": "stdout",
       "text": [
        "\r",
        "Abbruch in 1072"
       ]
      },
      {
       "output_type": "stream",
       "stream": "stdout",
       "text": [
        "\r",
        "Abbruch in 1071"
       ]
      },
      {
       "output_type": "stream",
       "stream": "stdout",
       "text": [
        "\r",
        "Abbruch in 1070"
       ]
      },
      {
       "output_type": "stream",
       "stream": "stdout",
       "text": [
        "\r",
        "Abbruch in 1069"
       ]
      },
      {
       "output_type": "stream",
       "stream": "stdout",
       "text": [
        "\r",
        "Abbruch in 1068"
       ]
      },
      {
       "output_type": "stream",
       "stream": "stdout",
       "text": [
        "\r",
        "Abbruch in 1067"
       ]
      },
      {
       "output_type": "stream",
       "stream": "stdout",
       "text": [
        "\r",
        "Abbruch in 1066"
       ]
      },
      {
       "output_type": "stream",
       "stream": "stdout",
       "text": [
        "\r",
        "Abbruch in 1065"
       ]
      },
      {
       "output_type": "stream",
       "stream": "stdout",
       "text": [
        "\r",
        "Abbruch in 1064"
       ]
      },
      {
       "output_type": "stream",
       "stream": "stdout",
       "text": [
        "\r",
        "Abbruch in 1063"
       ]
      },
      {
       "output_type": "stream",
       "stream": "stdout",
       "text": [
        "\r",
        "Abbruch in 1062"
       ]
      },
      {
       "output_type": "stream",
       "stream": "stdout",
       "text": [
        "\r",
        "Abbruch in 1061"
       ]
      },
      {
       "output_type": "stream",
       "stream": "stdout",
       "text": [
        "\r",
        "Abbruch in 1060"
       ]
      },
      {
       "output_type": "stream",
       "stream": "stdout",
       "text": [
        "\r",
        "Abbruch in 1059"
       ]
      },
      {
       "output_type": "stream",
       "stream": "stdout",
       "text": [
        "\r",
        "Abbruch in 1058"
       ]
      },
      {
       "output_type": "stream",
       "stream": "stdout",
       "text": [
        "\r",
        "Abbruch in 1057"
       ]
      },
      {
       "output_type": "stream",
       "stream": "stdout",
       "text": [
        "\r",
        "Abbruch in 1056"
       ]
      },
      {
       "output_type": "stream",
       "stream": "stdout",
       "text": [
        "\r",
        "Abbruch in 1055"
       ]
      },
      {
       "output_type": "stream",
       "stream": "stdout",
       "text": [
        "\r",
        "Abbruch in 1054"
       ]
      },
      {
       "output_type": "stream",
       "stream": "stdout",
       "text": [
        "\r",
        "Abbruch in 1053"
       ]
      },
      {
       "output_type": "stream",
       "stream": "stdout",
       "text": [
        "\r",
        "Abbruch in 1052"
       ]
      },
      {
       "output_type": "stream",
       "stream": "stdout",
       "text": [
        "\r",
        "Abbruch in 1051"
       ]
      },
      {
       "output_type": "stream",
       "stream": "stdout",
       "text": [
        "\r",
        "Abbruch in 1050"
       ]
      },
      {
       "output_type": "stream",
       "stream": "stdout",
       "text": [
        "\r",
        "Abbruch in 1049"
       ]
      },
      {
       "output_type": "stream",
       "stream": "stdout",
       "text": [
        "\r",
        "Abbruch in 1048"
       ]
      },
      {
       "output_type": "stream",
       "stream": "stdout",
       "text": [
        "\r",
        "Abbruch in 1047"
       ]
      },
      {
       "output_type": "stream",
       "stream": "stdout",
       "text": [
        "\r",
        "Abbruch in 1046"
       ]
      },
      {
       "output_type": "stream",
       "stream": "stdout",
       "text": [
        "\r",
        "Abbruch in 1045"
       ]
      },
      {
       "output_type": "stream",
       "stream": "stdout",
       "text": [
        "\r",
        "Abbruch in 1044"
       ]
      },
      {
       "output_type": "stream",
       "stream": "stdout",
       "text": [
        "\r",
        "Abbruch in 1043"
       ]
      },
      {
       "output_type": "stream",
       "stream": "stdout",
       "text": [
        "\r",
        "Abbruch in 1042"
       ]
      },
      {
       "output_type": "stream",
       "stream": "stdout",
       "text": [
        "\r",
        "Abbruch in 1041"
       ]
      },
      {
       "output_type": "stream",
       "stream": "stdout",
       "text": [
        "\r",
        "Abbruch in 1040"
       ]
      },
      {
       "output_type": "stream",
       "stream": "stdout",
       "text": [
        "\r",
        "Abbruch in 1039"
       ]
      },
      {
       "output_type": "stream",
       "stream": "stdout",
       "text": [
        "\r",
        "Abbruch in 1038"
       ]
      },
      {
       "output_type": "stream",
       "stream": "stdout",
       "text": [
        "\r",
        "Abbruch in 1037"
       ]
      },
      {
       "output_type": "stream",
       "stream": "stdout",
       "text": [
        "\r",
        "Abbruch in 1036"
       ]
      },
      {
       "output_type": "stream",
       "stream": "stdout",
       "text": [
        "\r",
        "Abbruch in 1035"
       ]
      },
      {
       "output_type": "stream",
       "stream": "stdout",
       "text": [
        "\r",
        "Abbruch in 1034"
       ]
      },
      {
       "output_type": "stream",
       "stream": "stdout",
       "text": [
        "\r",
        "Abbruch in 1033"
       ]
      },
      {
       "output_type": "stream",
       "stream": "stdout",
       "text": [
        "\r",
        "Abbruch in 1032"
       ]
      },
      {
       "output_type": "stream",
       "stream": "stdout",
       "text": [
        "\r",
        "Abbruch in 1031"
       ]
      },
      {
       "output_type": "stream",
       "stream": "stdout",
       "text": [
        "\r",
        "Abbruch in 1030"
       ]
      },
      {
       "output_type": "stream",
       "stream": "stdout",
       "text": [
        "\r",
        "Abbruch in 1029"
       ]
      },
      {
       "output_type": "stream",
       "stream": "stdout",
       "text": [
        "\r",
        "Abbruch in 1028"
       ]
      },
      {
       "output_type": "stream",
       "stream": "stdout",
       "text": [
        "\r",
        "Abbruch in 1027"
       ]
      },
      {
       "output_type": "stream",
       "stream": "stdout",
       "text": [
        "\r",
        "Abbruch in 1026"
       ]
      },
      {
       "output_type": "stream",
       "stream": "stdout",
       "text": [
        "\r",
        "Abbruch in 1025"
       ]
      },
      {
       "output_type": "stream",
       "stream": "stdout",
       "text": [
        "\r",
        "Abbruch in 1024"
       ]
      },
      {
       "output_type": "stream",
       "stream": "stdout",
       "text": [
        "\r",
        "Abbruch in 1023"
       ]
      },
      {
       "output_type": "stream",
       "stream": "stdout",
       "text": [
        "\r",
        "Abbruch in 1022"
       ]
      },
      {
       "output_type": "stream",
       "stream": "stdout",
       "text": [
        "\r",
        "Abbruch in 1021"
       ]
      },
      {
       "output_type": "stream",
       "stream": "stdout",
       "text": [
        "\r",
        "Abbruch in 1020"
       ]
      },
      {
       "output_type": "stream",
       "stream": "stdout",
       "text": [
        "\r",
        "Abbruch in 1019"
       ]
      },
      {
       "output_type": "stream",
       "stream": "stdout",
       "text": [
        "\r",
        "Abbruch in 1018"
       ]
      },
      {
       "output_type": "stream",
       "stream": "stdout",
       "text": [
        "\r",
        "Abbruch in 1017"
       ]
      },
      {
       "output_type": "stream",
       "stream": "stdout",
       "text": [
        "\r",
        "Abbruch in 1016"
       ]
      },
      {
       "output_type": "stream",
       "stream": "stdout",
       "text": [
        "\r",
        "Abbruch in 1015"
       ]
      },
      {
       "output_type": "stream",
       "stream": "stdout",
       "text": [
        "\r",
        "Abbruch in 1014"
       ]
      },
      {
       "output_type": "stream",
       "stream": "stdout",
       "text": [
        "\r",
        "Abbruch in 1013"
       ]
      },
      {
       "output_type": "stream",
       "stream": "stdout",
       "text": [
        "\r",
        "Abbruch in 1012"
       ]
      },
      {
       "output_type": "stream",
       "stream": "stdout",
       "text": [
        "\r",
        "Abbruch in 1011"
       ]
      },
      {
       "output_type": "stream",
       "stream": "stdout",
       "text": [
        "\r",
        "Abbruch in 1010"
       ]
      },
      {
       "output_type": "stream",
       "stream": "stdout",
       "text": [
        "\r",
        "Abbruch in 1009"
       ]
      },
      {
       "output_type": "stream",
       "stream": "stdout",
       "text": [
        "\r",
        "Abbruch in 1008"
       ]
      },
      {
       "output_type": "stream",
       "stream": "stdout",
       "text": [
        "\r",
        "Abbruch in 1007"
       ]
      },
      {
       "output_type": "stream",
       "stream": "stdout",
       "text": [
        "\r",
        "Abbruch in 1006"
       ]
      },
      {
       "output_type": "stream",
       "stream": "stdout",
       "text": [
        "\r",
        "Abbruch in 1005"
       ]
      },
      {
       "output_type": "stream",
       "stream": "stdout",
       "text": [
        "\r",
        "Abbruch in 1004"
       ]
      },
      {
       "output_type": "stream",
       "stream": "stdout",
       "text": [
        "\r",
        "Abbruch in 1003"
       ]
      },
      {
       "output_type": "stream",
       "stream": "stdout",
       "text": [
        "\r",
        "Abbruch in 1002"
       ]
      },
      {
       "output_type": "stream",
       "stream": "stdout",
       "text": [
        "\r",
        "Abbruch in 1001"
       ]
      },
      {
       "output_type": "stream",
       "stream": "stdout",
       "text": [
        "\r",
        "Abbruch in 1000"
       ]
      },
      {
       "output_type": "stream",
       "stream": "stdout",
       "text": [
        "\r",
        "Abbruch in 999"
       ]
      },
      {
       "output_type": "stream",
       "stream": "stdout",
       "text": [
        "\r",
        "Abbruch in 998"
       ]
      },
      {
       "output_type": "stream",
       "stream": "stdout",
       "text": [
        "\r",
        "Abbruch in 997"
       ]
      },
      {
       "output_type": "stream",
       "stream": "stdout",
       "text": [
        "\r",
        "Abbruch in 996"
       ]
      },
      {
       "output_type": "stream",
       "stream": "stdout",
       "text": [
        "\r",
        "Abbruch in 995"
       ]
      },
      {
       "output_type": "stream",
       "stream": "stdout",
       "text": [
        "\r",
        "Abbruch in 994"
       ]
      },
      {
       "output_type": "stream",
       "stream": "stdout",
       "text": [
        "\r",
        "Abbruch in 993"
       ]
      },
      {
       "output_type": "stream",
       "stream": "stdout",
       "text": [
        "\r",
        "Abbruch in 992"
       ]
      },
      {
       "output_type": "stream",
       "stream": "stdout",
       "text": [
        "\r",
        "Abbruch in 991"
       ]
      },
      {
       "output_type": "stream",
       "stream": "stdout",
       "text": [
        "\r",
        "Abbruch in 990"
       ]
      },
      {
       "output_type": "stream",
       "stream": "stdout",
       "text": [
        "\r",
        "Abbruch in 989"
       ]
      },
      {
       "output_type": "stream",
       "stream": "stdout",
       "text": [
        "\r",
        "Abbruch in 988"
       ]
      },
      {
       "output_type": "stream",
       "stream": "stdout",
       "text": [
        "\r",
        "Abbruch in 987"
       ]
      },
      {
       "output_type": "stream",
       "stream": "stdout",
       "text": [
        "\r",
        "Abbruch in 986"
       ]
      },
      {
       "output_type": "stream",
       "stream": "stdout",
       "text": [
        "\r",
        "Abbruch in 985"
       ]
      },
      {
       "output_type": "stream",
       "stream": "stdout",
       "text": [
        "\r",
        "Abbruch in 984"
       ]
      },
      {
       "output_type": "stream",
       "stream": "stdout",
       "text": [
        "\r",
        "Abbruch in 983"
       ]
      },
      {
       "output_type": "stream",
       "stream": "stdout",
       "text": [
        "\r",
        "Abbruch in 982"
       ]
      },
      {
       "output_type": "stream",
       "stream": "stdout",
       "text": [
        "\r",
        "Abbruch in 981"
       ]
      },
      {
       "output_type": "stream",
       "stream": "stdout",
       "text": [
        "\r",
        "Abbruch in 980"
       ]
      },
      {
       "output_type": "stream",
       "stream": "stdout",
       "text": [
        "\r",
        "Abbruch in 979"
       ]
      },
      {
       "output_type": "stream",
       "stream": "stdout",
       "text": [
        "\r",
        "Abbruch in 978"
       ]
      },
      {
       "output_type": "stream",
       "stream": "stdout",
       "text": [
        "\r",
        "Abbruch in 977"
       ]
      },
      {
       "output_type": "stream",
       "stream": "stdout",
       "text": [
        "\r",
        "Abbruch in 976"
       ]
      },
      {
       "output_type": "stream",
       "stream": "stdout",
       "text": [
        "\r",
        "Abbruch in 975"
       ]
      },
      {
       "output_type": "stream",
       "stream": "stdout",
       "text": [
        "\r",
        "Abbruch in 974"
       ]
      },
      {
       "output_type": "stream",
       "stream": "stdout",
       "text": [
        "\r",
        "Abbruch in 973"
       ]
      },
      {
       "output_type": "stream",
       "stream": "stdout",
       "text": [
        "\r",
        "Abbruch in 972"
       ]
      },
      {
       "output_type": "stream",
       "stream": "stdout",
       "text": [
        "\r",
        "Abbruch in 971"
       ]
      },
      {
       "output_type": "stream",
       "stream": "stdout",
       "text": [
        "\r",
        "Abbruch in 970"
       ]
      },
      {
       "output_type": "stream",
       "stream": "stdout",
       "text": [
        "\r",
        "Abbruch in 969"
       ]
      },
      {
       "output_type": "stream",
       "stream": "stdout",
       "text": [
        "\r",
        "Abbruch in 968"
       ]
      },
      {
       "output_type": "stream",
       "stream": "stdout",
       "text": [
        "\r",
        "Abbruch in 967"
       ]
      },
      {
       "output_type": "stream",
       "stream": "stdout",
       "text": [
        "\r",
        "Abbruch in 966"
       ]
      },
      {
       "output_type": "stream",
       "stream": "stdout",
       "text": [
        "\r",
        "Abbruch in 965"
       ]
      },
      {
       "output_type": "stream",
       "stream": "stdout",
       "text": [
        "\r",
        "Abbruch in 964"
       ]
      },
      {
       "output_type": "stream",
       "stream": "stdout",
       "text": [
        "\r",
        "Abbruch in 963"
       ]
      },
      {
       "output_type": "stream",
       "stream": "stdout",
       "text": [
        "\r",
        "Abbruch in 962"
       ]
      },
      {
       "output_type": "stream",
       "stream": "stdout",
       "text": [
        "\r",
        "Abbruch in 961"
       ]
      },
      {
       "output_type": "stream",
       "stream": "stdout",
       "text": [
        "\r",
        "Abbruch in 960"
       ]
      },
      {
       "output_type": "stream",
       "stream": "stdout",
       "text": [
        "\r",
        "Abbruch in 959"
       ]
      },
      {
       "output_type": "stream",
       "stream": "stdout",
       "text": [
        "\r",
        "Abbruch in 958"
       ]
      },
      {
       "output_type": "stream",
       "stream": "stdout",
       "text": [
        "\r",
        "Abbruch in 957"
       ]
      },
      {
       "output_type": "stream",
       "stream": "stdout",
       "text": [
        "\r",
        "Abbruch in 956"
       ]
      },
      {
       "output_type": "stream",
       "stream": "stdout",
       "text": [
        "\r",
        "Abbruch in 955"
       ]
      },
      {
       "output_type": "stream",
       "stream": "stdout",
       "text": [
        "\r",
        "Abbruch in 954"
       ]
      },
      {
       "output_type": "stream",
       "stream": "stdout",
       "text": [
        "\r",
        "Abbruch in 953"
       ]
      },
      {
       "output_type": "stream",
       "stream": "stdout",
       "text": [
        "\r",
        "Abbruch in 952"
       ]
      },
      {
       "output_type": "stream",
       "stream": "stdout",
       "text": [
        "\r",
        "Abbruch in 951"
       ]
      },
      {
       "output_type": "stream",
       "stream": "stdout",
       "text": [
        "\r",
        "Abbruch in 950"
       ]
      },
      {
       "output_type": "stream",
       "stream": "stdout",
       "text": [
        "\r",
        "Abbruch in 949"
       ]
      },
      {
       "output_type": "stream",
       "stream": "stdout",
       "text": [
        "\r",
        "Abbruch in 948"
       ]
      },
      {
       "output_type": "stream",
       "stream": "stdout",
       "text": [
        "\r",
        "Abbruch in 947"
       ]
      },
      {
       "output_type": "stream",
       "stream": "stdout",
       "text": [
        "\r",
        "Abbruch in 946"
       ]
      },
      {
       "output_type": "stream",
       "stream": "stdout",
       "text": [
        "\r",
        "Abbruch in 945"
       ]
      },
      {
       "output_type": "stream",
       "stream": "stdout",
       "text": [
        "\r",
        "Abbruch in 944"
       ]
      },
      {
       "output_type": "stream",
       "stream": "stdout",
       "text": [
        "\r",
        "Abbruch in 943"
       ]
      },
      {
       "output_type": "stream",
       "stream": "stdout",
       "text": [
        "\r",
        "Abbruch in 942"
       ]
      },
      {
       "output_type": "stream",
       "stream": "stdout",
       "text": [
        "\r",
        "Abbruch in 941"
       ]
      },
      {
       "output_type": "stream",
       "stream": "stdout",
       "text": [
        "\r",
        "Abbruch in 940"
       ]
      },
      {
       "output_type": "stream",
       "stream": "stdout",
       "text": [
        "\r",
        "Abbruch in 939"
       ]
      },
      {
       "output_type": "stream",
       "stream": "stdout",
       "text": [
        "\r",
        "Abbruch in 938"
       ]
      },
      {
       "output_type": "stream",
       "stream": "stdout",
       "text": [
        "\r",
        "Abbruch in 937"
       ]
      },
      {
       "output_type": "stream",
       "stream": "stdout",
       "text": [
        "\r",
        "Abbruch in 936"
       ]
      },
      {
       "output_type": "stream",
       "stream": "stdout",
       "text": [
        "\r",
        "Abbruch in 935"
       ]
      },
      {
       "output_type": "stream",
       "stream": "stdout",
       "text": [
        "\r",
        "Abbruch in 934"
       ]
      },
      {
       "output_type": "stream",
       "stream": "stdout",
       "text": [
        "\r",
        "Abbruch in 933"
       ]
      },
      {
       "output_type": "stream",
       "stream": "stdout",
       "text": [
        "\r",
        "Abbruch in 932"
       ]
      },
      {
       "output_type": "stream",
       "stream": "stdout",
       "text": [
        "\r",
        "Abbruch in 931"
       ]
      },
      {
       "output_type": "stream",
       "stream": "stdout",
       "text": [
        "\r",
        "Abbruch in 930"
       ]
      },
      {
       "output_type": "stream",
       "stream": "stdout",
       "text": [
        "\r",
        "Abbruch in 929"
       ]
      },
      {
       "output_type": "stream",
       "stream": "stdout",
       "text": [
        "\r",
        "Abbruch in 928"
       ]
      },
      {
       "output_type": "stream",
       "stream": "stdout",
       "text": [
        "\r",
        "Abbruch in 927"
       ]
      },
      {
       "output_type": "stream",
       "stream": "stdout",
       "text": [
        "\r",
        "Abbruch in 926"
       ]
      },
      {
       "output_type": "stream",
       "stream": "stdout",
       "text": [
        "\r",
        "Abbruch in 925"
       ]
      },
      {
       "output_type": "stream",
       "stream": "stdout",
       "text": [
        "\r",
        "Abbruch in 924"
       ]
      },
      {
       "output_type": "stream",
       "stream": "stdout",
       "text": [
        "\r",
        "Abbruch in 923"
       ]
      },
      {
       "output_type": "stream",
       "stream": "stdout",
       "text": [
        "\r",
        "Abbruch in 922"
       ]
      },
      {
       "output_type": "stream",
       "stream": "stdout",
       "text": [
        "\r",
        "Abbruch in 921"
       ]
      },
      {
       "output_type": "stream",
       "stream": "stdout",
       "text": [
        "\r",
        "Abbruch in 920"
       ]
      },
      {
       "output_type": "stream",
       "stream": "stdout",
       "text": [
        "\r",
        "Abbruch in 919"
       ]
      },
      {
       "output_type": "stream",
       "stream": "stdout",
       "text": [
        "\r",
        "Abbruch in 918"
       ]
      },
      {
       "output_type": "stream",
       "stream": "stdout",
       "text": [
        "\r",
        "Abbruch in 917"
       ]
      },
      {
       "output_type": "stream",
       "stream": "stdout",
       "text": [
        "\r",
        "Abbruch in 916"
       ]
      },
      {
       "output_type": "stream",
       "stream": "stdout",
       "text": [
        "\r",
        "Abbruch in 915"
       ]
      },
      {
       "output_type": "stream",
       "stream": "stdout",
       "text": [
        "\r",
        "Abbruch in 914"
       ]
      },
      {
       "output_type": "stream",
       "stream": "stdout",
       "text": [
        "\r",
        "Abbruch in 913"
       ]
      },
      {
       "output_type": "stream",
       "stream": "stdout",
       "text": [
        "\r",
        "Abbruch in 912"
       ]
      },
      {
       "output_type": "stream",
       "stream": "stdout",
       "text": [
        "\r",
        "Abbruch in 911"
       ]
      },
      {
       "output_type": "stream",
       "stream": "stdout",
       "text": [
        "\r",
        "Abbruch in 910"
       ]
      },
      {
       "output_type": "stream",
       "stream": "stdout",
       "text": [
        "\r",
        "Abbruch in 909"
       ]
      },
      {
       "output_type": "stream",
       "stream": "stdout",
       "text": [
        "\r",
        "Abbruch in 908"
       ]
      },
      {
       "output_type": "stream",
       "stream": "stdout",
       "text": [
        "\r",
        "Abbruch in 907"
       ]
      },
      {
       "output_type": "stream",
       "stream": "stdout",
       "text": [
        "\r",
        "Abbruch in 906"
       ]
      },
      {
       "output_type": "stream",
       "stream": "stdout",
       "text": [
        "\r",
        "Abbruch in 905"
       ]
      },
      {
       "output_type": "stream",
       "stream": "stdout",
       "text": [
        "\r",
        "Abbruch in 904"
       ]
      },
      {
       "output_type": "stream",
       "stream": "stdout",
       "text": [
        "\r",
        "Abbruch in 903"
       ]
      },
      {
       "output_type": "stream",
       "stream": "stdout",
       "text": [
        "\r",
        "Abbruch in 902"
       ]
      },
      {
       "output_type": "stream",
       "stream": "stdout",
       "text": [
        "\r",
        "Abbruch in 901"
       ]
      },
      {
       "output_type": "stream",
       "stream": "stdout",
       "text": [
        "\r",
        "Abbruch in 900"
       ]
      },
      {
       "output_type": "stream",
       "stream": "stdout",
       "text": [
        "\r",
        "Abbruch in 899"
       ]
      },
      {
       "output_type": "stream",
       "stream": "stdout",
       "text": [
        "\r",
        "Abbruch in 898"
       ]
      },
      {
       "output_type": "stream",
       "stream": "stdout",
       "text": [
        "\r",
        "Abbruch in 897"
       ]
      },
      {
       "output_type": "stream",
       "stream": "stdout",
       "text": [
        "\r",
        "Abbruch in 896"
       ]
      },
      {
       "output_type": "stream",
       "stream": "stdout",
       "text": [
        "\r",
        "Abbruch in 895"
       ]
      },
      {
       "output_type": "stream",
       "stream": "stdout",
       "text": [
        "\r",
        "Abbruch in 894"
       ]
      },
      {
       "output_type": "stream",
       "stream": "stdout",
       "text": [
        "\r",
        "Abbruch in 893"
       ]
      },
      {
       "output_type": "stream",
       "stream": "stdout",
       "text": [
        "\r",
        "Abbruch in 892"
       ]
      },
      {
       "output_type": "stream",
       "stream": "stdout",
       "text": [
        "\r",
        "Abbruch in 891"
       ]
      },
      {
       "output_type": "stream",
       "stream": "stdout",
       "text": [
        "\r",
        "Abbruch in 890"
       ]
      },
      {
       "output_type": "stream",
       "stream": "stdout",
       "text": [
        "\r",
        "Abbruch in 889"
       ]
      },
      {
       "output_type": "stream",
       "stream": "stdout",
       "text": [
        "\r",
        "Abbruch in 888"
       ]
      },
      {
       "output_type": "stream",
       "stream": "stdout",
       "text": [
        "\r",
        "Abbruch in 887"
       ]
      },
      {
       "output_type": "stream",
       "stream": "stdout",
       "text": [
        "\r",
        "Abbruch in 886"
       ]
      },
      {
       "output_type": "stream",
       "stream": "stdout",
       "text": [
        "\r",
        "Abbruch in 885"
       ]
      },
      {
       "output_type": "stream",
       "stream": "stdout",
       "text": [
        "\r",
        "Abbruch in 884"
       ]
      },
      {
       "output_type": "stream",
       "stream": "stdout",
       "text": [
        "\r",
        "Abbruch in 883"
       ]
      },
      {
       "output_type": "stream",
       "stream": "stdout",
       "text": [
        "\r",
        "Abbruch in 882"
       ]
      },
      {
       "output_type": "stream",
       "stream": "stdout",
       "text": [
        "\r",
        "Abbruch in 881"
       ]
      },
      {
       "output_type": "stream",
       "stream": "stdout",
       "text": [
        "\r",
        "Abbruch in 880"
       ]
      },
      {
       "output_type": "stream",
       "stream": "stdout",
       "text": [
        "\r",
        "Abbruch in 879"
       ]
      },
      {
       "output_type": "stream",
       "stream": "stdout",
       "text": [
        "\r",
        "Abbruch in 878"
       ]
      },
      {
       "output_type": "stream",
       "stream": "stdout",
       "text": [
        "\r",
        "Abbruch in 877"
       ]
      },
      {
       "output_type": "stream",
       "stream": "stdout",
       "text": [
        "\r",
        "Abbruch in 876"
       ]
      },
      {
       "output_type": "stream",
       "stream": "stdout",
       "text": [
        "\r",
        "Abbruch in 875"
       ]
      },
      {
       "output_type": "stream",
       "stream": "stdout",
       "text": [
        "\r",
        "Abbruch in 874"
       ]
      },
      {
       "output_type": "stream",
       "stream": "stdout",
       "text": [
        "\r",
        "Abbruch in 873"
       ]
      },
      {
       "output_type": "stream",
       "stream": "stdout",
       "text": [
        "\r",
        "Abbruch in 872"
       ]
      },
      {
       "output_type": "stream",
       "stream": "stdout",
       "text": [
        "\r",
        "Abbruch in 871"
       ]
      },
      {
       "output_type": "stream",
       "stream": "stdout",
       "text": [
        "\r",
        "Abbruch in 870"
       ]
      },
      {
       "output_type": "stream",
       "stream": "stdout",
       "text": [
        "\r",
        "Abbruch in 869"
       ]
      },
      {
       "output_type": "stream",
       "stream": "stdout",
       "text": [
        "\r",
        "Abbruch in 868"
       ]
      },
      {
       "output_type": "stream",
       "stream": "stdout",
       "text": [
        "\r",
        "Abbruch in 867"
       ]
      },
      {
       "output_type": "stream",
       "stream": "stdout",
       "text": [
        "\r",
        "Abbruch in 866"
       ]
      },
      {
       "output_type": "stream",
       "stream": "stdout",
       "text": [
        "\r",
        "Abbruch in 865"
       ]
      },
      {
       "output_type": "stream",
       "stream": "stdout",
       "text": [
        "\r",
        "Abbruch in 864"
       ]
      },
      {
       "output_type": "stream",
       "stream": "stdout",
       "text": [
        "\r",
        "Abbruch in 863"
       ]
      },
      {
       "output_type": "stream",
       "stream": "stdout",
       "text": [
        "\r",
        "Abbruch in 862"
       ]
      },
      {
       "output_type": "stream",
       "stream": "stdout",
       "text": [
        "\r",
        "Abbruch in 861"
       ]
      },
      {
       "output_type": "stream",
       "stream": "stdout",
       "text": [
        "\r",
        "Abbruch in 860"
       ]
      },
      {
       "output_type": "stream",
       "stream": "stdout",
       "text": [
        "\r",
        "Abbruch in 859"
       ]
      },
      {
       "output_type": "stream",
       "stream": "stdout",
       "text": [
        "\r",
        "Abbruch in 858"
       ]
      },
      {
       "output_type": "stream",
       "stream": "stdout",
       "text": [
        "\r",
        "Abbruch in 857"
       ]
      },
      {
       "output_type": "stream",
       "stream": "stdout",
       "text": [
        "\r",
        "Abbruch in 856"
       ]
      },
      {
       "output_type": "stream",
       "stream": "stdout",
       "text": [
        "\r",
        "Abbruch in 855"
       ]
      },
      {
       "output_type": "stream",
       "stream": "stdout",
       "text": [
        "\r",
        "Abbruch in 854"
       ]
      },
      {
       "output_type": "stream",
       "stream": "stdout",
       "text": [
        "\r",
        "Abbruch in 853"
       ]
      },
      {
       "output_type": "stream",
       "stream": "stdout",
       "text": [
        "\r",
        "Abbruch in 852"
       ]
      },
      {
       "output_type": "stream",
       "stream": "stdout",
       "text": [
        "\r",
        "Abbruch in 851"
       ]
      },
      {
       "output_type": "stream",
       "stream": "stdout",
       "text": [
        "\r",
        "Abbruch in 850"
       ]
      },
      {
       "output_type": "stream",
       "stream": "stdout",
       "text": [
        "\r",
        "Abbruch in 849"
       ]
      },
      {
       "output_type": "stream",
       "stream": "stdout",
       "text": [
        "\r",
        "Abbruch in 848"
       ]
      },
      {
       "output_type": "stream",
       "stream": "stdout",
       "text": [
        "\r",
        "Abbruch in 847"
       ]
      },
      {
       "output_type": "stream",
       "stream": "stdout",
       "text": [
        "\r",
        "Abbruch in 846"
       ]
      },
      {
       "output_type": "stream",
       "stream": "stdout",
       "text": [
        "\r",
        "Abbruch in 845"
       ]
      },
      {
       "output_type": "stream",
       "stream": "stdout",
       "text": [
        "\r",
        "Abbruch in 844"
       ]
      },
      {
       "output_type": "stream",
       "stream": "stdout",
       "text": [
        "\r",
        "Abbruch in 843"
       ]
      },
      {
       "output_type": "stream",
       "stream": "stdout",
       "text": [
        "\r",
        "Abbruch in 842"
       ]
      },
      {
       "output_type": "stream",
       "stream": "stdout",
       "text": [
        "\r",
        "Abbruch in 841"
       ]
      },
      {
       "output_type": "stream",
       "stream": "stdout",
       "text": [
        "\r",
        "Abbruch in 840"
       ]
      },
      {
       "output_type": "stream",
       "stream": "stdout",
       "text": [
        "\r",
        "Abbruch in 839"
       ]
      },
      {
       "output_type": "stream",
       "stream": "stdout",
       "text": [
        "\r",
        "Abbruch in 838"
       ]
      },
      {
       "output_type": "stream",
       "stream": "stdout",
       "text": [
        "\r",
        "Abbruch in 837"
       ]
      },
      {
       "output_type": "stream",
       "stream": "stdout",
       "text": [
        "\r",
        "Abbruch in 836"
       ]
      },
      {
       "output_type": "stream",
       "stream": "stdout",
       "text": [
        "\r",
        "Abbruch in 835"
       ]
      },
      {
       "output_type": "stream",
       "stream": "stdout",
       "text": [
        "\r",
        "Abbruch in 834"
       ]
      },
      {
       "output_type": "stream",
       "stream": "stdout",
       "text": [
        "\r",
        "Abbruch in 833"
       ]
      },
      {
       "output_type": "stream",
       "stream": "stdout",
       "text": [
        "\r",
        "Abbruch in 832"
       ]
      },
      {
       "output_type": "stream",
       "stream": "stdout",
       "text": [
        "\r",
        "Abbruch in 831"
       ]
      },
      {
       "output_type": "stream",
       "stream": "stdout",
       "text": [
        "\r",
        "Abbruch in 830"
       ]
      },
      {
       "output_type": "stream",
       "stream": "stdout",
       "text": [
        "\r",
        "Abbruch in 829"
       ]
      },
      {
       "output_type": "stream",
       "stream": "stdout",
       "text": [
        "\r",
        "Abbruch in 828"
       ]
      },
      {
       "output_type": "stream",
       "stream": "stdout",
       "text": [
        "\r",
        "Abbruch in 827"
       ]
      },
      {
       "output_type": "stream",
       "stream": "stdout",
       "text": [
        "\r",
        "Abbruch in 826"
       ]
      },
      {
       "output_type": "stream",
       "stream": "stdout",
       "text": [
        "\r",
        "Abbruch in 825"
       ]
      },
      {
       "output_type": "stream",
       "stream": "stdout",
       "text": [
        "\r",
        "Abbruch in 824"
       ]
      },
      {
       "output_type": "stream",
       "stream": "stdout",
       "text": [
        "\r",
        "Abbruch in 823"
       ]
      },
      {
       "output_type": "stream",
       "stream": "stdout",
       "text": [
        "\r",
        "Abbruch in 822"
       ]
      },
      {
       "output_type": "stream",
       "stream": "stdout",
       "text": [
        "\r",
        "Abbruch in 821"
       ]
      },
      {
       "output_type": "stream",
       "stream": "stdout",
       "text": [
        "\r",
        "Abbruch in 820"
       ]
      },
      {
       "output_type": "stream",
       "stream": "stdout",
       "text": [
        "\r",
        "Abbruch in 819"
       ]
      },
      {
       "output_type": "stream",
       "stream": "stdout",
       "text": [
        "\r",
        "Abbruch in 818"
       ]
      },
      {
       "output_type": "stream",
       "stream": "stdout",
       "text": [
        "\r",
        "Abbruch in 817"
       ]
      },
      {
       "output_type": "stream",
       "stream": "stdout",
       "text": [
        "\r",
        "Abbruch in 816"
       ]
      },
      {
       "output_type": "stream",
       "stream": "stdout",
       "text": [
        "\r",
        "Abbruch in 815"
       ]
      },
      {
       "output_type": "stream",
       "stream": "stdout",
       "text": [
        "\r",
        "Abbruch in 814"
       ]
      },
      {
       "output_type": "stream",
       "stream": "stdout",
       "text": [
        "\r",
        "Abbruch in 813"
       ]
      },
      {
       "output_type": "stream",
       "stream": "stdout",
       "text": [
        "\r",
        "Abbruch in 812"
       ]
      },
      {
       "output_type": "stream",
       "stream": "stdout",
       "text": [
        "\r",
        "Abbruch in 811"
       ]
      },
      {
       "output_type": "stream",
       "stream": "stdout",
       "text": [
        "\r",
        "Abbruch in 810"
       ]
      },
      {
       "output_type": "stream",
       "stream": "stdout",
       "text": [
        "\r",
        "Abbruch in 809"
       ]
      },
      {
       "output_type": "stream",
       "stream": "stdout",
       "text": [
        "\r",
        "Abbruch in 808"
       ]
      },
      {
       "output_type": "stream",
       "stream": "stdout",
       "text": [
        "\r",
        "Abbruch in 807"
       ]
      },
      {
       "output_type": "stream",
       "stream": "stdout",
       "text": [
        "\r",
        "Abbruch in 806"
       ]
      },
      {
       "output_type": "stream",
       "stream": "stdout",
       "text": [
        "\r",
        "Abbruch in 805"
       ]
      },
      {
       "output_type": "stream",
       "stream": "stdout",
       "text": [
        "\r",
        "Abbruch in 804"
       ]
      },
      {
       "output_type": "stream",
       "stream": "stdout",
       "text": [
        "\r",
        "Abbruch in 803"
       ]
      },
      {
       "output_type": "stream",
       "stream": "stdout",
       "text": [
        "\r",
        "Abbruch in 802"
       ]
      },
      {
       "output_type": "stream",
       "stream": "stdout",
       "text": [
        "\r",
        "Abbruch in 801"
       ]
      },
      {
       "output_type": "stream",
       "stream": "stdout",
       "text": [
        "\r",
        "Abbruch in 800"
       ]
      },
      {
       "output_type": "stream",
       "stream": "stdout",
       "text": [
        "\r",
        "Abbruch in 799"
       ]
      },
      {
       "output_type": "stream",
       "stream": "stdout",
       "text": [
        "\r",
        "Abbruch in 798"
       ]
      },
      {
       "output_type": "stream",
       "stream": "stdout",
       "text": [
        "\r",
        "Abbruch in 797"
       ]
      },
      {
       "output_type": "stream",
       "stream": "stdout",
       "text": [
        "\r",
        "Abbruch in 796"
       ]
      },
      {
       "output_type": "stream",
       "stream": "stdout",
       "text": [
        "\r",
        "Abbruch in 795"
       ]
      },
      {
       "output_type": "stream",
       "stream": "stdout",
       "text": [
        "\r",
        "Abbruch in 794"
       ]
      },
      {
       "output_type": "stream",
       "stream": "stdout",
       "text": [
        "\r",
        "Abbruch in 793"
       ]
      },
      {
       "output_type": "stream",
       "stream": "stdout",
       "text": [
        "\r",
        "Abbruch in 792"
       ]
      },
      {
       "output_type": "stream",
       "stream": "stdout",
       "text": [
        "\r",
        "Abbruch in 791"
       ]
      },
      {
       "output_type": "stream",
       "stream": "stdout",
       "text": [
        "\r",
        "Abbruch in 790"
       ]
      },
      {
       "output_type": "stream",
       "stream": "stdout",
       "text": [
        "\r",
        "Abbruch in 789"
       ]
      },
      {
       "output_type": "stream",
       "stream": "stdout",
       "text": [
        "\r",
        "Abbruch in 788"
       ]
      },
      {
       "output_type": "stream",
       "stream": "stdout",
       "text": [
        "\r",
        "Abbruch in 787"
       ]
      },
      {
       "output_type": "stream",
       "stream": "stdout",
       "text": [
        "\r",
        "Abbruch in 786"
       ]
      },
      {
       "output_type": "stream",
       "stream": "stdout",
       "text": [
        "\r",
        "Abbruch in 785"
       ]
      },
      {
       "output_type": "stream",
       "stream": "stdout",
       "text": [
        "\r",
        "Abbruch in 784"
       ]
      },
      {
       "output_type": "stream",
       "stream": "stdout",
       "text": [
        "\r",
        "Abbruch in 783"
       ]
      },
      {
       "output_type": "stream",
       "stream": "stdout",
       "text": [
        "\r",
        "Abbruch in 782"
       ]
      },
      {
       "output_type": "stream",
       "stream": "stdout",
       "text": [
        "\r",
        "Abbruch in 781"
       ]
      },
      {
       "output_type": "stream",
       "stream": "stdout",
       "text": [
        "\r",
        "Abbruch in 780"
       ]
      },
      {
       "output_type": "stream",
       "stream": "stdout",
       "text": [
        "\r",
        "Abbruch in 779"
       ]
      },
      {
       "output_type": "stream",
       "stream": "stdout",
       "text": [
        "\r",
        "Abbruch in 778"
       ]
      },
      {
       "output_type": "stream",
       "stream": "stdout",
       "text": [
        "\r",
        "Abbruch in 777"
       ]
      },
      {
       "output_type": "stream",
       "stream": "stdout",
       "text": [
        "\r",
        "Abbruch in 776"
       ]
      },
      {
       "output_type": "stream",
       "stream": "stdout",
       "text": [
        "\r",
        "Abbruch in 775"
       ]
      },
      {
       "output_type": "stream",
       "stream": "stdout",
       "text": [
        "\r",
        "Abbruch in 774"
       ]
      },
      {
       "output_type": "stream",
       "stream": "stdout",
       "text": [
        "\r",
        "Abbruch in 773"
       ]
      },
      {
       "output_type": "stream",
       "stream": "stdout",
       "text": [
        "\r",
        "Abbruch in 772"
       ]
      },
      {
       "output_type": "stream",
       "stream": "stdout",
       "text": [
        "\r",
        "Abbruch in 771"
       ]
      },
      {
       "output_type": "stream",
       "stream": "stdout",
       "text": [
        "\r",
        "Abbruch in 770"
       ]
      },
      {
       "output_type": "stream",
       "stream": "stdout",
       "text": [
        "\r",
        "Abbruch in 769"
       ]
      },
      {
       "output_type": "stream",
       "stream": "stdout",
       "text": [
        "\r",
        "Abbruch in 768"
       ]
      },
      {
       "output_type": "stream",
       "stream": "stdout",
       "text": [
        "\r",
        "Abbruch in 767"
       ]
      },
      {
       "output_type": "stream",
       "stream": "stdout",
       "text": [
        "\r",
        "Abbruch in 766"
       ]
      },
      {
       "output_type": "stream",
       "stream": "stdout",
       "text": [
        "\r",
        "Abbruch in 765"
       ]
      },
      {
       "output_type": "stream",
       "stream": "stdout",
       "text": [
        "\r",
        "Abbruch in 764"
       ]
      },
      {
       "output_type": "stream",
       "stream": "stdout",
       "text": [
        "\r",
        "Abbruch in 763"
       ]
      },
      {
       "output_type": "stream",
       "stream": "stdout",
       "text": [
        "\r",
        "Abbruch in 762"
       ]
      },
      {
       "output_type": "stream",
       "stream": "stdout",
       "text": [
        "\r",
        "Abbruch in 761"
       ]
      },
      {
       "output_type": "stream",
       "stream": "stdout",
       "text": [
        "\r",
        "Abbruch in 760"
       ]
      },
      {
       "output_type": "stream",
       "stream": "stdout",
       "text": [
        "\r",
        "Abbruch in 759"
       ]
      },
      {
       "output_type": "stream",
       "stream": "stdout",
       "text": [
        "\r",
        "Abbruch in 758"
       ]
      },
      {
       "output_type": "stream",
       "stream": "stdout",
       "text": [
        "\r",
        "Abbruch in 757"
       ]
      },
      {
       "output_type": "stream",
       "stream": "stdout",
       "text": [
        "\r",
        "Abbruch in 756"
       ]
      },
      {
       "output_type": "stream",
       "stream": "stdout",
       "text": [
        "\r",
        "Abbruch in 755"
       ]
      },
      {
       "output_type": "stream",
       "stream": "stdout",
       "text": [
        "\r",
        "Abbruch in 754"
       ]
      },
      {
       "output_type": "stream",
       "stream": "stdout",
       "text": [
        "\r",
        "Abbruch in 753"
       ]
      },
      {
       "output_type": "stream",
       "stream": "stdout",
       "text": [
        "\r",
        "Abbruch in 752"
       ]
      },
      {
       "output_type": "stream",
       "stream": "stdout",
       "text": [
        "\r",
        "Abbruch in 751"
       ]
      },
      {
       "output_type": "stream",
       "stream": "stdout",
       "text": [
        "\r",
        "Abbruch in 750"
       ]
      },
      {
       "output_type": "stream",
       "stream": "stdout",
       "text": [
        "\r",
        "Abbruch in 749"
       ]
      },
      {
       "output_type": "stream",
       "stream": "stdout",
       "text": [
        "\r",
        "Abbruch in 748"
       ]
      },
      {
       "output_type": "stream",
       "stream": "stdout",
       "text": [
        "\r",
        "Abbruch in 747"
       ]
      },
      {
       "output_type": "stream",
       "stream": "stdout",
       "text": [
        "\r",
        "Abbruch in 746"
       ]
      },
      {
       "output_type": "stream",
       "stream": "stdout",
       "text": [
        "\r",
        "Abbruch in 745"
       ]
      },
      {
       "output_type": "stream",
       "stream": "stdout",
       "text": [
        "\r",
        "Abbruch in 744"
       ]
      },
      {
       "output_type": "stream",
       "stream": "stdout",
       "text": [
        "\r",
        "Abbruch in 743"
       ]
      },
      {
       "output_type": "stream",
       "stream": "stdout",
       "text": [
        "\r",
        "Abbruch in 742"
       ]
      },
      {
       "output_type": "stream",
       "stream": "stdout",
       "text": [
        "\r",
        "Abbruch in 741"
       ]
      },
      {
       "output_type": "stream",
       "stream": "stdout",
       "text": [
        "\r",
        "Abbruch in 740"
       ]
      },
      {
       "output_type": "stream",
       "stream": "stdout",
       "text": [
        "\r",
        "Abbruch in 739"
       ]
      },
      {
       "output_type": "stream",
       "stream": "stdout",
       "text": [
        "\r",
        "Abbruch in 738"
       ]
      },
      {
       "output_type": "stream",
       "stream": "stdout",
       "text": [
        "\r",
        "Abbruch in 737"
       ]
      },
      {
       "output_type": "stream",
       "stream": "stdout",
       "text": [
        "\r",
        "Abbruch in 736"
       ]
      },
      {
       "output_type": "stream",
       "stream": "stdout",
       "text": [
        "\r",
        "Abbruch in 735"
       ]
      },
      {
       "output_type": "stream",
       "stream": "stdout",
       "text": [
        "\r",
        "Abbruch in 734"
       ]
      },
      {
       "output_type": "stream",
       "stream": "stdout",
       "text": [
        "\r",
        "Abbruch in 733"
       ]
      },
      {
       "output_type": "stream",
       "stream": "stdout",
       "text": [
        "\r",
        "Abbruch in 732"
       ]
      },
      {
       "output_type": "stream",
       "stream": "stdout",
       "text": [
        "\r",
        "Abbruch in 731"
       ]
      },
      {
       "output_type": "stream",
       "stream": "stdout",
       "text": [
        "\r",
        "Abbruch in 730"
       ]
      },
      {
       "output_type": "stream",
       "stream": "stdout",
       "text": [
        "\r",
        "Abbruch in 729"
       ]
      },
      {
       "output_type": "stream",
       "stream": "stdout",
       "text": [
        "\r",
        "Abbruch in 728"
       ]
      },
      {
       "output_type": "stream",
       "stream": "stdout",
       "text": [
        "\r",
        "Abbruch in 727"
       ]
      },
      {
       "output_type": "stream",
       "stream": "stdout",
       "text": [
        "\r",
        "Abbruch in 726"
       ]
      },
      {
       "output_type": "stream",
       "stream": "stdout",
       "text": [
        "\r",
        "Abbruch in 725"
       ]
      },
      {
       "output_type": "stream",
       "stream": "stdout",
       "text": [
        "\r",
        "Abbruch in 724"
       ]
      },
      {
       "output_type": "stream",
       "stream": "stdout",
       "text": [
        "\r",
        "Abbruch in 723"
       ]
      },
      {
       "output_type": "stream",
       "stream": "stdout",
       "text": [
        "\r",
        "Abbruch in 722"
       ]
      },
      {
       "output_type": "stream",
       "stream": "stdout",
       "text": [
        "\r",
        "Abbruch in 721"
       ]
      },
      {
       "output_type": "stream",
       "stream": "stdout",
       "text": [
        "\r",
        "Abbruch in 720"
       ]
      },
      {
       "output_type": "stream",
       "stream": "stdout",
       "text": [
        "\r",
        "Abbruch in 719"
       ]
      },
      {
       "output_type": "stream",
       "stream": "stdout",
       "text": [
        "\r",
        "Abbruch in 718"
       ]
      },
      {
       "output_type": "stream",
       "stream": "stdout",
       "text": [
        "\r",
        "Abbruch in 717"
       ]
      },
      {
       "output_type": "stream",
       "stream": "stdout",
       "text": [
        "\r",
        "Abbruch in 716"
       ]
      },
      {
       "output_type": "stream",
       "stream": "stdout",
       "text": [
        "\r",
        "Abbruch in 715"
       ]
      },
      {
       "output_type": "stream",
       "stream": "stdout",
       "text": [
        "\r",
        "Abbruch in 714"
       ]
      },
      {
       "output_type": "stream",
       "stream": "stdout",
       "text": [
        "\r",
        "Abbruch in 713"
       ]
      },
      {
       "output_type": "stream",
       "stream": "stdout",
       "text": [
        "\r",
        "Abbruch in 712"
       ]
      },
      {
       "output_type": "stream",
       "stream": "stdout",
       "text": [
        "\r",
        "Abbruch in 711"
       ]
      },
      {
       "output_type": "stream",
       "stream": "stdout",
       "text": [
        "\r",
        "Abbruch in 710"
       ]
      },
      {
       "output_type": "stream",
       "stream": "stdout",
       "text": [
        "\r",
        "Abbruch in 709"
       ]
      },
      {
       "output_type": "stream",
       "stream": "stdout",
       "text": [
        "\r",
        "Abbruch in 708"
       ]
      },
      {
       "output_type": "stream",
       "stream": "stdout",
       "text": [
        "\r",
        "Abbruch in 707"
       ]
      },
      {
       "output_type": "stream",
       "stream": "stdout",
       "text": [
        "\r",
        "Abbruch in 706"
       ]
      },
      {
       "output_type": "stream",
       "stream": "stdout",
       "text": [
        "\r",
        "Abbruch in 705"
       ]
      },
      {
       "output_type": "stream",
       "stream": "stdout",
       "text": [
        "\r",
        "Abbruch in 704"
       ]
      },
      {
       "output_type": "stream",
       "stream": "stdout",
       "text": [
        "\r",
        "Abbruch in 703"
       ]
      },
      {
       "output_type": "stream",
       "stream": "stdout",
       "text": [
        "\r",
        "Abbruch in 702"
       ]
      },
      {
       "output_type": "stream",
       "stream": "stdout",
       "text": [
        "\r",
        "Abbruch in 701"
       ]
      },
      {
       "output_type": "stream",
       "stream": "stdout",
       "text": [
        "\r",
        "Abbruch in 700"
       ]
      },
      {
       "output_type": "stream",
       "stream": "stdout",
       "text": [
        "\r",
        "Abbruch in 699"
       ]
      },
      {
       "output_type": "stream",
       "stream": "stdout",
       "text": [
        "\r",
        "Abbruch in 698"
       ]
      },
      {
       "output_type": "stream",
       "stream": "stdout",
       "text": [
        "\r",
        "Abbruch in 697"
       ]
      },
      {
       "output_type": "stream",
       "stream": "stdout",
       "text": [
        "\r",
        "Abbruch in 696"
       ]
      },
      {
       "output_type": "stream",
       "stream": "stdout",
       "text": [
        "\r",
        "Abbruch in 695"
       ]
      },
      {
       "output_type": "stream",
       "stream": "stdout",
       "text": [
        "\r",
        "Abbruch in 694"
       ]
      },
      {
       "output_type": "stream",
       "stream": "stdout",
       "text": [
        "\r",
        "Abbruch in 693"
       ]
      },
      {
       "output_type": "stream",
       "stream": "stdout",
       "text": [
        "\r",
        "Abbruch in 692"
       ]
      },
      {
       "output_type": "stream",
       "stream": "stdout",
       "text": [
        "\r",
        "Abbruch in 691"
       ]
      },
      {
       "output_type": "stream",
       "stream": "stdout",
       "text": [
        "\r",
        "Abbruch in 690"
       ]
      },
      {
       "output_type": "stream",
       "stream": "stdout",
       "text": [
        "\r",
        "Abbruch in 689"
       ]
      },
      {
       "output_type": "stream",
       "stream": "stdout",
       "text": [
        "\r",
        "Abbruch in 688"
       ]
      },
      {
       "output_type": "stream",
       "stream": "stdout",
       "text": [
        "\r",
        "Abbruch in 687"
       ]
      },
      {
       "output_type": "stream",
       "stream": "stdout",
       "text": [
        "\r",
        "Abbruch in 686"
       ]
      },
      {
       "output_type": "stream",
       "stream": "stdout",
       "text": [
        "\r",
        "Abbruch in 685"
       ]
      },
      {
       "output_type": "stream",
       "stream": "stdout",
       "text": [
        "\r",
        "Abbruch in 684"
       ]
      },
      {
       "output_type": "stream",
       "stream": "stdout",
       "text": [
        "\r",
        "Abbruch in 683"
       ]
      },
      {
       "output_type": "stream",
       "stream": "stdout",
       "text": [
        "\r",
        "Abbruch in 682"
       ]
      },
      {
       "output_type": "stream",
       "stream": "stdout",
       "text": [
        "\r",
        "Abbruch in 681"
       ]
      },
      {
       "output_type": "stream",
       "stream": "stdout",
       "text": [
        "\r",
        "Abbruch in 680"
       ]
      },
      {
       "output_type": "stream",
       "stream": "stdout",
       "text": [
        "\r",
        "Abbruch in 679"
       ]
      },
      {
       "output_type": "stream",
       "stream": "stdout",
       "text": [
        "\r",
        "Abbruch in 678"
       ]
      },
      {
       "output_type": "stream",
       "stream": "stdout",
       "text": [
        "\r",
        "Abbruch in 677"
       ]
      },
      {
       "output_type": "stream",
       "stream": "stdout",
       "text": [
        "\r",
        "Abbruch in 676"
       ]
      },
      {
       "output_type": "stream",
       "stream": "stdout",
       "text": [
        "\r",
        "Abbruch in 675"
       ]
      },
      {
       "output_type": "stream",
       "stream": "stdout",
       "text": [
        "\r",
        "Abbruch in 674"
       ]
      },
      {
       "output_type": "stream",
       "stream": "stdout",
       "text": [
        "\r",
        "Abbruch in 673"
       ]
      },
      {
       "output_type": "stream",
       "stream": "stdout",
       "text": [
        "\r",
        "Abbruch in 672"
       ]
      },
      {
       "output_type": "stream",
       "stream": "stdout",
       "text": [
        "\r",
        "Abbruch in 671"
       ]
      },
      {
       "output_type": "stream",
       "stream": "stdout",
       "text": [
        "\r",
        "Abbruch in 670"
       ]
      },
      {
       "output_type": "stream",
       "stream": "stdout",
       "text": [
        "\r",
        "Abbruch in 669"
       ]
      },
      {
       "output_type": "stream",
       "stream": "stdout",
       "text": [
        "\r",
        "Abbruch in 668"
       ]
      },
      {
       "output_type": "stream",
       "stream": "stdout",
       "text": [
        "\r",
        "Abbruch in 667"
       ]
      },
      {
       "output_type": "stream",
       "stream": "stdout",
       "text": [
        "\r",
        "Abbruch in 666"
       ]
      },
      {
       "output_type": "stream",
       "stream": "stdout",
       "text": [
        "\r",
        "Abbruch in 665"
       ]
      },
      {
       "output_type": "stream",
       "stream": "stdout",
       "text": [
        "\r",
        "Abbruch in 664"
       ]
      },
      {
       "output_type": "stream",
       "stream": "stdout",
       "text": [
        "\r",
        "Abbruch in 663"
       ]
      },
      {
       "output_type": "stream",
       "stream": "stdout",
       "text": [
        "\r",
        "Abbruch in 662"
       ]
      },
      {
       "output_type": "stream",
       "stream": "stdout",
       "text": [
        "\r",
        "Abbruch in 661"
       ]
      },
      {
       "output_type": "stream",
       "stream": "stdout",
       "text": [
        "\r",
        "Abbruch in 660"
       ]
      },
      {
       "output_type": "stream",
       "stream": "stdout",
       "text": [
        "\r",
        "Abbruch in 659"
       ]
      },
      {
       "output_type": "stream",
       "stream": "stdout",
       "text": [
        "\r",
        "Abbruch in 658"
       ]
      },
      {
       "output_type": "stream",
       "stream": "stdout",
       "text": [
        "\r",
        "Abbruch in 657"
       ]
      },
      {
       "output_type": "stream",
       "stream": "stdout",
       "text": [
        "\r",
        "Abbruch in 656"
       ]
      },
      {
       "output_type": "stream",
       "stream": "stdout",
       "text": [
        "\r",
        "Abbruch in 655"
       ]
      },
      {
       "output_type": "stream",
       "stream": "stdout",
       "text": [
        "\r",
        "Abbruch in 654"
       ]
      },
      {
       "output_type": "stream",
       "stream": "stdout",
       "text": [
        "\r",
        "Abbruch in 653"
       ]
      },
      {
       "output_type": "stream",
       "stream": "stdout",
       "text": [
        "\r",
        "Abbruch in 652"
       ]
      },
      {
       "output_type": "stream",
       "stream": "stdout",
       "text": [
        "\r",
        "Abbruch in 651"
       ]
      },
      {
       "output_type": "stream",
       "stream": "stdout",
       "text": [
        "\r",
        "Abbruch in 650"
       ]
      },
      {
       "output_type": "stream",
       "stream": "stdout",
       "text": [
        "\r",
        "Abbruch in 649"
       ]
      },
      {
       "output_type": "stream",
       "stream": "stdout",
       "text": [
        "\r",
        "Abbruch in 648"
       ]
      },
      {
       "output_type": "stream",
       "stream": "stdout",
       "text": [
        "\r",
        "Abbruch in 647"
       ]
      },
      {
       "output_type": "stream",
       "stream": "stdout",
       "text": [
        "\r",
        "Abbruch in 646"
       ]
      },
      {
       "output_type": "stream",
       "stream": "stdout",
       "text": [
        "\r",
        "Abbruch in 645"
       ]
      },
      {
       "output_type": "stream",
       "stream": "stdout",
       "text": [
        "\r",
        "Abbruch in 644"
       ]
      },
      {
       "output_type": "stream",
       "stream": "stdout",
       "text": [
        "\r",
        "Abbruch in 643"
       ]
      },
      {
       "output_type": "stream",
       "stream": "stdout",
       "text": [
        "\r",
        "Abbruch in 642"
       ]
      },
      {
       "output_type": "stream",
       "stream": "stdout",
       "text": [
        "\r",
        "Abbruch in 641"
       ]
      },
      {
       "output_type": "stream",
       "stream": "stdout",
       "text": [
        "\r",
        "Abbruch in 640"
       ]
      },
      {
       "output_type": "stream",
       "stream": "stdout",
       "text": [
        "\r",
        "Abbruch in 639"
       ]
      },
      {
       "output_type": "stream",
       "stream": "stdout",
       "text": [
        "\r",
        "Abbruch in 638"
       ]
      },
      {
       "output_type": "stream",
       "stream": "stdout",
       "text": [
        "\r",
        "Abbruch in 637"
       ]
      },
      {
       "output_type": "stream",
       "stream": "stdout",
       "text": [
        "\r",
        "Abbruch in 636"
       ]
      },
      {
       "output_type": "stream",
       "stream": "stdout",
       "text": [
        "\r",
        "Abbruch in 635"
       ]
      },
      {
       "output_type": "stream",
       "stream": "stdout",
       "text": [
        "\r",
        "Abbruch in 634"
       ]
      },
      {
       "output_type": "stream",
       "stream": "stdout",
       "text": [
        "\r",
        "Abbruch in 633"
       ]
      },
      {
       "output_type": "stream",
       "stream": "stdout",
       "text": [
        "\r",
        "Abbruch in 632"
       ]
      },
      {
       "output_type": "stream",
       "stream": "stdout",
       "text": [
        "\r",
        "Abbruch in 631"
       ]
      },
      {
       "output_type": "stream",
       "stream": "stdout",
       "text": [
        "\r",
        "Abbruch in 630"
       ]
      },
      {
       "output_type": "stream",
       "stream": "stdout",
       "text": [
        "\r",
        "Abbruch in 629"
       ]
      },
      {
       "output_type": "stream",
       "stream": "stdout",
       "text": [
        "\r",
        "Abbruch in 628"
       ]
      },
      {
       "output_type": "stream",
       "stream": "stdout",
       "text": [
        "\r",
        "Abbruch in 627"
       ]
      },
      {
       "output_type": "stream",
       "stream": "stdout",
       "text": [
        "\r",
        "Abbruch in 626"
       ]
      },
      {
       "output_type": "stream",
       "stream": "stdout",
       "text": [
        "\r",
        "Abbruch in 625"
       ]
      },
      {
       "output_type": "stream",
       "stream": "stdout",
       "text": [
        "\r",
        "Abbruch in 624"
       ]
      },
      {
       "output_type": "stream",
       "stream": "stdout",
       "text": [
        "\r",
        "Abbruch in 623"
       ]
      },
      {
       "output_type": "stream",
       "stream": "stdout",
       "text": [
        "\r",
        "Abbruch in 622"
       ]
      },
      {
       "output_type": "stream",
       "stream": "stdout",
       "text": [
        "\r",
        "Abbruch in 621"
       ]
      },
      {
       "output_type": "stream",
       "stream": "stdout",
       "text": [
        "\r",
        "Abbruch in 620"
       ]
      },
      {
       "output_type": "stream",
       "stream": "stdout",
       "text": [
        "\r",
        "Abbruch in 619"
       ]
      },
      {
       "output_type": "stream",
       "stream": "stdout",
       "text": [
        "\r",
        "Abbruch in 618"
       ]
      },
      {
       "output_type": "stream",
       "stream": "stdout",
       "text": [
        "\r",
        "Abbruch in 617"
       ]
      },
      {
       "output_type": "stream",
       "stream": "stdout",
       "text": [
        "\r",
        "Abbruch in 616"
       ]
      },
      {
       "output_type": "stream",
       "stream": "stdout",
       "text": [
        "\r",
        "Abbruch in 615"
       ]
      },
      {
       "output_type": "stream",
       "stream": "stdout",
       "text": [
        "\r",
        "Abbruch in 614"
       ]
      },
      {
       "output_type": "stream",
       "stream": "stdout",
       "text": [
        "\r",
        "Abbruch in 613"
       ]
      },
      {
       "output_type": "stream",
       "stream": "stdout",
       "text": [
        "\r",
        "Abbruch in 612"
       ]
      },
      {
       "output_type": "stream",
       "stream": "stdout",
       "text": [
        "\r",
        "Abbruch in 611"
       ]
      },
      {
       "output_type": "stream",
       "stream": "stdout",
       "text": [
        "\r",
        "Abbruch in 610"
       ]
      },
      {
       "output_type": "stream",
       "stream": "stdout",
       "text": [
        "\r",
        "Abbruch in 609"
       ]
      },
      {
       "output_type": "stream",
       "stream": "stdout",
       "text": [
        "\r",
        "Abbruch in 608"
       ]
      },
      {
       "output_type": "stream",
       "stream": "stdout",
       "text": [
        "\r",
        "Abbruch in 607"
       ]
      },
      {
       "output_type": "stream",
       "stream": "stdout",
       "text": [
        "\r",
        "Abbruch in 606"
       ]
      },
      {
       "output_type": "stream",
       "stream": "stdout",
       "text": [
        "\r",
        "Abbruch in 605"
       ]
      },
      {
       "output_type": "stream",
       "stream": "stdout",
       "text": [
        "\r",
        "Abbruch in 604"
       ]
      },
      {
       "output_type": "stream",
       "stream": "stdout",
       "text": [
        "\r",
        "Abbruch in 603"
       ]
      },
      {
       "output_type": "stream",
       "stream": "stdout",
       "text": [
        "\r",
        "Abbruch in 602"
       ]
      },
      {
       "output_type": "stream",
       "stream": "stdout",
       "text": [
        "\r",
        "Abbruch in 601"
       ]
      },
      {
       "output_type": "stream",
       "stream": "stdout",
       "text": [
        "\r",
        "Abbruch in 600"
       ]
      },
      {
       "output_type": "stream",
       "stream": "stdout",
       "text": [
        "\r",
        "Abbruch in 599"
       ]
      },
      {
       "output_type": "stream",
       "stream": "stdout",
       "text": [
        "\r",
        "Abbruch in 598"
       ]
      },
      {
       "output_type": "stream",
       "stream": "stdout",
       "text": [
        "\r",
        "Abbruch in 597"
       ]
      },
      {
       "output_type": "stream",
       "stream": "stdout",
       "text": [
        "\r",
        "Abbruch in 596"
       ]
      },
      {
       "output_type": "stream",
       "stream": "stdout",
       "text": [
        "\r",
        "Abbruch in 595"
       ]
      },
      {
       "output_type": "stream",
       "stream": "stdout",
       "text": [
        "\r",
        "Abbruch in 594"
       ]
      },
      {
       "output_type": "stream",
       "stream": "stdout",
       "text": [
        "\r",
        "Abbruch in 593"
       ]
      },
      {
       "output_type": "stream",
       "stream": "stdout",
       "text": [
        "\r",
        "Abbruch in 592"
       ]
      },
      {
       "output_type": "stream",
       "stream": "stdout",
       "text": [
        "\r",
        "Abbruch in 591"
       ]
      },
      {
       "output_type": "stream",
       "stream": "stdout",
       "text": [
        "\r",
        "Abbruch in 590"
       ]
      },
      {
       "output_type": "stream",
       "stream": "stdout",
       "text": [
        "\r",
        "Abbruch in 589"
       ]
      },
      {
       "output_type": "stream",
       "stream": "stdout",
       "text": [
        "\r",
        "Abbruch in 588"
       ]
      },
      {
       "output_type": "stream",
       "stream": "stdout",
       "text": [
        "\r",
        "Abbruch in 587"
       ]
      },
      {
       "output_type": "stream",
       "stream": "stdout",
       "text": [
        "\r",
        "Abbruch in 586"
       ]
      },
      {
       "output_type": "stream",
       "stream": "stdout",
       "text": [
        "\r",
        "Abbruch in 585"
       ]
      },
      {
       "output_type": "stream",
       "stream": "stdout",
       "text": [
        "\r",
        "Abbruch in 584"
       ]
      },
      {
       "output_type": "stream",
       "stream": "stdout",
       "text": [
        "\r",
        "Abbruch in 583"
       ]
      },
      {
       "output_type": "stream",
       "stream": "stdout",
       "text": [
        "\r",
        "Abbruch in 582"
       ]
      },
      {
       "output_type": "stream",
       "stream": "stdout",
       "text": [
        "\r",
        "Abbruch in 581"
       ]
      },
      {
       "output_type": "stream",
       "stream": "stdout",
       "text": [
        "\r",
        "Abbruch in 580"
       ]
      },
      {
       "output_type": "stream",
       "stream": "stdout",
       "text": [
        "\r",
        "Abbruch in 579"
       ]
      },
      {
       "output_type": "stream",
       "stream": "stdout",
       "text": [
        "\r",
        "Abbruch in 578"
       ]
      },
      {
       "output_type": "stream",
       "stream": "stdout",
       "text": [
        "\r",
        "Abbruch in 577"
       ]
      },
      {
       "output_type": "stream",
       "stream": "stdout",
       "text": [
        "\r",
        "Abbruch in 576"
       ]
      },
      {
       "output_type": "stream",
       "stream": "stdout",
       "text": [
        "\r",
        "Abbruch in 575"
       ]
      },
      {
       "output_type": "stream",
       "stream": "stdout",
       "text": [
        "\r",
        "Abbruch in 574"
       ]
      },
      {
       "output_type": "stream",
       "stream": "stdout",
       "text": [
        "\r",
        "Abbruch in 573"
       ]
      },
      {
       "output_type": "stream",
       "stream": "stdout",
       "text": [
        "\r",
        "Abbruch in 572"
       ]
      },
      {
       "output_type": "stream",
       "stream": "stdout",
       "text": [
        "\r",
        "Abbruch in 571"
       ]
      },
      {
       "output_type": "stream",
       "stream": "stdout",
       "text": [
        "\r",
        "Abbruch in 570"
       ]
      },
      {
       "output_type": "stream",
       "stream": "stdout",
       "text": [
        "\r",
        "Abbruch in 569"
       ]
      },
      {
       "output_type": "stream",
       "stream": "stdout",
       "text": [
        "\r",
        "Abbruch in 568"
       ]
      },
      {
       "output_type": "stream",
       "stream": "stdout",
       "text": [
        "\r",
        "Abbruch in 567"
       ]
      },
      {
       "output_type": "stream",
       "stream": "stdout",
       "text": [
        "\r",
        "Abbruch in 566"
       ]
      },
      {
       "output_type": "stream",
       "stream": "stdout",
       "text": [
        "\r",
        "Abbruch in 565"
       ]
      },
      {
       "output_type": "stream",
       "stream": "stdout",
       "text": [
        "\r",
        "Abbruch in 564"
       ]
      },
      {
       "output_type": "stream",
       "stream": "stdout",
       "text": [
        "\r",
        "Abbruch in 563"
       ]
      },
      {
       "output_type": "stream",
       "stream": "stdout",
       "text": [
        "\r",
        "Abbruch in 562"
       ]
      },
      {
       "output_type": "stream",
       "stream": "stdout",
       "text": [
        "\r",
        "Abbruch in 561"
       ]
      },
      {
       "output_type": "stream",
       "stream": "stdout",
       "text": [
        "\r",
        "Abbruch in 560"
       ]
      },
      {
       "output_type": "stream",
       "stream": "stdout",
       "text": [
        "\r",
        "Abbruch in 559"
       ]
      },
      {
       "output_type": "stream",
       "stream": "stdout",
       "text": [
        "\r",
        "Abbruch in 558"
       ]
      },
      {
       "output_type": "stream",
       "stream": "stdout",
       "text": [
        "\r",
        "Abbruch in 557"
       ]
      },
      {
       "output_type": "stream",
       "stream": "stdout",
       "text": [
        "\r",
        "Abbruch in 556"
       ]
      },
      {
       "output_type": "stream",
       "stream": "stdout",
       "text": [
        "\r",
        "Abbruch in 555"
       ]
      },
      {
       "output_type": "stream",
       "stream": "stdout",
       "text": [
        "\r",
        "Abbruch in 554"
       ]
      },
      {
       "output_type": "stream",
       "stream": "stdout",
       "text": [
        "\r",
        "Abbruch in 553"
       ]
      },
      {
       "output_type": "stream",
       "stream": "stdout",
       "text": [
        "\r",
        "Abbruch in 552"
       ]
      },
      {
       "output_type": "stream",
       "stream": "stdout",
       "text": [
        "\r",
        "Abbruch in 551"
       ]
      },
      {
       "output_type": "stream",
       "stream": "stdout",
       "text": [
        "\r",
        "Abbruch in 550"
       ]
      },
      {
       "output_type": "stream",
       "stream": "stdout",
       "text": [
        "\r",
        "Abbruch in 549"
       ]
      },
      {
       "output_type": "stream",
       "stream": "stdout",
       "text": [
        "\r",
        "Abbruch in 548"
       ]
      },
      {
       "output_type": "stream",
       "stream": "stdout",
       "text": [
        "\r",
        "Abbruch in 547"
       ]
      },
      {
       "output_type": "stream",
       "stream": "stdout",
       "text": [
        "\r",
        "Abbruch in 546"
       ]
      },
      {
       "output_type": "stream",
       "stream": "stdout",
       "text": [
        "\r",
        "Abbruch in 545"
       ]
      },
      {
       "output_type": "stream",
       "stream": "stdout",
       "text": [
        "\r",
        "Abbruch in 544"
       ]
      },
      {
       "output_type": "stream",
       "stream": "stdout",
       "text": [
        "\r",
        "Abbruch in 543"
       ]
      },
      {
       "output_type": "stream",
       "stream": "stdout",
       "text": [
        "\r",
        "Abbruch in 542"
       ]
      },
      {
       "output_type": "stream",
       "stream": "stdout",
       "text": [
        "\r",
        "Abbruch in 541"
       ]
      },
      {
       "output_type": "stream",
       "stream": "stdout",
       "text": [
        "\r",
        "Abbruch in 540"
       ]
      },
      {
       "output_type": "stream",
       "stream": "stdout",
       "text": [
        "\r",
        "Abbruch in 539"
       ]
      },
      {
       "output_type": "stream",
       "stream": "stdout",
       "text": [
        "\r",
        "Abbruch in 538"
       ]
      },
      {
       "output_type": "stream",
       "stream": "stdout",
       "text": [
        "\r",
        "Abbruch in 537"
       ]
      },
      {
       "output_type": "stream",
       "stream": "stdout",
       "text": [
        "\r",
        "Abbruch in 536"
       ]
      },
      {
       "output_type": "stream",
       "stream": "stdout",
       "text": [
        "\r",
        "Abbruch in 535"
       ]
      },
      {
       "output_type": "stream",
       "stream": "stdout",
       "text": [
        "\r",
        "Abbruch in 534"
       ]
      },
      {
       "output_type": "stream",
       "stream": "stdout",
       "text": [
        "\r",
        "Abbruch in 533"
       ]
      },
      {
       "output_type": "stream",
       "stream": "stdout",
       "text": [
        "\r",
        "Abbruch in 532"
       ]
      },
      {
       "output_type": "stream",
       "stream": "stdout",
       "text": [
        "\r",
        "Abbruch in 531"
       ]
      },
      {
       "output_type": "stream",
       "stream": "stdout",
       "text": [
        "\r",
        "Abbruch in 530"
       ]
      },
      {
       "output_type": "stream",
       "stream": "stdout",
       "text": [
        "\r",
        "Abbruch in 529"
       ]
      },
      {
       "output_type": "stream",
       "stream": "stdout",
       "text": [
        "\r",
        "Abbruch in 528"
       ]
      },
      {
       "output_type": "stream",
       "stream": "stdout",
       "text": [
        "\r",
        "Abbruch in 527"
       ]
      },
      {
       "output_type": "stream",
       "stream": "stdout",
       "text": [
        "\r",
        "Abbruch in 526"
       ]
      },
      {
       "output_type": "stream",
       "stream": "stdout",
       "text": [
        "\r",
        "Abbruch in 525"
       ]
      },
      {
       "output_type": "stream",
       "stream": "stdout",
       "text": [
        "\r",
        "Abbruch in 524"
       ]
      },
      {
       "output_type": "stream",
       "stream": "stdout",
       "text": [
        "\r",
        "Abbruch in 523"
       ]
      },
      {
       "output_type": "stream",
       "stream": "stdout",
       "text": [
        "\r",
        "Abbruch in 522"
       ]
      },
      {
       "output_type": "stream",
       "stream": "stdout",
       "text": [
        "\r",
        "Abbruch in 521"
       ]
      },
      {
       "output_type": "stream",
       "stream": "stdout",
       "text": [
        "\r",
        "Abbruch in 520"
       ]
      },
      {
       "output_type": "stream",
       "stream": "stdout",
       "text": [
        "\r",
        "Abbruch in 519"
       ]
      },
      {
       "output_type": "stream",
       "stream": "stdout",
       "text": [
        "\r",
        "Abbruch in 518"
       ]
      },
      {
       "output_type": "stream",
       "stream": "stdout",
       "text": [
        "\r",
        "Abbruch in 517"
       ]
      },
      {
       "output_type": "stream",
       "stream": "stdout",
       "text": [
        "\r",
        "Abbruch in 516"
       ]
      },
      {
       "output_type": "stream",
       "stream": "stdout",
       "text": [
        "\r",
        "Abbruch in 515"
       ]
      },
      {
       "output_type": "stream",
       "stream": "stdout",
       "text": [
        "\r",
        "Abbruch in 514"
       ]
      },
      {
       "output_type": "stream",
       "stream": "stdout",
       "text": [
        "\r",
        "Abbruch in 513"
       ]
      },
      {
       "output_type": "stream",
       "stream": "stdout",
       "text": [
        "\r",
        "Abbruch in 512"
       ]
      },
      {
       "output_type": "stream",
       "stream": "stdout",
       "text": [
        "\r",
        "Abbruch in 511"
       ]
      },
      {
       "output_type": "stream",
       "stream": "stdout",
       "text": [
        "\r",
        "Abbruch in 510"
       ]
      },
      {
       "output_type": "stream",
       "stream": "stdout",
       "text": [
        "\r",
        "Abbruch in 509"
       ]
      },
      {
       "output_type": "stream",
       "stream": "stdout",
       "text": [
        "\r",
        "Abbruch in 508"
       ]
      },
      {
       "output_type": "stream",
       "stream": "stdout",
       "text": [
        "\r",
        "Abbruch in 507"
       ]
      },
      {
       "output_type": "stream",
       "stream": "stdout",
       "text": [
        "\r",
        "Abbruch in 506"
       ]
      },
      {
       "output_type": "stream",
       "stream": "stdout",
       "text": [
        "\r",
        "Abbruch in 505"
       ]
      },
      {
       "output_type": "stream",
       "stream": "stdout",
       "text": [
        "\r",
        "Abbruch in 504"
       ]
      },
      {
       "output_type": "stream",
       "stream": "stdout",
       "text": [
        "\r",
        "Abbruch in 503"
       ]
      },
      {
       "output_type": "stream",
       "stream": "stdout",
       "text": [
        "\r",
        "Abbruch in 502"
       ]
      },
      {
       "output_type": "stream",
       "stream": "stdout",
       "text": [
        "\r",
        "Abbruch in 501"
       ]
      },
      {
       "output_type": "stream",
       "stream": "stdout",
       "text": [
        "\r",
        "Abbruch in 500"
       ]
      },
      {
       "output_type": "stream",
       "stream": "stdout",
       "text": [
        "\r",
        "Abbruch in 499"
       ]
      },
      {
       "output_type": "stream",
       "stream": "stdout",
       "text": [
        "\r",
        "Abbruch in 498"
       ]
      },
      {
       "output_type": "stream",
       "stream": "stdout",
       "text": [
        "\r",
        "Abbruch in 497"
       ]
      },
      {
       "output_type": "stream",
       "stream": "stdout",
       "text": [
        "\r",
        "Abbruch in 496"
       ]
      },
      {
       "output_type": "stream",
       "stream": "stdout",
       "text": [
        "\r",
        "Abbruch in 495"
       ]
      },
      {
       "output_type": "stream",
       "stream": "stdout",
       "text": [
        "\r",
        "Abbruch in 494"
       ]
      },
      {
       "output_type": "stream",
       "stream": "stdout",
       "text": [
        "\r",
        "Abbruch in 493"
       ]
      },
      {
       "output_type": "stream",
       "stream": "stdout",
       "text": [
        "\r",
        "Abbruch in 492"
       ]
      },
      {
       "output_type": "stream",
       "stream": "stdout",
       "text": [
        "\r",
        "Abbruch in 491"
       ]
      },
      {
       "output_type": "stream",
       "stream": "stdout",
       "text": [
        "\r",
        "Abbruch in 490"
       ]
      },
      {
       "output_type": "stream",
       "stream": "stdout",
       "text": [
        "\r",
        "Abbruch in 489"
       ]
      },
      {
       "output_type": "stream",
       "stream": "stdout",
       "text": [
        "\r",
        "Abbruch in 488"
       ]
      },
      {
       "output_type": "stream",
       "stream": "stdout",
       "text": [
        "\r",
        "Abbruch in 487"
       ]
      },
      {
       "output_type": "stream",
       "stream": "stdout",
       "text": [
        "\r",
        "Abbruch in 486"
       ]
      },
      {
       "output_type": "stream",
       "stream": "stdout",
       "text": [
        "\r",
        "Abbruch in 485"
       ]
      },
      {
       "output_type": "stream",
       "stream": "stdout",
       "text": [
        "\r",
        "Abbruch in 484"
       ]
      },
      {
       "output_type": "stream",
       "stream": "stdout",
       "text": [
        "\r",
        "Abbruch in 483"
       ]
      },
      {
       "output_type": "stream",
       "stream": "stdout",
       "text": [
        "\r",
        "Abbruch in 482"
       ]
      },
      {
       "output_type": "stream",
       "stream": "stdout",
       "text": [
        "\r",
        "Abbruch in 481"
       ]
      },
      {
       "output_type": "stream",
       "stream": "stdout",
       "text": [
        "\r",
        "Abbruch in 480"
       ]
      },
      {
       "output_type": "stream",
       "stream": "stdout",
       "text": [
        "\r",
        "Abbruch in 479"
       ]
      },
      {
       "output_type": "stream",
       "stream": "stdout",
       "text": [
        "\r",
        "Abbruch in 478"
       ]
      },
      {
       "output_type": "stream",
       "stream": "stdout",
       "text": [
        "\r",
        "Abbruch in 477"
       ]
      },
      {
       "output_type": "stream",
       "stream": "stdout",
       "text": [
        "\r",
        "Abbruch in 476"
       ]
      },
      {
       "output_type": "stream",
       "stream": "stdout",
       "text": [
        "\r",
        "Abbruch in 475"
       ]
      },
      {
       "output_type": "stream",
       "stream": "stdout",
       "text": [
        "\r",
        "Abbruch in 474"
       ]
      },
      {
       "output_type": "stream",
       "stream": "stdout",
       "text": [
        "\r",
        "Abbruch in 473"
       ]
      },
      {
       "output_type": "stream",
       "stream": "stdout",
       "text": [
        "\r",
        "Abbruch in 472"
       ]
      },
      {
       "output_type": "stream",
       "stream": "stdout",
       "text": [
        "\r",
        "Abbruch in 471"
       ]
      },
      {
       "output_type": "stream",
       "stream": "stdout",
       "text": [
        "\r",
        "Abbruch in 470"
       ]
      },
      {
       "output_type": "stream",
       "stream": "stdout",
       "text": [
        "\r",
        "Abbruch in 469"
       ]
      },
      {
       "output_type": "stream",
       "stream": "stdout",
       "text": [
        "\r",
        "Abbruch in 468"
       ]
      },
      {
       "output_type": "stream",
       "stream": "stdout",
       "text": [
        "\r",
        "Abbruch in 467"
       ]
      },
      {
       "output_type": "stream",
       "stream": "stdout",
       "text": [
        "\r",
        "Abbruch in 466"
       ]
      },
      {
       "output_type": "stream",
       "stream": "stdout",
       "text": [
        "\r",
        "Abbruch in 465"
       ]
      },
      {
       "output_type": "stream",
       "stream": "stdout",
       "text": [
        "\r",
        "Abbruch in 464"
       ]
      },
      {
       "output_type": "stream",
       "stream": "stdout",
       "text": [
        "\r",
        "Abbruch in 463"
       ]
      },
      {
       "output_type": "stream",
       "stream": "stdout",
       "text": [
        "\r",
        "Abbruch in 462"
       ]
      },
      {
       "output_type": "stream",
       "stream": "stdout",
       "text": [
        "\r",
        "Abbruch in 461"
       ]
      },
      {
       "output_type": "stream",
       "stream": "stdout",
       "text": [
        "\r",
        "Abbruch in 460"
       ]
      },
      {
       "output_type": "stream",
       "stream": "stdout",
       "text": [
        "\r",
        "Abbruch in 459"
       ]
      },
      {
       "output_type": "stream",
       "stream": "stdout",
       "text": [
        "\r",
        "Abbruch in 458"
       ]
      },
      {
       "output_type": "stream",
       "stream": "stdout",
       "text": [
        "\r",
        "Abbruch in 457"
       ]
      },
      {
       "output_type": "stream",
       "stream": "stdout",
       "text": [
        "\r",
        "Abbruch in 456"
       ]
      },
      {
       "output_type": "stream",
       "stream": "stdout",
       "text": [
        "\r",
        "Abbruch in 455"
       ]
      },
      {
       "output_type": "stream",
       "stream": "stdout",
       "text": [
        "\r",
        "Abbruch in 454"
       ]
      },
      {
       "output_type": "stream",
       "stream": "stdout",
       "text": [
        "\r",
        "Abbruch in 453"
       ]
      },
      {
       "output_type": "stream",
       "stream": "stdout",
       "text": [
        "\r",
        "Abbruch in 452"
       ]
      },
      {
       "output_type": "stream",
       "stream": "stdout",
       "text": [
        "\r",
        "Abbruch in 451"
       ]
      },
      {
       "output_type": "stream",
       "stream": "stdout",
       "text": [
        "\r",
        "Abbruch in 450"
       ]
      },
      {
       "output_type": "stream",
       "stream": "stdout",
       "text": [
        "\r",
        "Abbruch in 449"
       ]
      },
      {
       "output_type": "stream",
       "stream": "stdout",
       "text": [
        "\r",
        "Abbruch in 448"
       ]
      },
      {
       "output_type": "stream",
       "stream": "stdout",
       "text": [
        "\r",
        "Abbruch in 447"
       ]
      },
      {
       "output_type": "stream",
       "stream": "stdout",
       "text": [
        "\r",
        "Abbruch in 446"
       ]
      },
      {
       "output_type": "stream",
       "stream": "stdout",
       "text": [
        "\r",
        "Abbruch in 445"
       ]
      },
      {
       "output_type": "stream",
       "stream": "stdout",
       "text": [
        "\r",
        "Abbruch in 444"
       ]
      },
      {
       "output_type": "stream",
       "stream": "stdout",
       "text": [
        "\r",
        "Abbruch in 443"
       ]
      },
      {
       "output_type": "stream",
       "stream": "stdout",
       "text": [
        "\r",
        "Abbruch in 442"
       ]
      },
      {
       "output_type": "stream",
       "stream": "stdout",
       "text": [
        "\r",
        "Abbruch in 441"
       ]
      },
      {
       "output_type": "stream",
       "stream": "stdout",
       "text": [
        "\r",
        "Abbruch in 440"
       ]
      },
      {
       "output_type": "stream",
       "stream": "stdout",
       "text": [
        "\r",
        "Abbruch in 439"
       ]
      },
      {
       "output_type": "stream",
       "stream": "stdout",
       "text": [
        "\r",
        "Abbruch in 438"
       ]
      },
      {
       "output_type": "stream",
       "stream": "stdout",
       "text": [
        "\r",
        "Abbruch in 437"
       ]
      },
      {
       "output_type": "stream",
       "stream": "stdout",
       "text": [
        "\r",
        "Abbruch in 436"
       ]
      },
      {
       "output_type": "stream",
       "stream": "stdout",
       "text": [
        "\r",
        "Abbruch in 435"
       ]
      },
      {
       "output_type": "stream",
       "stream": "stdout",
       "text": [
        "\r",
        "Abbruch in 434"
       ]
      },
      {
       "output_type": "stream",
       "stream": "stdout",
       "text": [
        "\r",
        "Abbruch in 433"
       ]
      },
      {
       "output_type": "stream",
       "stream": "stdout",
       "text": [
        "\r",
        "Abbruch in 432"
       ]
      },
      {
       "output_type": "stream",
       "stream": "stdout",
       "text": [
        "\r",
        "Abbruch in 431"
       ]
      },
      {
       "output_type": "stream",
       "stream": "stdout",
       "text": [
        "\r",
        "Abbruch in 430"
       ]
      },
      {
       "output_type": "stream",
       "stream": "stdout",
       "text": [
        "\r",
        "Abbruch in 429"
       ]
      },
      {
       "output_type": "stream",
       "stream": "stdout",
       "text": [
        "\r",
        "Abbruch in 428"
       ]
      },
      {
       "output_type": "stream",
       "stream": "stdout",
       "text": [
        "\r",
        "Abbruch in 427"
       ]
      },
      {
       "output_type": "stream",
       "stream": "stdout",
       "text": [
        "\r",
        "Abbruch in 426"
       ]
      },
      {
       "output_type": "stream",
       "stream": "stdout",
       "text": [
        "\r",
        "Abbruch in 425"
       ]
      },
      {
       "output_type": "stream",
       "stream": "stdout",
       "text": [
        "\r",
        "Abbruch in 424"
       ]
      },
      {
       "output_type": "stream",
       "stream": "stdout",
       "text": [
        "\r",
        "Abbruch in 423"
       ]
      },
      {
       "output_type": "stream",
       "stream": "stdout",
       "text": [
        "\r",
        "Abbruch in 422"
       ]
      },
      {
       "output_type": "stream",
       "stream": "stdout",
       "text": [
        "\r",
        "Abbruch in 421"
       ]
      },
      {
       "output_type": "stream",
       "stream": "stdout",
       "text": [
        "\r",
        "Abbruch in 420"
       ]
      },
      {
       "output_type": "stream",
       "stream": "stdout",
       "text": [
        "\r",
        "Abbruch in 419"
       ]
      },
      {
       "output_type": "stream",
       "stream": "stdout",
       "text": [
        "\r",
        "Abbruch in 418"
       ]
      },
      {
       "output_type": "stream",
       "stream": "stdout",
       "text": [
        "\r",
        "Abbruch in 417"
       ]
      },
      {
       "output_type": "stream",
       "stream": "stdout",
       "text": [
        "\r",
        "Abbruch in 416"
       ]
      },
      {
       "output_type": "stream",
       "stream": "stdout",
       "text": [
        "\r",
        "Abbruch in 415"
       ]
      },
      {
       "output_type": "stream",
       "stream": "stdout",
       "text": [
        "\r",
        "Abbruch in 414"
       ]
      },
      {
       "output_type": "stream",
       "stream": "stdout",
       "text": [
        "\r",
        "Abbruch in 413"
       ]
      },
      {
       "output_type": "stream",
       "stream": "stdout",
       "text": [
        "\r",
        "Abbruch in 412"
       ]
      },
      {
       "output_type": "stream",
       "stream": "stdout",
       "text": [
        "\r",
        "Abbruch in 411"
       ]
      },
      {
       "output_type": "stream",
       "stream": "stdout",
       "text": [
        "\r",
        "Abbruch in 410"
       ]
      },
      {
       "output_type": "stream",
       "stream": "stdout",
       "text": [
        "\r",
        "Abbruch in 409"
       ]
      },
      {
       "output_type": "stream",
       "stream": "stdout",
       "text": [
        "\r",
        "Abbruch in 408"
       ]
      },
      {
       "output_type": "stream",
       "stream": "stdout",
       "text": [
        "\r",
        "Abbruch in 407"
       ]
      },
      {
       "output_type": "stream",
       "stream": "stdout",
       "text": [
        "\r",
        "Abbruch in 406"
       ]
      },
      {
       "output_type": "stream",
       "stream": "stdout",
       "text": [
        "\r",
        "Abbruch in 405"
       ]
      },
      {
       "output_type": "stream",
       "stream": "stdout",
       "text": [
        "\r",
        "Abbruch in 404"
       ]
      },
      {
       "output_type": "stream",
       "stream": "stdout",
       "text": [
        "\r",
        "Abbruch in 403"
       ]
      },
      {
       "output_type": "stream",
       "stream": "stdout",
       "text": [
        "\r",
        "Abbruch in 402"
       ]
      },
      {
       "output_type": "stream",
       "stream": "stdout",
       "text": [
        "\r",
        "Abbruch in 401"
       ]
      },
      {
       "output_type": "stream",
       "stream": "stdout",
       "text": [
        "\r",
        "Abbruch in 400"
       ]
      },
      {
       "output_type": "stream",
       "stream": "stdout",
       "text": [
        "\r",
        "Abbruch in 399"
       ]
      },
      {
       "output_type": "stream",
       "stream": "stdout",
       "text": [
        "\r",
        "Abbruch in 398"
       ]
      },
      {
       "output_type": "stream",
       "stream": "stdout",
       "text": [
        "\r",
        "Abbruch in 397"
       ]
      },
      {
       "output_type": "stream",
       "stream": "stdout",
       "text": [
        "\r",
        "Abbruch in 396"
       ]
      },
      {
       "output_type": "stream",
       "stream": "stdout",
       "text": [
        "\r",
        "Abbruch in 395"
       ]
      },
      {
       "output_type": "stream",
       "stream": "stdout",
       "text": [
        "\r",
        "Abbruch in 394"
       ]
      },
      {
       "output_type": "stream",
       "stream": "stdout",
       "text": [
        "\r",
        "Abbruch in 393"
       ]
      },
      {
       "output_type": "stream",
       "stream": "stdout",
       "text": [
        "\r",
        "Abbruch in 392"
       ]
      },
      {
       "output_type": "stream",
       "stream": "stdout",
       "text": [
        "\r",
        "Abbruch in 391"
       ]
      },
      {
       "output_type": "stream",
       "stream": "stdout",
       "text": [
        "\r",
        "Abbruch in 390"
       ]
      },
      {
       "output_type": "stream",
       "stream": "stdout",
       "text": [
        "\r",
        "Abbruch in 389"
       ]
      },
      {
       "output_type": "stream",
       "stream": "stdout",
       "text": [
        "\r",
        "Abbruch in 388"
       ]
      },
      {
       "output_type": "stream",
       "stream": "stdout",
       "text": [
        "\r",
        "Abbruch in 387"
       ]
      },
      {
       "output_type": "stream",
       "stream": "stdout",
       "text": [
        "\r",
        "Abbruch in 386"
       ]
      },
      {
       "output_type": "stream",
       "stream": "stdout",
       "text": [
        "\r",
        "Abbruch in 385"
       ]
      },
      {
       "output_type": "stream",
       "stream": "stdout",
       "text": [
        "\r",
        "Abbruch in 384"
       ]
      },
      {
       "output_type": "stream",
       "stream": "stdout",
       "text": [
        "\r",
        "Abbruch in 383"
       ]
      },
      {
       "output_type": "stream",
       "stream": "stdout",
       "text": [
        "\r",
        "Abbruch in 382"
       ]
      },
      {
       "output_type": "stream",
       "stream": "stdout",
       "text": [
        "\r",
        "Abbruch in 381"
       ]
      },
      {
       "output_type": "stream",
       "stream": "stdout",
       "text": [
        "\r",
        "Abbruch in 380"
       ]
      },
      {
       "output_type": "stream",
       "stream": "stdout",
       "text": [
        "\r",
        "Abbruch in 379"
       ]
      },
      {
       "output_type": "stream",
       "stream": "stdout",
       "text": [
        "\r",
        "Abbruch in 378"
       ]
      },
      {
       "output_type": "stream",
       "stream": "stdout",
       "text": [
        "\r",
        "Abbruch in 377"
       ]
      },
      {
       "output_type": "stream",
       "stream": "stdout",
       "text": [
        "\r",
        "Abbruch in 376"
       ]
      },
      {
       "output_type": "stream",
       "stream": "stdout",
       "text": [
        "\r",
        "Abbruch in 375"
       ]
      },
      {
       "output_type": "stream",
       "stream": "stdout",
       "text": [
        "\r",
        "Abbruch in 374"
       ]
      },
      {
       "output_type": "stream",
       "stream": "stdout",
       "text": [
        "\r",
        "Abbruch in 373"
       ]
      },
      {
       "output_type": "stream",
       "stream": "stdout",
       "text": [
        "\r",
        "Abbruch in 372"
       ]
      },
      {
       "output_type": "stream",
       "stream": "stdout",
       "text": [
        "\r",
        "Abbruch in 371"
       ]
      },
      {
       "output_type": "stream",
       "stream": "stdout",
       "text": [
        "\r",
        "Abbruch in 370"
       ]
      },
      {
       "output_type": "stream",
       "stream": "stdout",
       "text": [
        "\r",
        "Abbruch in 369"
       ]
      },
      {
       "output_type": "stream",
       "stream": "stdout",
       "text": [
        "\r",
        "Abbruch in 368"
       ]
      },
      {
       "output_type": "stream",
       "stream": "stdout",
       "text": [
        "\r",
        "Abbruch in 367"
       ]
      },
      {
       "output_type": "stream",
       "stream": "stdout",
       "text": [
        "\r",
        "Abbruch in 366"
       ]
      },
      {
       "output_type": "stream",
       "stream": "stdout",
       "text": [
        "\r",
        "Abbruch in 365"
       ]
      },
      {
       "output_type": "stream",
       "stream": "stdout",
       "text": [
        "\r",
        "Abbruch in 364"
       ]
      },
      {
       "output_type": "stream",
       "stream": "stdout",
       "text": [
        "\r",
        "Abbruch in 363"
       ]
      },
      {
       "output_type": "stream",
       "stream": "stdout",
       "text": [
        "\r",
        "Abbruch in 362"
       ]
      },
      {
       "output_type": "stream",
       "stream": "stdout",
       "text": [
        "\r",
        "Abbruch in 361"
       ]
      },
      {
       "output_type": "stream",
       "stream": "stdout",
       "text": [
        "\r",
        "Abbruch in 360"
       ]
      },
      {
       "output_type": "stream",
       "stream": "stdout",
       "text": [
        "\r",
        "Abbruch in 359"
       ]
      },
      {
       "output_type": "stream",
       "stream": "stdout",
       "text": [
        "\r",
        "Abbruch in 358"
       ]
      },
      {
       "output_type": "stream",
       "stream": "stdout",
       "text": [
        "\r",
        "Abbruch in 357"
       ]
      },
      {
       "output_type": "stream",
       "stream": "stdout",
       "text": [
        "\r",
        "Abbruch in 356"
       ]
      },
      {
       "output_type": "stream",
       "stream": "stdout",
       "text": [
        "\r",
        "Abbruch in 355"
       ]
      },
      {
       "output_type": "stream",
       "stream": "stdout",
       "text": [
        "\r",
        "Abbruch in 354"
       ]
      },
      {
       "output_type": "stream",
       "stream": "stdout",
       "text": [
        "\r",
        "Abbruch in 353"
       ]
      },
      {
       "output_type": "stream",
       "stream": "stdout",
       "text": [
        "\r",
        "Abbruch in 352"
       ]
      },
      {
       "output_type": "stream",
       "stream": "stdout",
       "text": [
        "\r",
        "Abbruch in 351"
       ]
      },
      {
       "output_type": "stream",
       "stream": "stdout",
       "text": [
        "\r",
        "Abbruch in 350"
       ]
      },
      {
       "output_type": "stream",
       "stream": "stdout",
       "text": [
        "\r",
        "Abbruch in 349"
       ]
      },
      {
       "output_type": "stream",
       "stream": "stdout",
       "text": [
        "\r",
        "Abbruch in 348"
       ]
      },
      {
       "output_type": "stream",
       "stream": "stdout",
       "text": [
        "\r",
        "Abbruch in 347"
       ]
      },
      {
       "output_type": "stream",
       "stream": "stdout",
       "text": [
        "\r",
        "Abbruch in 346"
       ]
      },
      {
       "output_type": "stream",
       "stream": "stdout",
       "text": [
        "\r",
        "Abbruch in 345"
       ]
      },
      {
       "output_type": "stream",
       "stream": "stdout",
       "text": [
        "\r",
        "Abbruch in 344"
       ]
      },
      {
       "output_type": "stream",
       "stream": "stdout",
       "text": [
        "\r",
        "Abbruch in 343"
       ]
      },
      {
       "output_type": "stream",
       "stream": "stdout",
       "text": [
        "\r",
        "Abbruch in 342"
       ]
      },
      {
       "output_type": "stream",
       "stream": "stdout",
       "text": [
        "\r",
        "Abbruch in 341"
       ]
      },
      {
       "output_type": "stream",
       "stream": "stdout",
       "text": [
        "\r",
        "Abbruch in 340"
       ]
      },
      {
       "output_type": "stream",
       "stream": "stdout",
       "text": [
        "\r",
        "Abbruch in 339"
       ]
      },
      {
       "output_type": "stream",
       "stream": "stdout",
       "text": [
        "\r",
        "Abbruch in 338"
       ]
      },
      {
       "output_type": "stream",
       "stream": "stdout",
       "text": [
        "\r",
        "Abbruch in 337"
       ]
      },
      {
       "output_type": "stream",
       "stream": "stdout",
       "text": [
        "\r",
        "Abbruch in 336"
       ]
      },
      {
       "output_type": "stream",
       "stream": "stdout",
       "text": [
        "\r",
        "Abbruch in 335"
       ]
      },
      {
       "output_type": "stream",
       "stream": "stdout",
       "text": [
        "\r",
        "Abbruch in 334"
       ]
      },
      {
       "output_type": "stream",
       "stream": "stdout",
       "text": [
        "\r",
        "Abbruch in 333"
       ]
      },
      {
       "output_type": "stream",
       "stream": "stdout",
       "text": [
        "\r",
        "Abbruch in 332"
       ]
      },
      {
       "output_type": "stream",
       "stream": "stdout",
       "text": [
        "\r",
        "Abbruch in 331"
       ]
      },
      {
       "output_type": "stream",
       "stream": "stdout",
       "text": [
        "\r",
        "Abbruch in 330"
       ]
      },
      {
       "output_type": "stream",
       "stream": "stdout",
       "text": [
        "\r",
        "Abbruch in 329"
       ]
      },
      {
       "output_type": "stream",
       "stream": "stdout",
       "text": [
        "\r",
        "Abbruch in 328"
       ]
      },
      {
       "output_type": "stream",
       "stream": "stdout",
       "text": [
        "\r",
        "Abbruch in 327"
       ]
      },
      {
       "output_type": "stream",
       "stream": "stdout",
       "text": [
        "\r",
        "Abbruch in 326"
       ]
      },
      {
       "output_type": "stream",
       "stream": "stdout",
       "text": [
        "\r",
        "Abbruch in 325"
       ]
      },
      {
       "output_type": "stream",
       "stream": "stdout",
       "text": [
        "\r",
        "Abbruch in 324"
       ]
      },
      {
       "output_type": "stream",
       "stream": "stdout",
       "text": [
        "\r",
        "Abbruch in 323"
       ]
      },
      {
       "output_type": "stream",
       "stream": "stdout",
       "text": [
        "\r",
        "Abbruch in 322"
       ]
      },
      {
       "output_type": "stream",
       "stream": "stdout",
       "text": [
        "\r",
        "Abbruch in 321"
       ]
      },
      {
       "output_type": "stream",
       "stream": "stdout",
       "text": [
        "\r",
        "Abbruch in 320"
       ]
      },
      {
       "output_type": "stream",
       "stream": "stdout",
       "text": [
        "\r",
        "Abbruch in 319"
       ]
      },
      {
       "output_type": "stream",
       "stream": "stdout",
       "text": [
        "\r",
        "Abbruch in 318"
       ]
      },
      {
       "output_type": "stream",
       "stream": "stdout",
       "text": [
        "\r",
        "Abbruch in 317"
       ]
      },
      {
       "output_type": "stream",
       "stream": "stdout",
       "text": [
        "\r",
        "Abbruch in 316"
       ]
      },
      {
       "output_type": "stream",
       "stream": "stdout",
       "text": [
        "\r",
        "Abbruch in 315"
       ]
      },
      {
       "output_type": "stream",
       "stream": "stdout",
       "text": [
        "\r",
        "Abbruch in 314"
       ]
      },
      {
       "output_type": "stream",
       "stream": "stdout",
       "text": [
        "\r",
        "Abbruch in 313"
       ]
      },
      {
       "output_type": "stream",
       "stream": "stdout",
       "text": [
        "\r",
        "Abbruch in 312"
       ]
      },
      {
       "output_type": "stream",
       "stream": "stdout",
       "text": [
        "\r",
        "Abbruch in 311"
       ]
      },
      {
       "output_type": "stream",
       "stream": "stdout",
       "text": [
        "\r",
        "Abbruch in 310"
       ]
      },
      {
       "output_type": "stream",
       "stream": "stdout",
       "text": [
        "\r",
        "Abbruch in 309"
       ]
      },
      {
       "output_type": "stream",
       "stream": "stdout",
       "text": [
        "\r",
        "Abbruch in 308"
       ]
      },
      {
       "output_type": "stream",
       "stream": "stdout",
       "text": [
        "\r",
        "Abbruch in 307"
       ]
      },
      {
       "output_type": "stream",
       "stream": "stdout",
       "text": [
        "\r",
        "Abbruch in 306"
       ]
      },
      {
       "output_type": "stream",
       "stream": "stdout",
       "text": [
        "\r",
        "Abbruch in 305"
       ]
      },
      {
       "output_type": "stream",
       "stream": "stdout",
       "text": [
        "\r",
        "Abbruch in 304"
       ]
      },
      {
       "output_type": "stream",
       "stream": "stdout",
       "text": [
        "\r",
        "Abbruch in 303"
       ]
      },
      {
       "output_type": "stream",
       "stream": "stdout",
       "text": [
        "\r",
        "Abbruch in 302"
       ]
      },
      {
       "output_type": "stream",
       "stream": "stdout",
       "text": [
        "\r",
        "Abbruch in 301"
       ]
      },
      {
       "output_type": "stream",
       "stream": "stdout",
       "text": [
        "\r",
        "Abbruch in 300"
       ]
      },
      {
       "output_type": "stream",
       "stream": "stdout",
       "text": [
        "\r",
        "Abbruch in 299"
       ]
      },
      {
       "output_type": "stream",
       "stream": "stdout",
       "text": [
        "\r",
        "Abbruch in 298"
       ]
      },
      {
       "output_type": "stream",
       "stream": "stdout",
       "text": [
        "\r",
        "Abbruch in 297"
       ]
      },
      {
       "output_type": "stream",
       "stream": "stdout",
       "text": [
        "\r",
        "Abbruch in 296"
       ]
      },
      {
       "output_type": "stream",
       "stream": "stdout",
       "text": [
        "\r",
        "Abbruch in 295"
       ]
      },
      {
       "output_type": "stream",
       "stream": "stdout",
       "text": [
        "\r",
        "Abbruch in 294"
       ]
      },
      {
       "output_type": "stream",
       "stream": "stdout",
       "text": [
        "\r",
        "Abbruch in 293"
       ]
      },
      {
       "output_type": "stream",
       "stream": "stdout",
       "text": [
        "\r",
        "Abbruch in 292"
       ]
      },
      {
       "output_type": "stream",
       "stream": "stdout",
       "text": [
        "\r",
        "Abbruch in 291"
       ]
      },
      {
       "output_type": "stream",
       "stream": "stdout",
       "text": [
        "\r",
        "Abbruch in 290"
       ]
      },
      {
       "output_type": "stream",
       "stream": "stdout",
       "text": [
        "\r",
        "Abbruch in 289"
       ]
      },
      {
       "output_type": "stream",
       "stream": "stdout",
       "text": [
        "\r",
        "Abbruch in 288"
       ]
      },
      {
       "output_type": "stream",
       "stream": "stdout",
       "text": [
        "\r",
        "Abbruch in 287"
       ]
      },
      {
       "output_type": "stream",
       "stream": "stdout",
       "text": [
        "\r",
        "Abbruch in 286"
       ]
      },
      {
       "output_type": "stream",
       "stream": "stdout",
       "text": [
        "\r",
        "Abbruch in 285"
       ]
      },
      {
       "output_type": "stream",
       "stream": "stdout",
       "text": [
        "\r",
        "Abbruch in 284"
       ]
      },
      {
       "output_type": "stream",
       "stream": "stdout",
       "text": [
        "\r",
        "Abbruch in 283"
       ]
      },
      {
       "output_type": "stream",
       "stream": "stdout",
       "text": [
        "\r",
        "Abbruch in 282"
       ]
      },
      {
       "output_type": "stream",
       "stream": "stdout",
       "text": [
        "\r",
        "Abbruch in 281"
       ]
      },
      {
       "output_type": "stream",
       "stream": "stdout",
       "text": [
        "\r",
        "Abbruch in 280"
       ]
      },
      {
       "output_type": "stream",
       "stream": "stdout",
       "text": [
        "\r",
        "Abbruch in 279"
       ]
      },
      {
       "output_type": "stream",
       "stream": "stdout",
       "text": [
        "\r",
        "Abbruch in 278"
       ]
      },
      {
       "output_type": "stream",
       "stream": "stdout",
       "text": [
        "\r",
        "Abbruch in 277"
       ]
      },
      {
       "output_type": "stream",
       "stream": "stdout",
       "text": [
        "\r",
        "Abbruch in 276"
       ]
      },
      {
       "output_type": "stream",
       "stream": "stdout",
       "text": [
        "\r",
        "Abbruch in 275"
       ]
      },
      {
       "output_type": "stream",
       "stream": "stdout",
       "text": [
        "\r",
        "Abbruch in 274"
       ]
      },
      {
       "output_type": "stream",
       "stream": "stdout",
       "text": [
        "\r",
        "Abbruch in 273"
       ]
      },
      {
       "output_type": "stream",
       "stream": "stdout",
       "text": [
        "\r",
        "Abbruch in 272"
       ]
      },
      {
       "output_type": "stream",
       "stream": "stdout",
       "text": [
        "\r",
        "Abbruch in 271"
       ]
      },
      {
       "output_type": "stream",
       "stream": "stdout",
       "text": [
        "\r",
        "Abbruch in 270"
       ]
      },
      {
       "output_type": "stream",
       "stream": "stdout",
       "text": [
        "\r",
        "Abbruch in 269"
       ]
      },
      {
       "output_type": "stream",
       "stream": "stdout",
       "text": [
        "\r",
        "Abbruch in 268"
       ]
      },
      {
       "output_type": "stream",
       "stream": "stdout",
       "text": [
        "\r",
        "Abbruch in 267"
       ]
      },
      {
       "output_type": "stream",
       "stream": "stdout",
       "text": [
        "\r",
        "Abbruch in 266"
       ]
      },
      {
       "output_type": "stream",
       "stream": "stdout",
       "text": [
        "\r",
        "Abbruch in 265"
       ]
      },
      {
       "output_type": "stream",
       "stream": "stdout",
       "text": [
        "\r",
        "Abbruch in 264"
       ]
      },
      {
       "output_type": "stream",
       "stream": "stdout",
       "text": [
        "\r",
        "Abbruch in 263"
       ]
      },
      {
       "output_type": "stream",
       "stream": "stdout",
       "text": [
        "\r",
        "Abbruch in 262"
       ]
      },
      {
       "output_type": "stream",
       "stream": "stdout",
       "text": [
        "\r",
        "Abbruch in 261"
       ]
      },
      {
       "output_type": "stream",
       "stream": "stdout",
       "text": [
        "\r",
        "Abbruch in 260"
       ]
      },
      {
       "output_type": "stream",
       "stream": "stdout",
       "text": [
        "\r",
        "Abbruch in 259"
       ]
      },
      {
       "output_type": "stream",
       "stream": "stdout",
       "text": [
        "\r",
        "Abbruch in 258"
       ]
      },
      {
       "output_type": "stream",
       "stream": "stdout",
       "text": [
        "\r",
        "Abbruch in 257"
       ]
      },
      {
       "output_type": "stream",
       "stream": "stdout",
       "text": [
        "\r",
        "Abbruch in 256"
       ]
      },
      {
       "output_type": "stream",
       "stream": "stdout",
       "text": [
        "\r",
        "Abbruch in 255"
       ]
      },
      {
       "output_type": "stream",
       "stream": "stdout",
       "text": [
        "\r",
        "Abbruch in 254"
       ]
      },
      {
       "output_type": "stream",
       "stream": "stdout",
       "text": [
        "\r",
        "Abbruch in 253"
       ]
      },
      {
       "output_type": "stream",
       "stream": "stdout",
       "text": [
        "\r",
        "Abbruch in 252"
       ]
      },
      {
       "output_type": "stream",
       "stream": "stdout",
       "text": [
        "\r",
        "Abbruch in 251"
       ]
      },
      {
       "output_type": "stream",
       "stream": "stdout",
       "text": [
        "\r",
        "Abbruch in 250"
       ]
      },
      {
       "output_type": "stream",
       "stream": "stdout",
       "text": [
        "\r",
        "Abbruch in 249"
       ]
      },
      {
       "output_type": "stream",
       "stream": "stdout",
       "text": [
        "\r",
        "Abbruch in 248"
       ]
      },
      {
       "output_type": "stream",
       "stream": "stdout",
       "text": [
        "\r",
        "Abbruch in 247"
       ]
      },
      {
       "output_type": "stream",
       "stream": "stdout",
       "text": [
        "\r",
        "Abbruch in 246"
       ]
      },
      {
       "output_type": "stream",
       "stream": "stdout",
       "text": [
        "\r",
        "Abbruch in 245"
       ]
      },
      {
       "output_type": "stream",
       "stream": "stdout",
       "text": [
        "\r",
        "Abbruch in 244"
       ]
      },
      {
       "output_type": "stream",
       "stream": "stdout",
       "text": [
        "\r",
        "Abbruch in 243"
       ]
      },
      {
       "output_type": "stream",
       "stream": "stdout",
       "text": [
        "\r",
        "Abbruch in 242"
       ]
      },
      {
       "output_type": "stream",
       "stream": "stdout",
       "text": [
        "\r",
        "Abbruch in 241"
       ]
      },
      {
       "output_type": "stream",
       "stream": "stdout",
       "text": [
        "\r",
        "Abbruch in 240"
       ]
      },
      {
       "output_type": "stream",
       "stream": "stdout",
       "text": [
        "\r",
        "Abbruch in 239"
       ]
      },
      {
       "output_type": "stream",
       "stream": "stdout",
       "text": [
        "\r",
        "Abbruch in 238"
       ]
      },
      {
       "output_type": "stream",
       "stream": "stdout",
       "text": [
        "\r",
        "Abbruch in 237"
       ]
      },
      {
       "output_type": "stream",
       "stream": "stdout",
       "text": [
        "\r",
        "Abbruch in 236"
       ]
      },
      {
       "output_type": "stream",
       "stream": "stdout",
       "text": [
        "\r",
        "Abbruch in 235"
       ]
      },
      {
       "output_type": "stream",
       "stream": "stdout",
       "text": [
        "\r",
        "Abbruch in 234"
       ]
      },
      {
       "output_type": "stream",
       "stream": "stdout",
       "text": [
        "\r",
        "Abbruch in 233"
       ]
      },
      {
       "output_type": "stream",
       "stream": "stdout",
       "text": [
        "\r",
        "Abbruch in 232"
       ]
      },
      {
       "output_type": "stream",
       "stream": "stdout",
       "text": [
        "\r",
        "Abbruch in 231"
       ]
      },
      {
       "output_type": "stream",
       "stream": "stdout",
       "text": [
        "\r",
        "Abbruch in 230"
       ]
      },
      {
       "output_type": "stream",
       "stream": "stdout",
       "text": [
        "\r",
        "Abbruch in 229"
       ]
      },
      {
       "output_type": "stream",
       "stream": "stdout",
       "text": [
        "\r",
        "Abbruch in 228"
       ]
      },
      {
       "output_type": "stream",
       "stream": "stdout",
       "text": [
        "\r",
        "Abbruch in 227"
       ]
      },
      {
       "output_type": "stream",
       "stream": "stdout",
       "text": [
        "\r",
        "Abbruch in 226"
       ]
      },
      {
       "output_type": "stream",
       "stream": "stdout",
       "text": [
        "\r",
        "Abbruch in 225"
       ]
      },
      {
       "output_type": "stream",
       "stream": "stdout",
       "text": [
        "\r",
        "Abbruch in 224"
       ]
      },
      {
       "output_type": "stream",
       "stream": "stdout",
       "text": [
        "\r",
        "Abbruch in 223"
       ]
      },
      {
       "output_type": "stream",
       "stream": "stdout",
       "text": [
        "\r",
        "Abbruch in 222"
       ]
      },
      {
       "output_type": "stream",
       "stream": "stdout",
       "text": [
        "\r",
        "Abbruch in 221"
       ]
      },
      {
       "output_type": "stream",
       "stream": "stdout",
       "text": [
        "\r",
        "Abbruch in 220"
       ]
      },
      {
       "output_type": "stream",
       "stream": "stdout",
       "text": [
        "\r",
        "Abbruch in 219"
       ]
      },
      {
       "output_type": "stream",
       "stream": "stdout",
       "text": [
        "\r",
        "Abbruch in 218"
       ]
      },
      {
       "output_type": "stream",
       "stream": "stdout",
       "text": [
        "\r",
        "Abbruch in 217"
       ]
      },
      {
       "output_type": "stream",
       "stream": "stdout",
       "text": [
        "\r",
        "Abbruch in 216"
       ]
      },
      {
       "output_type": "stream",
       "stream": "stdout",
       "text": [
        "\r",
        "Abbruch in 215"
       ]
      },
      {
       "output_type": "stream",
       "stream": "stdout",
       "text": [
        "\r",
        "Abbruch in 214"
       ]
      },
      {
       "output_type": "stream",
       "stream": "stdout",
       "text": [
        "\r",
        "Abbruch in 213"
       ]
      },
      {
       "output_type": "stream",
       "stream": "stdout",
       "text": [
        "\r",
        "Abbruch in 212"
       ]
      },
      {
       "output_type": "stream",
       "stream": "stdout",
       "text": [
        "\r",
        "Abbruch in 211"
       ]
      },
      {
       "output_type": "stream",
       "stream": "stdout",
       "text": [
        "\r",
        "Abbruch in 210"
       ]
      },
      {
       "output_type": "stream",
       "stream": "stdout",
       "text": [
        "\r",
        "Abbruch in 209"
       ]
      },
      {
       "output_type": "stream",
       "stream": "stdout",
       "text": [
        "\r",
        "Abbruch in 208"
       ]
      },
      {
       "output_type": "stream",
       "stream": "stdout",
       "text": [
        "\r",
        "Abbruch in 207"
       ]
      },
      {
       "output_type": "stream",
       "stream": "stdout",
       "text": [
        "\r",
        "Abbruch in 206"
       ]
      },
      {
       "output_type": "stream",
       "stream": "stdout",
       "text": [
        "\r",
        "Abbruch in 205"
       ]
      },
      {
       "output_type": "stream",
       "stream": "stdout",
       "text": [
        "\r",
        "Abbruch in 204"
       ]
      },
      {
       "output_type": "stream",
       "stream": "stdout",
       "text": [
        "\r",
        "Abbruch in 203"
       ]
      },
      {
       "output_type": "stream",
       "stream": "stdout",
       "text": [
        "\r",
        "Abbruch in 202"
       ]
      },
      {
       "output_type": "stream",
       "stream": "stdout",
       "text": [
        "\r",
        "Abbruch in 201"
       ]
      },
      {
       "output_type": "stream",
       "stream": "stdout",
       "text": [
        "\r",
        "Abbruch in 200"
       ]
      },
      {
       "output_type": "stream",
       "stream": "stdout",
       "text": [
        "\r",
        "Abbruch in 199"
       ]
      },
      {
       "output_type": "stream",
       "stream": "stdout",
       "text": [
        "\r",
        "Abbruch in 198"
       ]
      },
      {
       "output_type": "stream",
       "stream": "stdout",
       "text": [
        "\r",
        "Abbruch in 197"
       ]
      },
      {
       "output_type": "stream",
       "stream": "stdout",
       "text": [
        "\r",
        "Abbruch in 196"
       ]
      },
      {
       "output_type": "stream",
       "stream": "stdout",
       "text": [
        "\r",
        "Abbruch in 195"
       ]
      },
      {
       "output_type": "stream",
       "stream": "stdout",
       "text": [
        "\r",
        "Abbruch in 194"
       ]
      },
      {
       "output_type": "stream",
       "stream": "stdout",
       "text": [
        "\r",
        "Abbruch in 193"
       ]
      },
      {
       "output_type": "stream",
       "stream": "stdout",
       "text": [
        "\r",
        "Abbruch in 192"
       ]
      },
      {
       "output_type": "stream",
       "stream": "stdout",
       "text": [
        "\r",
        "Abbruch in 191"
       ]
      },
      {
       "output_type": "stream",
       "stream": "stdout",
       "text": [
        "\r",
        "Abbruch in 190"
       ]
      },
      {
       "output_type": "stream",
       "stream": "stdout",
       "text": [
        "\r",
        "Abbruch in 189"
       ]
      },
      {
       "output_type": "stream",
       "stream": "stdout",
       "text": [
        "\r",
        "Abbruch in 188"
       ]
      },
      {
       "output_type": "stream",
       "stream": "stdout",
       "text": [
        "\r",
        "Abbruch in 187"
       ]
      },
      {
       "output_type": "stream",
       "stream": "stdout",
       "text": [
        "\r",
        "Abbruch in 186"
       ]
      },
      {
       "output_type": "stream",
       "stream": "stdout",
       "text": [
        "\r",
        "Abbruch in 185"
       ]
      },
      {
       "output_type": "stream",
       "stream": "stdout",
       "text": [
        "\r",
        "Abbruch in 184"
       ]
      },
      {
       "output_type": "stream",
       "stream": "stdout",
       "text": [
        "\r",
        "Abbruch in 183"
       ]
      },
      {
       "output_type": "stream",
       "stream": "stdout",
       "text": [
        "\r",
        "Abbruch in 182"
       ]
      },
      {
       "output_type": "stream",
       "stream": "stdout",
       "text": [
        "\r",
        "Abbruch in 181"
       ]
      },
      {
       "output_type": "stream",
       "stream": "stdout",
       "text": [
        "\r",
        "Abbruch in 180"
       ]
      },
      {
       "output_type": "stream",
       "stream": "stdout",
       "text": [
        "\r",
        "Abbruch in 179"
       ]
      },
      {
       "output_type": "stream",
       "stream": "stdout",
       "text": [
        "\r",
        "Abbruch in 178"
       ]
      },
      {
       "output_type": "stream",
       "stream": "stdout",
       "text": [
        "\r",
        "Abbruch in 177"
       ]
      },
      {
       "output_type": "stream",
       "stream": "stdout",
       "text": [
        "\r",
        "Abbruch in 176"
       ]
      },
      {
       "output_type": "stream",
       "stream": "stdout",
       "text": [
        "\r",
        "Abbruch in 175"
       ]
      },
      {
       "output_type": "stream",
       "stream": "stdout",
       "text": [
        "\r",
        "Abbruch in 174"
       ]
      },
      {
       "output_type": "stream",
       "stream": "stdout",
       "text": [
        "\r",
        "Abbruch in 173"
       ]
      },
      {
       "output_type": "stream",
       "stream": "stdout",
       "text": [
        "\r",
        "Abbruch in 172"
       ]
      },
      {
       "output_type": "stream",
       "stream": "stdout",
       "text": [
        "\r",
        "Abbruch in 171"
       ]
      },
      {
       "output_type": "stream",
       "stream": "stdout",
       "text": [
        "\r",
        "Abbruch in 170"
       ]
      },
      {
       "output_type": "stream",
       "stream": "stdout",
       "text": [
        "\r",
        "Abbruch in 169"
       ]
      },
      {
       "output_type": "stream",
       "stream": "stdout",
       "text": [
        "\r",
        "Abbruch in 168"
       ]
      },
      {
       "output_type": "stream",
       "stream": "stdout",
       "text": [
        "\r",
        "Abbruch in 167"
       ]
      },
      {
       "output_type": "stream",
       "stream": "stdout",
       "text": [
        "\r",
        "Abbruch in 166"
       ]
      },
      {
       "output_type": "stream",
       "stream": "stdout",
       "text": [
        "\r",
        "Abbruch in 165"
       ]
      },
      {
       "output_type": "stream",
       "stream": "stdout",
       "text": [
        "\r",
        "Abbruch in 164"
       ]
      },
      {
       "output_type": "stream",
       "stream": "stdout",
       "text": [
        "\r",
        "Abbruch in 163"
       ]
      },
      {
       "output_type": "stream",
       "stream": "stdout",
       "text": [
        "\r",
        "Abbruch in 162"
       ]
      },
      {
       "output_type": "stream",
       "stream": "stdout",
       "text": [
        "\r",
        "Abbruch in 161"
       ]
      },
      {
       "output_type": "stream",
       "stream": "stdout",
       "text": [
        "\r",
        "Abbruch in 160"
       ]
      },
      {
       "output_type": "stream",
       "stream": "stdout",
       "text": [
        "\r",
        "Abbruch in 159"
       ]
      },
      {
       "output_type": "stream",
       "stream": "stdout",
       "text": [
        "\r",
        "Abbruch in 158"
       ]
      },
      {
       "output_type": "stream",
       "stream": "stdout",
       "text": [
        "\r",
        "Abbruch in 157"
       ]
      },
      {
       "output_type": "stream",
       "stream": "stdout",
       "text": [
        "\r",
        "Abbruch in 156"
       ]
      },
      {
       "output_type": "stream",
       "stream": "stdout",
       "text": [
        "\r",
        "Abbruch in 155"
       ]
      },
      {
       "output_type": "stream",
       "stream": "stdout",
       "text": [
        "\r",
        "Abbruch in 154"
       ]
      },
      {
       "output_type": "stream",
       "stream": "stdout",
       "text": [
        "\r",
        "Abbruch in 153"
       ]
      },
      {
       "output_type": "stream",
       "stream": "stdout",
       "text": [
        "\r",
        "Abbruch in 152"
       ]
      },
      {
       "output_type": "stream",
       "stream": "stdout",
       "text": [
        "\r",
        "Abbruch in 151"
       ]
      },
      {
       "output_type": "stream",
       "stream": "stdout",
       "text": [
        "\r",
        "Abbruch in 150"
       ]
      },
      {
       "output_type": "stream",
       "stream": "stdout",
       "text": [
        "\r",
        "Abbruch in 149"
       ]
      },
      {
       "output_type": "stream",
       "stream": "stdout",
       "text": [
        "\r",
        "Abbruch in 148"
       ]
      },
      {
       "output_type": "stream",
       "stream": "stdout",
       "text": [
        "\r",
        "Abbruch in 147"
       ]
      },
      {
       "output_type": "stream",
       "stream": "stdout",
       "text": [
        "\r",
        "Abbruch in 146"
       ]
      },
      {
       "output_type": "stream",
       "stream": "stdout",
       "text": [
        "\r",
        "Abbruch in 145"
       ]
      },
      {
       "output_type": "stream",
       "stream": "stdout",
       "text": [
        "\r",
        "Abbruch in 144"
       ]
      },
      {
       "output_type": "stream",
       "stream": "stdout",
       "text": [
        "\r",
        "Abbruch in 143"
       ]
      },
      {
       "output_type": "stream",
       "stream": "stdout",
       "text": [
        "\r",
        "Abbruch in 142"
       ]
      },
      {
       "output_type": "stream",
       "stream": "stdout",
       "text": [
        "\r",
        "Abbruch in 141"
       ]
      },
      {
       "output_type": "stream",
       "stream": "stdout",
       "text": [
        "\r",
        "Abbruch in 140"
       ]
      },
      {
       "output_type": "stream",
       "stream": "stdout",
       "text": [
        "\r",
        "Abbruch in 139"
       ]
      },
      {
       "output_type": "stream",
       "stream": "stdout",
       "text": [
        "\r",
        "Abbruch in 138"
       ]
      },
      {
       "output_type": "stream",
       "stream": "stdout",
       "text": [
        "\r",
        "Abbruch in 137"
       ]
      },
      {
       "output_type": "stream",
       "stream": "stdout",
       "text": [
        "\r",
        "Abbruch in 136"
       ]
      },
      {
       "output_type": "stream",
       "stream": "stdout",
       "text": [
        "\r",
        "Abbruch in 135"
       ]
      },
      {
       "output_type": "stream",
       "stream": "stdout",
       "text": [
        "\r",
        "Abbruch in 134"
       ]
      },
      {
       "output_type": "stream",
       "stream": "stdout",
       "text": [
        "\r",
        "Abbruch in 133"
       ]
      },
      {
       "output_type": "stream",
       "stream": "stdout",
       "text": [
        "\r",
        "Abbruch in 132"
       ]
      },
      {
       "output_type": "stream",
       "stream": "stdout",
       "text": [
        "\r",
        "Abbruch in 131"
       ]
      },
      {
       "output_type": "stream",
       "stream": "stdout",
       "text": [
        "\r",
        "Abbruch in 130"
       ]
      },
      {
       "output_type": "stream",
       "stream": "stdout",
       "text": [
        "\r",
        "Abbruch in 129"
       ]
      },
      {
       "output_type": "stream",
       "stream": "stdout",
       "text": [
        "\r",
        "Abbruch in 128"
       ]
      },
      {
       "output_type": "stream",
       "stream": "stdout",
       "text": [
        "\r",
        "Abbruch in 127"
       ]
      },
      {
       "output_type": "stream",
       "stream": "stdout",
       "text": [
        "\r",
        "Abbruch in 126"
       ]
      },
      {
       "output_type": "stream",
       "stream": "stdout",
       "text": [
        "\r",
        "Abbruch in 125"
       ]
      },
      {
       "output_type": "stream",
       "stream": "stdout",
       "text": [
        "\r",
        "Abbruch in 124"
       ]
      },
      {
       "output_type": "stream",
       "stream": "stdout",
       "text": [
        "\r",
        "Abbruch in 123"
       ]
      },
      {
       "output_type": "stream",
       "stream": "stdout",
       "text": [
        "\r",
        "Abbruch in 122"
       ]
      },
      {
       "output_type": "stream",
       "stream": "stdout",
       "text": [
        "\r",
        "Abbruch in 121"
       ]
      },
      {
       "output_type": "stream",
       "stream": "stdout",
       "text": [
        "\r",
        "Abbruch in 120"
       ]
      },
      {
       "output_type": "stream",
       "stream": "stdout",
       "text": [
        "\r",
        "Abbruch in 119"
       ]
      },
      {
       "output_type": "stream",
       "stream": "stdout",
       "text": [
        "\r",
        "Abbruch in 118"
       ]
      },
      {
       "output_type": "stream",
       "stream": "stdout",
       "text": [
        "\r",
        "Abbruch in 117"
       ]
      },
      {
       "output_type": "stream",
       "stream": "stdout",
       "text": [
        "\r",
        "Abbruch in 116"
       ]
      },
      {
       "output_type": "stream",
       "stream": "stdout",
       "text": [
        "\r",
        "Abbruch in 115"
       ]
      },
      {
       "output_type": "stream",
       "stream": "stdout",
       "text": [
        "\r",
        "Abbruch in 114"
       ]
      },
      {
       "output_type": "stream",
       "stream": "stdout",
       "text": [
        "\r",
        "Abbruch in 113"
       ]
      },
      {
       "output_type": "stream",
       "stream": "stdout",
       "text": [
        "\r",
        "Abbruch in 112"
       ]
      },
      {
       "output_type": "stream",
       "stream": "stdout",
       "text": [
        "\r",
        "Abbruch in 111"
       ]
      },
      {
       "output_type": "stream",
       "stream": "stdout",
       "text": [
        "\r",
        "Abbruch in 110"
       ]
      },
      {
       "output_type": "stream",
       "stream": "stdout",
       "text": [
        "\r",
        "Abbruch in 109"
       ]
      },
      {
       "output_type": "stream",
       "stream": "stdout",
       "text": [
        "\r",
        "Abbruch in 108"
       ]
      },
      {
       "output_type": "stream",
       "stream": "stdout",
       "text": [
        "\r",
        "Abbruch in 107"
       ]
      },
      {
       "output_type": "stream",
       "stream": "stdout",
       "text": [
        "\r",
        "Abbruch in 106"
       ]
      },
      {
       "output_type": "stream",
       "stream": "stdout",
       "text": [
        "\r",
        "Abbruch in 105"
       ]
      },
      {
       "output_type": "stream",
       "stream": "stdout",
       "text": [
        "\r",
        "Abbruch in 104"
       ]
      },
      {
       "output_type": "stream",
       "stream": "stdout",
       "text": [
        "\r",
        "Abbruch in 103"
       ]
      },
      {
       "output_type": "stream",
       "stream": "stdout",
       "text": [
        "\r",
        "Abbruch in 102"
       ]
      },
      {
       "output_type": "stream",
       "stream": "stdout",
       "text": [
        "\r",
        "Abbruch in 101"
       ]
      },
      {
       "output_type": "stream",
       "stream": "stdout",
       "text": [
        "\r",
        "Abbruch in 100"
       ]
      },
      {
       "output_type": "stream",
       "stream": "stdout",
       "text": [
        "\r",
        "Abbruch in 99"
       ]
      },
      {
       "output_type": "stream",
       "stream": "stdout",
       "text": [
        "\r",
        "Abbruch in 98"
       ]
      },
      {
       "output_type": "stream",
       "stream": "stdout",
       "text": [
        "\r",
        "Abbruch in 97"
       ]
      },
      {
       "output_type": "stream",
       "stream": "stdout",
       "text": [
        "\r",
        "Abbruch in 96"
       ]
      },
      {
       "output_type": "stream",
       "stream": "stdout",
       "text": [
        "\r",
        "Abbruch in 95"
       ]
      },
      {
       "output_type": "stream",
       "stream": "stdout",
       "text": [
        "\r",
        "Abbruch in 94"
       ]
      },
      {
       "output_type": "stream",
       "stream": "stdout",
       "text": [
        "\r",
        "Abbruch in 93"
       ]
      },
      {
       "output_type": "stream",
       "stream": "stdout",
       "text": [
        "\r",
        "Abbruch in 92"
       ]
      },
      {
       "output_type": "stream",
       "stream": "stdout",
       "text": [
        "\r",
        "Abbruch in 91"
       ]
      },
      {
       "output_type": "stream",
       "stream": "stdout",
       "text": [
        "\r",
        "Abbruch in 90"
       ]
      },
      {
       "output_type": "stream",
       "stream": "stdout",
       "text": [
        "\r",
        "Abbruch in 89"
       ]
      },
      {
       "output_type": "stream",
       "stream": "stdout",
       "text": [
        "\r",
        "Abbruch in 88"
       ]
      },
      {
       "output_type": "stream",
       "stream": "stdout",
       "text": [
        "\r",
        "Abbruch in 87"
       ]
      },
      {
       "output_type": "stream",
       "stream": "stdout",
       "text": [
        "\r",
        "Abbruch in 86"
       ]
      },
      {
       "output_type": "stream",
       "stream": "stdout",
       "text": [
        "\r",
        "Abbruch in 85"
       ]
      },
      {
       "output_type": "stream",
       "stream": "stdout",
       "text": [
        "\r",
        "Abbruch in 84"
       ]
      },
      {
       "output_type": "stream",
       "stream": "stdout",
       "text": [
        "\r",
        "Abbruch in 83"
       ]
      },
      {
       "output_type": "stream",
       "stream": "stdout",
       "text": [
        "\r",
        "Abbruch in 82"
       ]
      },
      {
       "output_type": "stream",
       "stream": "stdout",
       "text": [
        "\r",
        "Abbruch in 81"
       ]
      },
      {
       "output_type": "stream",
       "stream": "stdout",
       "text": [
        "\r",
        "Abbruch in 80"
       ]
      },
      {
       "output_type": "stream",
       "stream": "stdout",
       "text": [
        "\r",
        "Abbruch in 79"
       ]
      },
      {
       "output_type": "stream",
       "stream": "stdout",
       "text": [
        "\r",
        "Abbruch in 78"
       ]
      },
      {
       "output_type": "stream",
       "stream": "stdout",
       "text": [
        "\r",
        "Abbruch in 77"
       ]
      },
      {
       "output_type": "stream",
       "stream": "stdout",
       "text": [
        "\r",
        "Abbruch in 76"
       ]
      },
      {
       "output_type": "stream",
       "stream": "stdout",
       "text": [
        "\r",
        "Abbruch in 75"
       ]
      },
      {
       "output_type": "stream",
       "stream": "stdout",
       "text": [
        "\r",
        "Abbruch in 74"
       ]
      },
      {
       "output_type": "stream",
       "stream": "stdout",
       "text": [
        "\r",
        "Abbruch in 73"
       ]
      },
      {
       "output_type": "stream",
       "stream": "stdout",
       "text": [
        "\r",
        "Abbruch in 72"
       ]
      },
      {
       "output_type": "stream",
       "stream": "stdout",
       "text": [
        "\r",
        "Abbruch in 71"
       ]
      },
      {
       "output_type": "stream",
       "stream": "stdout",
       "text": [
        "\r",
        "Abbruch in 70"
       ]
      },
      {
       "output_type": "stream",
       "stream": "stdout",
       "text": [
        "\r",
        "Abbruch in 69"
       ]
      },
      {
       "output_type": "stream",
       "stream": "stdout",
       "text": [
        "\r",
        "Abbruch in 68"
       ]
      },
      {
       "output_type": "stream",
       "stream": "stdout",
       "text": [
        "\r",
        "Abbruch in 67"
       ]
      },
      {
       "output_type": "stream",
       "stream": "stdout",
       "text": [
        "\r",
        "Abbruch in 66"
       ]
      },
      {
       "output_type": "stream",
       "stream": "stdout",
       "text": [
        "\r",
        "Abbruch in 65"
       ]
      },
      {
       "output_type": "stream",
       "stream": "stdout",
       "text": [
        "\r",
        "Abbruch in 64"
       ]
      },
      {
       "output_type": "stream",
       "stream": "stdout",
       "text": [
        "\r",
        "Abbruch in 63"
       ]
      },
      {
       "output_type": "stream",
       "stream": "stdout",
       "text": [
        "\r",
        "Abbruch in 62"
       ]
      },
      {
       "output_type": "stream",
       "stream": "stdout",
       "text": [
        "\r",
        "Abbruch in 61"
       ]
      },
      {
       "output_type": "stream",
       "stream": "stdout",
       "text": [
        "\r",
        "Abbruch in 60"
       ]
      },
      {
       "output_type": "stream",
       "stream": "stdout",
       "text": [
        "\r",
        "Abbruch in 59"
       ]
      },
      {
       "output_type": "stream",
       "stream": "stdout",
       "text": [
        "\r",
        "Abbruch in 58"
       ]
      },
      {
       "output_type": "stream",
       "stream": "stdout",
       "text": [
        "\r",
        "Abbruch in 57"
       ]
      },
      {
       "output_type": "stream",
       "stream": "stdout",
       "text": [
        "\r",
        "Abbruch in 56"
       ]
      },
      {
       "output_type": "stream",
       "stream": "stdout",
       "text": [
        "\r",
        "Abbruch in 55"
       ]
      },
      {
       "output_type": "stream",
       "stream": "stdout",
       "text": [
        "\r",
        "Abbruch in 54"
       ]
      },
      {
       "output_type": "stream",
       "stream": "stdout",
       "text": [
        "\r",
        "Abbruch in 53"
       ]
      },
      {
       "output_type": "stream",
       "stream": "stdout",
       "text": [
        "\r",
        "Abbruch in 52"
       ]
      },
      {
       "output_type": "stream",
       "stream": "stdout",
       "text": [
        "\r",
        "Abbruch in 51"
       ]
      },
      {
       "output_type": "stream",
       "stream": "stdout",
       "text": [
        "\r",
        "Abbruch in 50"
       ]
      },
      {
       "output_type": "stream",
       "stream": "stdout",
       "text": [
        "\r",
        "Abbruch in 49"
       ]
      },
      {
       "output_type": "stream",
       "stream": "stdout",
       "text": [
        "\r",
        "Abbruch in 48"
       ]
      },
      {
       "output_type": "stream",
       "stream": "stdout",
       "text": [
        "\r",
        "Abbruch in 47"
       ]
      },
      {
       "output_type": "stream",
       "stream": "stdout",
       "text": [
        "\r",
        "Abbruch in 46"
       ]
      },
      {
       "output_type": "stream",
       "stream": "stdout",
       "text": [
        "\r",
        "Abbruch in 45"
       ]
      },
      {
       "output_type": "stream",
       "stream": "stdout",
       "text": [
        "\r",
        "Abbruch in 44"
       ]
      },
      {
       "output_type": "stream",
       "stream": "stdout",
       "text": [
        "\r",
        "Abbruch in 43"
       ]
      },
      {
       "output_type": "stream",
       "stream": "stdout",
       "text": [
        "\r",
        "Abbruch in 42"
       ]
      },
      {
       "output_type": "stream",
       "stream": "stdout",
       "text": [
        "\r",
        "Abbruch in 41"
       ]
      },
      {
       "output_type": "stream",
       "stream": "stdout",
       "text": [
        "\r",
        "Abbruch in 40"
       ]
      },
      {
       "output_type": "stream",
       "stream": "stdout",
       "text": [
        "\r",
        "Abbruch in 39"
       ]
      },
      {
       "output_type": "stream",
       "stream": "stdout",
       "text": [
        "\r",
        "Abbruch in 38"
       ]
      },
      {
       "output_type": "stream",
       "stream": "stdout",
       "text": [
        "\r",
        "Abbruch in 37"
       ]
      },
      {
       "output_type": "stream",
       "stream": "stdout",
       "text": [
        "\r",
        "Abbruch in 36"
       ]
      },
      {
       "output_type": "stream",
       "stream": "stdout",
       "text": [
        "\r",
        "Abbruch in 35"
       ]
      },
      {
       "output_type": "stream",
       "stream": "stdout",
       "text": [
        "\r",
        "Abbruch in 34"
       ]
      },
      {
       "output_type": "stream",
       "stream": "stdout",
       "text": [
        "\r",
        "Abbruch in 33"
       ]
      },
      {
       "output_type": "stream",
       "stream": "stdout",
       "text": [
        "\r",
        "Abbruch in 32"
       ]
      },
      {
       "output_type": "stream",
       "stream": "stdout",
       "text": [
        "\r",
        "Abbruch in 31"
       ]
      },
      {
       "output_type": "stream",
       "stream": "stdout",
       "text": [
        "\r",
        "Abbruch in 30"
       ]
      },
      {
       "output_type": "stream",
       "stream": "stdout",
       "text": [
        "\r",
        "Abbruch in 29"
       ]
      },
      {
       "output_type": "stream",
       "stream": "stdout",
       "text": [
        "\r",
        "Abbruch in 28"
       ]
      },
      {
       "output_type": "stream",
       "stream": "stdout",
       "text": [
        "\r",
        "Abbruch in 27"
       ]
      },
      {
       "output_type": "stream",
       "stream": "stdout",
       "text": [
        "\r",
        "Abbruch in 26"
       ]
      },
      {
       "output_type": "stream",
       "stream": "stdout",
       "text": [
        "\r",
        "Abbruch in 25"
       ]
      },
      {
       "output_type": "stream",
       "stream": "stdout",
       "text": [
        "\r",
        "Abbruch in 24"
       ]
      },
      {
       "output_type": "stream",
       "stream": "stdout",
       "text": [
        "\r",
        "Abbruch in 23"
       ]
      },
      {
       "output_type": "stream",
       "stream": "stdout",
       "text": [
        "\r",
        "Abbruch in 22"
       ]
      },
      {
       "output_type": "stream",
       "stream": "stdout",
       "text": [
        "\r",
        "Abbruch in 21"
       ]
      },
      {
       "output_type": "stream",
       "stream": "stdout",
       "text": [
        "\r",
        "Abbruch in 20"
       ]
      },
      {
       "output_type": "stream",
       "stream": "stdout",
       "text": [
        "\r",
        "Abbruch in 19"
       ]
      },
      {
       "output_type": "stream",
       "stream": "stdout",
       "text": [
        "\r",
        "Abbruch in 18"
       ]
      },
      {
       "output_type": "stream",
       "stream": "stdout",
       "text": [
        "\r",
        "Abbruch in 17"
       ]
      },
      {
       "output_type": "stream",
       "stream": "stdout",
       "text": [
        "\r",
        "Abbruch in 16"
       ]
      },
      {
       "output_type": "stream",
       "stream": "stdout",
       "text": [
        "\r",
        "Abbruch in 15"
       ]
      },
      {
       "output_type": "stream",
       "stream": "stdout",
       "text": [
        "\r",
        "Abbruch in 14"
       ]
      },
      {
       "output_type": "stream",
       "stream": "stdout",
       "text": [
        "\r",
        "Abbruch in 13"
       ]
      },
      {
       "output_type": "stream",
       "stream": "stdout",
       "text": [
        "\r",
        "Abbruch in 12"
       ]
      },
      {
       "output_type": "stream",
       "stream": "stdout",
       "text": [
        "\r",
        "Abbruch in 11"
       ]
      },
      {
       "output_type": "stream",
       "stream": "stdout",
       "text": [
        "\r",
        "Abbruch in 10"
       ]
      },
      {
       "output_type": "stream",
       "stream": "stdout",
       "text": [
        "\r",
        "Abbruch in 9"
       ]
      },
      {
       "output_type": "stream",
       "stream": "stdout",
       "text": [
        "\r",
        "Abbruch in 8"
       ]
      },
      {
       "output_type": "stream",
       "stream": "stdout",
       "text": [
        "\r",
        "Abbruch in 7"
       ]
      },
      {
       "output_type": "stream",
       "stream": "stdout",
       "text": [
        "\r",
        "Abbruch in 6"
       ]
      },
      {
       "output_type": "stream",
       "stream": "stdout",
       "text": [
        "\r",
        "Abbruch in 5"
       ]
      },
      {
       "output_type": "stream",
       "stream": "stdout",
       "text": [
        "\r",
        "Abbruch in 4"
       ]
      },
      {
       "output_type": "stream",
       "stream": "stdout",
       "text": [
        "\r",
        "Abbruch in 3"
       ]
      },
      {
       "output_type": "stream",
       "stream": "stdout",
       "text": [
        "\r",
        "Abbruch in 2"
       ]
      },
      {
       "output_type": "stream",
       "stream": "stdout",
       "text": [
        "\r",
        "Abbruch in 1"
       ]
      },
      {
       "output_type": "stream",
       "stream": "stdout",
       "text": [
        "\r",
        "Abbruch in 0"
       ]
      },
      {
       "output_type": "stream",
       "stream": "stdout",
       "text": [
        "\r",
        "Abbruch in -1"
       ]
      },
      {
       "output_type": "stream",
       "stream": "stdout",
       "text": [
        "\r",
        "Nicht Klassifizierbar nach  2001 Schritten\n"
       ]
      }
     ],
     "prompt_number": 75
    },
    {
     "cell_type": "markdown",
     "metadata": {},
     "source": [
      "<b>Detektionswahrscheinlichkeit</b>"
     ]
    },
    {
     "cell_type": "markdown",
     "metadata": {},
     "source": [
      "<b>Richtig-Negativ-Rate, Fehlalarmrate, Falsch-Negativ-Rate</b>"
     ]
    },
    {
     "cell_type": "code",
     "collapsed": false,
     "input": [
      "# Trainingsbilder\n",
      "print SuchePerson\n",
      "detectionInformation(HKgewichtsVektor_w ,HKSchwellwert_b,projezierteTrainingsBilder[NameList.index(SuchePerson)], labelList)\n",
      "print HKgewichtsVektor_w,HKSchwellwert_b"
     ],
     "language": "python",
     "metadata": {},
     "outputs": [
      {
       "output_type": "stream",
       "stream": "stdout",
       "text": [
        "George W Bush\n",
        "Hit(richtig-positiv): \t\t\t\t3.46 % ( 11 )\n",
        "Korrekte Ru\u0308ckweisung(Richtig-Negativ): \t\t86.15 % ( 392 )\n",
        "Fehlalarmrate(falsch-positiv): \t\t\t13.85 % ( 63 )\n",
        "Miss(falsch-negativ): \t\t\t\t96.54 % ( 307 )\n",
        "-0.00117371496226 -0.00191590813532\n"
       ]
      }
     ],
     "prompt_number": 79
    },
    {
     "cell_type": "code",
     "collapsed": false,
     "input": [
      "# Testbilder\n",
      "print SuchePerson\n",
      "detectionInformation(HKgewichtsVektor_w ,HKSchwellwert_b,projezierteTestBilder[NameList.index(SuchePerson)], GeorgeW_Bush_Detektor(TestBilder,SuchePerson))\n",
      "print HKgewichtsVektor_w,HKSchwellwert_b"
     ],
     "language": "python",
     "metadata": {},
     "outputs": [
      {
       "output_type": "stream",
       "stream": "stdout",
       "text": [
        "George W Bush\n",
        "Hit(richtig-positiv): \t\t\t\t31.75 % ( 67 )\n",
        "Korrekte Ru\u0308ckweisung(Richtig-Negativ): \t\t62.63 % ( 186 )\n",
        "Fehlalarmrate(falsch-positiv): \t\t\t37.37 % ( 111 )\n",
        "Miss(falsch-negativ): \t\t\t\t68.25 % ( 144 )\n",
        "-0.00117371496226 -0.00191590813532\n"
       ]
      }
     ],
     "prompt_number": 80
    },
    {
     "cell_type": "code",
     "collapsed": false,
     "input": [],
     "language": "python",
     "metadata": {},
     "outputs": []
    }
   ],
   "metadata": {}
  }
 ]
}