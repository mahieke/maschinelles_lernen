{
 "cells": [
  {
   "cell_type": "markdown",
   "metadata": {},
   "source": [
    "## Implizite Abbildung durch Kerne"
   ]
  },
  {
   "cell_type": "markdown",
   "metadata": {},
   "source": [
    "a. Geben Sie eine allgemeine Formel für die Abbildung der Ebene in den Raum der geordneten Monome \n",
    "zweiter Ordnung (d.h. Produkte in unterschiedlicher Reihenfolge bekommen eine eigene Dimension, \n",
    "obwohl das Resultat identisch ist, z.B. x1·x2 und x2·x1 bilden unterschiedliche Einträge im Vektorφ) an."
   ]
  },
  {
   "cell_type": "code",
   "execution_count": 28,
   "metadata": {
    "collapsed": false
   },
   "outputs": [],
   "source": [
    "import scipy as sy\n",
    "import numpy as np"
   ]
  },
  {
   "cell_type": "code",
   "execution_count": 29,
   "metadata": {
    "collapsed": true
   },
   "outputs": [],
   "source": [
    "def monome(x1,x2):\n",
    "    phi = [x1*x1,x1*x2,x2*x1,x2*x2]\n",
    "    return phi"
   ]
  },
  {
   "cell_type": "markdown",
   "metadata": {},
   "source": [
    "$$ \n",
    "\\begin{equation}\n",
    " \\begin{aligned}\n",
    "\\Phi_1 :R^2->R^3 : \\Phi_1(x) &= (x_1^2, \\sqrt2 x_1 x_2, x_2^2) \\\\\n",
    "\\\\\n",
    " \\Phi_2 :R^2->R^4 : \\Phi_2(x) &= (x_1^2, x_1 x_2, x_2 x_1, x_2^2) \\\\\n",
    "  \\end{aligned}\n",
    "\\end{equation}\n",
    "$$"
   ]
  },
  {
   "cell_type": "markdown",
   "metadata": {
    "collapsed": true
   },
   "source": [
    "b. Berechnen Sie das komponentenweise Standard-Skalarprodukt im Raum der Monome zweiter \n",
    "Ordnung zwischen zwei unterschiedlichen zweidimensionalen Eingabevektoren (x1,x2) und (y1,y2)."
   ]
  },
  {
   "cell_type": "markdown",
   "metadata": {},
   "source": [
    "$$ x = (x_1,x_2), y = (y_1,y_2): $$\n",
    "\n",
    "$$ f(x)=(x_1^2,x_1x_2,x_2x_1,x_2^2)$$ \n",
    "\n",
    "$$f(y)=(y_1^2,y_1y_2,y_2y_1,y_2^2) $$\n",
    "\n",
    "$$ \\\\ \n",
    "\\begin{equation}\n",
    " \\begin{aligned}\n",
    "\\langle\\Phi(x), \\Phi(y)\\rangle  &=  x_1^2 y_1^2 + 2x_1 x_2 y_1 y_2 + x_2^2 y_2^2 \\\\ \n",
    "%% &= (x_1 y_1 + x_2 y_2)^2 \\\\\n",
    "%% &= \\langle x, y\\rangle^2\n",
    " \\end{aligned}\n",
    "\\end{equation}\n",
    "\\\\ $$"
   ]
  },
  {
   "cell_type": "code",
   "execution_count": 37,
   "metadata": {
    "collapsed": true
   },
   "outputs": [],
   "source": [
    "# Eingabevektor erzeugen\n",
    "def create_vector(x,y):\n",
    "    vec = [x,y]\n",
    "    \n",
    "    return vec"
   ]
  },
  {
   "cell_type": "code",
   "execution_count": 38,
   "metadata": {
    "collapsed": true
   },
   "outputs": [],
   "source": [
    "# Beispielvektoren \n",
    "x1 = 4\n",
    "x2 = 1\n",
    "\n",
    "y1 = 5\n",
    "y2 = 2\n",
    "\n",
    "vector1 = create_vector(x1,x2)\n",
    "vector2 = create_vector(y1,y2)"
   ]
  },
  {
   "cell_type": "code",
   "execution_count": 39,
   "metadata": {
    "collapsed": false
   },
   "outputs": [
    {
     "data": {
      "text/plain": [
       "([4, 1], [5, 2])"
      ]
     },
     "execution_count": 39,
     "metadata": {},
     "output_type": "execute_result"
    }
   ],
   "source": [
    "vector1, vector2"
   ]
  },
  {
   "cell_type": "code",
   "execution_count": 40,
   "metadata": {
    "collapsed": true
   },
   "outputs": [],
   "source": [
    "def scalar_in_monome(v1,v2):\n",
    "    x1=v1[0] \n",
    "    x2=v1[1]\n",
    "    y1=v2[0] \n",
    "    y2=v2[1]\n",
    "    mon1 = monome(x1,x2)\n",
    "    mon2 = monome(y1,y2)\n",
    "    #Bildung des Skalarprodukts\n",
    "    scal  = mon1[0]*mon2[0]+mon1[1]*mon2[1]+mon1[2]*mon2[2]+mon1[3]*mon2[3]\n",
    "    return scal"
   ]
  },
  {
   "cell_type": "code",
   "execution_count": 41,
   "metadata": {
    "collapsed": false
   },
   "outputs": [
    {
     "data": {
      "text/plain": [
       "484"
      ]
     },
     "execution_count": 41,
     "metadata": {},
     "output_type": "execute_result"
    }
   ],
   "source": [
    "res = scalar_in_monome(vector1,vector2)\n",
    "res"
   ]
  },
  {
   "cell_type": "markdown",
   "metadata": {},
   "source": [
    "c. Berechnen Sie den homogenen Polynomkern zweiter Ordnung"
   ]
  },
  {
   "cell_type": "markdown",
   "metadata": {},
   "source": [
    "$$ k_\\Phi(x,y) = \\langle x * y \\rangle^2 \\\\$$"
   ]
  },
  {
   "cell_type": "markdown",
   "metadata": {},
   "source": [
    "$$ k_\\Phi(x,y) = \\langle f(x),f(y) \\rangle \\\\\n",
    "          = \\langle(x_1^2, 2x_1x_2, x_2^2), (y_1^2, 2y_1y_2, y_2^2) \\rangle \\\\\n",
    "          = x_1^2y_1^2 + 2((x_1x_2) * (y_1y_2)) + x_2^2y_2^2 $$\n",
    "          \n",
    "Daraus folgt:\n",
    "\n",
    "$$ k_\\Phi(x,y) = x_1^2y_1^2 + 2 ((x_1x_2) * (y_1y_2)) + x_2^2y_2^2 \\\\\n",
    "          = (x_1y_1 + x_2y_2)^2 \\\\\n",
    "          = \\langle x,y \\rangle^2 $$"
   ]
  },
  {
   "cell_type": "code",
   "execution_count": 46,
   "metadata": {
    "collapsed": true
   },
   "outputs": [],
   "source": [
    "def polynom(v1,v2):    \n",
    "    poly = np.dot(v1,v2)**2\n",
    "    return poly\n",
    "    \n",
    "    "
   ]
  },
  {
   "cell_type": "code",
   "execution_count": 47,
   "metadata": {
    "collapsed": false
   },
   "outputs": [
    {
     "data": {
      "text/plain": [
       "484"
      ]
     },
     "execution_count": 47,
     "metadata": {},
     "output_type": "execute_result"
    }
   ],
   "source": [
    "res = polynom(vector1,vector2)\n",
    "res"
   ]
  },
  {
   "cell_type": "markdown",
   "metadata": {},
   "source": [
    "d. Geben Sie eine Formel für die Perzeptron-Entscheidungsfunktion im Raum der Monome\n",
    "zweiter Ordnung in ihrer dualen Form an."
   ]
  },
  {
   "cell_type": "markdown",
   "metadata": {
    "collapsed": true
   },
   "source": [
    "<b>Ebenengleichung Perzeptron:</b>\n",
    "\n",
    "$$ g(x) \\rightarrow \\langle w , x\\rangle + b \\\\ $$ \n",
    "\n",
    "<b>Gewichtungsvektor w (Anpassungsschritten):</b>\n",
    "\n",
    "$$ w = w + y_i*x_i   $$ \n",
    "\n",
    "<b>Linearkombination: </b>\n",
    "\n",
    "$$ w = \\sum_{j=1}^\\ell y_j x_j $$\n",
    "\n",
    "<b>Raum der Monome 2. Ordnung:</b>\n",
    "\n",
    "$$ w = \\sum_{j=1}^\\ell y_j f(x_j) $$\n",
    "\n",
    "<b>Perzeptron:</b>\n",
    "\n",
    "$$ g(x) = \\langle \\sum_{j=1}^\\ell y_j f(x_j),f(x) \\rangle + b \\\\\n",
    "        = \\sum_{j=1}^\\ell y_j k_\\Phi(x_j,x) + b \\\\\n",
    "        = \\sum_{j=1}^\\ell y_j \\langle x_j,x \\rangle ^2 + b $$"
   ]
  }
 ],
 "metadata": {
  "kernelspec": {
   "display_name": "Python 2",
   "language": "python",
   "name": "python2"
  },
  "language_info": {
   "codemirror_mode": {
    "name": "ipython",
    "version": 2
   },
   "file_extension": ".py",
   "mimetype": "text/x-python",
   "name": "python",
   "nbconvert_exporter": "python",
   "pygments_lexer": "ipython2",
   "version": "2.7.10"
  }
 },
 "nbformat": 4,
 "nbformat_minor": 0
}
