{
 "cells": [
  {
   "cell_type": "code",
   "execution_count": 39,
   "metadata": {
    "collapsed": true
   },
   "outputs": [],
   "source": [
    "import numpy as np\n",
    "import sympy as sy"
   ]
  },
  {
   "cell_type": "markdown",
   "metadata": {},
   "source": [
    "## 1. Implizite Abbildung durch Kerne\n",
    "### a)\n",
    "\n",
    "Geben Sie eine allgemeine Formel für die Abbildung der Ebene in den Raum der geordneten\n",
    "Monome zweiter Ordnung (d.h. Produkte in unterschiedlicher Reihenfolge bekommen\n",
    "eine eigene Dimension, obwohl das Resultat identisch ist, z.B. x1 · x2 und x2 · x1 bilden\n",
    "unterschiedliche Einträge im Vektor $\\phi$) an."
   ]
  },
  {
   "cell_type": "markdown",
   "metadata": {},
   "source": [
    "$$\n",
    "    \\Phi : \\mathbb{R}^{2} \\rightarrow \\mathbb{R}^{4}\n",
    "    ~~~~ \\text{d.h.} ~~~~~\n",
    "    \\begin{pmatrix}\n",
    "        x_1 \\\\\n",
    "        x_2\n",
    "    \\end{pmatrix}\n",
    "    \\rightarrow\n",
    "    \\begin{pmatrix}\n",
    "        z_1 \\\\\n",
    "        z_2 \\\\\n",
    "        z_3 \\\\\n",
    "        z_4\n",
    "    \\end{pmatrix}\n",
    "    ~~~~ \\text{mit} ~~~~~\n",
    "    \\Phi(\\mathbf{x}) = \n",
    "    \\begin{pmatrix}\n",
    "        \\phi_1(\\mathbf{x}) \\\\\n",
    "        \\phi_2(\\mathbf{x}) \\\\\n",
    "        \\phi_3(\\mathbf{x}) \\\\\n",
    "        \\phi_4(\\mathbf{x})\n",
    "    \\end{pmatrix}\n",
    "    =\n",
    "    \\begin{pmatrix}\n",
    "        x_1^2 \\\\\n",
    "        x_1  x_2 \\\\\n",
    "        x_2^2 \\\\\n",
    "        x_2  x_1\n",
    "    \\end{pmatrix}\n",
    "$$"
   ]
  },
  {
   "cell_type": "code",
   "execution_count": 35,
   "metadata": {
    "collapsed": true
   },
   "outputs": [],
   "source": [
    "def transform(x):\n",
    "    xx = np.asarray(x).flatten()\n",
    "    return np.outer(xx,xx).flatten()"
   ]
  },
  {
   "cell_type": "code",
   "execution_count": 43,
   "metadata": {
    "collapsed": false
   },
   "outputs": [
    {
     "data": {
      "text/plain": [
       "array([x1**2, x1*x2, x1*x2, x2**2], dtype=object)"
      ]
     },
     "execution_count": 43,
     "metadata": {},
     "output_type": "execute_result"
    }
   ],
   "source": [
    "transform([sy.Symbol('x1'), sy.Symbol('x2')])"
   ]
  },
  {
   "cell_type": "code",
   "execution_count": 29,
   "metadata": {
    "collapsed": false
   },
   "outputs": [
    {
     "data": {
      "text/plain": [
       "(5,)"
      ]
     },
     "execution_count": 29,
     "metadata": {},
     "output_type": "execute_result"
    }
   ],
   "source": []
  },
  {
   "cell_type": "code",
   "execution_count": null,
   "metadata": {
    "collapsed": true
   },
   "outputs": [],
   "source": []
  }
 ],
 "metadata": {
  "kernelspec": {
   "display_name": "Python 3",
   "language": "python",
   "name": "python3"
  },
  "language_info": {
   "codemirror_mode": {
    "name": "ipython",
    "version": 3
   },
   "file_extension": ".py",
   "mimetype": "text/x-python",
   "name": "python",
   "nbconvert_exporter": "python",
   "pygments_lexer": "ipython3",
   "version": "3.5.1"
  }
 },
 "nbformat": 4,
 "nbformat_minor": 0
}
