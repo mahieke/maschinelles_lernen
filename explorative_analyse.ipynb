{
 "cells": [
  {
   "cell_type": "markdown",
   "metadata": {},
   "source": [
    "Beispiel für eine explorative Datenanalyse: Erdbeben der letzten 7 Tage (US Geological Survey)\n",
    "==============================================================================================\n",
    "\n",
    "Import zweier Standardpakete für die Datenanalyse: Numpy für mehrdimensionale Arrays, Pandas für Datenanalyse in Tabellen."
   ]
  },
  {
   "cell_type": "code",
   "execution_count": 2,
   "metadata": {
    "collapsed": false
   },
   "outputs": [],
   "source": [
    "import pandas as pd\n",
    "import numpy as np\n",
    "%matplotlib inline"
   ]
  },
  {
   "cell_type": "markdown",
   "metadata": {},
   "source": [
    "Direkter Download vom USGS, Abruf des Downloaddatums, automatischer Import in Pandas-Dataframe"
   ]
  },
  {
   "cell_type": "code",
   "execution_count": 3,
   "metadata": {
    "collapsed": false
   },
   "outputs": [
    {
     "data": {
      "text/plain": [
       "['Sun Dec 13 16:16:08 CET 2015']"
      ]
     },
     "execution_count": 3,
     "metadata": {},
     "output_type": "execute_result"
    }
   ],
   "source": [
    "fileUrl = 'http://earthquake.usgs.gov/earthquakes/feed/v1.0/summary/2.5_day.csv'\n",
    "eData = pd.read_csv(fileUrl)\n",
    "dateDownloaded = !date\n",
    "dateDownloaded"
   ]
  },
  {
   "cell_type": "markdown",
   "metadata": {},
   "source": [
    "1. Darstellung als Pandas-DataFrame\n",
    "-----------------------------------\n",
    "\n",
    "Darstellung des Datensatzes als Datensatzes als Pandas-Dataframe (Tabelle der ersten und letzten 30 Einträge, Anzahl Reihen und Spalten). Konvention: Variablen sind die Spalten, einzelne Messungen die Zeilen."
   ]
  },
  {
   "cell_type": "code",
   "execution_count": 4,
   "metadata": {
    "collapsed": false
   },
   "outputs": [
    {
     "data": {
      "text/html": [
       "<div>\n",
       "<table border=\"1\" class=\"dataframe\">\n",
       "  <thead>\n",
       "    <tr style=\"text-align: right;\">\n",
       "      <th></th>\n",
       "      <th>time</th>\n",
       "      <th>latitude</th>\n",
       "      <th>longitude</th>\n",
       "      <th>depth</th>\n",
       "      <th>mag</th>\n",
       "      <th>magType</th>\n",
       "      <th>nst</th>\n",
       "      <th>gap</th>\n",
       "      <th>dmin</th>\n",
       "      <th>rms</th>\n",
       "      <th>net</th>\n",
       "      <th>id</th>\n",
       "      <th>updated</th>\n",
       "      <th>place</th>\n",
       "      <th>type</th>\n",
       "    </tr>\n",
       "  </thead>\n",
       "  <tbody>\n",
       "    <tr>\n",
       "      <th>0</th>\n",
       "      <td>2015-12-13T10:03:23.920Z</td>\n",
       "      <td>-11.160800</td>\n",
       "      <td>166.445500</td>\n",
       "      <td>86.46</td>\n",
       "      <td>4.80</td>\n",
       "      <td>mb</td>\n",
       "      <td>NaN</td>\n",
       "      <td>72.0</td>\n",
       "      <td>4.324000</td>\n",
       "      <td>0.77</td>\n",
       "      <td>us</td>\n",
       "      <td>us20004gvu</td>\n",
       "      <td>2015-12-13T10:21:00.742Z</td>\n",
       "      <td>83km SE of Lata, Solomon Islands</td>\n",
       "      <td>earthquake</td>\n",
       "    </tr>\n",
       "    <tr>\n",
       "      <th>1</th>\n",
       "      <td>2015-12-13T08:31:15.750Z</td>\n",
       "      <td>-24.194400</td>\n",
       "      <td>-66.956400</td>\n",
       "      <td>182.50</td>\n",
       "      <td>4.60</td>\n",
       "      <td>mb</td>\n",
       "      <td>NaN</td>\n",
       "      <td>40.0</td>\n",
       "      <td>2.388000</td>\n",
       "      <td>1.14</td>\n",
       "      <td>us</td>\n",
       "      <td>us20004gvd</td>\n",
       "      <td>2015-12-13T08:57:09.774Z</td>\n",
       "      <td>64km W of San Antonio de los Cobres, Argentina</td>\n",
       "      <td>earthquake</td>\n",
       "    </tr>\n",
       "    <tr>\n",
       "      <th>2</th>\n",
       "      <td>2015-12-13T07:14:28.700Z</td>\n",
       "      <td>19.238000</td>\n",
       "      <td>-66.538400</td>\n",
       "      <td>30.00</td>\n",
       "      <td>3.00</td>\n",
       "      <td>Md</td>\n",
       "      <td>7</td>\n",
       "      <td>277.2</td>\n",
       "      <td>1.019588</td>\n",
       "      <td>0.28</td>\n",
       "      <td>pr</td>\n",
       "      <td>pr15347002</td>\n",
       "      <td>2015-12-13T13:00:14.444Z</td>\n",
       "      <td>86km NNE of Arecibo, Puerto Rico</td>\n",
       "      <td>earthquake</td>\n",
       "    </tr>\n",
       "    <tr>\n",
       "      <th>3</th>\n",
       "      <td>2015-12-13T07:11:51.400Z</td>\n",
       "      <td>19.128700</td>\n",
       "      <td>-65.602500</td>\n",
       "      <td>53.00</td>\n",
       "      <td>3.10</td>\n",
       "      <td>Md</td>\n",
       "      <td>6</td>\n",
       "      <td>306.0</td>\n",
       "      <td>0.871366</td>\n",
       "      <td>0.27</td>\n",
       "      <td>pr</td>\n",
       "      <td>pr15347001</td>\n",
       "      <td>2015-12-13T12:21:27.211Z</td>\n",
       "      <td>81km NNE of Vieques, Puerto Rico</td>\n",
       "      <td>earthquake</td>\n",
       "    </tr>\n",
       "    <tr>\n",
       "      <th>4</th>\n",
       "      <td>2015-12-13T06:42:11.060Z</td>\n",
       "      <td>-6.913700</td>\n",
       "      <td>129.908500</td>\n",
       "      <td>97.25</td>\n",
       "      <td>5.40</td>\n",
       "      <td>mb</td>\n",
       "      <td>NaN</td>\n",
       "      <td>45.0</td>\n",
       "      <td>1.740000</td>\n",
       "      <td>0.65</td>\n",
       "      <td>us</td>\n",
       "      <td>us20004gv8</td>\n",
       "      <td>2015-12-13T14:44:47.643Z</td>\n",
       "      <td>193km NW of Saumlaki, Indonesia</td>\n",
       "      <td>earthquake</td>\n",
       "    </tr>\n",
       "    <tr>\n",
       "      <th>5</th>\n",
       "      <td>2015-12-13T05:53:20.730Z</td>\n",
       "      <td>54.994600</td>\n",
       "      <td>111.736800</td>\n",
       "      <td>14.19</td>\n",
       "      <td>5.10</td>\n",
       "      <td>mb</td>\n",
       "      <td>NaN</td>\n",
       "      <td>38.0</td>\n",
       "      <td>5.874000</td>\n",
       "      <td>0.83</td>\n",
       "      <td>us</td>\n",
       "      <td>us20004gv4</td>\n",
       "      <td>2015-12-13T13:56:03.096Z</td>\n",
       "      <td>120km NE of Kurumkan, Russia</td>\n",
       "      <td>earthquake</td>\n",
       "    </tr>\n",
       "    <tr>\n",
       "      <th>6</th>\n",
       "      <td>2015-12-13T05:20:02.000Z</td>\n",
       "      <td>19.487800</td>\n",
       "      <td>-66.260200</td>\n",
       "      <td>35.00</td>\n",
       "      <td>3.20</td>\n",
       "      <td>Md</td>\n",
       "      <td>12</td>\n",
       "      <td>288.0</td>\n",
       "      <td>1.227099</td>\n",
       "      <td>0.34</td>\n",
       "      <td>pr</td>\n",
       "      <td>pr15347000</td>\n",
       "      <td>2015-12-13T13:22:33.352Z</td>\n",
       "      <td>113km N of Dorado, Puerto Rico</td>\n",
       "      <td>earthquake</td>\n",
       "    </tr>\n",
       "    <tr>\n",
       "      <th>7</th>\n",
       "      <td>2015-12-13T04:36:16.120Z</td>\n",
       "      <td>32.401165</td>\n",
       "      <td>-115.245163</td>\n",
       "      <td>2.89</td>\n",
       "      <td>2.96</td>\n",
       "      <td>ml</td>\n",
       "      <td>20</td>\n",
       "      <td>160.0</td>\n",
       "      <td>0.053810</td>\n",
       "      <td>0.36</td>\n",
       "      <td>ci</td>\n",
       "      <td>ci37501352</td>\n",
       "      <td>2015-12-13T05:52:28.099Z</td>\n",
       "      <td>7km NW of Delta, B.C., MX</td>\n",
       "      <td>earthquake</td>\n",
       "    </tr>\n",
       "    <tr>\n",
       "      <th>8</th>\n",
       "      <td>2015-12-13T01:52:18.010Z</td>\n",
       "      <td>46.717000</td>\n",
       "      <td>152.617200</td>\n",
       "      <td>57.91</td>\n",
       "      <td>5.30</td>\n",
       "      <td>mb</td>\n",
       "      <td>NaN</td>\n",
       "      <td>127.0</td>\n",
       "      <td>6.766000</td>\n",
       "      <td>0.75</td>\n",
       "      <td>us</td>\n",
       "      <td>us20004guj</td>\n",
       "      <td>2015-12-13T09:54:59.507Z</td>\n",
       "      <td>Kuril Islands</td>\n",
       "      <td>earthquake</td>\n",
       "    </tr>\n",
       "    <tr>\n",
       "      <th>9</th>\n",
       "      <td>2015-12-13T01:47:09.900Z</td>\n",
       "      <td>3.453800</td>\n",
       "      <td>127.442900</td>\n",
       "      <td>49.42</td>\n",
       "      <td>5.40</td>\n",
       "      <td>mb</td>\n",
       "      <td>NaN</td>\n",
       "      <td>46.0</td>\n",
       "      <td>2.665000</td>\n",
       "      <td>0.99</td>\n",
       "      <td>us</td>\n",
       "      <td>us20004gug</td>\n",
       "      <td>2015-12-13T09:49:46.553Z</td>\n",
       "      <td>200km NNW of Tobelo, Indonesia</td>\n",
       "      <td>earthquake</td>\n",
       "    </tr>\n",
       "    <tr>\n",
       "      <th>10</th>\n",
       "      <td>2015-12-12T23:32:53.960Z</td>\n",
       "      <td>-41.166100</td>\n",
       "      <td>-90.209400</td>\n",
       "      <td>10.00</td>\n",
       "      <td>5.00</td>\n",
       "      <td>mb</td>\n",
       "      <td>NaN</td>\n",
       "      <td>150.0</td>\n",
       "      <td>13.769000</td>\n",
       "      <td>0.82</td>\n",
       "      <td>us</td>\n",
       "      <td>us20004gtz</td>\n",
       "      <td>2015-12-13T07:35:30.578Z</td>\n",
       "      <td>Southeast of Easter Island</td>\n",
       "      <td>earthquake</td>\n",
       "    </tr>\n",
       "    <tr>\n",
       "      <th>11</th>\n",
       "      <td>2015-12-12T23:30:34.480Z</td>\n",
       "      <td>0.641400</td>\n",
       "      <td>-24.998400</td>\n",
       "      <td>10.00</td>\n",
       "      <td>4.90</td>\n",
       "      <td>mb</td>\n",
       "      <td>NaN</td>\n",
       "      <td>97.0</td>\n",
       "      <td>20.966000</td>\n",
       "      <td>0.90</td>\n",
       "      <td>us</td>\n",
       "      <td>us20004gu0</td>\n",
       "      <td>2015-12-13T07:33:10.248Z</td>\n",
       "      <td>Central Mid-Atlantic Ridge</td>\n",
       "      <td>earthquake</td>\n",
       "    </tr>\n",
       "    <tr>\n",
       "      <th>12</th>\n",
       "      <td>2015-12-12T22:36:44.000Z</td>\n",
       "      <td>56.691100</td>\n",
       "      <td>-154.328200</td>\n",
       "      <td>54.40</td>\n",
       "      <td>4.40</td>\n",
       "      <td>ml</td>\n",
       "      <td>NaN</td>\n",
       "      <td>NaN</td>\n",
       "      <td>NaN</td>\n",
       "      <td>1.27</td>\n",
       "      <td>ak</td>\n",
       "      <td>ak12247618</td>\n",
       "      <td>2015-12-13T06:39:28.343Z</td>\n",
       "      <td>96km SSW of Larsen Bay, Alaska</td>\n",
       "      <td>earthquake</td>\n",
       "    </tr>\n",
       "    <tr>\n",
       "      <th>13</th>\n",
       "      <td>2015-12-12T22:04:02.970Z</td>\n",
       "      <td>31.234400</td>\n",
       "      <td>129.367800</td>\n",
       "      <td>17.70</td>\n",
       "      <td>4.50</td>\n",
       "      <td>mb</td>\n",
       "      <td>NaN</td>\n",
       "      <td>101.0</td>\n",
       "      <td>0.967000</td>\n",
       "      <td>0.93</td>\n",
       "      <td>us</td>\n",
       "      <td>us20004gtj</td>\n",
       "      <td>2015-12-13T06:06:33.916Z</td>\n",
       "      <td>90km W of Makurazaki, Japan</td>\n",
       "      <td>earthquake</td>\n",
       "    </tr>\n",
       "    <tr>\n",
       "      <th>14</th>\n",
       "      <td>2015-12-12T21:05:53.410Z</td>\n",
       "      <td>38.942800</td>\n",
       "      <td>141.837700</td>\n",
       "      <td>49.79</td>\n",
       "      <td>4.50</td>\n",
       "      <td>mb</td>\n",
       "      <td>NaN</td>\n",
       "      <td>144.0</td>\n",
       "      <td>1.351000</td>\n",
       "      <td>1.37</td>\n",
       "      <td>us</td>\n",
       "      <td>us20004gsy</td>\n",
       "      <td>2015-12-13T05:08:31.673Z</td>\n",
       "      <td>17km SE of Ofunato, Japan</td>\n",
       "      <td>earthquake</td>\n",
       "    </tr>\n",
       "    <tr>\n",
       "      <th>15</th>\n",
       "      <td>2015-12-12T20:56:36.580Z</td>\n",
       "      <td>-5.255200</td>\n",
       "      <td>129.779100</td>\n",
       "      <td>129.28</td>\n",
       "      <td>4.10</td>\n",
       "      <td>mb</td>\n",
       "      <td>NaN</td>\n",
       "      <td>254.0</td>\n",
       "      <td>3.101000</td>\n",
       "      <td>1.47</td>\n",
       "      <td>us</td>\n",
       "      <td>us20004gsv</td>\n",
       "      <td>2015-12-13T04:59:03.298Z</td>\n",
       "      <td>224km SSE of Saparua, Indonesia</td>\n",
       "      <td>earthquake</td>\n",
       "    </tr>\n",
       "    <tr>\n",
       "      <th>16</th>\n",
       "      <td>2015-12-12T17:40:41.070Z</td>\n",
       "      <td>36.446800</td>\n",
       "      <td>-97.132400</td>\n",
       "      <td>5.00</td>\n",
       "      <td>3.50</td>\n",
       "      <td>mb_lg</td>\n",
       "      <td>NaN</td>\n",
       "      <td>62.0</td>\n",
       "      <td>0.320000</td>\n",
       "      <td>0.33</td>\n",
       "      <td>us</td>\n",
       "      <td>us20004grz</td>\n",
       "      <td>2015-12-13T00:57:05.378Z</td>\n",
       "      <td>22km NE of Perry, Oklahoma</td>\n",
       "      <td>earthquake</td>\n",
       "    </tr>\n",
       "    <tr>\n",
       "      <th>17</th>\n",
       "      <td>2015-12-12T16:51:14.320Z</td>\n",
       "      <td>12.132700</td>\n",
       "      <td>-87.697100</td>\n",
       "      <td>56.23</td>\n",
       "      <td>4.30</td>\n",
       "      <td>mb</td>\n",
       "      <td>NaN</td>\n",
       "      <td>164.0</td>\n",
       "      <td>1.956000</td>\n",
       "      <td>0.92</td>\n",
       "      <td>us</td>\n",
       "      <td>us20004grt</td>\n",
       "      <td>2015-12-13T00:53:44.255Z</td>\n",
       "      <td>68km SW of Corinto, Nicaragua</td>\n",
       "      <td>earthquake</td>\n",
       "    </tr>\n",
       "    <tr>\n",
       "      <th>18</th>\n",
       "      <td>2015-12-12T16:48:52.730Z</td>\n",
       "      <td>20.000999</td>\n",
       "      <td>-156.476334</td>\n",
       "      <td>0.00</td>\n",
       "      <td>2.61</td>\n",
       "      <td>md</td>\n",
       "      <td>34</td>\n",
       "      <td>234.0</td>\n",
       "      <td>0.668600</td>\n",
       "      <td>0.18</td>\n",
       "      <td>hv</td>\n",
       "      <td>hv61124976</td>\n",
       "      <td>2015-12-13T00:51:22.612Z</td>\n",
       "      <td>59km WNW of Kalaoa, Hawaii</td>\n",
       "      <td>earthquake</td>\n",
       "    </tr>\n",
       "    <tr>\n",
       "      <th>19</th>\n",
       "      <td>2015-12-12T15:39:43.680Z</td>\n",
       "      <td>23.331000</td>\n",
       "      <td>121.413100</td>\n",
       "      <td>15.21</td>\n",
       "      <td>4.40</td>\n",
       "      <td>mb</td>\n",
       "      <td>NaN</td>\n",
       "      <td>103.0</td>\n",
       "      <td>0.122000</td>\n",
       "      <td>0.65</td>\n",
       "      <td>us</td>\n",
       "      <td>us20004grk</td>\n",
       "      <td>2015-12-12T23:42:19.284Z</td>\n",
       "      <td>68km NNE of Taitung, Taiwan</td>\n",
       "      <td>earthquake</td>\n",
       "    </tr>\n",
       "  </tbody>\n",
       "</table>\n",
       "</div>"
      ],
      "text/plain": [
       "                        time   latitude   longitude   depth   mag magType  \\\n",
       "0   2015-12-13T10:03:23.920Z -11.160800  166.445500   86.46  4.80      mb   \n",
       "1   2015-12-13T08:31:15.750Z -24.194400  -66.956400  182.50  4.60      mb   \n",
       "2   2015-12-13T07:14:28.700Z  19.238000  -66.538400   30.00  3.00      Md   \n",
       "3   2015-12-13T07:11:51.400Z  19.128700  -65.602500   53.00  3.10      Md   \n",
       "4   2015-12-13T06:42:11.060Z  -6.913700  129.908500   97.25  5.40      mb   \n",
       "5   2015-12-13T05:53:20.730Z  54.994600  111.736800   14.19  5.10      mb   \n",
       "6   2015-12-13T05:20:02.000Z  19.487800  -66.260200   35.00  3.20      Md   \n",
       "7   2015-12-13T04:36:16.120Z  32.401165 -115.245163    2.89  2.96      ml   \n",
       "8   2015-12-13T01:52:18.010Z  46.717000  152.617200   57.91  5.30      mb   \n",
       "9   2015-12-13T01:47:09.900Z   3.453800  127.442900   49.42  5.40      mb   \n",
       "10  2015-12-12T23:32:53.960Z -41.166100  -90.209400   10.00  5.00      mb   \n",
       "11  2015-12-12T23:30:34.480Z   0.641400  -24.998400   10.00  4.90      mb   \n",
       "12  2015-12-12T22:36:44.000Z  56.691100 -154.328200   54.40  4.40      ml   \n",
       "13  2015-12-12T22:04:02.970Z  31.234400  129.367800   17.70  4.50      mb   \n",
       "14  2015-12-12T21:05:53.410Z  38.942800  141.837700   49.79  4.50      mb   \n",
       "15  2015-12-12T20:56:36.580Z  -5.255200  129.779100  129.28  4.10      mb   \n",
       "16  2015-12-12T17:40:41.070Z  36.446800  -97.132400    5.00  3.50   mb_lg   \n",
       "17  2015-12-12T16:51:14.320Z  12.132700  -87.697100   56.23  4.30      mb   \n",
       "18  2015-12-12T16:48:52.730Z  20.000999 -156.476334    0.00  2.61      md   \n",
       "19  2015-12-12T15:39:43.680Z  23.331000  121.413100   15.21  4.40      mb   \n",
       "\n",
       "    nst    gap       dmin   rms net          id                   updated  \\\n",
       "0   NaN   72.0   4.324000  0.77  us  us20004gvu  2015-12-13T10:21:00.742Z   \n",
       "1   NaN   40.0   2.388000  1.14  us  us20004gvd  2015-12-13T08:57:09.774Z   \n",
       "2     7  277.2   1.019588  0.28  pr  pr15347002  2015-12-13T13:00:14.444Z   \n",
       "3     6  306.0   0.871366  0.27  pr  pr15347001  2015-12-13T12:21:27.211Z   \n",
       "4   NaN   45.0   1.740000  0.65  us  us20004gv8  2015-12-13T14:44:47.643Z   \n",
       "5   NaN   38.0   5.874000  0.83  us  us20004gv4  2015-12-13T13:56:03.096Z   \n",
       "6    12  288.0   1.227099  0.34  pr  pr15347000  2015-12-13T13:22:33.352Z   \n",
       "7    20  160.0   0.053810  0.36  ci  ci37501352  2015-12-13T05:52:28.099Z   \n",
       "8   NaN  127.0   6.766000  0.75  us  us20004guj  2015-12-13T09:54:59.507Z   \n",
       "9   NaN   46.0   2.665000  0.99  us  us20004gug  2015-12-13T09:49:46.553Z   \n",
       "10  NaN  150.0  13.769000  0.82  us  us20004gtz  2015-12-13T07:35:30.578Z   \n",
       "11  NaN   97.0  20.966000  0.90  us  us20004gu0  2015-12-13T07:33:10.248Z   \n",
       "12  NaN    NaN        NaN  1.27  ak  ak12247618  2015-12-13T06:39:28.343Z   \n",
       "13  NaN  101.0   0.967000  0.93  us  us20004gtj  2015-12-13T06:06:33.916Z   \n",
       "14  NaN  144.0   1.351000  1.37  us  us20004gsy  2015-12-13T05:08:31.673Z   \n",
       "15  NaN  254.0   3.101000  1.47  us  us20004gsv  2015-12-13T04:59:03.298Z   \n",
       "16  NaN   62.0   0.320000  0.33  us  us20004grz  2015-12-13T00:57:05.378Z   \n",
       "17  NaN  164.0   1.956000  0.92  us  us20004grt  2015-12-13T00:53:44.255Z   \n",
       "18   34  234.0   0.668600  0.18  hv  hv61124976  2015-12-13T00:51:22.612Z   \n",
       "19  NaN  103.0   0.122000  0.65  us  us20004grk  2015-12-12T23:42:19.284Z   \n",
       "\n",
       "                                             place        type  \n",
       "0                 83km SE of Lata, Solomon Islands  earthquake  \n",
       "1   64km W of San Antonio de los Cobres, Argentina  earthquake  \n",
       "2                 86km NNE of Arecibo, Puerto Rico  earthquake  \n",
       "3                 81km NNE of Vieques, Puerto Rico  earthquake  \n",
       "4                  193km NW of Saumlaki, Indonesia  earthquake  \n",
       "5                     120km NE of Kurumkan, Russia  earthquake  \n",
       "6                   113km N of Dorado, Puerto Rico  earthquake  \n",
       "7                        7km NW of Delta, B.C., MX  earthquake  \n",
       "8                                    Kuril Islands  earthquake  \n",
       "9                   200km NNW of Tobelo, Indonesia  earthquake  \n",
       "10                      Southeast of Easter Island  earthquake  \n",
       "11                      Central Mid-Atlantic Ridge  earthquake  \n",
       "12                  96km SSW of Larsen Bay, Alaska  earthquake  \n",
       "13                     90km W of Makurazaki, Japan  earthquake  \n",
       "14                       17km SE of Ofunato, Japan  earthquake  \n",
       "15                 224km SSE of Saparua, Indonesia  earthquake  \n",
       "16                      22km NE of Perry, Oklahoma  earthquake  \n",
       "17                   68km SW of Corinto, Nicaragua  earthquake  \n",
       "18                      59km WNW of Kalaoa, Hawaii  earthquake  \n",
       "19                     68km NNE of Taitung, Taiwan  earthquake  "
      ]
     },
     "execution_count": 4,
     "metadata": {},
     "output_type": "execute_result"
    }
   ],
   "source": [
    "eData"
   ]
  },
  {
   "cell_type": "markdown",
   "metadata": {},
   "source": [
    "Kürzere Darstellung mit head(): nur die ersten 5 Einträge des Tabellenkopfes"
   ]
  },
  {
   "cell_type": "code",
   "execution_count": 5,
   "metadata": {
    "collapsed": false
   },
   "outputs": [
    {
     "data": {
      "text/html": [
       "<div>\n",
       "<table border=\"1\" class=\"dataframe\">\n",
       "  <thead>\n",
       "    <tr style=\"text-align: right;\">\n",
       "      <th></th>\n",
       "      <th>time</th>\n",
       "      <th>latitude</th>\n",
       "      <th>longitude</th>\n",
       "      <th>depth</th>\n",
       "      <th>mag</th>\n",
       "      <th>magType</th>\n",
       "      <th>nst</th>\n",
       "      <th>gap</th>\n",
       "      <th>dmin</th>\n",
       "      <th>rms</th>\n",
       "      <th>net</th>\n",
       "      <th>id</th>\n",
       "      <th>updated</th>\n",
       "      <th>place</th>\n",
       "      <th>type</th>\n",
       "    </tr>\n",
       "  </thead>\n",
       "  <tbody>\n",
       "    <tr>\n",
       "      <th>0</th>\n",
       "      <td>2015-12-13T10:03:23.920Z</td>\n",
       "      <td>-11.1608</td>\n",
       "      <td>166.4455</td>\n",
       "      <td>86.46</td>\n",
       "      <td>4.8</td>\n",
       "      <td>mb</td>\n",
       "      <td>NaN</td>\n",
       "      <td>72.0</td>\n",
       "      <td>4.324000</td>\n",
       "      <td>0.77</td>\n",
       "      <td>us</td>\n",
       "      <td>us20004gvu</td>\n",
       "      <td>2015-12-13T10:21:00.742Z</td>\n",
       "      <td>83km SE of Lata, Solomon Islands</td>\n",
       "      <td>earthquake</td>\n",
       "    </tr>\n",
       "    <tr>\n",
       "      <th>1</th>\n",
       "      <td>2015-12-13T08:31:15.750Z</td>\n",
       "      <td>-24.1944</td>\n",
       "      <td>-66.9564</td>\n",
       "      <td>182.50</td>\n",
       "      <td>4.6</td>\n",
       "      <td>mb</td>\n",
       "      <td>NaN</td>\n",
       "      <td>40.0</td>\n",
       "      <td>2.388000</td>\n",
       "      <td>1.14</td>\n",
       "      <td>us</td>\n",
       "      <td>us20004gvd</td>\n",
       "      <td>2015-12-13T08:57:09.774Z</td>\n",
       "      <td>64km W of San Antonio de los Cobres, Argentina</td>\n",
       "      <td>earthquake</td>\n",
       "    </tr>\n",
       "    <tr>\n",
       "      <th>2</th>\n",
       "      <td>2015-12-13T07:14:28.700Z</td>\n",
       "      <td>19.2380</td>\n",
       "      <td>-66.5384</td>\n",
       "      <td>30.00</td>\n",
       "      <td>3.0</td>\n",
       "      <td>Md</td>\n",
       "      <td>7</td>\n",
       "      <td>277.2</td>\n",
       "      <td>1.019588</td>\n",
       "      <td>0.28</td>\n",
       "      <td>pr</td>\n",
       "      <td>pr15347002</td>\n",
       "      <td>2015-12-13T13:00:14.444Z</td>\n",
       "      <td>86km NNE of Arecibo, Puerto Rico</td>\n",
       "      <td>earthquake</td>\n",
       "    </tr>\n",
       "    <tr>\n",
       "      <th>3</th>\n",
       "      <td>2015-12-13T07:11:51.400Z</td>\n",
       "      <td>19.1287</td>\n",
       "      <td>-65.6025</td>\n",
       "      <td>53.00</td>\n",
       "      <td>3.1</td>\n",
       "      <td>Md</td>\n",
       "      <td>6</td>\n",
       "      <td>306.0</td>\n",
       "      <td>0.871366</td>\n",
       "      <td>0.27</td>\n",
       "      <td>pr</td>\n",
       "      <td>pr15347001</td>\n",
       "      <td>2015-12-13T12:21:27.211Z</td>\n",
       "      <td>81km NNE of Vieques, Puerto Rico</td>\n",
       "      <td>earthquake</td>\n",
       "    </tr>\n",
       "    <tr>\n",
       "      <th>4</th>\n",
       "      <td>2015-12-13T06:42:11.060Z</td>\n",
       "      <td>-6.9137</td>\n",
       "      <td>129.9085</td>\n",
       "      <td>97.25</td>\n",
       "      <td>5.4</td>\n",
       "      <td>mb</td>\n",
       "      <td>NaN</td>\n",
       "      <td>45.0</td>\n",
       "      <td>1.740000</td>\n",
       "      <td>0.65</td>\n",
       "      <td>us</td>\n",
       "      <td>us20004gv8</td>\n",
       "      <td>2015-12-13T14:44:47.643Z</td>\n",
       "      <td>193km NW of Saumlaki, Indonesia</td>\n",
       "      <td>earthquake</td>\n",
       "    </tr>\n",
       "  </tbody>\n",
       "</table>\n",
       "</div>"
      ],
      "text/plain": [
       "                       time  latitude  longitude   depth  mag magType  nst  \\\n",
       "0  2015-12-13T10:03:23.920Z  -11.1608   166.4455   86.46  4.8      mb  NaN   \n",
       "1  2015-12-13T08:31:15.750Z  -24.1944   -66.9564  182.50  4.6      mb  NaN   \n",
       "2  2015-12-13T07:14:28.700Z   19.2380   -66.5384   30.00  3.0      Md    7   \n",
       "3  2015-12-13T07:11:51.400Z   19.1287   -65.6025   53.00  3.1      Md    6   \n",
       "4  2015-12-13T06:42:11.060Z   -6.9137   129.9085   97.25  5.4      mb  NaN   \n",
       "\n",
       "     gap      dmin   rms net          id                   updated  \\\n",
       "0   72.0  4.324000  0.77  us  us20004gvu  2015-12-13T10:21:00.742Z   \n",
       "1   40.0  2.388000  1.14  us  us20004gvd  2015-12-13T08:57:09.774Z   \n",
       "2  277.2  1.019588  0.28  pr  pr15347002  2015-12-13T13:00:14.444Z   \n",
       "3  306.0  0.871366  0.27  pr  pr15347001  2015-12-13T12:21:27.211Z   \n",
       "4   45.0  1.740000  0.65  us  us20004gv8  2015-12-13T14:44:47.643Z   \n",
       "\n",
       "                                            place        type  \n",
       "0                83km SE of Lata, Solomon Islands  earthquake  \n",
       "1  64km W of San Antonio de los Cobres, Argentina  earthquake  \n",
       "2                86km NNE of Arecibo, Puerto Rico  earthquake  \n",
       "3                81km NNE of Vieques, Puerto Rico  earthquake  \n",
       "4                 193km NW of Saumlaki, Indonesia  earthquake  "
      ]
     },
     "execution_count": 5,
     "metadata": {},
     "output_type": "execute_result"
    }
   ],
   "source": [
    "eData.head()"
   ]
  },
  {
   "cell_type": "markdown",
   "metadata": {},
   "source": [
    "Anzahl der Reihen und Spalten mit Numpy shape()."
   ]
  },
  {
   "cell_type": "code",
   "execution_count": 6,
   "metadata": {
    "collapsed": false
   },
   "outputs": [
    {
     "data": {
      "text/plain": [
       "(20, 15)"
      ]
     },
     "execution_count": 6,
     "metadata": {},
     "output_type": "execute_result"
    }
   ],
   "source": [
    "np.shape(eData)"
   ]
  },
  {
   "cell_type": "markdown",
   "metadata": {},
   "source": [
    "Anzeige der einzelnen Spaltennamen mit Attribut DataFrame.columns"
   ]
  },
  {
   "cell_type": "code",
   "execution_count": 7,
   "metadata": {
    "collapsed": false
   },
   "outputs": [
    {
     "data": {
      "text/plain": [
       "Index(['time', 'latitude', 'longitude', 'depth', 'mag', 'magType', 'nst',\n",
       "       'gap', 'dmin', 'rms', 'net', 'id', 'updated', 'place', 'type'],\n",
       "      dtype='object')"
      ]
     },
     "execution_count": 7,
     "metadata": {},
     "output_type": "execute_result"
    }
   ],
   "source": [
    "eData.columns"
   ]
  },
  {
   "cell_type": "markdown",
   "metadata": {},
   "source": [
    "Datentyp der einzelnen Variablen mit Attribut DataFrame.dtypes"
   ]
  },
  {
   "cell_type": "code",
   "execution_count": 8,
   "metadata": {
    "collapsed": false
   },
   "outputs": [
    {
     "data": {
      "text/plain": [
       "time          object\n",
       "latitude     float64\n",
       "longitude    float64\n",
       "depth        float64\n",
       "mag          float64\n",
       "magType       object\n",
       "nst          float64\n",
       "gap          float64\n",
       "dmin         float64\n",
       "rms          float64\n",
       "net           object\n",
       "id            object\n",
       "updated       object\n",
       "place         object\n",
       "type          object\n",
       "dtype: object"
      ]
     },
     "execution_count": 8,
     "metadata": {},
     "output_type": "execute_result"
    }
   ],
   "source": [
    "eData.dtypes"
   ]
  },
  {
   "cell_type": "markdown",
   "metadata": {},
   "source": [
    "2. Aufbereitung des Datensatzes\n",
    "-------------------------------\n",
    "\n",
    "Überprüfen, ob Tabelle NaN enthält, mit DataFrame.isnull().any()"
   ]
  },
  {
   "cell_type": "code",
   "execution_count": 9,
   "metadata": {
    "collapsed": false
   },
   "outputs": [
    {
     "data": {
      "text/plain": [
       "time         False\n",
       "latitude     False\n",
       "longitude    False\n",
       "depth        False\n",
       "mag          False\n",
       "magType      False\n",
       "nst           True\n",
       "gap           True\n",
       "dmin          True\n",
       "rms          False\n",
       "net          False\n",
       "id           False\n",
       "updated      False\n",
       "place        False\n",
       "type         False\n",
       "dtype: bool"
      ]
     },
     "execution_count": 9,
     "metadata": {},
     "output_type": "execute_result"
    }
   ],
   "source": [
    "eData.isnull().any()"
   ]
  },
  {
   "cell_type": "markdown",
   "metadata": {},
   "source": [
    "Entfernung aller Zeilen bzw. Messungen mit NaNs durch DataFrame.dropna()"
   ]
  },
  {
   "cell_type": "code",
   "execution_count": 20,
   "metadata": {
    "collapsed": false
   },
   "outputs": [
    {
     "data": {
      "text/html": [
       "<div>\n",
       "<table border=\"1\" class=\"dataframe\">\n",
       "  <thead>\n",
       "    <tr style=\"text-align: right;\">\n",
       "      <th></th>\n",
       "      <th>time</th>\n",
       "      <th>latitude</th>\n",
       "      <th>longitude</th>\n",
       "      <th>depth</th>\n",
       "      <th>mag</th>\n",
       "      <th>magType</th>\n",
       "      <th>nst</th>\n",
       "      <th>gap</th>\n",
       "      <th>dmin</th>\n",
       "      <th>rms</th>\n",
       "      <th>net</th>\n",
       "      <th>id</th>\n",
       "      <th>updated</th>\n",
       "      <th>place</th>\n",
       "      <th>type</th>\n",
       "    </tr>\n",
       "  </thead>\n",
       "  <tbody>\n",
       "    <tr>\n",
       "      <th>2</th>\n",
       "      <td>2015-12-13T07:14:28.700Z</td>\n",
       "      <td>19.238000</td>\n",
       "      <td>-66.538400</td>\n",
       "      <td>30.00</td>\n",
       "      <td>3.00</td>\n",
       "      <td>Md</td>\n",
       "      <td>7</td>\n",
       "      <td>277.2</td>\n",
       "      <td>1.019588</td>\n",
       "      <td>0.28</td>\n",
       "      <td>pr</td>\n",
       "      <td>pr15347002</td>\n",
       "      <td>2015-12-13T13:00:14.444Z</td>\n",
       "      <td>86km NNE of Arecibo, Puerto Rico</td>\n",
       "      <td>earthquake</td>\n",
       "    </tr>\n",
       "    <tr>\n",
       "      <th>3</th>\n",
       "      <td>2015-12-13T07:11:51.400Z</td>\n",
       "      <td>19.128700</td>\n",
       "      <td>-65.602500</td>\n",
       "      <td>53.00</td>\n",
       "      <td>3.10</td>\n",
       "      <td>Md</td>\n",
       "      <td>6</td>\n",
       "      <td>306.0</td>\n",
       "      <td>0.871366</td>\n",
       "      <td>0.27</td>\n",
       "      <td>pr</td>\n",
       "      <td>pr15347001</td>\n",
       "      <td>2015-12-13T12:21:27.211Z</td>\n",
       "      <td>81km NNE of Vieques, Puerto Rico</td>\n",
       "      <td>earthquake</td>\n",
       "    </tr>\n",
       "    <tr>\n",
       "      <th>6</th>\n",
       "      <td>2015-12-13T05:20:02.000Z</td>\n",
       "      <td>19.487800</td>\n",
       "      <td>-66.260200</td>\n",
       "      <td>35.00</td>\n",
       "      <td>3.20</td>\n",
       "      <td>Md</td>\n",
       "      <td>12</td>\n",
       "      <td>288.0</td>\n",
       "      <td>1.227099</td>\n",
       "      <td>0.34</td>\n",
       "      <td>pr</td>\n",
       "      <td>pr15347000</td>\n",
       "      <td>2015-12-13T13:22:33.352Z</td>\n",
       "      <td>113km N of Dorado, Puerto Rico</td>\n",
       "      <td>earthquake</td>\n",
       "    </tr>\n",
       "    <tr>\n",
       "      <th>7</th>\n",
       "      <td>2015-12-13T04:36:16.120Z</td>\n",
       "      <td>32.401165</td>\n",
       "      <td>-115.245163</td>\n",
       "      <td>2.89</td>\n",
       "      <td>2.96</td>\n",
       "      <td>ml</td>\n",
       "      <td>20</td>\n",
       "      <td>160.0</td>\n",
       "      <td>0.053810</td>\n",
       "      <td>0.36</td>\n",
       "      <td>ci</td>\n",
       "      <td>ci37501352</td>\n",
       "      <td>2015-12-13T05:52:28.099Z</td>\n",
       "      <td>7km NW of Delta, B.C., MX</td>\n",
       "      <td>earthquake</td>\n",
       "    </tr>\n",
       "    <tr>\n",
       "      <th>18</th>\n",
       "      <td>2015-12-12T16:48:52.730Z</td>\n",
       "      <td>20.000999</td>\n",
       "      <td>-156.476334</td>\n",
       "      <td>0.00</td>\n",
       "      <td>2.61</td>\n",
       "      <td>md</td>\n",
       "      <td>34</td>\n",
       "      <td>234.0</td>\n",
       "      <td>0.668600</td>\n",
       "      <td>0.18</td>\n",
       "      <td>hv</td>\n",
       "      <td>hv61124976</td>\n",
       "      <td>2015-12-13T00:51:22.612Z</td>\n",
       "      <td>59km WNW of Kalaoa, Hawaii</td>\n",
       "      <td>earthquake</td>\n",
       "    </tr>\n",
       "  </tbody>\n",
       "</table>\n",
       "</div>"
      ],
      "text/plain": [
       "                        time   latitude   longitude  depth   mag magType  nst  \\\n",
       "2   2015-12-13T07:14:28.700Z  19.238000  -66.538400  30.00  3.00      Md    7   \n",
       "3   2015-12-13T07:11:51.400Z  19.128700  -65.602500  53.00  3.10      Md    6   \n",
       "6   2015-12-13T05:20:02.000Z  19.487800  -66.260200  35.00  3.20      Md   12   \n",
       "7   2015-12-13T04:36:16.120Z  32.401165 -115.245163   2.89  2.96      ml   20   \n",
       "18  2015-12-12T16:48:52.730Z  20.000999 -156.476334   0.00  2.61      md   34   \n",
       "\n",
       "      gap      dmin   rms net          id                   updated  \\\n",
       "2   277.2  1.019588  0.28  pr  pr15347002  2015-12-13T13:00:14.444Z   \n",
       "3   306.0  0.871366  0.27  pr  pr15347001  2015-12-13T12:21:27.211Z   \n",
       "6   288.0  1.227099  0.34  pr  pr15347000  2015-12-13T13:22:33.352Z   \n",
       "7   160.0  0.053810  0.36  ci  ci37501352  2015-12-13T05:52:28.099Z   \n",
       "18  234.0  0.668600  0.18  hv  hv61124976  2015-12-13T00:51:22.612Z   \n",
       "\n",
       "                               place        type  \n",
       "2   86km NNE of Arecibo, Puerto Rico  earthquake  \n",
       "3   81km NNE of Vieques, Puerto Rico  earthquake  \n",
       "6     113km N of Dorado, Puerto Rico  earthquake  \n",
       "7          7km NW of Delta, B.C., MX  earthquake  \n",
       "18        59km WNW of Kalaoa, Hawaii  earthquake  "
      ]
     },
     "execution_count": 20,
     "metadata": {},
     "output_type": "execute_result"
    }
   ],
   "source": [
    "eData = eData.dropna()\n",
    "eData"
   ]
  },
  {
   "cell_type": "code",
   "execution_count": 11,
   "metadata": {
    "collapsed": false
   },
   "outputs": [
    {
     "data": {
      "text/plain": [
       "time         False\n",
       "latitude     False\n",
       "longitude    False\n",
       "depth        False\n",
       "mag          False\n",
       "magType      False\n",
       "nst          False\n",
       "gap          False\n",
       "dmin         False\n",
       "rms          False\n",
       "net          False\n",
       "id           False\n",
       "updated      False\n",
       "place        False\n",
       "type         False\n",
       "dtype: bool"
      ]
     },
     "execution_count": 11,
     "metadata": {},
     "output_type": "execute_result"
    }
   ],
   "source": [
    "eData.isnull().any()"
   ]
  },
  {
   "cell_type": "markdown",
   "metadata": {},
   "source": [
    "Überprüfen, ob Zeilen bzw. Messungen doppelt vorkommen, mit DataFrame.duplicated()"
   ]
  },
  {
   "cell_type": "code",
   "execution_count": 12,
   "metadata": {
    "collapsed": false
   },
   "outputs": [
    {
     "data": {
      "text/plain": [
       "False"
      ]
     },
     "execution_count": 12,
     "metadata": {},
     "output_type": "execute_result"
    }
   ],
   "source": [
    "eData.duplicated().any()"
   ]
  },
  {
   "cell_type": "markdown",
   "metadata": {},
   "source": [
    "Es kommen also keine Duplikate vor. Bei Bedarf mit *DataFrame.drop_duplicates()* entfernen.\n",
    "\n",
    "3. Explorative Statistiken\n",
    "--------------------------\n",
    "\n",
    "Statistische Beschreibung der numerischen Variablen mit Dataframe.describe() (count: Anzahl Messungen, mean: Mittelwert, std: Standardabweichung, min: Minimum, 25%: 25-Perzentil, ...)"
   ]
  },
  {
   "cell_type": "code",
   "execution_count": 13,
   "metadata": {
    "collapsed": false
   },
   "outputs": [
    {
     "data": {
      "text/html": [
       "<div>\n",
       "<table border=\"1\" class=\"dataframe\">\n",
       "  <thead>\n",
       "    <tr style=\"text-align: right;\">\n",
       "      <th></th>\n",
       "      <th>latitude</th>\n",
       "      <th>longitude</th>\n",
       "      <th>depth</th>\n",
       "      <th>mag</th>\n",
       "      <th>nst</th>\n",
       "      <th>gap</th>\n",
       "      <th>dmin</th>\n",
       "      <th>rms</th>\n",
       "    </tr>\n",
       "  </thead>\n",
       "  <tbody>\n",
       "    <tr>\n",
       "      <th>count</th>\n",
       "      <td>5.000000</td>\n",
       "      <td>5.000000</td>\n",
       "      <td>5.000000</td>\n",
       "      <td>5.000000</td>\n",
       "      <td>5.000000</td>\n",
       "      <td>5.000000</td>\n",
       "      <td>5.000000</td>\n",
       "      <td>5.000000</td>\n",
       "    </tr>\n",
       "    <tr>\n",
       "      <th>mean</th>\n",
       "      <td>22.051333</td>\n",
       "      <td>-94.024519</td>\n",
       "      <td>24.178000</td>\n",
       "      <td>2.974000</td>\n",
       "      <td>15.800000</td>\n",
       "      <td>253.040000</td>\n",
       "      <td>0.768092</td>\n",
       "      <td>0.286000</td>\n",
       "    </tr>\n",
       "    <tr>\n",
       "      <th>std</th>\n",
       "      <td>5.795499</td>\n",
       "      <td>40.880008</td>\n",
       "      <td>22.469277</td>\n",
       "      <td>0.223786</td>\n",
       "      <td>11.584472</td>\n",
       "      <td>58.373007</td>\n",
       "      <td>0.448525</td>\n",
       "      <td>0.070569</td>\n",
       "    </tr>\n",
       "    <tr>\n",
       "      <th>min</th>\n",
       "      <td>19.128700</td>\n",
       "      <td>-156.476334</td>\n",
       "      <td>0.000000</td>\n",
       "      <td>2.610000</td>\n",
       "      <td>6.000000</td>\n",
       "      <td>160.000000</td>\n",
       "      <td>0.053810</td>\n",
       "      <td>0.180000</td>\n",
       "    </tr>\n",
       "    <tr>\n",
       "      <th>25%</th>\n",
       "      <td>19.238000</td>\n",
       "      <td>-115.245163</td>\n",
       "      <td>2.890000</td>\n",
       "      <td>2.960000</td>\n",
       "      <td>7.000000</td>\n",
       "      <td>234.000000</td>\n",
       "      <td>0.668600</td>\n",
       "      <td>0.270000</td>\n",
       "    </tr>\n",
       "    <tr>\n",
       "      <th>50%</th>\n",
       "      <td>19.487800</td>\n",
       "      <td>-66.538400</td>\n",
       "      <td>30.000000</td>\n",
       "      <td>3.000000</td>\n",
       "      <td>12.000000</td>\n",
       "      <td>277.200000</td>\n",
       "      <td>0.871366</td>\n",
       "      <td>0.280000</td>\n",
       "    </tr>\n",
       "    <tr>\n",
       "      <th>75%</th>\n",
       "      <td>20.000999</td>\n",
       "      <td>-66.260200</td>\n",
       "      <td>35.000000</td>\n",
       "      <td>3.100000</td>\n",
       "      <td>20.000000</td>\n",
       "      <td>288.000000</td>\n",
       "      <td>1.019588</td>\n",
       "      <td>0.340000</td>\n",
       "    </tr>\n",
       "    <tr>\n",
       "      <th>max</th>\n",
       "      <td>32.401165</td>\n",
       "      <td>-65.602500</td>\n",
       "      <td>53.000000</td>\n",
       "      <td>3.200000</td>\n",
       "      <td>34.000000</td>\n",
       "      <td>306.000000</td>\n",
       "      <td>1.227099</td>\n",
       "      <td>0.360000</td>\n",
       "    </tr>\n",
       "  </tbody>\n",
       "</table>\n",
       "</div>"
      ],
      "text/plain": [
       "        latitude   longitude      depth       mag        nst         gap  \\\n",
       "count   5.000000    5.000000   5.000000  5.000000   5.000000    5.000000   \n",
       "mean   22.051333  -94.024519  24.178000  2.974000  15.800000  253.040000   \n",
       "std     5.795499   40.880008  22.469277  0.223786  11.584472   58.373007   \n",
       "min    19.128700 -156.476334   0.000000  2.610000   6.000000  160.000000   \n",
       "25%    19.238000 -115.245163   2.890000  2.960000   7.000000  234.000000   \n",
       "50%    19.487800  -66.538400  30.000000  3.000000  12.000000  277.200000   \n",
       "75%    20.000999  -66.260200  35.000000  3.100000  20.000000  288.000000   \n",
       "max    32.401165  -65.602500  53.000000  3.200000  34.000000  306.000000   \n",
       "\n",
       "           dmin       rms  \n",
       "count  5.000000  5.000000  \n",
       "mean   0.768092  0.286000  \n",
       "std    0.448525  0.070569  \n",
       "min    0.053810  0.180000  \n",
       "25%    0.668600  0.270000  \n",
       "50%    0.871366  0.280000  \n",
       "75%    1.019588  0.340000  \n",
       "max    1.227099  0.360000  "
      ]
     },
     "execution_count": 13,
     "metadata": {},
     "output_type": "execute_result"
    }
   ],
   "source": [
    "eData.describe()"
   ]
  },
  {
   "cell_type": "markdown",
   "metadata": {},
   "source": [
    "Streumatrix für alle numerischen Variablen mit Pandas *scattermatrix()*:"
   ]
  },
  {
   "cell_type": "code",
   "execution_count": 14,
   "metadata": {
    "collapsed": false
   },
   "outputs": [
    {
     "data": {
      "image/png": "[encoded data removed]",
      "text/plain": [
       "<matplotlib.figure.Figure at 0x7f463bd155f8>"
      ]
     },
     "metadata": {},
     "output_type": "display_data"
    }
   ],
   "source": [
    "pd.scatter_matrix(eData, figsize=(14,14), marker='o');"
   ]
  },
  {
   "cell_type": "markdown",
   "metadata": {},
   "source": [
    "4. Analyse von Untermengen\n",
    "--------------------------\n",
    "\n",
    "Zugriff auf die Variable 'Lat' (latitude):"
   ]
  },
  {
   "cell_type": "code",
   "execution_count": 16,
   "metadata": {
    "collapsed": false
   },
   "outputs": [
    {
     "data": {
      "text/plain": [
       "2     19.238000\n",
       "3     19.128700\n",
       "6     19.487800\n",
       "7     32.401165\n",
       "18    20.000999\n",
       "Name: latitude, dtype: float64"
      ]
     },
     "execution_count": 16,
     "metadata": {},
     "output_type": "execute_result"
    }
   ],
   "source": [
    "eData['latitude']"
   ]
  },
  {
   "cell_type": "markdown",
   "metadata": {},
   "source": [
    "Welche Erdbeben fanden oberhalb einer geographischen Breite von 40 Grad statt?"
   ]
  },
  {
   "cell_type": "code",
   "execution_count": 17,
   "metadata": {
    "collapsed": false
   },
   "outputs": [
    {
     "data": {
      "text/plain": [
       "2     False\n",
       "3     False\n",
       "6     False\n",
       "7     False\n",
       "18    False\n",
       "Name: latitude, dtype: bool"
      ]
     },
     "execution_count": 17,
     "metadata": {},
     "output_type": "execute_result"
    }
   ],
   "source": [
    "eData['latitude'] > 40.0"
   ]
  },
  {
   "cell_type": "markdown",
   "metadata": {},
   "source": [
    "Gab es überhaupt Erdbeben oberhalb 50 Grad Breite?"
   ]
  },
  {
   "cell_type": "code",
   "execution_count": 18,
   "metadata": {
    "collapsed": false
   },
   "outputs": [
    {
     "data": {
      "text/plain": [
       "False"
      ]
     },
     "execution_count": 18,
     "metadata": {},
     "output_type": "execute_result"
    }
   ],
   "source": [
    "(eData['latitude'] > 40.0).any()"
   ]
  },
  {
   "cell_type": "markdown",
   "metadata": {},
   "source": [
    "Gab es also. Haben alle verzeichneten Erdbeben eine Breite größer als 18 Grad?"
   ]
  },
  {
   "cell_type": "code",
   "execution_count": 19,
   "metadata": {
    "collapsed": false
   },
   "outputs": [
    {
     "data": {
      "text/plain": [
       "True"
      ]
     },
     "execution_count": 19,
     "metadata": {},
     "output_type": "execute_result"
    }
   ],
   "source": [
    "(eData['latitude'] > 18.0).all()"
   ]
  },
  {
   "cell_type": "markdown",
   "metadata": {},
   "source": [
    "Es sind also auch Erdbeben unterhalb von 18 Grad verzeichnet.\n",
    "\n",
    "Alle unterschiedlichen Werte der kategorischen Variable 'Version' mit Dataframe['Variablenname'].*unique()*"
   ]
  },
  {
   "cell_type": "code",
   "execution_count": null,
   "metadata": {
    "collapsed": false
   },
   "outputs": [],
   "source": [
    "eData['Version'].unique()"
   ]
  },
  {
   "cell_type": "markdown",
   "metadata": {},
   "source": [
    "Häufigkeit der verschiedenen Kategorien in 'Version' mit Dataframe['Variablenname'].*value_counts()*:"
   ]
  },
  {
   "cell_type": "code",
   "execution_count": null,
   "metadata": {
    "collapsed": false
   },
   "outputs": [],
   "source": [
    "eData['Version'].value_counts()"
   ]
  },
  {
   "cell_type": "markdown",
   "metadata": {},
   "source": [
    "Häufigkeit von Wertepaaren der beiden kategorischen Variablen 'Version' und 'Src' mit Pandas *crosstab()*:"
   ]
  },
  {
   "cell_type": "code",
   "execution_count": null,
   "metadata": {
    "collapsed": false
   },
   "outputs": [],
   "source": [
    "pd.crosstab(eData['Src'], eData['Version'])"
   ]
  },
  {
   "cell_type": "markdown",
   "metadata": {},
   "source": [
    "Darstellung der Häufigkeitsverteilung der Erdbebenstärken für die verschiedenen Quellen mit einer Kastengraphik durch Pandas *boxplot()*:"
   ]
  },
  {
   "cell_type": "code",
   "execution_count": null,
   "metadata": {
    "collapsed": false
   },
   "outputs": [],
   "source": [
    "from pandas.tools.plotting import boxplot\n",
    "boxplot(eData, column='Magnitude', by='Src');"
   ]
  },
  {
   "cell_type": "code",
   "execution_count": null,
   "metadata": {
    "collapsed": false
   },
   "outputs": [],
   "source": []
  }
 ],
 "metadata": {
  "kernelspec": {
   "display_name": "Python 3",
   "language": "python",
   "name": "python3"
  },
  "language_info": {
   "codemirror_mode": {
    "name": "ipython",
    "version": 3
   },
   "file_extension": ".py",
   "mimetype": "text/x-python",
   "name": "python",
   "nbconvert_exporter": "python",
   "pygments_lexer": "ipython3",
   "version": "3.5.0"
  }
 },
 "nbformat": 4,
 "nbformat_minor": 0
}
